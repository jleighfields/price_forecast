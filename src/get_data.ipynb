{
 "cells": [
  {
   "cell_type": "code",
   "execution_count": null,
   "id": "1858f86c-c952-42af-8679-88cc29e68e6e",
   "metadata": {},
   "outputs": [],
   "source": [
    "import pandas as pd\n",
    "import numpy as np\n",
    "import datetime\n",
    "import time\n",
    "import os\n",
    "from typing import List"
   ]
  },
  {
   "cell_type": "code",
   "execution_count": null,
   "id": "2522efaa-2c49-4e5f-a6db-fa0cc9928c1e",
   "metadata": {},
   "outputs": [],
   "source": [
    "import sqlite3\n",
    "import sqlalchemy\n",
    "from sqlalchemy import create_engine\n",
    "# from sqlalchemy import Column, Date, Integer, String, Float\n",
    "# from sqlalchemy.ext.declarative import declarative_base\n",
    "# from sqlalchemy.dialects.sqlite import insert"
   ]
  },
  {
   "cell_type": "markdown",
   "id": "b7746dd7-8f40-4171-a246-6677bfeb826b",
   "metadata": {},
   "source": [
    "## Create database"
   ]
  },
  {
   "cell_type": "code",
   "execution_count": null,
   "id": "dfd3dfeb-39f3-43ff-8295-9c6176c26cab",
   "metadata": {},
   "outputs": [],
   "source": []
  },
  {
   "cell_type": "code",
   "execution_count": null,
   "id": "5415e0f9-73d3-4465-af90-81511bf305cd",
   "metadata": {},
   "outputs": [],
   "source": [
    "# create database, tables, and indexes\n",
    "def create_database():\n",
    "\n",
    "    PROJECT_SRC = '/workspace/src'\n",
    "    os.chdir(PROJECT_SRC)\n",
    "\n",
    "    SQLALCHEMY_DATABASE_URI='sqlite:///../data/database.db'\n",
    "    engine = create_engine(SQLALCHEMY_DATABASE_URI, echo=False)\n",
    "\n",
    "    with engine.connect() as conn:\n",
    "\n",
    "        gen_table='''\n",
    "        CREATE TABLE IF NOT EXISTS GENERATION (\n",
    "        dttm TEXT PRIMARY KEY, \n",
    "        wind REAL,\n",
    "        solar REAL\n",
    "        );'''\n",
    "        conn.execute(gen_table)\n",
    "\n",
    "        gen_idx='''\n",
    "        CREATE UNIQUE INDEX IF NOT EXISTS GENERATION_IDX\n",
    "        ON GENERATION(dttm);\n",
    "        '''\n",
    "        conn.execute(gen_idx)\n",
    "\n",
    "\n",
    "        load_table='''\n",
    "        CREATE TABLE IF NOT EXISTS LOAD (\n",
    "        dttm TEXT PRIMARY KEY, \n",
    "        load_mwh REAL\n",
    "        );'''\n",
    "        conn.execute(load_table)\n",
    "\n",
    "        load_idx='''\n",
    "        CREATE UNIQUE INDEX IF NOT EXISTS LOAD_IDX\n",
    "        ON LOAD(dttm);\n",
    "        '''\n",
    "        conn.execute(load_idx)\n",
    "\n",
    "        price_table='''\n",
    "        CREATE TABLE IF NOT EXISTS PRICE (\n",
    "        dttm TEXT PRIMARY KEY, \n",
    "        price REAL\n",
    "        );'''\n",
    "        conn.execute(price_table)\n",
    "\n",
    "        price_idx='''\n",
    "        CREATE UNIQUE INDEX IF NOT EXISTS PRICE_IDX\n",
    "        ON PRICE(dttm);\n",
    "        '''\n",
    "        conn.execute(price_idx)\n",
    "        \n",
    "    return engine\n",
    "    \n",
    "    "
   ]
  },
  {
   "cell_type": "code",
   "execution_count": null,
   "id": "022ebd8b-a6fd-4fac-b6b7-c76789289728",
   "metadata": {},
   "outputs": [],
   "source": [
    "engine = create_database()"
   ]
  },
  {
   "cell_type": "code",
   "execution_count": null,
   "id": "24b1e07c-c0a5-4c52-a24a-ee943e79271d",
   "metadata": {},
   "outputs": [],
   "source": [
    "engine.table_names()"
   ]
  },
  {
   "cell_type": "code",
   "execution_count": null,
   "id": "42fda2b6-0aee-40ce-8c6e-bacc907c7e43",
   "metadata": {},
   "outputs": [],
   "source": [
    "# url examples\n",
    "\n",
    "# hourly forecasted and actual load by region, starts 20200101\n",
    "# loads stay in standard time\n",
    "# https://docs.misoenergy.org/marketreports/20210314_rf_al.xls\n",
    "# https://docs.misoenergy.org/marketreports/20211107_rf_al.xls\n",
    "\n",
    "# hourly generation mix by region, starts 20200101\n",
    "# https://docs.misoenergy.org/marketreports/20210214_sr_gfm.xlsx\n",
    "# hourly region price report, starts 20200101\n",
    "# https://docs.misoenergy.org/marketreports/20220603_rt_pr.xls\n",
    "\n",
    "\n",
    "\n",
    "# base url for imports\n",
    "base_url = 'https://docs.misoenergy.org/marketreports/'\n",
    "load_file = '_rf_al.xls'\n",
    "generation_file = '_sr_gfm.xlsx'\n",
    "price_file = '_rt_pr.xls'"
   ]
  },
  {
   "cell_type": "code",
   "execution_count": null,
   "id": "a56a4a6e-13f5-44c2-8fe3-56fd5e3b6e19",
   "metadata": {},
   "outputs": [],
   "source": [
    "start = datetime.datetime(2020, 1, 1)\n",
    "end = datetime.datetime(2022, 6, 1)\n",
    "days = pd.date_range(start, end)\n",
    "days"
   ]
  },
  {
   "cell_type": "code",
   "execution_count": null,
   "id": "cbcc94b1-1cbd-408c-8374-3b6dc7f8b8ed",
   "metadata": {},
   "outputs": [],
   "source": [
    "# get YYYYMMDD string from date\n",
    "days_str = [str(d).split(' ')[0].replace('-','') for d in days]\n",
    "days_str[0:10]"
   ]
  },
  {
   "cell_type": "markdown",
   "id": "37a2ae59-140f-4c41-ab93-11a97e4d432d",
   "metadata": {},
   "source": [
    "## load data"
   ]
  },
  {
   "cell_type": "code",
   "execution_count": null,
   "id": "0796efd9-4497-4cc2-b281-c5517eda17b3",
   "metadata": {},
   "outputs": [],
   "source": [
    "def get_load_data(\n",
    "    days_idx: int, \n",
    "    base_url: str = base_url, \n",
    "    days_str: List[str] = days_str, \n",
    "    file: str = load_file,\n",
    "):\n",
    "    # build url and fetch data\n",
    "    url = base_url + days_str[days_idx] + file\n",
    "    load_data = pd.read_excel(url, header=1, skiprows=4).iloc[1:26,1:]\n",
    "    \n",
    "    # remove rows with missing hour ending values and rename columns\n",
    "    load_data = load_data[~load_data.HourEnding.isna()]\n",
    "    load_data = load_data[['Market Day', 'HourEnding', 'North ActualLoad (MWh)']]\n",
    "    load_data = load_data.rename(\n",
    "        columns={'Market Day':'day',\n",
    "                'HourEnding':'he',\n",
    "                'North ActualLoad (MWh)':'load_mwh'}\n",
    "    )\n",
    "    \n",
    "    # convert data types\n",
    "    load_data['he'] = load_data.he.astype(int)\n",
    "    load_data['load_mwh'] = load_data.load_mwh.astype(float)\n",
    "    load_data.day= pd.to_datetime(load_data.day)\n",
    "    \n",
    "    # create dttm index\n",
    "    load_data['dttm'] = (\n",
    "        load_data.day + \n",
    "        pd.to_timedelta(load_data.he, unit='h')\n",
    "    )\n",
    "    \n",
    "    load_data = load_data[['dttm', 'load_mwh']].set_index('dttm')\n",
    "    \n",
    "    return load_data"
   ]
  },
  {
   "cell_type": "code",
   "execution_count": null,
   "id": "8545c131-27af-4993-bc7e-f22c9e14a2fa",
   "metadata": {},
   "outputs": [],
   "source": [
    "load_data = get_load_data(0)\n",
    "load_data"
   ]
  },
  {
   "cell_type": "code",
   "execution_count": null,
   "id": "95c85472-fba0-4c69-91f0-eb148cc89822",
   "metadata": {},
   "outputs": [],
   "source": [
    "load_data.info()"
   ]
  },
  {
   "cell_type": "markdown",
   "id": "944dd04a-4806-4e24-94e3-f8368ee5bde9",
   "metadata": {},
   "source": [
    "## generation data"
   ]
  },
  {
   "cell_type": "code",
   "execution_count": null,
   "id": "694b0c93-f4ec-4f26-97e8-9fd4e0eb905e",
   "metadata": {},
   "outputs": [],
   "source": [
    "def get_generation_data(\n",
    "    days_idx: int, \n",
    "    base_url: str = base_url, \n",
    "    days_str: List[str] = days_str, \n",
    "    file: str = generation_file,\n",
    "):\n",
    "    # build url and fetch data\n",
    "    url = base_url + days_str[days_idx] + file\n",
    "    generation_data = pd.read_excel(url, skiprows=2, header=[1,2])\n",
    "    \n",
    "    # save he data\n",
    "    # he = hour ending\n",
    "    he = generation_data[('Unnamed: 0_level_0', 'Market Hour Ending')]\n",
    "    \n",
    "    # get wind, solar, other generation from north region\n",
    "    generation_data = generation_data['North']\n",
    "    cols = [c for c in generation_data.columns if c in ['Wind', 'Solar', 'Other']]\n",
    "    generation_data = generation_data[cols]\n",
    "    \n",
    "    # set he data and remove non numeric values\n",
    "    generation_data['he'] = he\n",
    "    idx = generation_data.he.str.isnumeric() != False\n",
    "    generation_data = generation_data[idx]\n",
    "    \n",
    "    # if solar generation was not reported estimate generation from other\n",
    "    # by removing subtracting off night generation\n",
    "    if 'Solar' not in generation_data.columns:\n",
    "        generation_data['Solar'] = (generation_data.Other - \n",
    "                                    np.max((generation_data.Other[:5].max(), generation_data.Other[-5:].max()))\n",
    "                                   )\n",
    "        generation_data.loc[generation_data.Solar < 0, 'Solar'] = 0\n",
    "    \n",
    "    generation_data.drop('Other', axis=1, inplace=True)\n",
    "    \n",
    "    # create dttm index\n",
    "    generation_data['day'] = pd.to_datetime(days_str[days_idx])\n",
    "    \n",
    "    generation_data['dttm'] = (\n",
    "        generation_data.day + \n",
    "        pd.to_timedelta(generation_data.he, unit='h')\n",
    "    )\n",
    "    generation_data = generation_data.drop(['he', 'day'], axis=1).set_index('dttm')\n",
    "    \n",
    "    return generation_data"
   ]
  },
  {
   "cell_type": "code",
   "execution_count": null,
   "id": "ee7bf09d-39c3-4bb5-9995-ebde951a6773",
   "metadata": {},
   "outputs": [],
   "source": [
    "generation_data = get_generation_data(0)\n",
    "generation_data"
   ]
  },
  {
   "cell_type": "code",
   "execution_count": null,
   "id": "517a55d7-d033-41b6-865a-ab8015368e8c",
   "metadata": {},
   "outputs": [],
   "source": [
    "generation_data.info()"
   ]
  },
  {
   "cell_type": "markdown",
   "id": "d830ca9e-50e8-4477-98d6-34cfcf07e0d7",
   "metadata": {},
   "source": [
    "## price data"
   ]
  },
  {
   "cell_type": "code",
   "execution_count": null,
   "id": "be93d14d-da08-410b-a249-f8ad9d007004",
   "metadata": {},
   "outputs": [],
   "source": [
    "def get_price_data(\n",
    "    days_idx: int, \n",
    "    base_url: str = base_url, \n",
    "    days_str: List[str] = days_str, \n",
    "    file: str = price_file,\n",
    "):\n",
    "    # build url and fetch data\n",
    "    url = base_url + days_str[days_idx] + file\n",
    "    price_data = pd.read_excel(url, skiprows=11, header=0)\n",
    "    \n",
    "    # will use minnesota hub prices\n",
    "    # he = hour ending\n",
    "    price_data = price_data.rename(columns={'Unnamed: 0':'he', 'Minnesota Hub':'price'})\n",
    "    \n",
    "    # get only he row containing Hour\n",
    "    idx = ['Hour' in he for he in price_data.he]\n",
    "    price_data = price_data.loc[idx, ['he', 'price']]\n",
    "    \n",
    "    # set day and get he as int\n",
    "    price_data['day'] = pd.to_datetime(days_str[days_idx])\n",
    "    price_data['he'] = [int(he.split()[1]) for he in price_data.he]\n",
    "    \n",
    "    # get dttm and drop day and he\n",
    "    price_data['dttm'] = (\n",
    "        price_data.day + \n",
    "        pd.to_timedelta(price_data.he, unit='h')\n",
    "    )\n",
    "    price_data = price_data.drop(['he', 'day'], axis=1).set_index('dttm')\n",
    "    \n",
    "    return price_data"
   ]
  },
  {
   "cell_type": "code",
   "execution_count": null,
   "id": "8e99ab21-e798-4e25-9428-bd8726946cde",
   "metadata": {},
   "outputs": [],
   "source": [
    "price_data = get_price_data(0)\n",
    "price_data"
   ]
  },
  {
   "cell_type": "code",
   "execution_count": null,
   "id": "c716ae6c-fd21-43af-a827-3f631bbf9fd8",
   "metadata": {},
   "outputs": [],
   "source": [
    "price_data.info()"
   ]
  },
  {
   "cell_type": "markdown",
   "id": "2ac6cd0b-1019-4f00-9801-93ca940e8dec",
   "metadata": {},
   "source": [
    "## Test upserts"
   ]
  },
  {
   "cell_type": "markdown",
   "id": "1cb8860d-a87b-4c20-b50b-7fe210b9a8d2",
   "metadata": {},
   "source": [
    "### Generation"
   ]
  },
  {
   "cell_type": "code",
   "execution_count": null,
   "id": "9181709c-6c87-47a3-80eb-f688ce046965",
   "metadata": {},
   "outputs": [],
   "source": [
    "def upsert_generation(\n",
    "    generation_data: pd.core.frame.DataFrame, \n",
    "    engine: sqlalchemy.engine.base.Engine,\n",
    "):\n",
    "    \n",
    "    with engine.connect() as conn:\n",
    "\n",
    "        generation_data.to_sql('GENERATION_TMP', engine, if_exists='replace')\n",
    "\n",
    "        upsert='''INSERT INTO GENERATION \n",
    "        SELECT *\n",
    "        FROM GENERATION_TMP WHERE true\n",
    "        ON CONFLICT (dttm) DO UPDATE SET Wind=excluded.Wind, Solar=excluded.Solar;\n",
    "        '''\n",
    "\n",
    "        conn.execute(upsert)\n",
    "\n",
    "        drop_tbl='DROP TABLE GENERATION_TMP'\n",
    "        conn.execute(drop_tbl)"
   ]
  },
  {
   "cell_type": "code",
   "execution_count": null,
   "id": "1d45b8a3-9542-4e17-a1cf-71be8b990ed0",
   "metadata": {},
   "outputs": [],
   "source": [
    "upsert_generation(generation_data, engine)\n",
    "upsert_generation(generation_data, engine)"
   ]
  },
  {
   "cell_type": "code",
   "execution_count": null,
   "id": "d16efdc2-c9c3-47af-a57a-f3f38133edeb",
   "metadata": {},
   "outputs": [],
   "source": [
    "type(generation_data)"
   ]
  },
  {
   "cell_type": "code",
   "execution_count": null,
   "id": "b72a7871-a82f-4679-a7ae-afe0b50c367d",
   "metadata": {},
   "outputs": [],
   "source": [
    "type(engine)"
   ]
  },
  {
   "cell_type": "code",
   "execution_count": null,
   "id": "f17c166d-ee6b-46d9-b1af-0bb900fd49c3",
   "metadata": {},
   "outputs": [],
   "source": [
    "# engine.table_names()"
   ]
  },
  {
   "cell_type": "code",
   "execution_count": null,
   "id": "4b1ad441-4583-4f45-87c3-418f5048fbe0",
   "metadata": {},
   "outputs": [],
   "source": [
    "with engine.connect() as conn:\n",
    "    \n",
    "    sql_text='''\n",
    "    SELECT *\n",
    "    FROM GENERATION ;\n",
    "    '''\n",
    "    \n",
    "    res = pd.read_sql(sql_text, engine)\n",
    "    \n",
    "res"
   ]
  },
  {
   "cell_type": "markdown",
   "id": "d0eb2f31-c6c1-4c24-8102-4ced37927c85",
   "metadata": {},
   "source": [
    "### Load"
   ]
  },
  {
   "cell_type": "code",
   "execution_count": null,
   "id": "2d54dd85-daca-460c-8097-1378ac626b83",
   "metadata": {},
   "outputs": [],
   "source": [
    "def upsert_load(\n",
    "    load_data: pd.core.frame.DataFrame, \n",
    "    engine: sqlalchemy.engine.base.Engine,\n",
    "):\n",
    "    \n",
    "    with engine.connect() as conn:\n",
    "\n",
    "        load_data.to_sql('LOAD_TMP', engine, if_exists='replace')\n",
    "\n",
    "        upsert='''INSERT INTO LOAD \n",
    "        SELECT *\n",
    "        FROM LOAD_TMP WHERE true\n",
    "        ON CONFLICT (dttm) DO UPDATE SET load_mwh=excluded.load_mwh;\n",
    "        '''\n",
    "\n",
    "        conn.execute(upsert)\n",
    "\n",
    "        drop_tbl='DROP TABLE LOAD_TMP'\n",
    "        conn.execute(drop_tbl)"
   ]
  },
  {
   "cell_type": "code",
   "execution_count": null,
   "id": "2bae1393-6156-494f-b2d3-513741c89f06",
   "metadata": {},
   "outputs": [],
   "source": [
    "upsert_load(load_data, engine)\n",
    "upsert_load(load_data, engine)"
   ]
  },
  {
   "cell_type": "code",
   "execution_count": null,
   "id": "aa7d7579-2ab2-4603-a666-44c437e89b1e",
   "metadata": {},
   "outputs": [],
   "source": [
    "# engine.table_names()"
   ]
  },
  {
   "cell_type": "code",
   "execution_count": null,
   "id": "5116c653-1b8e-4cd3-8ee6-8fa5e00a9489",
   "metadata": {},
   "outputs": [],
   "source": [
    "with engine.connect() as conn:\n",
    "    \n",
    "    sql_text='''\n",
    "    SELECT *\n",
    "    FROM LOAD ;\n",
    "    '''\n",
    "    \n",
    "    res = pd.read_sql(sql_text, engine)\n",
    "    \n",
    "res"
   ]
  },
  {
   "cell_type": "markdown",
   "id": "040c4e1f-1980-45d3-a69d-47bc8f10bd98",
   "metadata": {},
   "source": [
    "### Prices"
   ]
  },
  {
   "cell_type": "code",
   "execution_count": null,
   "id": "0bf8dffc-cfd0-44be-97df-351ccc9ceffa",
   "metadata": {},
   "outputs": [],
   "source": [
    "def upsert_prices(\n",
    "    price_data: pd.core.frame.DataFrame, \n",
    "    engine: sqlalchemy.engine.base.Engine,\n",
    "):\n",
    "    \n",
    "    with engine.connect() as conn:\n",
    "\n",
    "        price_data.to_sql('PRICE_TMP', engine, if_exists='replace')\n",
    "\n",
    "        upsert='''INSERT INTO PRICE \n",
    "        SELECT *\n",
    "        FROM PRICE_TMP WHERE true\n",
    "        ON CONFLICT (dttm) DO UPDATE SET price=excluded.price;\n",
    "        '''\n",
    "\n",
    "        conn.execute(upsert)\n",
    "\n",
    "        drop_tbl='DROP TABLE PRICE_TMP'\n",
    "        conn.execute(drop_tbl)\n",
    "    "
   ]
  },
  {
   "cell_type": "code",
   "execution_count": null,
   "id": "6271212c-6a36-468a-982a-64f1915a159b",
   "metadata": {},
   "outputs": [],
   "source": [
    "upsert_prices(price_data, engine)\n",
    "upsert_prices(price_data, engine)"
   ]
  },
  {
   "cell_type": "code",
   "execution_count": null,
   "id": "296ab484-2e43-40c8-81b5-ffaa192b5599",
   "metadata": {},
   "outputs": [],
   "source": [
    "# engine.table_names()"
   ]
  },
  {
   "cell_type": "code",
   "execution_count": null,
   "id": "491ce00d-8552-4c19-b934-5237954530d7",
   "metadata": {},
   "outputs": [],
   "source": [
    "with engine.connect() as conn:\n",
    "    \n",
    "    sql_text='''\n",
    "    SELECT *\n",
    "    FROM PRICE ;\n",
    "    '''\n",
    "    \n",
    "    res = pd.read_sql(sql_text, engine)\n",
    "    \n",
    "res"
   ]
  },
  {
   "cell_type": "markdown",
   "id": "66a08d79-b673-4297-a00c-48f729945081",
   "metadata": {},
   "source": [
    "## Combine data"
   ]
  },
  {
   "cell_type": "code",
   "execution_count": null,
   "id": "3bcdfb52-453a-4c6e-8d91-d3b1bdabacb3",
   "metadata": {},
   "outputs": [],
   "source": [
    "import warnings\n",
    "warnings.filterwarnings(\"ignore\")"
   ]
  },
  {
   "cell_type": "code",
   "execution_count": null,
   "id": "bc0baf2b-1878-4eaa-ba42-361b157cf11e",
   "metadata": {},
   "outputs": [],
   "source": [
    "for i in range(10):\n",
    "    print('\\n_____________________________')\n",
    "    print(f'working on day: {days_str[i]}')\n",
    "    \n",
    "    print('\\t-getting load...')\n",
    "    # filename = '../data/load_data.csv'\n",
    "    # hdr = False  if os.path.isfile(filename) else True\n",
    "    load_data = get_load_data(i)\n",
    "    upsert_load(load_data, engine)\n",
    "    # load_data.to_csv(filename, mode='a', header=hdr)\n",
    "    print(f'\\t\\tload_data shape: {load_data.shape}')\n",
    "    \n",
    "    print('\\t-getting generation...')\n",
    "    # filename = '../data/generation_data.csv'\n",
    "    # hdr = False  if os.path.isfile(filename) else True\n",
    "    generation_data = get_generation_data(i)\n",
    "    upsert_generation(generation_data, engine)\n",
    "    # generation_data.to_csv(filename, mode='a', header=hdr)\n",
    "    print(f'\\t\\tgeneration_data shape: {generation_data.shape}')\n",
    "    \n",
    "    print('\\t-getting prices...')\n",
    "    # filename = '../data/price_data.csv'\n",
    "    # hdr = False  if os.path.isfile(filename) else True\n",
    "    price_data = get_price_data(i)\n",
    "    upsert_prices(price_data, engine)\n",
    "    # price_data.to_csv(filename)\n",
    "    print(f'\\t\\tprice_data shape: {price_data.shape}')\n",
    "    \n",
    "    time.sleep(1)"
   ]
  },
  {
   "cell_type": "code",
   "execution_count": null,
   "id": "99d8ea46-d4b7-4054-96b3-eb863f89054c",
   "metadata": {},
   "outputs": [],
   "source": [
    "with engine.connect() as conn:\n",
    "    \n",
    "    sql_text='''\n",
    "    SELECT *\n",
    "    FROM PRICE ;\n",
    "    '''\n",
    "    \n",
    "    res = pd.read_sql(sql_text, engine)\n",
    "    \n",
    "res"
   ]
  }
 ],
 "metadata": {
  "kernelspec": {
   "display_name": "Python 3 (ipykernel)",
   "language": "python",
   "name": "python3"
  },
  "language_info": {
   "codemirror_mode": {
    "name": "ipython",
    "version": 3
   },
   "file_extension": ".py",
   "mimetype": "text/x-python",
   "name": "python",
   "nbconvert_exporter": "python",
   "pygments_lexer": "ipython3",
   "version": "3.8.12"
  }
 },
 "nbformat": 4,
 "nbformat_minor": 5
}
