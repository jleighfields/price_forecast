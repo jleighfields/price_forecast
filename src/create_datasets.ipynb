{
 "cells": [
  {
   "cell_type": "code",
   "execution_count": null,
   "id": "1858f86c-c952-42af-8679-88cc29e68e6e",
   "metadata": {},
   "outputs": [],
   "source": [
    "import pandas as pd\n",
    "import numpy as np\n",
    "import datetime\n",
    "import time\n",
    "import os\n",
    "from typing import List"
   ]
  },
  {
   "cell_type": "code",
   "execution_count": null,
   "id": "9a253784-1817-4f8f-af3e-f1e9fd9f1627",
   "metadata": {},
   "outputs": [],
   "source": [
    "import torch\n",
    "from torch.utils.data import Dataset, DataLoader"
   ]
  },
  {
   "cell_type": "code",
   "execution_count": null,
   "id": "2522efaa-2c49-4e5f-a6db-fa0cc9928c1e",
   "metadata": {},
   "outputs": [],
   "source": [
    "import sqlite3\n",
    "import sqlalchemy\n",
    "from sqlalchemy import create_engine"
   ]
  },
  {
   "cell_type": "markdown",
   "id": "382ecf13-4c09-4bad-a0a5-45e729852f42",
   "metadata": {},
   "source": [
    "## Connect to database"
   ]
  },
  {
   "cell_type": "code",
   "execution_count": null,
   "id": "4d5d11f6-37a6-447e-b651-849be431b4ac",
   "metadata": {},
   "outputs": [],
   "source": [
    "PROJECT_SRC = '/workspace/src'\n",
    "os.chdir(PROJECT_SRC)\n",
    "    \n",
    "SQLALCHEMY_DATABASE_URI='sqlite:///../data/database.db'\n",
    "engine = create_engine(SQLALCHEMY_DATABASE_URI, echo=False)"
   ]
  },
  {
   "cell_type": "code",
   "execution_count": null,
   "id": "e28b3d35-4a9a-47ad-b34f-b3af321929d3",
   "metadata": {},
   "outputs": [],
   "source": [
    "with engine.connect() as conn:\n",
    "    \n",
    "    join_txt='''\n",
    "    SELECT \n",
    "        g.dttm, \n",
    "        wind, \n",
    "        solar, \n",
    "        load_mwh,\n",
    "        price\n",
    "    FROM GENERATION as g\n",
    "    INNER JOIN\n",
    "    LOAD as l\n",
    "    ON g.dttm = l.dttm\n",
    "    INNER JOIN\n",
    "    PRICE as p\n",
    "    ON g.dttm = p.dttm\n",
    "    \n",
    "    '''\n",
    "    \n",
    "    data = pd.read_sql(join_txt, engine)\n",
    "    \n",
    "data\n"
   ]
  },
  {
   "cell_type": "code",
   "execution_count": null,
   "id": "823963bb-835c-4973-bb30-e6f1010f1cb9",
   "metadata": {},
   "outputs": [],
   "source": [
    "data.dttm = pd.to_datetime(data.dttm)"
   ]
  },
  {
   "cell_type": "code",
   "execution_count": null,
   "id": "d452a63d-4a93-4f18-ad28-6abf6e4ffabe",
   "metadata": {},
   "outputs": [],
   "source": [
    "data.info()"
   ]
  },
  {
   "cell_type": "code",
   "execution_count": null,
   "id": "5eedba56-e1c3-4d29-b1b7-12d62cf3146f",
   "metadata": {},
   "outputs": [],
   "source": [
    "# find any gaps in timeseries\n",
    "all_hours = pd.DataFrame({'dttm':pd.date_range(data.dttm.min(), data.dttm.max(), freq='H')})\n",
    "data = all_hours.merge(data, on='dttm', how='left')"
   ]
  },
  {
   "cell_type": "code",
   "execution_count": null,
   "id": "fa40a765-6fd0-45fa-bacc-a65657a3f4ec",
   "metadata": {},
   "outputs": [],
   "source": [
    "data.describe()"
   ]
  },
  {
   "cell_type": "code",
   "execution_count": null,
   "id": "b8b26d85-aa6e-4f8a-9f50-8e3a6e387935",
   "metadata": {},
   "outputs": [],
   "source": [
    "data.isna().sum()"
   ]
  },
  {
   "cell_type": "code",
   "execution_count": null,
   "id": "249d954e-5ba0-4316-a454-8a473d528f56",
   "metadata": {},
   "outputs": [],
   "source": [
    "data.fillna(method='ffill', inplace=True)"
   ]
  },
  {
   "cell_type": "code",
   "execution_count": null,
   "id": "3b599076-80cb-4444-8c7e-21b5b95ba33e",
   "metadata": {},
   "outputs": [],
   "source": [
    "data.isna().sum()"
   ]
  },
  {
   "cell_type": "code",
   "execution_count": null,
   "id": "c7392752-4ceb-4b3e-b76b-0be3cdeecac0",
   "metadata": {},
   "outputs": [],
   "source": [
    "data.set_index('dttm', inplace=True)"
   ]
  },
  {
   "cell_type": "code",
   "execution_count": null,
   "id": "1fc85bf9-5daf-41c3-9762-e1fd83f5d6ab",
   "metadata": {},
   "outputs": [],
   "source": [
    "data"
   ]
  },
  {
   "cell_type": "code",
   "execution_count": null,
   "id": "5482b167-3bfa-4d87-b802-94b3c164d56d",
   "metadata": {},
   "outputs": [],
   "source": [
    "TRAIN_END = '2022'\n",
    "scaler_means = data[data.index < TRAIN_END].mean()\n",
    "scaler_means"
   ]
  },
  {
   "cell_type": "code",
   "execution_count": null,
   "id": "eb0d72a6-27d9-4493-9a68-29adbfb76221",
   "metadata": {},
   "outputs": [],
   "source": [
    "scaler_sd = data[data.index < TRAIN_END].std()\n",
    "scaler_sd"
   ]
  },
  {
   "cell_type": "code",
   "execution_count": null,
   "id": "6f365b1a-b5ab-416b-95f4-05c3c0927f7a",
   "metadata": {},
   "outputs": [],
   "source": [
    "def scale_data(data, scaler_means, scaler_sd):\n",
    "    return ((data - scaler_means)/scaler_sd)\n",
    "\n",
    "data_scaled = scale_data(data, scaler_means, scaler_sd)\n",
    "data_scaled.describe()"
   ]
  },
  {
   "cell_type": "code",
   "execution_count": null,
   "id": "4a17848d-55a4-44c8-bd17-a1725ff9935d",
   "metadata": {},
   "outputs": [],
   "source": [
    "def unscale_data(data_scaled, scaler_means, scaler_sd):\n",
    "    return data_scaled*scaler_sd + scaler_means"
   ]
  },
  {
   "cell_type": "code",
   "execution_count": null,
   "id": "2dc0c213-6809-4835-9cf4-3b3d056d6284",
   "metadata": {},
   "outputs": [],
   "source": [
    "unscale_data(data_scaled, scaler_means, scaler_sd).describe()"
   ]
  },
  {
   "cell_type": "code",
   "execution_count": null,
   "id": "993fae63-f7d5-4dec-ac12-298c463c5a03",
   "metadata": {},
   "outputs": [],
   "source": [
    "# create dataframe of start and end times for data loader\n",
    "LOOKBACK = 23\n",
    "LOOKFORWARD = 24\n",
    "\n",
    "t_idx = pd.DataFrame(\n",
    "    [{'t_start':t_start, \n",
    "     'to':t_start+pd.DateOffset(hours=LOOKBACK),\n",
    "     't_end':t_start+pd.DateOffset(hours=LOOKBACK+LOOKFORWARD)}\n",
    "     for t_start in data_scaled.index[:-(LOOKBACK+LOOKFORWARD)]\n",
    "    ]\n",
    ")"
   ]
  },
  {
   "cell_type": "code",
   "execution_count": null,
   "id": "824a92fe-b60d-4405-84c8-1fc15a2bc6e7",
   "metadata": {},
   "outputs": [],
   "source": [
    "t_idx"
   ]
  },
  {
   "cell_type": "code",
   "execution_count": null,
   "id": "dfdbdd29-f821-4e7e-a5c1-075a55931819",
   "metadata": {},
   "outputs": [],
   "source": [
    "t_idx[t_idx.to < TRAIN_END]"
   ]
  },
  {
   "cell_type": "code",
   "execution_count": null,
   "id": "192f16ca-4a49-4007-b86f-03b5fc7696b6",
   "metadata": {},
   "outputs": [],
   "source": [
    "t_idx.t_end[-1:]"
   ]
  },
  {
   "cell_type": "code",
   "execution_count": null,
   "id": "9cff2fba-5660-42ae-a8b1-c82d18151c85",
   "metadata": {},
   "outputs": [],
   "source": [
    "test_idx = 21118\n",
    "# test_idx = 0\n",
    "hist_future_cols = ['wind', 'solar', 'load_mwh']\n",
    "hist_future = data_scaled.loc[t_idx.t_start[test_idx]:t_idx.t_end[test_idx], hist_future_cols]\n",
    "hist_future"
   ]
  },
  {
   "cell_type": "code",
   "execution_count": null,
   "id": "54841df9-9ad6-4e71-b3ff-8c2e056785eb",
   "metadata": {},
   "outputs": [],
   "source": [
    "hist_future.values"
   ]
  },
  {
   "cell_type": "code",
   "execution_count": null,
   "id": "573312f4-4923-41f9-b462-4d427e05d17b",
   "metadata": {},
   "outputs": [],
   "source": [
    "label_cols = ['price']\n",
    "hist = data_scaled.loc[t_idx.t_start[test_idx]:t_idx.to[test_idx], label_cols]\n",
    "hist"
   ]
  },
  {
   "cell_type": "code",
   "execution_count": null,
   "id": "cc8dfbb7-8894-4134-8aaf-b55de114bb4d",
   "metadata": {},
   "outputs": [],
   "source": [
    "label_cols = ['price']\n",
    "label = data_scaled.loc[(t_idx.to[test_idx]+pd.DateOffset(hours=1)):t_idx.t_end[test_idx], label_cols]\n",
    "label"
   ]
  },
  {
   "cell_type": "code",
   "execution_count": null,
   "id": "9560d9d6-d57f-4f0e-9da5-6b74c5c34acc",
   "metadata": {},
   "outputs": [],
   "source": []
  },
  {
   "cell_type": "code",
   "execution_count": null,
   "id": "113ab946-05da-4c45-ac5d-cabc204b2bfc",
   "metadata": {},
   "outputs": [],
   "source": [
    "def create_tabular_data(to):\n",
    "    tab_df = pd.DataFrame()\n",
    "    \n",
    "    hours = pd.DataFrame({f'hour_{i}':1*(to.hour == i) for i in range(24)}, index=[0])\n",
    "    dayofweek = pd.DataFrame({f'dayofweek_{i}':1*(to.dayofweek == i) for i in range(7)}, index=[0])\n",
    "    month = pd.DataFrame({f'month_{i}':1*(to.month == i) for i in range(1, 13)}, index=[0])\n",
    "    # week = pd.DataFrame({f'week_{i}':1*(to.isocalendar()[1] == i) for i in range(1, 54)}, index=[0])\n",
    "    day = pd.DataFrame({f'day_{i}':1*(to.day == i) for i in range(1,32)}, index=[0])\n",
    "        \n",
    "        \n",
    "    return pd.concat([day, month, dayofweek, hours], axis=1)"
   ]
  },
  {
   "cell_type": "code",
   "execution_count": null,
   "id": "83bd0400-1661-48f6-abc7-93a941d6b740",
   "metadata": {},
   "outputs": [],
   "source": [
    "tabular_data = create_tabular_data(t_idx.to[test_idx])\n",
    "tabular_data.transpose()"
   ]
  },
  {
   "cell_type": "code",
   "execution_count": null,
   "id": "ce723bce-b2a4-4af4-ab1d-db5338906121",
   "metadata": {},
   "outputs": [],
   "source": [
    "class CombineDataset(Dataset):\n",
    "\n",
    "    def __init__(self, t_idx, data_scaled, hist_future_cols, label_cols, transform=None):\n",
    "        \"\"\"\n",
    "        Args:\n",
    "            frame (pd.DataFrame): Frame with the tabular data.\n",
    "            id_col (string): Name of the column that connects image to tabular data\n",
    "            label_name (string): Name of the column with the label to be predicted\n",
    "            path_imgs (string): path to the folder where the images are.\n",
    "            transform (callable, optional): Optional transform to be applied\n",
    "                on a sample, you need to implement a transform to use this.\n",
    "        \"\"\"\n",
    "        self.t_idx = t_idx\n",
    "        self.data_scaled = data_scaled\n",
    "        self.hist_future_cols = hist_future_cols\n",
    "        self.label_cols = label_cols\n",
    "\n",
    "    def __len__(self):\n",
    "        return (self.t_idx.shape[0])\n",
    "\n",
    "    def __getitem__(self, idx):\n",
    "        if torch.is_tensor(idx):\n",
    "            idx = idx.tolist()\n",
    "        \n",
    "        # print(f'idx: {idx}')\n",
    "        \n",
    "        # get historical and future timeseries\n",
    "        hist_future = self.data_scaled.loc[\n",
    "            self.t_idx.t_start[idx]:self.t_idx.t_end[idx], self.hist_future_cols\n",
    "        ]\n",
    "\n",
    "        # get historical label timeseries\n",
    "        hist = self.data_scaled.loc[\n",
    "            self.t_idx.t_start[idx]:self.t_idx.to[idx], self.label_cols\n",
    "        ]\n",
    "       \n",
    "        # get tabular data\n",
    "        tabular = create_tabular_data(self.t_idx.to[idx])\n",
    "        \n",
    "        # get label timeseries\n",
    "        label = self.data_scaled.loc[\n",
    "            (self.t_idx.to[idx]+pd.DateOffset(hours=1)):self.t_idx.t_end[idx], self.label_cols\n",
    "        ]\n",
    "\n",
    "        return hist_future.values, hist.values, tabular.values, label.values"
   ]
  },
  {
   "cell_type": "code",
   "execution_count": null,
   "id": "a7bc759e-1558-4134-b08f-32c5704ec226",
   "metadata": {},
   "outputs": [],
   "source": [
    "t_idx_train = t_idx[t_idx.to <= TRAIN_END].reset_index(drop=True)\n",
    "t_idx_train"
   ]
  },
  {
   "cell_type": "code",
   "execution_count": null,
   "id": "b199064d-1bed-49cb-85b0-22e3f4451be1",
   "metadata": {},
   "outputs": [],
   "source": [
    "t_idx_test = t_idx[t_idx.to > TRAIN_END].reset_index(drop=True)\n",
    "t_idx_test"
   ]
  },
  {
   "cell_type": "code",
   "execution_count": null,
   "id": "0e193bb9-b842-4721-8da5-3e6db660a366",
   "metadata": {},
   "outputs": [],
   "source": [
    "BATCH_SIZE_TRAIN = 64\n",
    "\n",
    "train_set = CombineDataset(t_idx_train.loc[:BATCH_SIZE_TRAIN,:], data_scaled, hist_future_cols, label_cols)\n",
    "loader_train = DataLoader(\n",
    "    train_set,\n",
    "    batch_size = BATCH_SIZE_TRAIN,\n",
    "    shuffle = True,\n",
    "    num_workers = 0,\n",
    "    drop_last=False\n",
    ")"
   ]
  },
  {
   "cell_type": "code",
   "execution_count": null,
   "id": "0fd16cc4-e888-4fdd-9af4-5acfc45d5a5a",
   "metadata": {},
   "outputs": [],
   "source": [
    "BATCH_SIZE_TEST = 1024\n",
    "\n",
    "test_set = CombineDataset(t_idx_test, data_scaled, hist_future_cols, label_cols)\n",
    "loader_test = DataLoader(\n",
    "    test_set,\n",
    "    batch_size = BATCH_SIZE_TEST,\n",
    "    shuffle = True,\n",
    "    num_workers = 0,\n",
    "    drop_last=False\n",
    ")"
   ]
  },
  {
   "cell_type": "code",
   "execution_count": null,
   "id": "aae49f4d-05b8-48be-aede-e5ae7e152cd3",
   "metadata": {},
   "outputs": [],
   "source": [
    "for data in loader_train:\n",
    "    hist_future, hist, tabular, label = data\n",
    "    \n",
    "    print(f'hist_future.shape: {hist_future.shape}')\n",
    "    print(f'hist.shape: {hist.shape}')\n",
    "    print(f'tabular.shape: {tabular.shape}')\n",
    "    print(f'label.shape: {label.shape}')"
   ]
  },
  {
   "cell_type": "code",
   "execution_count": null,
   "id": "d5ae6382-d4c9-457b-8a19-5891a2355e56",
   "metadata": {},
   "outputs": [],
   "source": [
    "hist_future"
   ]
  },
  {
   "cell_type": "code",
   "execution_count": null,
   "id": "5cbcab0b-549f-4c89-ad40-93a992a99c68",
   "metadata": {},
   "outputs": [],
   "source": [
    "hist"
   ]
  },
  {
   "cell_type": "code",
   "execution_count": null,
   "id": "e75810b5-3e31-4850-9f8f-97989be21884",
   "metadata": {},
   "outputs": [],
   "source": [
    "tabular"
   ]
  },
  {
   "cell_type": "code",
   "execution_count": null,
   "id": "301b273e-0130-4d6b-a9a6-175ab9f7c6fb",
   "metadata": {},
   "outputs": [],
   "source": [
    "label"
   ]
  },
  {
   "cell_type": "code",
   "execution_count": null,
   "id": "1859cce2-65d4-41d8-ba72-c3b510d31ba2",
   "metadata": {},
   "outputs": [],
   "source": []
  }
 ],
 "metadata": {
  "kernelspec": {
   "display_name": "Python 3 (ipykernel)",
   "language": "python",
   "name": "python3"
  },
  "language_info": {
   "codemirror_mode": {
    "name": "ipython",
    "version": 3
   },
   "file_extension": ".py",
   "mimetype": "text/x-python",
   "name": "python",
   "nbconvert_exporter": "python",
   "pygments_lexer": "ipython3",
   "version": "3.8.12"
  }
 },
 "nbformat": 4,
 "nbformat_minor": 5
}
