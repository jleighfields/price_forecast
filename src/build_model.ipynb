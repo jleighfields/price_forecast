{
 "cells": [
  {
   "cell_type": "code",
   "execution_count": 1,
   "id": "1858f86c-c952-42af-8679-88cc29e68e6e",
   "metadata": {},
   "outputs": [],
   "source": [
    "import pandas as pd\n",
    "import numpy as np\n",
    "import datetime\n",
    "import time\n",
    "import os\n",
    "from typing import List\n",
    "from urllib.parse import urlparse"
   ]
  },
  {
   "cell_type": "code",
   "execution_count": 2,
   "id": "3e9a1fc0-d089-43ae-a8f1-1843298d56cf",
   "metadata": {},
   "outputs": [],
   "source": [
    "import torch\n",
    "from torch.utils.data import Dataset, DataLoader"
   ]
  },
  {
   "cell_type": "code",
   "execution_count": 3,
   "id": "2522efaa-2c49-4e5f-a6db-fa0cc9928c1e",
   "metadata": {},
   "outputs": [],
   "source": [
    "import sqlite3\n",
    "import sqlalchemy\n",
    "from sqlalchemy import create_engine"
   ]
  },
  {
   "cell_type": "code",
   "execution_count": 4,
   "id": "2140e095-5187-46c4-8b77-b989f93ba172",
   "metadata": {},
   "outputs": [],
   "source": [
    "import matplotlib.pyplot as plt"
   ]
  },
  {
   "cell_type": "markdown",
   "id": "382ecf13-4c09-4bad-a0a5-45e729852f42",
   "metadata": {},
   "source": [
    "## Connect to database and query data"
   ]
  },
  {
   "cell_type": "code",
   "execution_count": 5,
   "id": "4d5d11f6-37a6-447e-b651-849be431b4ac",
   "metadata": {},
   "outputs": [],
   "source": [
    "PROJECT_SRC = '/workspace/src'\n",
    "os.chdir(PROJECT_SRC)\n",
    "    \n",
    "SQLALCHEMY_DATABASE_URI='sqlite:///../data/database.db'\n",
    "engine = create_engine(SQLALCHEMY_DATABASE_URI, echo=False)"
   ]
  },
  {
   "cell_type": "code",
   "execution_count": 6,
   "id": "e28b3d35-4a9a-47ad-b34f-b3af321929d3",
   "metadata": {},
   "outputs": [
    {
     "data": {
      "text/html": [
       "<div>\n",
       "<style scoped>\n",
       "    .dataframe tbody tr th:only-of-type {\n",
       "        vertical-align: middle;\n",
       "    }\n",
       "\n",
       "    .dataframe tbody tr th {\n",
       "        vertical-align: top;\n",
       "    }\n",
       "\n",
       "    .dataframe thead th {\n",
       "        text-align: right;\n",
       "    }\n",
       "</style>\n",
       "<table border=\"1\" class=\"dataframe\">\n",
       "  <thead>\n",
       "    <tr style=\"text-align: right;\">\n",
       "      <th></th>\n",
       "      <th>dttm</th>\n",
       "      <th>wind</th>\n",
       "      <th>solar</th>\n",
       "      <th>load_mwh</th>\n",
       "      <th>price</th>\n",
       "    </tr>\n",
       "  </thead>\n",
       "  <tbody>\n",
       "    <tr>\n",
       "      <th>0</th>\n",
       "      <td>2020-01-01 01:00:00.000000</td>\n",
       "      <td>12443.0</td>\n",
       "      <td>0.0</td>\n",
       "      <td>16368.09</td>\n",
       "      <td>12.52</td>\n",
       "    </tr>\n",
       "    <tr>\n",
       "      <th>1</th>\n",
       "      <td>2020-01-01 02:00:00.000000</td>\n",
       "      <td>12338.8</td>\n",
       "      <td>0.0</td>\n",
       "      <td>15948.21</td>\n",
       "      <td>12.35</td>\n",
       "    </tr>\n",
       "    <tr>\n",
       "      <th>2</th>\n",
       "      <td>2020-01-01 03:00:00.000000</td>\n",
       "      <td>12075.4</td>\n",
       "      <td>0.0</td>\n",
       "      <td>15586.64</td>\n",
       "      <td>12.06</td>\n",
       "    </tr>\n",
       "    <tr>\n",
       "      <th>3</th>\n",
       "      <td>2020-01-01 04:00:00.000000</td>\n",
       "      <td>11957.9</td>\n",
       "      <td>0.0</td>\n",
       "      <td>15336.74</td>\n",
       "      <td>11.97</td>\n",
       "    </tr>\n",
       "    <tr>\n",
       "      <th>4</th>\n",
       "      <td>2020-01-01 05:00:00.000000</td>\n",
       "      <td>12012.6</td>\n",
       "      <td>0.0</td>\n",
       "      <td>15288.27</td>\n",
       "      <td>12.37</td>\n",
       "    </tr>\n",
       "    <tr>\n",
       "      <th>...</th>\n",
       "      <td>...</td>\n",
       "      <td>...</td>\n",
       "      <td>...</td>\n",
       "      <td>...</td>\n",
       "      <td>...</td>\n",
       "    </tr>\n",
       "    <tr>\n",
       "      <th>21331</th>\n",
       "      <td>2022-06-07 20:00:00.000000</td>\n",
       "      <td>2421.1</td>\n",
       "      <td>76.9</td>\n",
       "      <td>17522.10</td>\n",
       "      <td>89.35</td>\n",
       "    </tr>\n",
       "    <tr>\n",
       "      <th>21332</th>\n",
       "      <td>2022-06-07 21:00:00.000000</td>\n",
       "      <td>2375.1</td>\n",
       "      <td>5.3</td>\n",
       "      <td>17342.36</td>\n",
       "      <td>77.73</td>\n",
       "    </tr>\n",
       "    <tr>\n",
       "      <th>21333</th>\n",
       "      <td>2022-06-07 22:00:00.000000</td>\n",
       "      <td>2391.7</td>\n",
       "      <td>0.0</td>\n",
       "      <td>17100.03</td>\n",
       "      <td>70.13</td>\n",
       "    </tr>\n",
       "    <tr>\n",
       "      <th>21334</th>\n",
       "      <td>2022-06-07 23:00:00.000000</td>\n",
       "      <td>2348.4</td>\n",
       "      <td>0.0</td>\n",
       "      <td>16229.20</td>\n",
       "      <td>63.36</td>\n",
       "    </tr>\n",
       "    <tr>\n",
       "      <th>21335</th>\n",
       "      <td>2022-06-08 00:00:00.000000</td>\n",
       "      <td>2169.3</td>\n",
       "      <td>0.0</td>\n",
       "      <td>15090.24</td>\n",
       "      <td>48.09</td>\n",
       "    </tr>\n",
       "  </tbody>\n",
       "</table>\n",
       "<p>21336 rows × 5 columns</p>\n",
       "</div>"
      ],
      "text/plain": [
       "                             dttm     wind  solar  load_mwh  price\n",
       "0      2020-01-01 01:00:00.000000  12443.0    0.0  16368.09  12.52\n",
       "1      2020-01-01 02:00:00.000000  12338.8    0.0  15948.21  12.35\n",
       "2      2020-01-01 03:00:00.000000  12075.4    0.0  15586.64  12.06\n",
       "3      2020-01-01 04:00:00.000000  11957.9    0.0  15336.74  11.97\n",
       "4      2020-01-01 05:00:00.000000  12012.6    0.0  15288.27  12.37\n",
       "...                           ...      ...    ...       ...    ...\n",
       "21331  2022-06-07 20:00:00.000000   2421.1   76.9  17522.10  89.35\n",
       "21332  2022-06-07 21:00:00.000000   2375.1    5.3  17342.36  77.73\n",
       "21333  2022-06-07 22:00:00.000000   2391.7    0.0  17100.03  70.13\n",
       "21334  2022-06-07 23:00:00.000000   2348.4    0.0  16229.20  63.36\n",
       "21335  2022-06-08 00:00:00.000000   2169.3    0.0  15090.24  48.09\n",
       "\n",
       "[21336 rows x 5 columns]"
      ]
     },
     "execution_count": 6,
     "metadata": {},
     "output_type": "execute_result"
    }
   ],
   "source": [
    "with engine.connect() as conn:\n",
    "    \n",
    "    join_txt='''\n",
    "    SELECT \n",
    "        g.dttm, \n",
    "        wind, \n",
    "        solar, \n",
    "        load_mwh,\n",
    "        price\n",
    "    FROM GENERATION as g\n",
    "    INNER JOIN\n",
    "    LOAD as l\n",
    "    ON g.dttm = l.dttm\n",
    "    INNER JOIN\n",
    "    PRICE as p\n",
    "    ON g.dttm = p.dttm\n",
    "    \n",
    "    '''\n",
    "    \n",
    "    data = pd.read_sql(join_txt, engine)\n",
    "    \n",
    "data\n"
   ]
  },
  {
   "cell_type": "code",
   "execution_count": 7,
   "id": "823963bb-835c-4973-bb30-e6f1010f1cb9",
   "metadata": {},
   "outputs": [],
   "source": [
    "data.dttm = pd.to_datetime(data.dttm)"
   ]
  },
  {
   "cell_type": "code",
   "execution_count": 8,
   "id": "d452a63d-4a93-4f18-ad28-6abf6e4ffabe",
   "metadata": {},
   "outputs": [
    {
     "name": "stdout",
     "output_type": "stream",
     "text": [
      "<class 'pandas.core.frame.DataFrame'>\n",
      "RangeIndex: 21336 entries, 0 to 21335\n",
      "Data columns (total 5 columns):\n",
      " #   Column    Non-Null Count  Dtype         \n",
      "---  ------    --------------  -----         \n",
      " 0   dttm      21336 non-null  datetime64[ns]\n",
      " 1   wind      21335 non-null  float64       \n",
      " 2   solar     21334 non-null  float64       \n",
      " 3   load_mwh  21336 non-null  float64       \n",
      " 4   price     21336 non-null  float64       \n",
      "dtypes: datetime64[ns](1), float64(4)\n",
      "memory usage: 833.6 KB\n"
     ]
    }
   ],
   "source": [
    "data.info()"
   ]
  },
  {
   "cell_type": "code",
   "execution_count": 9,
   "id": "5eedba56-e1c3-4d29-b1b7-12d62cf3146f",
   "metadata": {},
   "outputs": [],
   "source": [
    "# find any gaps in timeseries\n",
    "all_hours = pd.DataFrame({'dttm':pd.date_range(data.dttm.min(), data.dttm.max(), freq='H')})\n",
    "data = all_hours.merge(data, on='dttm', how='left')"
   ]
  },
  {
   "cell_type": "code",
   "execution_count": 10,
   "id": "2cd59a98-5764-4a70-a8dc-93b6542f2e6e",
   "metadata": {},
   "outputs": [
    {
     "data": {
      "text/html": [
       "<div>\n",
       "<style scoped>\n",
       "    .dataframe tbody tr th:only-of-type {\n",
       "        vertical-align: middle;\n",
       "    }\n",
       "\n",
       "    .dataframe tbody tr th {\n",
       "        vertical-align: top;\n",
       "    }\n",
       "\n",
       "    .dataframe thead th {\n",
       "        text-align: right;\n",
       "    }\n",
       "</style>\n",
       "<table border=\"1\" class=\"dataframe\">\n",
       "  <thead>\n",
       "    <tr style=\"text-align: right;\">\n",
       "      <th></th>\n",
       "      <th>wind</th>\n",
       "      <th>solar</th>\n",
       "      <th>load_mwh</th>\n",
       "      <th>price</th>\n",
       "    </tr>\n",
       "  </thead>\n",
       "  <tbody>\n",
       "    <tr>\n",
       "      <th>count</th>\n",
       "      <td>21335.000000</td>\n",
       "      <td>21334.000000</td>\n",
       "      <td>21336.000000</td>\n",
       "      <td>21336.000000</td>\n",
       "    </tr>\n",
       "    <tr>\n",
       "      <th>mean</th>\n",
       "      <td>7461.402747</td>\n",
       "      <td>43.089552</td>\n",
       "      <td>16689.353952</td>\n",
       "      <td>29.165156</td>\n",
       "    </tr>\n",
       "    <tr>\n",
       "      <th>std</th>\n",
       "      <td>4110.877294</td>\n",
       "      <td>67.299780</td>\n",
       "      <td>2425.926154</td>\n",
       "      <td>28.765352</td>\n",
       "    </tr>\n",
       "    <tr>\n",
       "      <th>min</th>\n",
       "      <td>11.500000</td>\n",
       "      <td>0.000000</td>\n",
       "      <td>10772.120000</td>\n",
       "      <td>-57.560000</td>\n",
       "    </tr>\n",
       "    <tr>\n",
       "      <th>25%</th>\n",
       "      <td>3892.700000</td>\n",
       "      <td>0.000000</td>\n",
       "      <td>14931.120000</td>\n",
       "      <td>16.067500</td>\n",
       "    </tr>\n",
       "    <tr>\n",
       "      <th>50%</th>\n",
       "      <td>7300.400000</td>\n",
       "      <td>0.500000</td>\n",
       "      <td>16506.295000</td>\n",
       "      <td>21.950000</td>\n",
       "    </tr>\n",
       "    <tr>\n",
       "      <th>75%</th>\n",
       "      <td>10985.250000</td>\n",
       "      <td>73.775000</td>\n",
       "      <td>18193.005000</td>\n",
       "      <td>34.900000</td>\n",
       "    </tr>\n",
       "    <tr>\n",
       "      <th>max</th>\n",
       "      <td>17027.700000</td>\n",
       "      <td>405.500000</td>\n",
       "      <td>25715.570000</td>\n",
       "      <td>888.140000</td>\n",
       "    </tr>\n",
       "  </tbody>\n",
       "</table>\n",
       "</div>"
      ],
      "text/plain": [
       "               wind         solar      load_mwh         price\n",
       "count  21335.000000  21334.000000  21336.000000  21336.000000\n",
       "mean    7461.402747     43.089552  16689.353952     29.165156\n",
       "std     4110.877294     67.299780   2425.926154     28.765352\n",
       "min       11.500000      0.000000  10772.120000    -57.560000\n",
       "25%     3892.700000      0.000000  14931.120000     16.067500\n",
       "50%     7300.400000      0.500000  16506.295000     21.950000\n",
       "75%    10985.250000     73.775000  18193.005000     34.900000\n",
       "max    17027.700000    405.500000  25715.570000    888.140000"
      ]
     },
     "execution_count": 10,
     "metadata": {},
     "output_type": "execute_result"
    }
   ],
   "source": [
    "data.describe()"
   ]
  },
  {
   "cell_type": "code",
   "execution_count": 11,
   "id": "b8b26d85-aa6e-4f8a-9f50-8e3a6e387935",
   "metadata": {},
   "outputs": [
    {
     "data": {
      "text/plain": [
       "dttm        0\n",
       "wind        1\n",
       "solar       2\n",
       "load_mwh    0\n",
       "price       0\n",
       "dtype: int64"
      ]
     },
     "execution_count": 11,
     "metadata": {},
     "output_type": "execute_result"
    }
   ],
   "source": [
    "data.isna().sum()"
   ]
  },
  {
   "cell_type": "code",
   "execution_count": 12,
   "id": "249d954e-5ba0-4316-a454-8a473d528f56",
   "metadata": {},
   "outputs": [],
   "source": [
    "data.fillna(method='ffill', inplace=True)"
   ]
  },
  {
   "cell_type": "code",
   "execution_count": 13,
   "id": "3b599076-80cb-4444-8c7e-21b5b95ba33e",
   "metadata": {},
   "outputs": [
    {
     "data": {
      "text/plain": [
       "dttm        0\n",
       "wind        0\n",
       "solar       0\n",
       "load_mwh    0\n",
       "price       0\n",
       "dtype: int64"
      ]
     },
     "execution_count": 13,
     "metadata": {},
     "output_type": "execute_result"
    }
   ],
   "source": [
    "data.isna().sum()"
   ]
  },
  {
   "cell_type": "code",
   "execution_count": 14,
   "id": "c7392752-4ceb-4b3e-b76b-0be3cdeecac0",
   "metadata": {},
   "outputs": [],
   "source": [
    "data.set_index('dttm', inplace=True)"
   ]
  },
  {
   "cell_type": "code",
   "execution_count": 15,
   "id": "1fc85bf9-5daf-41c3-9762-e1fd83f5d6ab",
   "metadata": {},
   "outputs": [
    {
     "data": {
      "text/html": [
       "<div>\n",
       "<style scoped>\n",
       "    .dataframe tbody tr th:only-of-type {\n",
       "        vertical-align: middle;\n",
       "    }\n",
       "\n",
       "    .dataframe tbody tr th {\n",
       "        vertical-align: top;\n",
       "    }\n",
       "\n",
       "    .dataframe thead th {\n",
       "        text-align: right;\n",
       "    }\n",
       "</style>\n",
       "<table border=\"1\" class=\"dataframe\">\n",
       "  <thead>\n",
       "    <tr style=\"text-align: right;\">\n",
       "      <th></th>\n",
       "      <th>wind</th>\n",
       "      <th>solar</th>\n",
       "      <th>load_mwh</th>\n",
       "      <th>price</th>\n",
       "    </tr>\n",
       "    <tr>\n",
       "      <th>dttm</th>\n",
       "      <th></th>\n",
       "      <th></th>\n",
       "      <th></th>\n",
       "      <th></th>\n",
       "    </tr>\n",
       "  </thead>\n",
       "  <tbody>\n",
       "    <tr>\n",
       "      <th>2020-01-01 01:00:00</th>\n",
       "      <td>12443.0</td>\n",
       "      <td>0.0</td>\n",
       "      <td>16368.09</td>\n",
       "      <td>12.52</td>\n",
       "    </tr>\n",
       "    <tr>\n",
       "      <th>2020-01-01 02:00:00</th>\n",
       "      <td>12338.8</td>\n",
       "      <td>0.0</td>\n",
       "      <td>15948.21</td>\n",
       "      <td>12.35</td>\n",
       "    </tr>\n",
       "    <tr>\n",
       "      <th>2020-01-01 03:00:00</th>\n",
       "      <td>12075.4</td>\n",
       "      <td>0.0</td>\n",
       "      <td>15586.64</td>\n",
       "      <td>12.06</td>\n",
       "    </tr>\n",
       "    <tr>\n",
       "      <th>2020-01-01 04:00:00</th>\n",
       "      <td>11957.9</td>\n",
       "      <td>0.0</td>\n",
       "      <td>15336.74</td>\n",
       "      <td>11.97</td>\n",
       "    </tr>\n",
       "    <tr>\n",
       "      <th>2020-01-01 05:00:00</th>\n",
       "      <td>12012.6</td>\n",
       "      <td>0.0</td>\n",
       "      <td>15288.27</td>\n",
       "      <td>12.37</td>\n",
       "    </tr>\n",
       "    <tr>\n",
       "      <th>...</th>\n",
       "      <td>...</td>\n",
       "      <td>...</td>\n",
       "      <td>...</td>\n",
       "      <td>...</td>\n",
       "    </tr>\n",
       "    <tr>\n",
       "      <th>2022-06-07 20:00:00</th>\n",
       "      <td>2421.1</td>\n",
       "      <td>76.9</td>\n",
       "      <td>17522.10</td>\n",
       "      <td>89.35</td>\n",
       "    </tr>\n",
       "    <tr>\n",
       "      <th>2022-06-07 21:00:00</th>\n",
       "      <td>2375.1</td>\n",
       "      <td>5.3</td>\n",
       "      <td>17342.36</td>\n",
       "      <td>77.73</td>\n",
       "    </tr>\n",
       "    <tr>\n",
       "      <th>2022-06-07 22:00:00</th>\n",
       "      <td>2391.7</td>\n",
       "      <td>0.0</td>\n",
       "      <td>17100.03</td>\n",
       "      <td>70.13</td>\n",
       "    </tr>\n",
       "    <tr>\n",
       "      <th>2022-06-07 23:00:00</th>\n",
       "      <td>2348.4</td>\n",
       "      <td>0.0</td>\n",
       "      <td>16229.20</td>\n",
       "      <td>63.36</td>\n",
       "    </tr>\n",
       "    <tr>\n",
       "      <th>2022-06-08 00:00:00</th>\n",
       "      <td>2169.3</td>\n",
       "      <td>0.0</td>\n",
       "      <td>15090.24</td>\n",
       "      <td>48.09</td>\n",
       "    </tr>\n",
       "  </tbody>\n",
       "</table>\n",
       "<p>21336 rows × 4 columns</p>\n",
       "</div>"
      ],
      "text/plain": [
       "                        wind  solar  load_mwh  price\n",
       "dttm                                                \n",
       "2020-01-01 01:00:00  12443.0    0.0  16368.09  12.52\n",
       "2020-01-01 02:00:00  12338.8    0.0  15948.21  12.35\n",
       "2020-01-01 03:00:00  12075.4    0.0  15586.64  12.06\n",
       "2020-01-01 04:00:00  11957.9    0.0  15336.74  11.97\n",
       "2020-01-01 05:00:00  12012.6    0.0  15288.27  12.37\n",
       "...                      ...    ...       ...    ...\n",
       "2022-06-07 20:00:00   2421.1   76.9  17522.10  89.35\n",
       "2022-06-07 21:00:00   2375.1    5.3  17342.36  77.73\n",
       "2022-06-07 22:00:00   2391.7    0.0  17100.03  70.13\n",
       "2022-06-07 23:00:00   2348.4    0.0  16229.20  63.36\n",
       "2022-06-08 00:00:00   2169.3    0.0  15090.24  48.09\n",
       "\n",
       "[21336 rows x 4 columns]"
      ]
     },
     "execution_count": 15,
     "metadata": {},
     "output_type": "execute_result"
    }
   ],
   "source": [
    "data"
   ]
  },
  {
   "cell_type": "code",
   "execution_count": 16,
   "id": "b7720453-e71a-4e13-812a-b81cda86096b",
   "metadata": {},
   "outputs": [
    {
     "data": {
      "text/plain": [
       "<AxesSubplot:>"
      ]
     },
     "execution_count": 16,
     "metadata": {},
     "output_type": "execute_result"
    },
    {
     "data": {
      "image/png": "[encoded data removed]",
      "text/plain": [
       "<Figure size 432x288 with 1 Axes>"
      ]
     },
     "metadata": {
      "needs_background": "light"
     },
     "output_type": "display_data"
    }
   ],
   "source": [
    "data.price.hist()"
   ]
  },
  {
   "cell_type": "code",
   "execution_count": 17,
   "id": "58bcad77-4ac0-4a28-adde-135fe3790aaa",
   "metadata": {},
   "outputs": [
    {
     "data": {
      "text/plain": [
       "array([ -6.056   , 140.319625])"
      ]
     },
     "execution_count": 17,
     "metadata": {},
     "output_type": "execute_result"
    }
   ],
   "source": [
    "np.percentile(data.price, (0.5, 99.25))"
   ]
  },
  {
   "cell_type": "code",
   "execution_count": 18,
   "id": "c24024f8-1485-4a47-9a1c-319ed9e9f722",
   "metadata": {},
   "outputs": [],
   "source": [
    "MAX_PRICE = 175\n",
    "data.loc[data.price > MAX_PRICE, 'price'] = MAX_PRICE"
   ]
  },
  {
   "cell_type": "code",
   "execution_count": 19,
   "id": "54fe3024-1fe6-4963-bb75-12aaf352bff8",
   "metadata": {},
   "outputs": [
    {
     "data": {
      "text/html": [
       "<div>\n",
       "<style scoped>\n",
       "    .dataframe tbody tr th:only-of-type {\n",
       "        vertical-align: middle;\n",
       "    }\n",
       "\n",
       "    .dataframe tbody tr th {\n",
       "        vertical-align: top;\n",
       "    }\n",
       "\n",
       "    .dataframe thead th {\n",
       "        text-align: right;\n",
       "    }\n",
       "</style>\n",
       "<table border=\"1\" class=\"dataframe\">\n",
       "  <thead>\n",
       "    <tr style=\"text-align: right;\">\n",
       "      <th></th>\n",
       "      <th>wind</th>\n",
       "      <th>solar</th>\n",
       "      <th>load_mwh</th>\n",
       "      <th>price</th>\n",
       "    </tr>\n",
       "  </thead>\n",
       "  <tbody>\n",
       "    <tr>\n",
       "      <th>count</th>\n",
       "      <td>21336.000000</td>\n",
       "      <td>21336.000000</td>\n",
       "      <td>21336.000000</td>\n",
       "      <td>21336.000000</td>\n",
       "    </tr>\n",
       "    <tr>\n",
       "      <th>mean</th>\n",
       "      <td>7461.330062</td>\n",
       "      <td>43.085527</td>\n",
       "      <td>16689.353952</td>\n",
       "      <td>28.596543</td>\n",
       "    </tr>\n",
       "    <tr>\n",
       "      <th>std</th>\n",
       "      <td>4110.794662</td>\n",
       "      <td>67.297909</td>\n",
       "      <td>2425.926154</td>\n",
       "      <td>22.838198</td>\n",
       "    </tr>\n",
       "    <tr>\n",
       "      <th>min</th>\n",
       "      <td>11.500000</td>\n",
       "      <td>0.000000</td>\n",
       "      <td>10772.120000</td>\n",
       "      <td>-57.560000</td>\n",
       "    </tr>\n",
       "    <tr>\n",
       "      <th>25%</th>\n",
       "      <td>3892.700000</td>\n",
       "      <td>0.000000</td>\n",
       "      <td>14931.120000</td>\n",
       "      <td>16.067500</td>\n",
       "    </tr>\n",
       "    <tr>\n",
       "      <th>50%</th>\n",
       "      <td>7299.000000</td>\n",
       "      <td>0.500000</td>\n",
       "      <td>16506.295000</td>\n",
       "      <td>21.950000</td>\n",
       "    </tr>\n",
       "    <tr>\n",
       "      <th>75%</th>\n",
       "      <td>10985.025000</td>\n",
       "      <td>73.725000</td>\n",
       "      <td>18193.005000</td>\n",
       "      <td>34.900000</td>\n",
       "    </tr>\n",
       "    <tr>\n",
       "      <th>max</th>\n",
       "      <td>17027.700000</td>\n",
       "      <td>405.500000</td>\n",
       "      <td>25715.570000</td>\n",
       "      <td>175.000000</td>\n",
       "    </tr>\n",
       "  </tbody>\n",
       "</table>\n",
       "</div>"
      ],
      "text/plain": [
       "               wind         solar      load_mwh         price\n",
       "count  21336.000000  21336.000000  21336.000000  21336.000000\n",
       "mean    7461.330062     43.085527  16689.353952     28.596543\n",
       "std     4110.794662     67.297909   2425.926154     22.838198\n",
       "min       11.500000      0.000000  10772.120000    -57.560000\n",
       "25%     3892.700000      0.000000  14931.120000     16.067500\n",
       "50%     7299.000000      0.500000  16506.295000     21.950000\n",
       "75%    10985.025000     73.725000  18193.005000     34.900000\n",
       "max    17027.700000    405.500000  25715.570000    175.000000"
      ]
     },
     "execution_count": 19,
     "metadata": {},
     "output_type": "execute_result"
    }
   ],
   "source": [
    "data.describe()"
   ]
  },
  {
   "cell_type": "markdown",
   "id": "bc2d8b1d-3cbb-4d04-a296-6ce1b3db4519",
   "metadata": {},
   "source": [
    "## Data scaling"
   ]
  },
  {
   "cell_type": "code",
   "execution_count": 20,
   "id": "b94c3008-db92-476f-9fc5-ee5dbdc8e65b",
   "metadata": {},
   "outputs": [],
   "source": [
    "# define lookback and lookforward periods for \n",
    "# gathering training/test sets and creating\n",
    "# t_idx: a data frame time indexes for the \n",
    "# lookback and lookforward periods\n",
    "LOOKBACK = 23 \n",
    "LOOKFORWARD = 24"
   ]
  },
  {
   "cell_type": "code",
   "execution_count": 21,
   "id": "96a5adf9-444d-4c4a-a0b3-a634ff9409ba",
   "metadata": {},
   "outputs": [
    {
     "data": {
      "text/plain": [
       "array([20662,  5921, 14187, ...,  1717,  2696,  1848])"
      ]
     },
     "execution_count": 21,
     "metadata": {},
     "output_type": "execute_result"
    }
   ],
   "source": [
    "# get training and test indexes\n",
    "np.random.seed(42)\n",
    "TRAIN_IDX = np.random.choice(range(data.shape[0]-LOOKBACK-LOOKFORWARD), size=int(0.8*len(data)), replace=False)\n",
    "TRAIN_IDX"
   ]
  },
  {
   "cell_type": "code",
   "execution_count": 22,
   "id": "f274df2b-c766-438e-b95f-c97ae2d32d92",
   "metadata": {},
   "outputs": [
    {
     "data": {
      "text/plain": [
       "array([    9,    11,    13, ..., 21281, 21286, 21288])"
      ]
     },
     "execution_count": 22,
     "metadata": {},
     "output_type": "execute_result"
    }
   ],
   "source": [
    "TEST_IDX = np.setdiff1d(range(data.shape[0]-LOOKBACK-LOOKFORWARD),TRAIN_IDX)\n",
    "TEST_IDX"
   ]
  },
  {
   "cell_type": "markdown",
   "id": "5838ee19-c7ef-4c3f-ada4-5ba261ac23ff",
   "metadata": {},
   "source": [
    "### Gather scaler metrics"
   ]
  },
  {
   "cell_type": "code",
   "execution_count": 23,
   "id": "5482b167-3bfa-4d87-b802-94b3c164d56d",
   "metadata": {},
   "outputs": [
    {
     "data": {
      "text/plain": [
       "wind         7459.590831\n",
       "solar          42.801558\n",
       "load_mwh    16695.477854\n",
       "price          28.517849\n",
       "dtype: float64"
      ]
     },
     "execution_count": 23,
     "metadata": {},
     "output_type": "execute_result"
    }
   ],
   "source": [
    "scaler = {}\n",
    "scaler['means'] = data.iloc[TRAIN_IDX,:].mean()\n",
    "scaler['means']"
   ]
  },
  {
   "cell_type": "code",
   "execution_count": 24,
   "id": "eb0d72a6-27d9-4493-9a68-29adbfb76221",
   "metadata": {},
   "outputs": [
    {
     "data": {
      "text/plain": [
       "wind        4109.340388\n",
       "solar         67.098413\n",
       "load_mwh    2425.745195\n",
       "price         22.721287\n",
       "dtype: float64"
      ]
     },
     "execution_count": 24,
     "metadata": {},
     "output_type": "execute_result"
    }
   ],
   "source": [
    "scaler['sd'] = data.iloc[TRAIN_IDX,:].std()\n",
    "scaler['sd']"
   ]
  },
  {
   "cell_type": "code",
   "execution_count": 25,
   "id": "4a0f995b-51f8-4687-bd7a-07fd45a95e9d",
   "metadata": {},
   "outputs": [
    {
     "data": {
      "text/plain": [
       "wind           11.50\n",
       "solar           0.00\n",
       "load_mwh    10772.12\n",
       "price         -45.87\n",
       "dtype: float64"
      ]
     },
     "execution_count": 25,
     "metadata": {},
     "output_type": "execute_result"
    }
   ],
   "source": [
    "scaler['min'] = data.iloc[TRAIN_IDX,:].min()\n",
    "scaler['min']"
   ]
  },
  {
   "cell_type": "code",
   "execution_count": 26,
   "id": "71732470-0e28-41f0-b71c-c39832ddf3c2",
   "metadata": {},
   "outputs": [
    {
     "data": {
      "text/plain": [
       "wind        17027.70\n",
       "solar         403.00\n",
       "load_mwh    25715.57\n",
       "price         175.00\n",
       "dtype: float64"
      ]
     },
     "execution_count": 26,
     "metadata": {},
     "output_type": "execute_result"
    }
   ],
   "source": [
    "scaler['max'] = data.iloc[TRAIN_IDX,:].max()\n",
    "scaler['max']"
   ]
  },
  {
   "cell_type": "markdown",
   "id": "f56e7e1c-3d03-4239-9580-acb1f0854ea4",
   "metadata": {},
   "source": [
    "### define scaling functions"
   ]
  },
  {
   "cell_type": "code",
   "execution_count": 27,
   "id": "6f365b1a-b5ab-416b-95f4-05c3c0927f7a",
   "metadata": {},
   "outputs": [
    {
     "data": {
      "text/html": [
       "<div>\n",
       "<style scoped>\n",
       "    .dataframe tbody tr th:only-of-type {\n",
       "        vertical-align: middle;\n",
       "    }\n",
       "\n",
       "    .dataframe tbody tr th {\n",
       "        vertical-align: top;\n",
       "    }\n",
       "\n",
       "    .dataframe thead th {\n",
       "        text-align: right;\n",
       "    }\n",
       "</style>\n",
       "<table border=\"1\" class=\"dataframe\">\n",
       "  <thead>\n",
       "    <tr style=\"text-align: right;\">\n",
       "      <th></th>\n",
       "      <th>wind</th>\n",
       "      <th>solar</th>\n",
       "      <th>load_mwh</th>\n",
       "      <th>price</th>\n",
       "    </tr>\n",
       "  </thead>\n",
       "  <tbody>\n",
       "    <tr>\n",
       "      <th>count</th>\n",
       "      <td>21336.000000</td>\n",
       "      <td>21336.000000</td>\n",
       "      <td>21336.000000</td>\n",
       "      <td>21336.000000</td>\n",
       "    </tr>\n",
       "    <tr>\n",
       "      <th>mean</th>\n",
       "      <td>0.000423</td>\n",
       "      <td>0.004232</td>\n",
       "      <td>-0.002525</td>\n",
       "      <td>0.003463</td>\n",
       "    </tr>\n",
       "    <tr>\n",
       "      <th>std</th>\n",
       "      <td>1.000354</td>\n",
       "      <td>1.002973</td>\n",
       "      <td>1.000075</td>\n",
       "      <td>1.005145</td>\n",
       "    </tr>\n",
       "    <tr>\n",
       "      <th>min</th>\n",
       "      <td>-1.812478</td>\n",
       "      <td>-0.637892</td>\n",
       "      <td>-2.441871</td>\n",
       "      <td>-3.788423</td>\n",
       "    </tr>\n",
       "    <tr>\n",
       "      <th>25%</th>\n",
       "      <td>-0.867996</td>\n",
       "      <td>-0.637892</td>\n",
       "      <td>-0.727347</td>\n",
       "      <td>-0.547960</td>\n",
       "    </tr>\n",
       "    <tr>\n",
       "      <th>50%</th>\n",
       "      <td>-0.039079</td>\n",
       "      <td>-0.630441</td>\n",
       "      <td>-0.077990</td>\n",
       "      <td>-0.289061</td>\n",
       "    </tr>\n",
       "    <tr>\n",
       "      <th>75%</th>\n",
       "      <td>0.857908</td>\n",
       "      <td>0.460867</td>\n",
       "      <td>0.617347</td>\n",
       "      <td>0.280889</td>\n",
       "    </tr>\n",
       "    <tr>\n",
       "      <th>max</th>\n",
       "      <td>2.328381</td>\n",
       "      <td>5.405470</td>\n",
       "      <td>3.718483</td>\n",
       "      <td>6.446913</td>\n",
       "    </tr>\n",
       "  </tbody>\n",
       "</table>\n",
       "</div>"
      ],
      "text/plain": [
       "               wind         solar      load_mwh         price\n",
       "count  21336.000000  21336.000000  21336.000000  21336.000000\n",
       "mean       0.000423      0.004232     -0.002525      0.003463\n",
       "std        1.000354      1.002973      1.000075      1.005145\n",
       "min       -1.812478     -0.637892     -2.441871     -3.788423\n",
       "25%       -0.867996     -0.637892     -0.727347     -0.547960\n",
       "50%       -0.039079     -0.630441     -0.077990     -0.289061\n",
       "75%        0.857908      0.460867      0.617347      0.280889\n",
       "max        2.328381      5.405470      3.718483      6.446913"
      ]
     },
     "execution_count": 27,
     "metadata": {},
     "output_type": "execute_result"
    }
   ],
   "source": [
    "def scale_data(data, scaler):\n",
    "    return ((data - scaler['means'])/scaler['sd'])\n",
    "\n",
    "data_scaled = scale_data(data, scaler)\n",
    "data_scaled.describe()"
   ]
  },
  {
   "cell_type": "code",
   "execution_count": 28,
   "id": "4a17848d-55a4-44c8-bd17-a1725ff9935d",
   "metadata": {},
   "outputs": [],
   "source": [
    "def unscale_data(data_scaled, scaler):\n",
    "    return data_scaled*scaler['sd'] + scaler['means']"
   ]
  },
  {
   "cell_type": "code",
   "execution_count": 29,
   "id": "2dc0c213-6809-4835-9cf4-3b3d056d6284",
   "metadata": {},
   "outputs": [
    {
     "data": {
      "text/html": [
       "<div>\n",
       "<style scoped>\n",
       "    .dataframe tbody tr th:only-of-type {\n",
       "        vertical-align: middle;\n",
       "    }\n",
       "\n",
       "    .dataframe tbody tr th {\n",
       "        vertical-align: top;\n",
       "    }\n",
       "\n",
       "    .dataframe thead th {\n",
       "        text-align: right;\n",
       "    }\n",
       "</style>\n",
       "<table border=\"1\" class=\"dataframe\">\n",
       "  <thead>\n",
       "    <tr style=\"text-align: right;\">\n",
       "      <th></th>\n",
       "      <th>wind</th>\n",
       "      <th>solar</th>\n",
       "      <th>load_mwh</th>\n",
       "      <th>price</th>\n",
       "    </tr>\n",
       "  </thead>\n",
       "  <tbody>\n",
       "    <tr>\n",
       "      <th>count</th>\n",
       "      <td>21336.000000</td>\n",
       "      <td>21336.000000</td>\n",
       "      <td>21336.000000</td>\n",
       "      <td>21336.000000</td>\n",
       "    </tr>\n",
       "    <tr>\n",
       "      <th>mean</th>\n",
       "      <td>7461.330062</td>\n",
       "      <td>43.085527</td>\n",
       "      <td>16689.353952</td>\n",
       "      <td>28.596543</td>\n",
       "    </tr>\n",
       "    <tr>\n",
       "      <th>std</th>\n",
       "      <td>4110.794662</td>\n",
       "      <td>67.297909</td>\n",
       "      <td>2425.926154</td>\n",
       "      <td>22.838198</td>\n",
       "    </tr>\n",
       "    <tr>\n",
       "      <th>min</th>\n",
       "      <td>11.500000</td>\n",
       "      <td>0.000000</td>\n",
       "      <td>10772.120000</td>\n",
       "      <td>-57.560000</td>\n",
       "    </tr>\n",
       "    <tr>\n",
       "      <th>25%</th>\n",
       "      <td>3892.700000</td>\n",
       "      <td>0.000000</td>\n",
       "      <td>14931.120000</td>\n",
       "      <td>16.067500</td>\n",
       "    </tr>\n",
       "    <tr>\n",
       "      <th>50%</th>\n",
       "      <td>7299.000000</td>\n",
       "      <td>0.500000</td>\n",
       "      <td>16506.295000</td>\n",
       "      <td>21.950000</td>\n",
       "    </tr>\n",
       "    <tr>\n",
       "      <th>75%</th>\n",
       "      <td>10985.025000</td>\n",
       "      <td>73.725000</td>\n",
       "      <td>18193.005000</td>\n",
       "      <td>34.900000</td>\n",
       "    </tr>\n",
       "    <tr>\n",
       "      <th>max</th>\n",
       "      <td>17027.700000</td>\n",
       "      <td>405.500000</td>\n",
       "      <td>25715.570000</td>\n",
       "      <td>175.000000</td>\n",
       "    </tr>\n",
       "  </tbody>\n",
       "</table>\n",
       "</div>"
      ],
      "text/plain": [
       "               wind         solar      load_mwh         price\n",
       "count  21336.000000  21336.000000  21336.000000  21336.000000\n",
       "mean    7461.330062     43.085527  16689.353952     28.596543\n",
       "std     4110.794662     67.297909   2425.926154     22.838198\n",
       "min       11.500000      0.000000  10772.120000    -57.560000\n",
       "25%     3892.700000      0.000000  14931.120000     16.067500\n",
       "50%     7299.000000      0.500000  16506.295000     21.950000\n",
       "75%    10985.025000     73.725000  18193.005000     34.900000\n",
       "max    17027.700000    405.500000  25715.570000    175.000000"
      ]
     },
     "execution_count": 29,
     "metadata": {},
     "output_type": "execute_result"
    }
   ],
   "source": [
    "data = unscale_data(data_scaled, scaler)\n",
    "data.describe()"
   ]
  },
  {
   "cell_type": "code",
   "execution_count": 30,
   "id": "d37522d8-0425-448b-9acf-454149c7c653",
   "metadata": {},
   "outputs": [],
   "source": [
    "def scale_min_max(data, scaler):\n",
    "    return ((data - scaler['min'])/(scaler['max']-scaler['min']))"
   ]
  },
  {
   "cell_type": "code",
   "execution_count": 31,
   "id": "b3e9e8f7-4c5b-4cc2-bb1a-3ae8a9bb938e",
   "metadata": {},
   "outputs": [
    {
     "data": {
      "text/html": [
       "<div>\n",
       "<style scoped>\n",
       "    .dataframe tbody tr th:only-of-type {\n",
       "        vertical-align: middle;\n",
       "    }\n",
       "\n",
       "    .dataframe tbody tr th {\n",
       "        vertical-align: top;\n",
       "    }\n",
       "\n",
       "    .dataframe thead th {\n",
       "        text-align: right;\n",
       "    }\n",
       "</style>\n",
       "<table border=\"1\" class=\"dataframe\">\n",
       "  <thead>\n",
       "    <tr style=\"text-align: right;\">\n",
       "      <th></th>\n",
       "      <th>wind</th>\n",
       "      <th>solar</th>\n",
       "      <th>load_mwh</th>\n",
       "      <th>price</th>\n",
       "    </tr>\n",
       "  </thead>\n",
       "  <tbody>\n",
       "    <tr>\n",
       "      <th>count</th>\n",
       "      <td>21336.000000</td>\n",
       "      <td>21336.000000</td>\n",
       "      <td>21336.000000</td>\n",
       "      <td>21336.000000</td>\n",
       "    </tr>\n",
       "    <tr>\n",
       "      <th>mean</th>\n",
       "      <td>0.437808</td>\n",
       "      <td>0.106912</td>\n",
       "      <td>0.395975</td>\n",
       "      <td>0.337151</td>\n",
       "    </tr>\n",
       "    <tr>\n",
       "      <th>std</th>\n",
       "      <td>0.241581</td>\n",
       "      <td>0.166992</td>\n",
       "      <td>0.162340</td>\n",
       "      <td>0.103401</td>\n",
       "    </tr>\n",
       "    <tr>\n",
       "      <th>min</th>\n",
       "      <td>0.000000</td>\n",
       "      <td>0.000000</td>\n",
       "      <td>0.000000</td>\n",
       "      <td>-0.052927</td>\n",
       "    </tr>\n",
       "    <tr>\n",
       "      <th>25%</th>\n",
       "      <td>0.228089</td>\n",
       "      <td>0.000000</td>\n",
       "      <td>0.278316</td>\n",
       "      <td>0.280425</td>\n",
       "    </tr>\n",
       "    <tr>\n",
       "      <th>50%</th>\n",
       "      <td>0.428268</td>\n",
       "      <td>0.001241</td>\n",
       "      <td>0.383725</td>\n",
       "      <td>0.307058</td>\n",
       "    </tr>\n",
       "    <tr>\n",
       "      <th>75%</th>\n",
       "      <td>0.644887</td>\n",
       "      <td>0.182940</td>\n",
       "      <td>0.496598</td>\n",
       "      <td>0.365690</td>\n",
       "    </tr>\n",
       "    <tr>\n",
       "      <th>max</th>\n",
       "      <td>1.000000</td>\n",
       "      <td>1.006203</td>\n",
       "      <td>1.000000</td>\n",
       "      <td>1.000000</td>\n",
       "    </tr>\n",
       "  </tbody>\n",
       "</table>\n",
       "</div>"
      ],
      "text/plain": [
       "               wind         solar      load_mwh         price\n",
       "count  21336.000000  21336.000000  21336.000000  21336.000000\n",
       "mean       0.437808      0.106912      0.395975      0.337151\n",
       "std        0.241581      0.166992      0.162340      0.103401\n",
       "min        0.000000      0.000000      0.000000     -0.052927\n",
       "25%        0.228089      0.000000      0.278316      0.280425\n",
       "50%        0.428268      0.001241      0.383725      0.307058\n",
       "75%        0.644887      0.182940      0.496598      0.365690\n",
       "max        1.000000      1.006203      1.000000      1.000000"
      ]
     },
     "execution_count": 31,
     "metadata": {},
     "output_type": "execute_result"
    }
   ],
   "source": [
    "data_scaled = scale_min_max(data, scaler)\n",
    "data_scaled.describe()"
   ]
  },
  {
   "cell_type": "code",
   "execution_count": 32,
   "id": "3af8786a-4355-4ee2-bd91-0193e952798b",
   "metadata": {},
   "outputs": [],
   "source": [
    "def unscale_min_max(data_scaled, scaler):\n",
    "    return data_scaled*(scaler['max']-scaler['min']) + scaler['min']"
   ]
  },
  {
   "cell_type": "code",
   "execution_count": 33,
   "id": "3d5ac56c-a17c-41b8-93e8-bac0f7ba9198",
   "metadata": {},
   "outputs": [
    {
     "data": {
      "text/html": [
       "<div>\n",
       "<style scoped>\n",
       "    .dataframe tbody tr th:only-of-type {\n",
       "        vertical-align: middle;\n",
       "    }\n",
       "\n",
       "    .dataframe tbody tr th {\n",
       "        vertical-align: top;\n",
       "    }\n",
       "\n",
       "    .dataframe thead th {\n",
       "        text-align: right;\n",
       "    }\n",
       "</style>\n",
       "<table border=\"1\" class=\"dataframe\">\n",
       "  <thead>\n",
       "    <tr style=\"text-align: right;\">\n",
       "      <th></th>\n",
       "      <th>wind</th>\n",
       "      <th>solar</th>\n",
       "      <th>load_mwh</th>\n",
       "      <th>price</th>\n",
       "    </tr>\n",
       "  </thead>\n",
       "  <tbody>\n",
       "    <tr>\n",
       "      <th>count</th>\n",
       "      <td>21336.000000</td>\n",
       "      <td>21336.000000</td>\n",
       "      <td>21336.000000</td>\n",
       "      <td>21336.000000</td>\n",
       "    </tr>\n",
       "    <tr>\n",
       "      <th>mean</th>\n",
       "      <td>7461.330062</td>\n",
       "      <td>43.085527</td>\n",
       "      <td>16689.353952</td>\n",
       "      <td>28.596543</td>\n",
       "    </tr>\n",
       "    <tr>\n",
       "      <th>std</th>\n",
       "      <td>4110.794662</td>\n",
       "      <td>67.297909</td>\n",
       "      <td>2425.926154</td>\n",
       "      <td>22.838198</td>\n",
       "    </tr>\n",
       "    <tr>\n",
       "      <th>min</th>\n",
       "      <td>11.500000</td>\n",
       "      <td>0.000000</td>\n",
       "      <td>10772.120000</td>\n",
       "      <td>-57.560000</td>\n",
       "    </tr>\n",
       "    <tr>\n",
       "      <th>25%</th>\n",
       "      <td>3892.700000</td>\n",
       "      <td>0.000000</td>\n",
       "      <td>14931.120000</td>\n",
       "      <td>16.067500</td>\n",
       "    </tr>\n",
       "    <tr>\n",
       "      <th>50%</th>\n",
       "      <td>7299.000000</td>\n",
       "      <td>0.500000</td>\n",
       "      <td>16506.295000</td>\n",
       "      <td>21.950000</td>\n",
       "    </tr>\n",
       "    <tr>\n",
       "      <th>75%</th>\n",
       "      <td>10985.025000</td>\n",
       "      <td>73.725000</td>\n",
       "      <td>18193.005000</td>\n",
       "      <td>34.900000</td>\n",
       "    </tr>\n",
       "    <tr>\n",
       "      <th>max</th>\n",
       "      <td>17027.700000</td>\n",
       "      <td>405.500000</td>\n",
       "      <td>25715.570000</td>\n",
       "      <td>175.000000</td>\n",
       "    </tr>\n",
       "  </tbody>\n",
       "</table>\n",
       "</div>"
      ],
      "text/plain": [
       "               wind         solar      load_mwh         price\n",
       "count  21336.000000  21336.000000  21336.000000  21336.000000\n",
       "mean    7461.330062     43.085527  16689.353952     28.596543\n",
       "std     4110.794662     67.297909   2425.926154     22.838198\n",
       "min       11.500000      0.000000  10772.120000    -57.560000\n",
       "25%     3892.700000      0.000000  14931.120000     16.067500\n",
       "50%     7299.000000      0.500000  16506.295000     21.950000\n",
       "75%    10985.025000     73.725000  18193.005000     34.900000\n",
       "max    17027.700000    405.500000  25715.570000    175.000000"
      ]
     },
     "execution_count": 33,
     "metadata": {},
     "output_type": "execute_result"
    }
   ],
   "source": [
    "data = unscale_min_max(data_scaled, scaler)\n",
    "data.describe()"
   ]
  },
  {
   "cell_type": "markdown",
   "id": "c7872839-03d2-46b6-9505-4606fc35b9cd",
   "metadata": {},
   "source": [
    "### Create scaling data set for use in modeling"
   ]
  },
  {
   "cell_type": "code",
   "execution_count": 34,
   "id": "5b7e63f6-0e65-43da-bc1e-8ea9478fc010",
   "metadata": {},
   "outputs": [
    {
     "data": {
      "text/html": [
       "<div>\n",
       "<style scoped>\n",
       "    .dataframe tbody tr th:only-of-type {\n",
       "        vertical-align: middle;\n",
       "    }\n",
       "\n",
       "    .dataframe tbody tr th {\n",
       "        vertical-align: top;\n",
       "    }\n",
       "\n",
       "    .dataframe thead th {\n",
       "        text-align: right;\n",
       "    }\n",
       "</style>\n",
       "<table border=\"1\" class=\"dataframe\">\n",
       "  <thead>\n",
       "    <tr style=\"text-align: right;\">\n",
       "      <th></th>\n",
       "      <th>wind</th>\n",
       "      <th>solar</th>\n",
       "      <th>load_mwh</th>\n",
       "      <th>price</th>\n",
       "    </tr>\n",
       "  </thead>\n",
       "  <tbody>\n",
       "    <tr>\n",
       "      <th>count</th>\n",
       "      <td>21336.000000</td>\n",
       "      <td>21336.000000</td>\n",
       "      <td>21336.000000</td>\n",
       "      <td>21336.000000</td>\n",
       "    </tr>\n",
       "    <tr>\n",
       "      <th>mean</th>\n",
       "      <td>0.000423</td>\n",
       "      <td>0.004232</td>\n",
       "      <td>-0.002525</td>\n",
       "      <td>0.003463</td>\n",
       "    </tr>\n",
       "    <tr>\n",
       "      <th>std</th>\n",
       "      <td>1.000354</td>\n",
       "      <td>1.002973</td>\n",
       "      <td>1.000075</td>\n",
       "      <td>1.005145</td>\n",
       "    </tr>\n",
       "    <tr>\n",
       "      <th>min</th>\n",
       "      <td>-1.812478</td>\n",
       "      <td>-0.637892</td>\n",
       "      <td>-2.441871</td>\n",
       "      <td>-3.788423</td>\n",
       "    </tr>\n",
       "    <tr>\n",
       "      <th>25%</th>\n",
       "      <td>-0.867996</td>\n",
       "      <td>-0.637892</td>\n",
       "      <td>-0.727347</td>\n",
       "      <td>-0.547960</td>\n",
       "    </tr>\n",
       "    <tr>\n",
       "      <th>50%</th>\n",
       "      <td>-0.039079</td>\n",
       "      <td>-0.630441</td>\n",
       "      <td>-0.077990</td>\n",
       "      <td>-0.289061</td>\n",
       "    </tr>\n",
       "    <tr>\n",
       "      <th>75%</th>\n",
       "      <td>0.857908</td>\n",
       "      <td>0.460867</td>\n",
       "      <td>0.617347</td>\n",
       "      <td>0.280889</td>\n",
       "    </tr>\n",
       "    <tr>\n",
       "      <th>max</th>\n",
       "      <td>2.328381</td>\n",
       "      <td>5.405470</td>\n",
       "      <td>3.718483</td>\n",
       "      <td>6.446913</td>\n",
       "    </tr>\n",
       "  </tbody>\n",
       "</table>\n",
       "</div>"
      ],
      "text/plain": [
       "               wind         solar      load_mwh         price\n",
       "count  21336.000000  21336.000000  21336.000000  21336.000000\n",
       "mean       0.000423      0.004232     -0.002525      0.003463\n",
       "std        1.000354      1.002973      1.000075      1.005145\n",
       "min       -1.812478     -0.637892     -2.441871     -3.788423\n",
       "25%       -0.867996     -0.637892     -0.727347     -0.547960\n",
       "50%       -0.039079     -0.630441     -0.077990     -0.289061\n",
       "75%        0.857908      0.460867      0.617347      0.280889\n",
       "max        2.328381      5.405470      3.718483      6.446913"
      ]
     },
     "execution_count": 34,
     "metadata": {},
     "output_type": "execute_result"
    }
   ],
   "source": [
    "data_scaled = scale_data(data, scaler)\n",
    "data_scaled.describe()"
   ]
  },
  {
   "cell_type": "markdown",
   "id": "78a17940-ddb0-4a57-a29f-a41c279e5fa5",
   "metadata": {},
   "source": [
    "## Create `t_idx` dataframe\n",
    "`t_idx` has `t_start`, `t_now`, and `t_end` columns which define the start and end points of a sample based on the `LOOKBACK` and `LOOKFORWARD` windows.  This data frame is used in the data loader to produce samples."
   ]
  },
  {
   "cell_type": "code",
   "execution_count": 35,
   "id": "b1d15ba5-95c1-4114-a0da-5a70d2f6c356",
   "metadata": {},
   "outputs": [],
   "source": [
    "def create_t_idx(\n",
    "    data: pd.core.frame.DataFrame, \n",
    "    LOOKBACK: int, \n",
    "    LOOKFORWARD: int\n",
    ") -> pd.core.frame.DataFrame:\n",
    "    \n",
    "    t_idx = pd.DataFrame()\n",
    "    t_idx['t_start'] = data.index\n",
    "    t_idx['t_now'] = data.index.shift(LOOKBACK, freq='H')\n",
    "    t_idx['t_end'] = data.index.shift(LOOKBACK+LOOKFORWARD, freq='H')\n",
    "    t_idx = t_idx[t_idx.t_end <= t_idx.t_start.max()]\n",
    "    return t_idx"
   ]
  },
  {
   "cell_type": "code",
   "execution_count": 36,
   "id": "8c39a715-c48d-4741-b112-65c7a7e183e2",
   "metadata": {},
   "outputs": [
    {
     "data": {
      "text/html": [
       "<div>\n",
       "<style scoped>\n",
       "    .dataframe tbody tr th:only-of-type {\n",
       "        vertical-align: middle;\n",
       "    }\n",
       "\n",
       "    .dataframe tbody tr th {\n",
       "        vertical-align: top;\n",
       "    }\n",
       "\n",
       "    .dataframe thead th {\n",
       "        text-align: right;\n",
       "    }\n",
       "</style>\n",
       "<table border=\"1\" class=\"dataframe\">\n",
       "  <thead>\n",
       "    <tr style=\"text-align: right;\">\n",
       "      <th></th>\n",
       "      <th>t_start</th>\n",
       "      <th>t_now</th>\n",
       "      <th>t_end</th>\n",
       "    </tr>\n",
       "  </thead>\n",
       "  <tbody>\n",
       "    <tr>\n",
       "      <th>0</th>\n",
       "      <td>2020-01-01 01:00:00</td>\n",
       "      <td>2020-01-02 00:00:00</td>\n",
       "      <td>2020-01-03 00:00:00</td>\n",
       "    </tr>\n",
       "    <tr>\n",
       "      <th>1</th>\n",
       "      <td>2020-01-01 02:00:00</td>\n",
       "      <td>2020-01-02 01:00:00</td>\n",
       "      <td>2020-01-03 01:00:00</td>\n",
       "    </tr>\n",
       "    <tr>\n",
       "      <th>2</th>\n",
       "      <td>2020-01-01 03:00:00</td>\n",
       "      <td>2020-01-02 02:00:00</td>\n",
       "      <td>2020-01-03 02:00:00</td>\n",
       "    </tr>\n",
       "    <tr>\n",
       "      <th>3</th>\n",
       "      <td>2020-01-01 04:00:00</td>\n",
       "      <td>2020-01-02 03:00:00</td>\n",
       "      <td>2020-01-03 03:00:00</td>\n",
       "    </tr>\n",
       "    <tr>\n",
       "      <th>4</th>\n",
       "      <td>2020-01-01 05:00:00</td>\n",
       "      <td>2020-01-02 04:00:00</td>\n",
       "      <td>2020-01-03 04:00:00</td>\n",
       "    </tr>\n",
       "    <tr>\n",
       "      <th>...</th>\n",
       "      <td>...</td>\n",
       "      <td>...</td>\n",
       "      <td>...</td>\n",
       "    </tr>\n",
       "    <tr>\n",
       "      <th>21284</th>\n",
       "      <td>2022-06-05 21:00:00</td>\n",
       "      <td>2022-06-06 20:00:00</td>\n",
       "      <td>2022-06-07 20:00:00</td>\n",
       "    </tr>\n",
       "    <tr>\n",
       "      <th>21285</th>\n",
       "      <td>2022-06-05 22:00:00</td>\n",
       "      <td>2022-06-06 21:00:00</td>\n",
       "      <td>2022-06-07 21:00:00</td>\n",
       "    </tr>\n",
       "    <tr>\n",
       "      <th>21286</th>\n",
       "      <td>2022-06-05 23:00:00</td>\n",
       "      <td>2022-06-06 22:00:00</td>\n",
       "      <td>2022-06-07 22:00:00</td>\n",
       "    </tr>\n",
       "    <tr>\n",
       "      <th>21287</th>\n",
       "      <td>2022-06-06 00:00:00</td>\n",
       "      <td>2022-06-06 23:00:00</td>\n",
       "      <td>2022-06-07 23:00:00</td>\n",
       "    </tr>\n",
       "    <tr>\n",
       "      <th>21288</th>\n",
       "      <td>2022-06-06 01:00:00</td>\n",
       "      <td>2022-06-07 00:00:00</td>\n",
       "      <td>2022-06-08 00:00:00</td>\n",
       "    </tr>\n",
       "  </tbody>\n",
       "</table>\n",
       "<p>21289 rows × 3 columns</p>\n",
       "</div>"
      ],
      "text/plain": [
       "                  t_start               t_now               t_end\n",
       "0     2020-01-01 01:00:00 2020-01-02 00:00:00 2020-01-03 00:00:00\n",
       "1     2020-01-01 02:00:00 2020-01-02 01:00:00 2020-01-03 01:00:00\n",
       "2     2020-01-01 03:00:00 2020-01-02 02:00:00 2020-01-03 02:00:00\n",
       "3     2020-01-01 04:00:00 2020-01-02 03:00:00 2020-01-03 03:00:00\n",
       "4     2020-01-01 05:00:00 2020-01-02 04:00:00 2020-01-03 04:00:00\n",
       "...                   ...                 ...                 ...\n",
       "21284 2022-06-05 21:00:00 2022-06-06 20:00:00 2022-06-07 20:00:00\n",
       "21285 2022-06-05 22:00:00 2022-06-06 21:00:00 2022-06-07 21:00:00\n",
       "21286 2022-06-05 23:00:00 2022-06-06 22:00:00 2022-06-07 22:00:00\n",
       "21287 2022-06-06 00:00:00 2022-06-06 23:00:00 2022-06-07 23:00:00\n",
       "21288 2022-06-06 01:00:00 2022-06-07 00:00:00 2022-06-08 00:00:00\n",
       "\n",
       "[21289 rows x 3 columns]"
      ]
     },
     "execution_count": 36,
     "metadata": {},
     "output_type": "execute_result"
    }
   ],
   "source": [
    "t_idx = create_t_idx(data, LOOKBACK, LOOKFORWARD)\n",
    "t_idx"
   ]
  },
  {
   "cell_type": "markdown",
   "id": "e814eddb-aa66-4d28-b529-9f92f29d8284",
   "metadata": {},
   "source": [
    "## Test getting data from time indexes"
   ]
  },
  {
   "cell_type": "code",
   "execution_count": 37,
   "id": "6cdc07f4-d302-4ada-831f-81f74a64fe1d",
   "metadata": {},
   "outputs": [
    {
     "data": {
      "text/plain": [
       "t_start   2020-01-01 01:00:00\n",
       "t_now     2020-01-02 00:00:00\n",
       "t_end     2020-01-03 00:00:00\n",
       "Name: 0, dtype: datetime64[ns]"
      ]
     },
     "execution_count": 37,
     "metadata": {},
     "output_type": "execute_result"
    }
   ],
   "source": [
    "# test_idx = 21118\n",
    "test_idx = 0\n",
    "t_idx.iloc[test_idx,:]"
   ]
  },
  {
   "cell_type": "code",
   "execution_count": 38,
   "id": "9549fa72-61fe-44d0-b17c-9d10abf349c6",
   "metadata": {},
   "outputs": [
    {
     "data": {
      "text/html": [
       "<div>\n",
       "<style scoped>\n",
       "    .dataframe tbody tr th:only-of-type {\n",
       "        vertical-align: middle;\n",
       "    }\n",
       "\n",
       "    .dataframe tbody tr th {\n",
       "        vertical-align: top;\n",
       "    }\n",
       "\n",
       "    .dataframe thead th {\n",
       "        text-align: right;\n",
       "    }\n",
       "</style>\n",
       "<table border=\"1\" class=\"dataframe\">\n",
       "  <thead>\n",
       "    <tr style=\"text-align: right;\">\n",
       "      <th></th>\n",
       "      <th>wind</th>\n",
       "      <th>solar</th>\n",
       "      <th>load_mwh</th>\n",
       "    </tr>\n",
       "    <tr>\n",
       "      <th>dttm</th>\n",
       "      <th></th>\n",
       "      <th></th>\n",
       "      <th></th>\n",
       "    </tr>\n",
       "  </thead>\n",
       "  <tbody>\n",
       "    <tr>\n",
       "      <th>2020-01-01 01:00:00</th>\n",
       "      <td>1.212703</td>\n",
       "      <td>-0.637892</td>\n",
       "      <td>-0.134964</td>\n",
       "    </tr>\n",
       "    <tr>\n",
       "      <th>2020-01-01 02:00:00</th>\n",
       "      <td>1.187346</td>\n",
       "      <td>-0.637892</td>\n",
       "      <td>-0.308057</td>\n",
       "    </tr>\n",
       "    <tr>\n",
       "      <th>2020-01-01 03:00:00</th>\n",
       "      <td>1.123248</td>\n",
       "      <td>-0.637892</td>\n",
       "      <td>-0.457112</td>\n",
       "    </tr>\n",
       "    <tr>\n",
       "      <th>2020-01-01 04:00:00</th>\n",
       "      <td>1.094655</td>\n",
       "      <td>-0.637892</td>\n",
       "      <td>-0.560132</td>\n",
       "    </tr>\n",
       "    <tr>\n",
       "      <th>2020-01-01 05:00:00</th>\n",
       "      <td>1.107966</td>\n",
       "      <td>-0.637892</td>\n",
       "      <td>-0.580114</td>\n",
       "    </tr>\n",
       "    <tr>\n",
       "      <th>2020-01-01 06:00:00</th>\n",
       "      <td>1.102977</td>\n",
       "      <td>-0.637892</td>\n",
       "      <td>-0.552324</td>\n",
       "    </tr>\n",
       "    <tr>\n",
       "      <th>2020-01-01 07:00:00</th>\n",
       "      <td>1.034280</td>\n",
       "      <td>-0.637892</td>\n",
       "      <td>-0.458147</td>\n",
       "    </tr>\n",
       "    <tr>\n",
       "      <th>2020-01-01 08:00:00</th>\n",
       "      <td>0.906912</td>\n",
       "      <td>-0.637892</td>\n",
       "      <td>-0.384689</td>\n",
       "    </tr>\n",
       "    <tr>\n",
       "      <th>2020-01-01 09:00:00</th>\n",
       "      <td>0.770418</td>\n",
       "      <td>-0.637892</td>\n",
       "      <td>-0.275502</td>\n",
       "    </tr>\n",
       "    <tr>\n",
       "      <th>2020-01-01 10:00:00</th>\n",
       "      <td>0.582577</td>\n",
       "      <td>-0.637892</td>\n",
       "      <td>-0.252466</td>\n",
       "    </tr>\n",
       "    <tr>\n",
       "      <th>2020-01-01 11:00:00</th>\n",
       "      <td>0.422892</td>\n",
       "      <td>-0.439676</td>\n",
       "      <td>-0.204555</td>\n",
       "    </tr>\n",
       "    <tr>\n",
       "      <th>2020-01-01 12:00:00</th>\n",
       "      <td>0.200278</td>\n",
       "      <td>-0.219104</td>\n",
       "      <td>-0.144755</td>\n",
       "    </tr>\n",
       "    <tr>\n",
       "      <th>2020-01-01 13:00:00</th>\n",
       "      <td>-0.048594</td>\n",
       "      <td>-0.035792</td>\n",
       "      <td>-0.177322</td>\n",
       "    </tr>\n",
       "    <tr>\n",
       "      <th>2020-01-01 14:00:00</th>\n",
       "      <td>-0.108069</td>\n",
       "      <td>0.165405</td>\n",
       "      <td>-0.222760</td>\n",
       "    </tr>\n",
       "    <tr>\n",
       "      <th>2020-01-01 15:00:00</th>\n",
       "      <td>-0.083685</td>\n",
       "      <td>0.509676</td>\n",
       "      <td>-0.331745</td>\n",
       "    </tr>\n",
       "    <tr>\n",
       "      <th>2020-01-01 16:00:00</th>\n",
       "      <td>-0.133060</td>\n",
       "      <td>0.208626</td>\n",
       "      <td>-0.352254</td>\n",
       "    </tr>\n",
       "    <tr>\n",
       "      <th>2020-01-01 17:00:00</th>\n",
       "      <td>-0.203802</td>\n",
       "      <td>-0.193768</td>\n",
       "      <td>-0.301737</td>\n",
       "    </tr>\n",
       "    <tr>\n",
       "      <th>2020-01-01 18:00:00</th>\n",
       "      <td>-0.339955</td>\n",
       "      <td>-0.637892</td>\n",
       "      <td>-0.022289</td>\n",
       "    </tr>\n",
       "    <tr>\n",
       "      <th>2020-01-01 19:00:00</th>\n",
       "      <td>-0.208474</td>\n",
       "      <td>-0.637892</td>\n",
       "      <td>0.388096</td>\n",
       "    </tr>\n",
       "    <tr>\n",
       "      <th>2020-01-01 20:00:00</th>\n",
       "      <td>-0.058888</td>\n",
       "      <td>-0.637892</td>\n",
       "      <td>0.358303</td>\n",
       "    </tr>\n",
       "    <tr>\n",
       "      <th>2020-01-01 21:00:00</th>\n",
       "      <td>-0.030733</td>\n",
       "      <td>-0.637892</td>\n",
       "      <td>0.232169</td>\n",
       "    </tr>\n",
       "    <tr>\n",
       "      <th>2020-01-01 22:00:00</th>\n",
       "      <td>0.026405</td>\n",
       "      <td>-0.637892</td>\n",
       "      <td>0.069575</td>\n",
       "    </tr>\n",
       "    <tr>\n",
       "      <th>2020-01-01 23:00:00</th>\n",
       "      <td>0.189765</td>\n",
       "      <td>-0.637892</td>\n",
       "      <td>-0.216728</td>\n",
       "    </tr>\n",
       "    <tr>\n",
       "      <th>2020-01-02 00:00:00</th>\n",
       "      <td>0.397268</td>\n",
       "      <td>-0.637892</td>\n",
       "      <td>-0.518838</td>\n",
       "    </tr>\n",
       "    <tr>\n",
       "      <th>2020-01-02 01:00:00</th>\n",
       "      <td>0.574060</td>\n",
       "      <td>-0.637892</td>\n",
       "      <td>-0.794365</td>\n",
       "    </tr>\n",
       "    <tr>\n",
       "      <th>2020-01-02 02:00:00</th>\n",
       "      <td>0.836876</td>\n",
       "      <td>-0.637892</td>\n",
       "      <td>-0.976903</td>\n",
       "    </tr>\n",
       "    <tr>\n",
       "      <th>2020-01-02 03:00:00</th>\n",
       "      <td>0.962809</td>\n",
       "      <td>-0.637892</td>\n",
       "      <td>-1.076963</td>\n",
       "    </tr>\n",
       "    <tr>\n",
       "      <th>2020-01-02 04:00:00</th>\n",
       "      <td>0.996634</td>\n",
       "      <td>-0.637892</td>\n",
       "      <td>-1.103248</td>\n",
       "    </tr>\n",
       "    <tr>\n",
       "      <th>2020-01-02 05:00:00</th>\n",
       "      <td>0.939812</td>\n",
       "      <td>-0.637892</td>\n",
       "      <td>-1.067551</td>\n",
       "    </tr>\n",
       "    <tr>\n",
       "      <th>2020-01-02 06:00:00</th>\n",
       "      <td>0.986292</td>\n",
       "      <td>-0.637892</td>\n",
       "      <td>-0.905754</td>\n",
       "    </tr>\n",
       "    <tr>\n",
       "      <th>2020-01-02 07:00:00</th>\n",
       "      <td>0.935773</td>\n",
       "      <td>-0.637892</td>\n",
       "      <td>-0.524345</td>\n",
       "    </tr>\n",
       "    <tr>\n",
       "      <th>2020-01-02 08:00:00</th>\n",
       "      <td>0.853497</td>\n",
       "      <td>-0.637892</td>\n",
       "      <td>0.022332</td>\n",
       "    </tr>\n",
       "    <tr>\n",
       "      <th>2020-01-02 09:00:00</th>\n",
       "      <td>0.903408</td>\n",
       "      <td>-0.637892</td>\n",
       "      <td>0.402286</td>\n",
       "    </tr>\n",
       "    <tr>\n",
       "      <th>2020-01-02 10:00:00</th>\n",
       "      <td>0.927523</td>\n",
       "      <td>-0.637892</td>\n",
       "      <td>0.456590</td>\n",
       "    </tr>\n",
       "    <tr>\n",
       "      <th>2020-01-02 11:00:00</th>\n",
       "      <td>0.843544</td>\n",
       "      <td>-0.301074</td>\n",
       "      <td>0.429304</td>\n",
       "    </tr>\n",
       "    <tr>\n",
       "      <th>2020-01-02 12:00:00</th>\n",
       "      <td>0.755501</td>\n",
       "      <td>-0.317467</td>\n",
       "      <td>0.407101</td>\n",
       "    </tr>\n",
       "    <tr>\n",
       "      <th>2020-01-02 13:00:00</th>\n",
       "      <td>0.724255</td>\n",
       "      <td>-0.345784</td>\n",
       "      <td>0.410168</td>\n",
       "    </tr>\n",
       "    <tr>\n",
       "      <th>2020-01-02 14:00:00</th>\n",
       "      <td>0.646651</td>\n",
       "      <td>0.041707</td>\n",
       "      <td>0.403510</td>\n",
       "    </tr>\n",
       "    <tr>\n",
       "      <th>2020-01-02 15:00:00</th>\n",
       "      <td>0.520937</td>\n",
       "      <td>0.399390</td>\n",
       "      <td>0.411190</td>\n",
       "    </tr>\n",
       "    <tr>\n",
       "      <th>2020-01-02 16:00:00</th>\n",
       "      <td>0.625601</td>\n",
       "      <td>0.260788</td>\n",
       "      <td>0.387589</td>\n",
       "    </tr>\n",
       "    <tr>\n",
       "      <th>2020-01-02 17:00:00</th>\n",
       "      <td>0.598711</td>\n",
       "      <td>-0.411359</td>\n",
       "      <td>0.394721</td>\n",
       "    </tr>\n",
       "    <tr>\n",
       "      <th>2020-01-02 18:00:00</th>\n",
       "      <td>0.693057</td>\n",
       "      <td>-0.637892</td>\n",
       "      <td>0.567212</td>\n",
       "    </tr>\n",
       "    <tr>\n",
       "      <th>2020-01-02 19:00:00</th>\n",
       "      <td>0.910951</td>\n",
       "      <td>-0.637892</td>\n",
       "      <td>0.823265</td>\n",
       "    </tr>\n",
       "    <tr>\n",
       "      <th>2020-01-02 20:00:00</th>\n",
       "      <td>1.038758</td>\n",
       "      <td>-0.637892</td>\n",
       "      <td>0.780293</td>\n",
       "    </tr>\n",
       "    <tr>\n",
       "      <th>2020-01-02 21:00:00</th>\n",
       "      <td>1.060318</td>\n",
       "      <td>-0.637892</td>\n",
       "      <td>0.614909</td>\n",
       "    </tr>\n",
       "    <tr>\n",
       "      <th>2020-01-02 22:00:00</th>\n",
       "      <td>1.041289</td>\n",
       "      <td>-0.637892</td>\n",
       "      <td>0.434004</td>\n",
       "    </tr>\n",
       "    <tr>\n",
       "      <th>2020-01-02 23:00:00</th>\n",
       "      <td>0.947454</td>\n",
       "      <td>-0.637892</td>\n",
       "      <td>0.159482</td>\n",
       "    </tr>\n",
       "    <tr>\n",
       "      <th>2020-01-03 00:00:00</th>\n",
       "      <td>0.888077</td>\n",
       "      <td>-0.637892</td>\n",
       "      <td>-0.146160</td>\n",
       "    </tr>\n",
       "  </tbody>\n",
       "</table>\n",
       "</div>"
      ],
      "text/plain": [
       "                         wind     solar  load_mwh\n",
       "dttm                                             \n",
       "2020-01-01 01:00:00  1.212703 -0.637892 -0.134964\n",
       "2020-01-01 02:00:00  1.187346 -0.637892 -0.308057\n",
       "2020-01-01 03:00:00  1.123248 -0.637892 -0.457112\n",
       "2020-01-01 04:00:00  1.094655 -0.637892 -0.560132\n",
       "2020-01-01 05:00:00  1.107966 -0.637892 -0.580114\n",
       "2020-01-01 06:00:00  1.102977 -0.637892 -0.552324\n",
       "2020-01-01 07:00:00  1.034280 -0.637892 -0.458147\n",
       "2020-01-01 08:00:00  0.906912 -0.637892 -0.384689\n",
       "2020-01-01 09:00:00  0.770418 -0.637892 -0.275502\n",
       "2020-01-01 10:00:00  0.582577 -0.637892 -0.252466\n",
       "2020-01-01 11:00:00  0.422892 -0.439676 -0.204555\n",
       "2020-01-01 12:00:00  0.200278 -0.219104 -0.144755\n",
       "2020-01-01 13:00:00 -0.048594 -0.035792 -0.177322\n",
       "2020-01-01 14:00:00 -0.108069  0.165405 -0.222760\n",
       "2020-01-01 15:00:00 -0.083685  0.509676 -0.331745\n",
       "2020-01-01 16:00:00 -0.133060  0.208626 -0.352254\n",
       "2020-01-01 17:00:00 -0.203802 -0.193768 -0.301737\n",
       "2020-01-01 18:00:00 -0.339955 -0.637892 -0.022289\n",
       "2020-01-01 19:00:00 -0.208474 -0.637892  0.388096\n",
       "2020-01-01 20:00:00 -0.058888 -0.637892  0.358303\n",
       "2020-01-01 21:00:00 -0.030733 -0.637892  0.232169\n",
       "2020-01-01 22:00:00  0.026405 -0.637892  0.069575\n",
       "2020-01-01 23:00:00  0.189765 -0.637892 -0.216728\n",
       "2020-01-02 00:00:00  0.397268 -0.637892 -0.518838\n",
       "2020-01-02 01:00:00  0.574060 -0.637892 -0.794365\n",
       "2020-01-02 02:00:00  0.836876 -0.637892 -0.976903\n",
       "2020-01-02 03:00:00  0.962809 -0.637892 -1.076963\n",
       "2020-01-02 04:00:00  0.996634 -0.637892 -1.103248\n",
       "2020-01-02 05:00:00  0.939812 -0.637892 -1.067551\n",
       "2020-01-02 06:00:00  0.986292 -0.637892 -0.905754\n",
       "2020-01-02 07:00:00  0.935773 -0.637892 -0.524345\n",
       "2020-01-02 08:00:00  0.853497 -0.637892  0.022332\n",
       "2020-01-02 09:00:00  0.903408 -0.637892  0.402286\n",
       "2020-01-02 10:00:00  0.927523 -0.637892  0.456590\n",
       "2020-01-02 11:00:00  0.843544 -0.301074  0.429304\n",
       "2020-01-02 12:00:00  0.755501 -0.317467  0.407101\n",
       "2020-01-02 13:00:00  0.724255 -0.345784  0.410168\n",
       "2020-01-02 14:00:00  0.646651  0.041707  0.403510\n",
       "2020-01-02 15:00:00  0.520937  0.399390  0.411190\n",
       "2020-01-02 16:00:00  0.625601  0.260788  0.387589\n",
       "2020-01-02 17:00:00  0.598711 -0.411359  0.394721\n",
       "2020-01-02 18:00:00  0.693057 -0.637892  0.567212\n",
       "2020-01-02 19:00:00  0.910951 -0.637892  0.823265\n",
       "2020-01-02 20:00:00  1.038758 -0.637892  0.780293\n",
       "2020-01-02 21:00:00  1.060318 -0.637892  0.614909\n",
       "2020-01-02 22:00:00  1.041289 -0.637892  0.434004\n",
       "2020-01-02 23:00:00  0.947454 -0.637892  0.159482\n",
       "2020-01-03 00:00:00  0.888077 -0.637892 -0.146160"
      ]
     },
     "execution_count": 38,
     "metadata": {},
     "output_type": "execute_result"
    }
   ],
   "source": [
    "# get dataframe with historical and future timeseries values\n",
    "# i.e. historical values from t_start:t_now and \n",
    "# future values from t_now:t_end\n",
    "# in production future values would come from forecasts \n",
    "# but actuals will be used for training\n",
    "hist_future_cols = ['wind', 'solar', 'load_mwh']\n",
    "hist_future = data_scaled.loc[t_idx.t_start[test_idx]:t_idx.t_end[test_idx], hist_future_cols]\n",
    "hist_future"
   ]
  },
  {
   "cell_type": "code",
   "execution_count": 39,
   "id": "573312f4-4923-41f9-b462-4d427e05d17b",
   "metadata": {},
   "outputs": [
    {
     "data": {
      "text/html": [
       "<div>\n",
       "<style scoped>\n",
       "    .dataframe tbody tr th:only-of-type {\n",
       "        vertical-align: middle;\n",
       "    }\n",
       "\n",
       "    .dataframe tbody tr th {\n",
       "        vertical-align: top;\n",
       "    }\n",
       "\n",
       "    .dataframe thead th {\n",
       "        text-align: right;\n",
       "    }\n",
       "</style>\n",
       "<table border=\"1\" class=\"dataframe\">\n",
       "  <thead>\n",
       "    <tr style=\"text-align: right;\">\n",
       "      <th></th>\n",
       "      <th>price</th>\n",
       "    </tr>\n",
       "    <tr>\n",
       "      <th>dttm</th>\n",
       "      <th></th>\n",
       "    </tr>\n",
       "  </thead>\n",
       "  <tbody>\n",
       "    <tr>\n",
       "      <th>2020-01-01 01:00:00</th>\n",
       "      <td>-0.704091</td>\n",
       "    </tr>\n",
       "    <tr>\n",
       "      <th>2020-01-01 02:00:00</th>\n",
       "      <td>-0.711573</td>\n",
       "    </tr>\n",
       "    <tr>\n",
       "      <th>2020-01-01 03:00:00</th>\n",
       "      <td>-0.724336</td>\n",
       "    </tr>\n",
       "    <tr>\n",
       "      <th>2020-01-01 04:00:00</th>\n",
       "      <td>-0.728297</td>\n",
       "    </tr>\n",
       "    <tr>\n",
       "      <th>2020-01-01 05:00:00</th>\n",
       "      <td>-0.710693</td>\n",
       "    </tr>\n",
       "    <tr>\n",
       "      <th>2020-01-01 06:00:00</th>\n",
       "      <td>-0.609906</td>\n",
       "    </tr>\n",
       "    <tr>\n",
       "      <th>2020-01-01 07:00:00</th>\n",
       "      <td>-0.565454</td>\n",
       "    </tr>\n",
       "    <tr>\n",
       "      <th>2020-01-01 08:00:00</th>\n",
       "      <td>-0.618708</td>\n",
       "    </tr>\n",
       "    <tr>\n",
       "      <th>2020-01-01 09:00:00</th>\n",
       "      <td>-0.570736</td>\n",
       "    </tr>\n",
       "    <tr>\n",
       "      <th>2020-01-01 10:00:00</th>\n",
       "      <td>-0.473030</td>\n",
       "    </tr>\n",
       "    <tr>\n",
       "      <th>2020-01-01 11:00:00</th>\n",
       "      <td>-0.450584</td>\n",
       "    </tr>\n",
       "    <tr>\n",
       "      <th>2020-01-01 12:00:00</th>\n",
       "      <td>-0.398650</td>\n",
       "    </tr>\n",
       "    <tr>\n",
       "      <th>2020-01-01 13:00:00</th>\n",
       "      <td>-0.367842</td>\n",
       "    </tr>\n",
       "    <tr>\n",
       "      <th>2020-01-01 14:00:00</th>\n",
       "      <td>-0.414054</td>\n",
       "    </tr>\n",
       "    <tr>\n",
       "      <th>2020-01-01 15:00:00</th>\n",
       "      <td>-0.473030</td>\n",
       "    </tr>\n",
       "    <tr>\n",
       "      <th>2020-01-01 16:00:00</th>\n",
       "      <td>-0.458946</td>\n",
       "    </tr>\n",
       "    <tr>\n",
       "      <th>2020-01-01 17:00:00</th>\n",
       "      <td>-0.443102</td>\n",
       "    </tr>\n",
       "    <tr>\n",
       "      <th>2020-01-01 18:00:00</th>\n",
       "      <td>-0.334393</td>\n",
       "    </tr>\n",
       "    <tr>\n",
       "      <th>2020-01-01 19:00:00</th>\n",
       "      <td>-0.322510</td>\n",
       "    </tr>\n",
       "    <tr>\n",
       "      <th>2020-01-01 20:00:00</th>\n",
       "      <td>-0.451024</td>\n",
       "    </tr>\n",
       "    <tr>\n",
       "      <th>2020-01-01 21:00:00</th>\n",
       "      <td>-0.479632</td>\n",
       "    </tr>\n",
       "    <tr>\n",
       "      <th>2020-01-01 22:00:00</th>\n",
       "      <td>-0.514841</td>\n",
       "    </tr>\n",
       "    <tr>\n",
       "      <th>2020-01-01 23:00:00</th>\n",
       "      <td>-0.547850</td>\n",
       "    </tr>\n",
       "    <tr>\n",
       "      <th>2020-01-02 00:00:00</th>\n",
       "      <td>-0.533326</td>\n",
       "    </tr>\n",
       "  </tbody>\n",
       "</table>\n",
       "</div>"
      ],
      "text/plain": [
       "                        price\n",
       "dttm                         \n",
       "2020-01-01 01:00:00 -0.704091\n",
       "2020-01-01 02:00:00 -0.711573\n",
       "2020-01-01 03:00:00 -0.724336\n",
       "2020-01-01 04:00:00 -0.728297\n",
       "2020-01-01 05:00:00 -0.710693\n",
       "2020-01-01 06:00:00 -0.609906\n",
       "2020-01-01 07:00:00 -0.565454\n",
       "2020-01-01 08:00:00 -0.618708\n",
       "2020-01-01 09:00:00 -0.570736\n",
       "2020-01-01 10:00:00 -0.473030\n",
       "2020-01-01 11:00:00 -0.450584\n",
       "2020-01-01 12:00:00 -0.398650\n",
       "2020-01-01 13:00:00 -0.367842\n",
       "2020-01-01 14:00:00 -0.414054\n",
       "2020-01-01 15:00:00 -0.473030\n",
       "2020-01-01 16:00:00 -0.458946\n",
       "2020-01-01 17:00:00 -0.443102\n",
       "2020-01-01 18:00:00 -0.334393\n",
       "2020-01-01 19:00:00 -0.322510\n",
       "2020-01-01 20:00:00 -0.451024\n",
       "2020-01-01 21:00:00 -0.479632\n",
       "2020-01-01 22:00:00 -0.514841\n",
       "2020-01-01 23:00:00 -0.547850\n",
       "2020-01-02 00:00:00 -0.533326"
      ]
     },
     "execution_count": 39,
     "metadata": {},
     "output_type": "execute_result"
    }
   ],
   "source": [
    "# get dataframe with historical timeseries values\n",
    "label_cols = ['price']\n",
    "hist = data_scaled.loc[t_idx.t_start[test_idx]:t_idx.t_now[test_idx], label_cols]\n",
    "hist"
   ]
  },
  {
   "cell_type": "code",
   "execution_count": 40,
   "id": "cc8dfbb7-8894-4134-8aaf-b55de114bb4d",
   "metadata": {},
   "outputs": [
    {
     "data": {
      "text/html": [
       "<div>\n",
       "<style scoped>\n",
       "    .dataframe tbody tr th:only-of-type {\n",
       "        vertical-align: middle;\n",
       "    }\n",
       "\n",
       "    .dataframe tbody tr th {\n",
       "        vertical-align: top;\n",
       "    }\n",
       "\n",
       "    .dataframe thead th {\n",
       "        text-align: right;\n",
       "    }\n",
       "</style>\n",
       "<table border=\"1\" class=\"dataframe\">\n",
       "  <thead>\n",
       "    <tr style=\"text-align: right;\">\n",
       "      <th></th>\n",
       "      <th>price</th>\n",
       "    </tr>\n",
       "    <tr>\n",
       "      <th>dttm</th>\n",
       "      <th></th>\n",
       "    </tr>\n",
       "  </thead>\n",
       "  <tbody>\n",
       "    <tr>\n",
       "      <th>2020-01-02 01:00:00</th>\n",
       "      <td>-0.591421</td>\n",
       "    </tr>\n",
       "    <tr>\n",
       "      <th>2020-01-02 02:00:00</th>\n",
       "      <td>-0.656558</td>\n",
       "    </tr>\n",
       "    <tr>\n",
       "      <th>2020-01-02 03:00:00</th>\n",
       "      <td>-0.687366</td>\n",
       "    </tr>\n",
       "    <tr>\n",
       "      <th>2020-01-02 04:00:00</th>\n",
       "      <td>-0.722136</td>\n",
       "    </tr>\n",
       "    <tr>\n",
       "      <th>2020-01-02 05:00:00</th>\n",
       "      <td>-0.758225</td>\n",
       "    </tr>\n",
       "    <tr>\n",
       "      <th>2020-01-02 06:00:00</th>\n",
       "      <td>-0.725216</td>\n",
       "    </tr>\n",
       "    <tr>\n",
       "      <th>2020-01-02 07:00:00</th>\n",
       "      <td>-0.664920</td>\n",
       "    </tr>\n",
       "    <tr>\n",
       "      <th>2020-01-02 08:00:00</th>\n",
       "      <td>-0.712453</td>\n",
       "    </tr>\n",
       "    <tr>\n",
       "      <th>2020-01-02 09:00:00</th>\n",
       "      <td>-0.713773</td>\n",
       "    </tr>\n",
       "    <tr>\n",
       "      <th>2020-01-02 10:00:00</th>\n",
       "      <td>-0.679884</td>\n",
       "    </tr>\n",
       "    <tr>\n",
       "      <th>2020-01-02 11:00:00</th>\n",
       "      <td>-0.625750</td>\n",
       "    </tr>\n",
       "    <tr>\n",
       "      <th>2020-01-02 12:00:00</th>\n",
       "      <td>-0.623109</td>\n",
       "    </tr>\n",
       "    <tr>\n",
       "      <th>2020-01-02 13:00:00</th>\n",
       "      <td>-0.612987</td>\n",
       "    </tr>\n",
       "    <tr>\n",
       "      <th>2020-01-02 14:00:00</th>\n",
       "      <td>-0.634552</td>\n",
       "    </tr>\n",
       "    <tr>\n",
       "      <th>2020-01-02 15:00:00</th>\n",
       "      <td>-0.656558</td>\n",
       "    </tr>\n",
       "    <tr>\n",
       "      <th>2020-01-02 16:00:00</th>\n",
       "      <td>-0.679004</td>\n",
       "    </tr>\n",
       "    <tr>\n",
       "      <th>2020-01-02 17:00:00</th>\n",
       "      <td>-0.605945</td>\n",
       "    </tr>\n",
       "    <tr>\n",
       "      <th>2020-01-02 18:00:00</th>\n",
       "      <td>-0.566775</td>\n",
       "    </tr>\n",
       "    <tr>\n",
       "      <th>2020-01-02 19:00:00</th>\n",
       "      <td>-0.600664</td>\n",
       "    </tr>\n",
       "    <tr>\n",
       "      <th>2020-01-02 20:00:00</th>\n",
       "      <td>-0.652597</td>\n",
       "    </tr>\n",
       "    <tr>\n",
       "      <th>2020-01-02 21:00:00</th>\n",
       "      <td>-0.693968</td>\n",
       "    </tr>\n",
       "    <tr>\n",
       "      <th>2020-01-02 22:00:00</th>\n",
       "      <td>-0.710693</td>\n",
       "    </tr>\n",
       "    <tr>\n",
       "      <th>2020-01-02 23:00:00</th>\n",
       "      <td>-0.721695</td>\n",
       "    </tr>\n",
       "    <tr>\n",
       "      <th>2020-01-03 00:00:00</th>\n",
       "      <td>-0.726977</td>\n",
       "    </tr>\n",
       "  </tbody>\n",
       "</table>\n",
       "</div>"
      ],
      "text/plain": [
       "                        price\n",
       "dttm                         \n",
       "2020-01-02 01:00:00 -0.591421\n",
       "2020-01-02 02:00:00 -0.656558\n",
       "2020-01-02 03:00:00 -0.687366\n",
       "2020-01-02 04:00:00 -0.722136\n",
       "2020-01-02 05:00:00 -0.758225\n",
       "2020-01-02 06:00:00 -0.725216\n",
       "2020-01-02 07:00:00 -0.664920\n",
       "2020-01-02 08:00:00 -0.712453\n",
       "2020-01-02 09:00:00 -0.713773\n",
       "2020-01-02 10:00:00 -0.679884\n",
       "2020-01-02 11:00:00 -0.625750\n",
       "2020-01-02 12:00:00 -0.623109\n",
       "2020-01-02 13:00:00 -0.612987\n",
       "2020-01-02 14:00:00 -0.634552\n",
       "2020-01-02 15:00:00 -0.656558\n",
       "2020-01-02 16:00:00 -0.679004\n",
       "2020-01-02 17:00:00 -0.605945\n",
       "2020-01-02 18:00:00 -0.566775\n",
       "2020-01-02 19:00:00 -0.600664\n",
       "2020-01-02 20:00:00 -0.652597\n",
       "2020-01-02 21:00:00 -0.693968\n",
       "2020-01-02 22:00:00 -0.710693\n",
       "2020-01-02 23:00:00 -0.721695\n",
       "2020-01-03 00:00:00 -0.726977"
      ]
     },
     "execution_count": 40,
     "metadata": {},
     "output_type": "execute_result"
    }
   ],
   "source": [
    "# get dataframe with future timeseries label values\n",
    "# this is what we're trying to predict\n",
    "label_cols = ['price']\n",
    "label = data_scaled.loc[(t_idx.t_now[test_idx]+pd.DateOffset(hours=1)):t_idx.t_end[test_idx], label_cols]\n",
    "label"
   ]
  },
  {
   "cell_type": "code",
   "execution_count": 41,
   "id": "113ab946-05da-4c45-ac5d-cabc204b2bfc",
   "metadata": {},
   "outputs": [],
   "source": [
    "# function to create tabular data from t_now index\n",
    "# this will consist of one hot encoding for timestamp variables\n",
    "def create_tabular_data(\n",
    "    t_now: pd._libs.tslibs.timestamps.Timestamp\n",
    ") -> pd.core.frame.DataFrame:\n",
    "    \n",
    "    hours = pd.DataFrame({f'hour_{i}':1*(t_now.hour == i) for i in range(24)}, index=[0])\n",
    "    dayofweek = pd.DataFrame({f'dayofweek_{i}':1*(t_now.dayofweek == i) for i in range(7)}, index=[0])\n",
    "    month = pd.DataFrame({f'month_{i}':1*(t_now.month == i) for i in range(1, 13)}, index=[0])\n",
    "    # week = pd.DataFrame({f'week_{i}':1*(t_now.isocalendar()[1] == i) for i in range(1, 54)}, index=[0])\n",
    "    day = pd.DataFrame({f'day_{i}':1*(t_now.day == i) for i in range(1,32)}, index=[0])\n",
    "        \n",
    "        \n",
    "    return pd.concat([day, month, dayofweek, hours], axis=1)"
   ]
  },
  {
   "cell_type": "code",
   "execution_count": 42,
   "id": "83bd0400-1661-48f6-abc7-93a941d6b740",
   "metadata": {},
   "outputs": [
    {
     "data": {
      "text/html": [
       "<div>\n",
       "<style scoped>\n",
       "    .dataframe tbody tr th:only-of-type {\n",
       "        vertical-align: middle;\n",
       "    }\n",
       "\n",
       "    .dataframe tbody tr th {\n",
       "        vertical-align: top;\n",
       "    }\n",
       "\n",
       "    .dataframe thead th {\n",
       "        text-align: right;\n",
       "    }\n",
       "</style>\n",
       "<table border=\"1\" class=\"dataframe\">\n",
       "  <thead>\n",
       "    <tr style=\"text-align: right;\">\n",
       "      <th></th>\n",
       "      <th>0</th>\n",
       "    </tr>\n",
       "  </thead>\n",
       "  <tbody>\n",
       "    <tr>\n",
       "      <th>day_1</th>\n",
       "      <td>0</td>\n",
       "    </tr>\n",
       "    <tr>\n",
       "      <th>day_2</th>\n",
       "      <td>1</td>\n",
       "    </tr>\n",
       "    <tr>\n",
       "      <th>day_3</th>\n",
       "      <td>0</td>\n",
       "    </tr>\n",
       "    <tr>\n",
       "      <th>day_4</th>\n",
       "      <td>0</td>\n",
       "    </tr>\n",
       "    <tr>\n",
       "      <th>day_5</th>\n",
       "      <td>0</td>\n",
       "    </tr>\n",
       "    <tr>\n",
       "      <th>...</th>\n",
       "      <td>...</td>\n",
       "    </tr>\n",
       "    <tr>\n",
       "      <th>hour_19</th>\n",
       "      <td>0</td>\n",
       "    </tr>\n",
       "    <tr>\n",
       "      <th>hour_20</th>\n",
       "      <td>0</td>\n",
       "    </tr>\n",
       "    <tr>\n",
       "      <th>hour_21</th>\n",
       "      <td>0</td>\n",
       "    </tr>\n",
       "    <tr>\n",
       "      <th>hour_22</th>\n",
       "      <td>0</td>\n",
       "    </tr>\n",
       "    <tr>\n",
       "      <th>hour_23</th>\n",
       "      <td>0</td>\n",
       "    </tr>\n",
       "  </tbody>\n",
       "</table>\n",
       "<p>74 rows × 1 columns</p>\n",
       "</div>"
      ],
      "text/plain": [
       "         0\n",
       "day_1    0\n",
       "day_2    1\n",
       "day_3    0\n",
       "day_4    0\n",
       "day_5    0\n",
       "...     ..\n",
       "hour_19  0\n",
       "hour_20  0\n",
       "hour_21  0\n",
       "hour_22  0\n",
       "hour_23  0\n",
       "\n",
       "[74 rows x 1 columns]"
      ]
     },
     "execution_count": 42,
     "metadata": {},
     "output_type": "execute_result"
    }
   ],
   "source": [
    "tabular_data = create_tabular_data(t_idx.t_now[test_idx])\n",
    "tabular_data.transpose()"
   ]
  },
  {
   "cell_type": "markdown",
   "id": "92d53a8f-6230-42b3-b06e-15015b76788c",
   "metadata": {},
   "source": [
    "## Custom dataloader"
   ]
  },
  {
   "cell_type": "code",
   "execution_count": 43,
   "id": "ce723bce-b2a4-4af4-ab1d-db5338906121",
   "metadata": {},
   "outputs": [],
   "source": [
    "# this the class for our custom data loader\n",
    "# it will return our timeseries dataframes, tabular data, and target values\n",
    "class CombineDataset(Dataset):\n",
    "\n",
    "    def __init__(self, t_idx, data_scaled, hist_future_cols, label_cols):\n",
    "        \"\"\"\n",
    "        Args:\n",
    "            t_idx (pd.DataFrame): DataFrame with t_start, t_now, t_end columns\n",
    "            t_idx (pd.DataFrame): DataFrame with wind, solar, load_mwh, price columns\n",
    "            hist_future_cols (List[str]): List of column names with historical and future values\n",
    "            label_cols (List[str]): List of label column names, used to create hist and label data\n",
    "        Returns:\n",
    "            hist_future (numpy.ndarray): sample with historical and future \n",
    "                wind, solar, load_mwh timeseries values\n",
    "            hist (numpy.ndarray): sample with historical price time series values\n",
    "            tabular (numpy.ndarray): sample with tabular data\n",
    "            label (numpy.ndarray): sample with future prices that is used for the target variable\n",
    "        \"\"\"\n",
    "        self.t_idx = t_idx\n",
    "        self.data_scaled = data_scaled\n",
    "        self.hist_future_cols = hist_future_cols\n",
    "        self.label_cols = label_cols\n",
    "\n",
    "    def __len__(self):\n",
    "        return (self.t_idx.shape[0])\n",
    "\n",
    "    def __getitem__(self, idx):\n",
    "        if torch.is_tensor(idx):\n",
    "            idx = idx.tolist()\n",
    "        \n",
    "        # print(f'idx: {idx}')\n",
    "        \n",
    "        # get historical and future timeseries\n",
    "        hist_future = self.data_scaled.loc[\n",
    "            self.t_idx.t_start[idx]:self.t_idx.t_end[idx], self.hist_future_cols\n",
    "        ].transpose()\n",
    "\n",
    "        # get historical label timeseries\n",
    "        hist = self.data_scaled.loc[\n",
    "            self.t_idx.t_start[idx]:self.t_idx.t_now[idx], self.label_cols\n",
    "        ].transpose()\n",
    "       \n",
    "        # get tabular data\n",
    "        tabular = create_tabular_data(self.t_idx.t_now[idx])\n",
    "        \n",
    "        # get label timeseries\n",
    "        label = self.data_scaled.loc[\n",
    "            (self.t_idx.t_now[idx]+pd.DateOffset(hours=1)):self.t_idx.t_end[idx], self.label_cols\n",
    "        ].transpose()\n",
    "\n",
    "        return hist_future.values, hist.values, tabular.values, label.values"
   ]
  },
  {
   "cell_type": "code",
   "execution_count": 44,
   "id": "a7bc759e-1558-4134-b08f-32c5704ec226",
   "metadata": {},
   "outputs": [
    {
     "data": {
      "text/html": [
       "<div>\n",
       "<style scoped>\n",
       "    .dataframe tbody tr th:only-of-type {\n",
       "        vertical-align: middle;\n",
       "    }\n",
       "\n",
       "    .dataframe tbody tr th {\n",
       "        vertical-align: top;\n",
       "    }\n",
       "\n",
       "    .dataframe thead th {\n",
       "        text-align: right;\n",
       "    }\n",
       "</style>\n",
       "<table border=\"1\" class=\"dataframe\">\n",
       "  <thead>\n",
       "    <tr style=\"text-align: right;\">\n",
       "      <th></th>\n",
       "      <th>t_start</th>\n",
       "      <th>t_now</th>\n",
       "      <th>t_end</th>\n",
       "    </tr>\n",
       "  </thead>\n",
       "  <tbody>\n",
       "    <tr>\n",
       "      <th>0</th>\n",
       "      <td>2022-05-10 23:00:00</td>\n",
       "      <td>2022-05-11 22:00:00</td>\n",
       "      <td>2022-05-12 22:00:00</td>\n",
       "    </tr>\n",
       "    <tr>\n",
       "      <th>1</th>\n",
       "      <td>2020-09-03 18:00:00</td>\n",
       "      <td>2020-09-04 17:00:00</td>\n",
       "      <td>2020-09-05 17:00:00</td>\n",
       "    </tr>\n",
       "    <tr>\n",
       "      <th>2</th>\n",
       "      <td>2021-08-14 04:00:00</td>\n",
       "      <td>2021-08-15 03:00:00</td>\n",
       "      <td>2021-08-16 03:00:00</td>\n",
       "    </tr>\n",
       "    <tr>\n",
       "      <th>3</th>\n",
       "      <td>2021-12-04 17:00:00</td>\n",
       "      <td>2021-12-05 16:00:00</td>\n",
       "      <td>2021-12-06 16:00:00</td>\n",
       "    </tr>\n",
       "    <tr>\n",
       "      <th>4</th>\n",
       "      <td>2020-12-04 10:00:00</td>\n",
       "      <td>2020-12-05 09:00:00</td>\n",
       "      <td>2020-12-06 09:00:00</td>\n",
       "    </tr>\n",
       "    <tr>\n",
       "      <th>...</th>\n",
       "      <td>...</td>\n",
       "      <td>...</td>\n",
       "      <td>...</td>\n",
       "    </tr>\n",
       "    <tr>\n",
       "      <th>17063</th>\n",
       "      <td>2020-04-26 03:00:00</td>\n",
       "      <td>2020-04-27 02:00:00</td>\n",
       "      <td>2020-04-28 02:00:00</td>\n",
       "    </tr>\n",
       "    <tr>\n",
       "      <th>17064</th>\n",
       "      <td>2021-01-20 20:00:00</td>\n",
       "      <td>2021-01-21 19:00:00</td>\n",
       "      <td>2021-01-22 19:00:00</td>\n",
       "    </tr>\n",
       "    <tr>\n",
       "      <th>17065</th>\n",
       "      <td>2020-03-12 14:00:00</td>\n",
       "      <td>2020-03-13 13:00:00</td>\n",
       "      <td>2020-03-14 13:00:00</td>\n",
       "    </tr>\n",
       "    <tr>\n",
       "      <th>17066</th>\n",
       "      <td>2020-04-22 09:00:00</td>\n",
       "      <td>2020-04-23 08:00:00</td>\n",
       "      <td>2020-04-24 08:00:00</td>\n",
       "    </tr>\n",
       "    <tr>\n",
       "      <th>17067</th>\n",
       "      <td>2020-03-18 01:00:00</td>\n",
       "      <td>2020-03-19 00:00:00</td>\n",
       "      <td>2020-03-20 00:00:00</td>\n",
       "    </tr>\n",
       "  </tbody>\n",
       "</table>\n",
       "<p>17068 rows × 3 columns</p>\n",
       "</div>"
      ],
      "text/plain": [
       "                  t_start               t_now               t_end\n",
       "0     2022-05-10 23:00:00 2022-05-11 22:00:00 2022-05-12 22:00:00\n",
       "1     2020-09-03 18:00:00 2020-09-04 17:00:00 2020-09-05 17:00:00\n",
       "2     2021-08-14 04:00:00 2021-08-15 03:00:00 2021-08-16 03:00:00\n",
       "3     2021-12-04 17:00:00 2021-12-05 16:00:00 2021-12-06 16:00:00\n",
       "4     2020-12-04 10:00:00 2020-12-05 09:00:00 2020-12-06 09:00:00\n",
       "...                   ...                 ...                 ...\n",
       "17063 2020-04-26 03:00:00 2020-04-27 02:00:00 2020-04-28 02:00:00\n",
       "17064 2021-01-20 20:00:00 2021-01-21 19:00:00 2021-01-22 19:00:00\n",
       "17065 2020-03-12 14:00:00 2020-03-13 13:00:00 2020-03-14 13:00:00\n",
       "17066 2020-04-22 09:00:00 2020-04-23 08:00:00 2020-04-24 08:00:00\n",
       "17067 2020-03-18 01:00:00 2020-03-19 00:00:00 2020-03-20 00:00:00\n",
       "\n",
       "[17068 rows x 3 columns]"
      ]
     },
     "execution_count": 44,
     "metadata": {},
     "output_type": "execute_result"
    }
   ],
   "source": [
    "# create t_idx_train and t_idx_test for train and test dataloaders\n",
    "t_idx_train = t_idx.iloc[TRAIN_IDX,:].reset_index(drop=True)\n",
    "t_idx_train"
   ]
  },
  {
   "cell_type": "code",
   "execution_count": 45,
   "id": "b199064d-1bed-49cb-85b0-22e3f4451be1",
   "metadata": {},
   "outputs": [
    {
     "data": {
      "text/html": [
       "<div>\n",
       "<style scoped>\n",
       "    .dataframe tbody tr th:only-of-type {\n",
       "        vertical-align: middle;\n",
       "    }\n",
       "\n",
       "    .dataframe tbody tr th {\n",
       "        vertical-align: top;\n",
       "    }\n",
       "\n",
       "    .dataframe thead th {\n",
       "        text-align: right;\n",
       "    }\n",
       "</style>\n",
       "<table border=\"1\" class=\"dataframe\">\n",
       "  <thead>\n",
       "    <tr style=\"text-align: right;\">\n",
       "      <th></th>\n",
       "      <th>t_start</th>\n",
       "      <th>t_now</th>\n",
       "      <th>t_end</th>\n",
       "    </tr>\n",
       "  </thead>\n",
       "  <tbody>\n",
       "    <tr>\n",
       "      <th>0</th>\n",
       "      <td>2020-01-01 10:00:00</td>\n",
       "      <td>2020-01-02 09:00:00</td>\n",
       "      <td>2020-01-03 09:00:00</td>\n",
       "    </tr>\n",
       "    <tr>\n",
       "      <th>1</th>\n",
       "      <td>2020-01-01 12:00:00</td>\n",
       "      <td>2020-01-02 11:00:00</td>\n",
       "      <td>2020-01-03 11:00:00</td>\n",
       "    </tr>\n",
       "    <tr>\n",
       "      <th>2</th>\n",
       "      <td>2020-01-01 14:00:00</td>\n",
       "      <td>2020-01-02 13:00:00</td>\n",
       "      <td>2020-01-03 13:00:00</td>\n",
       "    </tr>\n",
       "    <tr>\n",
       "      <th>3</th>\n",
       "      <td>2020-01-01 17:00:00</td>\n",
       "      <td>2020-01-02 16:00:00</td>\n",
       "      <td>2020-01-03 16:00:00</td>\n",
       "    </tr>\n",
       "    <tr>\n",
       "      <th>4</th>\n",
       "      <td>2020-01-02 01:00:00</td>\n",
       "      <td>2020-01-03 00:00:00</td>\n",
       "      <td>2020-01-04 00:00:00</td>\n",
       "    </tr>\n",
       "    <tr>\n",
       "      <th>...</th>\n",
       "      <td>...</td>\n",
       "      <td>...</td>\n",
       "      <td>...</td>\n",
       "    </tr>\n",
       "    <tr>\n",
       "      <th>4216</th>\n",
       "      <td>2022-06-05 11:00:00</td>\n",
       "      <td>2022-06-06 10:00:00</td>\n",
       "      <td>2022-06-07 10:00:00</td>\n",
       "    </tr>\n",
       "    <tr>\n",
       "      <th>4217</th>\n",
       "      <td>2022-06-05 12:00:00</td>\n",
       "      <td>2022-06-06 11:00:00</td>\n",
       "      <td>2022-06-07 11:00:00</td>\n",
       "    </tr>\n",
       "    <tr>\n",
       "      <th>4218</th>\n",
       "      <td>2022-06-05 18:00:00</td>\n",
       "      <td>2022-06-06 17:00:00</td>\n",
       "      <td>2022-06-07 17:00:00</td>\n",
       "    </tr>\n",
       "    <tr>\n",
       "      <th>4219</th>\n",
       "      <td>2022-06-05 23:00:00</td>\n",
       "      <td>2022-06-06 22:00:00</td>\n",
       "      <td>2022-06-07 22:00:00</td>\n",
       "    </tr>\n",
       "    <tr>\n",
       "      <th>4220</th>\n",
       "      <td>2022-06-06 01:00:00</td>\n",
       "      <td>2022-06-07 00:00:00</td>\n",
       "      <td>2022-06-08 00:00:00</td>\n",
       "    </tr>\n",
       "  </tbody>\n",
       "</table>\n",
       "<p>4221 rows × 3 columns</p>\n",
       "</div>"
      ],
      "text/plain": [
       "                 t_start               t_now               t_end\n",
       "0    2020-01-01 10:00:00 2020-01-02 09:00:00 2020-01-03 09:00:00\n",
       "1    2020-01-01 12:00:00 2020-01-02 11:00:00 2020-01-03 11:00:00\n",
       "2    2020-01-01 14:00:00 2020-01-02 13:00:00 2020-01-03 13:00:00\n",
       "3    2020-01-01 17:00:00 2020-01-02 16:00:00 2020-01-03 16:00:00\n",
       "4    2020-01-02 01:00:00 2020-01-03 00:00:00 2020-01-04 00:00:00\n",
       "...                  ...                 ...                 ...\n",
       "4216 2022-06-05 11:00:00 2022-06-06 10:00:00 2022-06-07 10:00:00\n",
       "4217 2022-06-05 12:00:00 2022-06-06 11:00:00 2022-06-07 11:00:00\n",
       "4218 2022-06-05 18:00:00 2022-06-06 17:00:00 2022-06-07 17:00:00\n",
       "4219 2022-06-05 23:00:00 2022-06-06 22:00:00 2022-06-07 22:00:00\n",
       "4220 2022-06-06 01:00:00 2022-06-07 00:00:00 2022-06-08 00:00:00\n",
       "\n",
       "[4221 rows x 3 columns]"
      ]
     },
     "execution_count": 45,
     "metadata": {},
     "output_type": "execute_result"
    }
   ],
   "source": [
    "t_idx_test = t_idx.iloc[TEST_IDX,:].reset_index(drop=True)\n",
    "t_idx_test"
   ]
  },
  {
   "cell_type": "code",
   "execution_count": 46,
   "id": "703d36a8-4bcc-4715-8a58-595e3804193f",
   "metadata": {},
   "outputs": [
    {
     "name": "stdout",
     "output_type": "stream",
     "text": [
      "hist_future.shape: torch.Size([64, 3, 48])\n",
      "hist.shape: torch.Size([64, 1, 24])\n",
      "tabular.shape: torch.Size([64, 1, 74])\n",
      "label.shape: torch.Size([64, 1, 24])\n",
      "hist_future.shape: torch.Size([1, 3, 48])\n",
      "hist.shape: torch.Size([1, 1, 24])\n",
      "tabular.shape: torch.Size([1, 1, 74])\n",
      "label.shape: torch.Size([1, 1, 24])\n"
     ]
    }
   ],
   "source": [
    "# build dataloader for testing dataloader functionality and examine outputs\n",
    "loader_testing = DataLoader(\n",
    "    CombineDataset(t_idx_train.loc[:64,:], data_scaled, hist_future_cols, label_cols),\n",
    "    batch_size = 64,\n",
    "    shuffle = True,\n",
    "    num_workers = 0,\n",
    "    drop_last=False\n",
    ")\n",
    "\n",
    "for data in loader_testing:\n",
    "    hist_future, hist, tabular, label = data\n",
    "    \n",
    "    print(f'hist_future.shape: {hist_future.shape}')\n",
    "    print(f'hist.shape: {hist.shape}')\n",
    "    print(f'tabular.shape: {tabular.shape}')\n",
    "    print(f'label.shape: {label.shape}')"
   ]
  },
  {
   "cell_type": "code",
   "execution_count": 47,
   "id": "0e193bb9-b842-4721-8da5-3e6db660a366",
   "metadata": {},
   "outputs": [],
   "source": [
    "# loader for training data\n",
    "BATCH_SIZE_TRAIN = 512\n",
    "\n",
    "train_set = CombineDataset(t_idx_train, data_scaled, hist_future_cols, label_cols)\n",
    "loader_train = DataLoader(\n",
    "    train_set,\n",
    "    batch_size = BATCH_SIZE_TRAIN,\n",
    "    shuffle = True,\n",
    "    num_workers = 0,\n",
    "    drop_last=False\n",
    ")"
   ]
  },
  {
   "cell_type": "code",
   "execution_count": 48,
   "id": "0fd16cc4-e888-4fdd-9af4-5acfc45d5a5a",
   "metadata": {},
   "outputs": [],
   "source": [
    "# loader for testing data\n",
    "BATCH_SIZE_TEST = 1024\n",
    "\n",
    "test_set = CombineDataset(t_idx_test, data_scaled, hist_future_cols, label_cols)\n",
    "loader_test = DataLoader(\n",
    "    test_set,\n",
    "    batch_size = BATCH_SIZE_TEST,\n",
    "    shuffle = True,\n",
    "    num_workers = 0,\n",
    "    drop_last=False\n",
    ")"
   ]
  },
  {
   "cell_type": "markdown",
   "id": "d79f7ee9-f3ba-4bf1-b9fd-eb3d02bd1439",
   "metadata": {},
   "source": [
    "## Build model"
   ]
  },
  {
   "cell_type": "code",
   "execution_count": 49,
   "id": "3fa7e3d3-d6d2-4e0d-b5eb-4b7a572ec57f",
   "metadata": {},
   "outputs": [],
   "source": [
    "import torch\n",
    "import torch.nn as nn\n",
    "import torch.nn.functional as F\n",
    "import torch.optim as optim\n",
    "from torch.optim.lr_scheduler import StepLR, ExponentialLR"
   ]
  },
  {
   "cell_type": "code",
   "execution_count": 50,
   "id": "4b5067dd-3e59-4f37-9745-70be3fb63c50",
   "metadata": {},
   "outputs": [
    {
     "data": {
      "text/plain": [
       "device(type='cuda')"
      ]
     },
     "execution_count": 50,
     "metadata": {},
     "output_type": "execute_result"
    }
   ],
   "source": [
    "device = torch.device(\"cuda\" if torch.cuda.is_available() else \"cpu\")\n",
    "device"
   ]
  },
  {
   "cell_type": "code",
   "execution_count": 51,
   "id": "9d653e90-29dd-41a1-8e2e-b3a9eb74dc9b",
   "metadata": {},
   "outputs": [],
   "source": [
    "class Net(nn.Module):\n",
    "    def __init__(self, \n",
    "                 hist_future_out_ch: List[int] = [8, 16],\n",
    "                 hist_future_ks: List[int] = [3, 3],\n",
    "                 hist_out_ch: List[int] = [8, 16],\n",
    "                 hist_ks: List[int] = [3, 3],\n",
    "                 drop_out: float = 0.0,\n",
    "                 n_fc: List[int] = [256, 64, 256],\n",
    "                ):\n",
    "        super(Net, self).__init__()\n",
    "        \n",
    "        self.hist_future_in_ch = 3\n",
    "        self.hist_in_ch = 1\n",
    "        self.tabular_in_ch = 74\n",
    "        \n",
    "        self.steps_hist_future = 48\n",
    "        self.steps_hist = 24\n",
    "        self.label_out_ch = 24\n",
    "        \n",
    "        self.hist_future_out_ch = hist_future_out_ch\n",
    "        self.hist_future_ks = hist_future_ks\n",
    "        \n",
    "        self.hist_out_ch = hist_out_ch\n",
    "        self.hist_ks = hist_ks\n",
    "        \n",
    "        self.drop_out = drop_out\n",
    "        \n",
    "        # calculate the number of inputs for the first fully connected layer\n",
    "        self.fc_in_ch = (\n",
    "            self.hist_future_out_ch[-1]*self.steps_hist_future + \n",
    "            self.hist_out_ch[-1]*self.steps_hist + \n",
    "            self.tabular_in_ch\n",
    "        )\n",
    "        self.n_fc = n_fc\n",
    "        \n",
    "        # check inputs\n",
    "        # out channel lists and kernel size lists need to be the same length\n",
    "        len_hf_oc = len(self.hist_future_out_ch)\n",
    "        len_hf_ks = len(self.hist_future_ks)\n",
    "        assert len_hf_oc == len_hf_ks, \\\n",
    "            f\"len(hist_future_out_ch) ({len_hf_oc}) != len(hist_future_ks) ({len_hf_ks})\"\n",
    "        \n",
    "        len_h_oc = len(self.hist_out_ch)\n",
    "        len_h_ks = len(self.hist_ks)\n",
    "        assert len_hf_oc == len_hf_ks, \\\n",
    "            f\"len(hist_out_ch) ({len_h_oc}) != len(hist_ks) ({len_h_ks})\"\n",
    "        \n",
    "        \n",
    "        # create convolution blocks\n",
    "        self.hist_future_conv = nn.ModuleList()\n",
    "        in_ch = [self.hist_future_in_ch] + self.hist_future_out_ch\n",
    "        for i in range(len(self.hist_future_out_ch)):\n",
    "            self.hist_future_conv.append(\n",
    "                nn.Sequential(\n",
    "                    nn.Conv1d(\n",
    "                        in_ch[i], \n",
    "                        self.hist_future_out_ch[i], \n",
    "                        self.hist_future_ks[i], \n",
    "                        padding='same'),\n",
    "                    nn.BatchNorm1d(self.hist_future_out_ch[i]),\n",
    "                    nn.ReLU()\n",
    "                )\n",
    "            )\n",
    "            \n",
    "        self.hist_conv = nn.ModuleList()\n",
    "        in_ch = [self.hist_in_ch] + self.hist_out_ch\n",
    "        for i in range(len(self.hist_out_ch)):\n",
    "            self.hist_conv.append(\n",
    "                nn.Sequential(\n",
    "                    nn.Conv1d(\n",
    "                        in_ch[i], \n",
    "                        self.hist_out_ch[i], \n",
    "                        self.hist_ks[i], \n",
    "                        padding='same'),\n",
    "                    nn.BatchNorm1d(self.hist_out_ch[i]),\n",
    "                    nn.ReLU()\n",
    "                )\n",
    "            )\n",
    "        \n",
    "        \n",
    "        # fully connected layers\n",
    "        self.fc = nn.ModuleList()\n",
    "        in_ch = [self.fc_in_ch] + self.n_fc\n",
    "        for i in range(len(self.n_fc)):\n",
    "            self.fc.append(nn.Linear(in_ch[i], self.n_fc[i]))\n",
    "            self.fc.append(nn.BatchNorm1d(self.n_fc[i]))\n",
    "            self.fc.append(nn.Dropout(self.drop_out))\n",
    "            self.fc.append(nn.ReLU())\n",
    "                \n",
    "        self.fc.append(nn.Linear(self.n_fc[-1], self.label_out_ch))\n",
    "    \n",
    "    \n",
    "    def forward(self, hist_future, hist, tabular):\n",
    "        \n",
    "        # forward pass through conv blocks\n",
    "        for layer in self.hist_future_conv:\n",
    "            hist_future = layer(hist_future)\n",
    "        \n",
    "        for layer in self.hist_conv:\n",
    "            hist = layer(hist)\n",
    "        \n",
    "        # flatten layers for concatenation\n",
    "        hist_future = torch.flatten(hist_future, start_dim=1)    \n",
    "        hist = torch.flatten(hist, start_dim=1)\n",
    "        tabular = torch.flatten(tabular, start_dim=1)\n",
    "        x = torch.cat((hist_future, hist, tabular), dim=1)\n",
    "        \n",
    "        # forward pass through fully connected layers\n",
    "        for layer in self.fc:\n",
    "            x = layer(x)\n",
    "\n",
    "        return x"
   ]
  },
  {
   "cell_type": "code",
   "execution_count": 52,
   "id": "172dfdea-5f80-4133-9a7e-4bcdada5936d",
   "metadata": {},
   "outputs": [],
   "source": [
    "def train(model, device, loader_train, optimizer, scaler, epoch, loss_func=F.mse_loss):\n",
    "    model.train()\n",
    "    rmse_losses = []\n",
    "    for batch_idx, (hist_future, hist, tabular, label) in enumerate(loader_train):\n",
    "        hist_future, hist, tabular, label = (hist_future.to(device), \n",
    "                                             hist.to(device), \n",
    "                                             tabular.to(device), \n",
    "                                             label.to(device)\n",
    "                                            )\n",
    "        \n",
    "        label = torch.flatten(label, start_dim=1)\n",
    "        \n",
    "        optimizer.zero_grad()\n",
    "        output = model.forward(hist_future, hist, tabular)\n",
    "        loss = loss_func(output, label)\n",
    "        # loss = F.l1_loss(output, label)\n",
    "        loss.backward()\n",
    "        optimizer.step()\n",
    "        \n",
    "        \n",
    "        if batch_idx % (2**3) == 0:\n",
    "            \n",
    "            label = label*scaler['sd'].price+scaler['means'].price\n",
    "            output = output*scaler['sd'].price+scaler['means'].price\n",
    "            mse_loss = F.mse_loss(output, label, reduction=\"sum\").item()\n",
    "            mae_loss = F.l1_loss(output, label, reduction=\"mean\").item()\n",
    "            \n",
    "            count = np.prod(label.shape)\n",
    "            \n",
    "            rmse_loss = np.sqrt(mse_loss/count)\n",
    "            mean_error = torch.sum(output-label)/count\n",
    "            \n",
    "            print(\n",
    "                \"Train Epoch: {} [{}/{} ({:.0f}%)]\\tRMSE loss: {:.4f}, MAE loss: {:.4f}, Mean error: {:.4f}\".format(\n",
    "                    epoch,\n",
    "                    batch_idx * len(hist_future),\n",
    "                    len(loader_train.dataset),\n",
    "                    100.0 * batch_idx / len(loader_train),\n",
    "                    rmse_loss,\n",
    "                    mae_loss,\n",
    "                    mean_error\n",
    "                )\n",
    "            )\n",
    "            \n",
    "        rmse_losses+=[rmse_loss]\n",
    "        \n",
    "    return {\n",
    "        'epoch':epoch,\n",
    "        'losses':rmse_losses\n",
    "    }"
   ]
  },
  {
   "cell_type": "code",
   "execution_count": 53,
   "id": "8e548167-e265-4c99-90f8-b9829a9f71d1",
   "metadata": {},
   "outputs": [],
   "source": [
    "# function to print test error metrics during training\n",
    "def test(model, device, loader_test, scaler, epoch):\n",
    "    model.eval()\n",
    "    mse_loss = 0\n",
    "    mae_loss = 0\n",
    "    mean_error = 0\n",
    "    \n",
    "    with torch.no_grad():\n",
    "        for hist_future, hist, tabular, label in loader_test:\n",
    "            hist_future, hist, tabular, label = (hist_future.to(device), \n",
    "                                             hist.to(device), \n",
    "                                             tabular.to(device), \n",
    "                                             label.to(device)\n",
    "                                            )\n",
    "            \n",
    "            # scaled actuals\n",
    "            label = torch.flatten(label, start_dim=1)\n",
    "            label = label*scaler['sd'].price+scaler['means'].price\n",
    "            # label = label*(scaler['max'].price-scaler['min'].price) + scaler['min'].price\n",
    "            # scaled predictions\n",
    "            output = model.forward(hist_future, hist, tabular)\n",
    "            output = output*scaler['sd'].price+scaler['means'].price\n",
    "            # output = output*(scaler['max'].price-scaler['min'].price) + scaler['min'].price\n",
    "            \n",
    "            # calculate scaled loss\n",
    "            mse_loss += F.mse_loss(output, label, reduction=\"sum\").item()  # sum up batch loss\n",
    "            mae_loss += F.l1_loss(output, label, reduction=\"sum\").item()  # sum up batch loss\n",
    "            mean_error += torch.sum(output-label)\n",
    "            # mse_loss += torch.sum((output-label)**2)  # sum up batch loss\n",
    "            # mae_loss += torch.sum(torch.abs((output-label)))  # sum up batch loss\n",
    "    \n",
    "    \n",
    "    n_step = label.shape[-1]\n",
    "    n_pred = len(loader_test.dataset)\n",
    "    rmse_loss = np.sqrt(mse_loss/n_pred/n_step)\n",
    "    mae_loss = mae_loss/n_pred/n_step\n",
    "    mean_error = mean_error/n_pred/n_step\n",
    "    print('______________________________________________________')\n",
    "    print(\n",
    "        \"\\nTest set: RMSE loss: {:.4f}, MAE loss: {:.4f}, Mean error: {:.4f}\".format(\n",
    "            rmse_loss,\n",
    "            mae_loss,\n",
    "            mean_error,\n",
    "        )\n",
    "    )\n",
    "    print('______________________________________________________')\n",
    "    \n",
    "    return {\n",
    "        'epoch':epoch,\n",
    "        'rmse_loss':rmse_loss, \n",
    "        'mae_loss':mae_loss,\n",
    "        'mean_error':mean_error\n",
    "    }"
   ]
  },
  {
   "cell_type": "code",
   "execution_count": 54,
   "id": "4359b73b-b1b3-4dbb-8a94-3e18f76fa3e5",
   "metadata": {},
   "outputs": [],
   "source": [
    "param_log_model = {\n",
    "    'hist_future_out_ch':[8, 16],\n",
    "    'hist_future_ks': [3, 3],\n",
    "    'hist_out_ch': [8, 16],\n",
    "    'hist_ks': [3, 3],\n",
    "    'drop_out': 0.0,\n",
    "    'n_fc': [512, 128, 512],\n",
    "}\n",
    "\n",
    "param_log_opti = {\n",
    "    'lr': 0.001,\n",
    "    'gamma': 0.95,\n",
    "    'epochs': 15,\n",
    "}"
   ]
  },
  {
   "cell_type": "code",
   "execution_count": 55,
   "id": "092b720c-2d48-4991-b2e8-159881d32e84",
   "metadata": {},
   "outputs": [],
   "source": [
    "model = Net(**param_log_model).double().to(device)"
   ]
  },
  {
   "cell_type": "code",
   "execution_count": 56,
   "id": "33683e41-772b-474a-96c6-97f76d0cfa4c",
   "metadata": {},
   "outputs": [
    {
     "name": "stdout",
     "output_type": "stream",
     "text": [
      "Net(\n",
      "  (hist_future_conv): ModuleList(\n",
      "    (0): Sequential(\n",
      "      (0): Conv1d(3, 8, kernel_size=(3,), stride=(1,), padding=same)\n",
      "      (1): BatchNorm1d(8, eps=1e-05, momentum=0.1, affine=True, track_running_stats=True)\n",
      "      (2): ReLU()\n",
      "    )\n",
      "    (1): Sequential(\n",
      "      (0): Conv1d(8, 16, kernel_size=(3,), stride=(1,), padding=same)\n",
      "      (1): BatchNorm1d(16, eps=1e-05, momentum=0.1, affine=True, track_running_stats=True)\n",
      "      (2): ReLU()\n",
      "    )\n",
      "  )\n",
      "  (hist_conv): ModuleList(\n",
      "    (0): Sequential(\n",
      "      (0): Conv1d(1, 8, kernel_size=(3,), stride=(1,), padding=same)\n",
      "      (1): BatchNorm1d(8, eps=1e-05, momentum=0.1, affine=True, track_running_stats=True)\n",
      "      (2): ReLU()\n",
      "    )\n",
      "    (1): Sequential(\n",
      "      (0): Conv1d(8, 16, kernel_size=(3,), stride=(1,), padding=same)\n",
      "      (1): BatchNorm1d(16, eps=1e-05, momentum=0.1, affine=True, track_running_stats=True)\n",
      "      (2): ReLU()\n",
      "    )\n",
      "  )\n",
      "  (fc): ModuleList(\n",
      "    (0): Linear(in_features=1226, out_features=512, bias=True)\n",
      "    (1): BatchNorm1d(512, eps=1e-05, momentum=0.1, affine=True, track_running_stats=True)\n",
      "    (2): Dropout(p=0.0, inplace=False)\n",
      "    (3): ReLU()\n",
      "    (4): Linear(in_features=512, out_features=128, bias=True)\n",
      "    (5): BatchNorm1d(128, eps=1e-05, momentum=0.1, affine=True, track_running_stats=True)\n",
      "    (6): Dropout(p=0.0, inplace=False)\n",
      "    (7): ReLU()\n",
      "    (8): Linear(in_features=128, out_features=512, bias=True)\n",
      "    (9): BatchNorm1d(512, eps=1e-05, momentum=0.1, affine=True, track_running_stats=True)\n",
      "    (10): Dropout(p=0.0, inplace=False)\n",
      "    (11): ReLU()\n",
      "    (12): Linear(in_features=512, out_features=24, bias=True)\n",
      "  )\n",
      ")\n"
     ]
    }
   ],
   "source": [
    "print(model)"
   ]
  },
  {
   "cell_type": "code",
   "execution_count": 57,
   "id": "25bb04a9-fa5e-4f07-bfc8-003e16014c55",
   "metadata": {},
   "outputs": [
    {
     "name": "stdout",
     "output_type": "stream",
     "text": [
      "total number of parameters: 775,560\n"
     ]
    }
   ],
   "source": [
    "num_params = sum(param.numel() for param in model.parameters() if param.requires_grad)\n",
    "print(f'total number of parameters: {num_params:,}')"
   ]
  },
  {
   "cell_type": "code",
   "execution_count": 58,
   "id": "da1d863e-cf26-40b1-a949-f50dd583ede6",
   "metadata": {},
   "outputs": [
    {
     "name": "stdout",
     "output_type": "stream",
     "text": [
      ", \t- 775,560\n",
      "hist_future_conv, \t- 528\n",
      "hist_future_conv.0, \t- 96\n",
      "hist_future_conv.0.0, \t- 80\n",
      "hist_future_conv.0.1, \t- 16\n",
      "hist_future_conv.0.2, \t- 0\n",
      "hist_future_conv.1, \t- 432\n",
      "hist_future_conv.1.0, \t- 400\n",
      "hist_future_conv.1.1, \t- 32\n",
      "hist_future_conv.1.2, \t- 0\n",
      "hist_conv, \t- 480\n",
      "hist_conv.0, \t- 48\n",
      "hist_conv.0.0, \t- 32\n",
      "hist_conv.0.1, \t- 16\n",
      "hist_conv.0.2, \t- 0\n",
      "hist_conv.1, \t- 432\n",
      "hist_conv.1.0, \t- 400\n",
      "hist_conv.1.1, \t- 32\n",
      "hist_conv.1.2, \t- 0\n",
      "fc, \t- 774,552\n",
      "fc.0, \t- 628,224\n",
      "fc.1, \t- 1,024\n",
      "fc.2, \t- 0\n",
      "fc.3, \t- 0\n",
      "fc.4, \t- 65,664\n",
      "fc.5, \t- 256\n",
      "fc.6, \t- 0\n",
      "fc.7, \t- 0\n",
      "fc.8, \t- 66,048\n",
      "fc.9, \t- 1,024\n",
      "fc.10, \t- 0\n",
      "fc.11, \t- 0\n",
      "fc.12, \t- 12,312\n"
     ]
    }
   ],
   "source": [
    "for name, module in model.named_modules():\n",
    "     print(f'{name}, \\t- {sum(param.numel() for param in module.parameters()):,}')"
   ]
  },
  {
   "cell_type": "code",
   "execution_count": 59,
   "id": "00dc018d-7c1e-4a32-a0d0-3cee5d71b723",
   "metadata": {},
   "outputs": [
    {
     "data": {
      "text/plain": [
       "{'gamma': 0.95,\n",
       " 'base_lrs': [0.001],\n",
       " 'last_epoch': 15,\n",
       " '_step_count': 16,\n",
       " 'verbose': False,\n",
       " '_get_lr_called_within_step': False,\n",
       " '_last_lr': [0.00046329123015975297]}"
      ]
     },
     "execution_count": 59,
     "metadata": {},
     "output_type": "execute_result"
    }
   ],
   "source": [
    "# test optimizer scheduler\n",
    "optimizer = optim.Adam(model.parameters(), lr=param_log_opti['lr'])\n",
    "scheduler = ExponentialLR(optimizer, gamma=param_log_opti['gamma'], last_epoch=-1)\n",
    "for epoch in range(1, param_log_opti['epochs'] + 1):\n",
    "    optimizer.step()\n",
    "    scheduler.step()\n",
    "    \n",
    "scheduler.state_dict()"
   ]
  },
  {
   "cell_type": "code",
   "execution_count": 60,
   "id": "182d68ed-de9a-4d97-bdd5-71fbbef31f6f",
   "metadata": {},
   "outputs": [
    {
     "name": "stdout",
     "output_type": "stream",
     "text": [
      "Train Epoch: 1 [0/17068 (0%)]\tRMSE loss: 22.6308, MAE loss: 15.8189, Mean error: -1.1543\n",
      "Train Epoch: 1 [4096/17068 (24%)]\tRMSE loss: 18.0637, MAE loss: 10.5746, Mean error: -0.7584\n",
      "Train Epoch: 1 [8192/17068 (47%)]\tRMSE loss: 15.6881, MAE loss: 9.3912, Mean error: 0.1169\n",
      "Train Epoch: 1 [12288/17068 (71%)]\tRMSE loss: 16.5556, MAE loss: 9.4913, Mean error: 0.3182\n",
      "Train Epoch: 1 [16384/17068 (94%)]\tRMSE loss: 15.6098, MAE loss: 9.4421, Mean error: 0.7546\n",
      "______________________________________________________\n",
      "\n",
      "Test set: RMSE loss: 16.8800, MAE loss: 9.0834, Mean error: -2.6234\n",
      "______________________________________________________\n",
      "Train Epoch: 2 [0/17068 (0%)]\tRMSE loss: 15.1002, MAE loss: 8.7970, Mean error: -0.5130\n",
      "Train Epoch: 2 [4096/17068 (24%)]\tRMSE loss: 15.4822, MAE loss: 9.0675, Mean error: 1.5018\n",
      "Train Epoch: 2 [8192/17068 (47%)]\tRMSE loss: 14.9044, MAE loss: 8.7068, Mean error: 0.8740\n",
      "Train Epoch: 2 [12288/17068 (71%)]\tRMSE loss: 14.2672, MAE loss: 8.4240, Mean error: 0.0237\n",
      "Train Epoch: 2 [16384/17068 (94%)]\tRMSE loss: 16.0879, MAE loss: 8.8670, Mean error: -2.5607\n",
      "______________________________________________________\n",
      "\n",
      "Test set: RMSE loss: 15.2941, MAE loss: 8.7152, Mean error: -0.4840\n",
      "______________________________________________________\n",
      "Train Epoch: 3 [0/17068 (0%)]\tRMSE loss: 13.5906, MAE loss: 8.3052, Mean error: 1.2170\n",
      "Train Epoch: 3 [4096/17068 (24%)]\tRMSE loss: 14.4054, MAE loss: 8.1827, Mean error: -0.1248\n",
      "Train Epoch: 3 [8192/17068 (47%)]\tRMSE loss: 15.2670, MAE loss: 8.1689, Mean error: -1.9557\n",
      "Train Epoch: 3 [12288/17068 (71%)]\tRMSE loss: 14.6925, MAE loss: 8.3653, Mean error: -0.5898\n",
      "Train Epoch: 3 [16384/17068 (94%)]\tRMSE loss: 13.6253, MAE loss: 7.9272, Mean error: 0.5688\n",
      "______________________________________________________\n",
      "\n",
      "Test set: RMSE loss: 14.7090, MAE loss: 8.3931, Mean error: -0.2672\n",
      "______________________________________________________\n",
      "Train Epoch: 4 [0/17068 (0%)]\tRMSE loss: 14.3593, MAE loss: 8.0648, Mean error: -0.8978\n",
      "Train Epoch: 4 [4096/17068 (24%)]\tRMSE loss: 14.6695, MAE loss: 8.1288, Mean error: -0.3201\n",
      "Train Epoch: 4 [8192/17068 (47%)]\tRMSE loss: 13.4504, MAE loss: 7.7953, Mean error: 0.8525\n",
      "Train Epoch: 4 [12288/17068 (71%)]\tRMSE loss: 13.4606, MAE loss: 7.7023, Mean error: 0.7806\n",
      "Train Epoch: 4 [16384/17068 (94%)]\tRMSE loss: 13.4427, MAE loss: 7.7187, Mean error: -0.4243\n",
      "______________________________________________________\n",
      "\n",
      "Test set: RMSE loss: 14.0911, MAE loss: 7.9822, Mean error: -0.8630\n",
      "______________________________________________________\n",
      "Train Epoch: 5 [0/17068 (0%)]\tRMSE loss: 13.6955, MAE loss: 7.4549, Mean error: -2.0894\n",
      "Train Epoch: 5 [4096/17068 (24%)]\tRMSE loss: 13.7086, MAE loss: 7.7826, Mean error: -0.1901\n",
      "Train Epoch: 5 [8192/17068 (47%)]\tRMSE loss: 13.1765, MAE loss: 7.4009, Mean error: -0.5476\n",
      "Train Epoch: 5 [12288/17068 (71%)]\tRMSE loss: 12.6171, MAE loss: 7.4221, Mean error: 1.4449\n",
      "Train Epoch: 5 [16384/17068 (94%)]\tRMSE loss: 12.6628, MAE loss: 7.3610, Mean error: 0.4908\n",
      "______________________________________________________\n",
      "\n",
      "Test set: RMSE loss: 13.8055, MAE loss: 8.1686, Mean error: 1.5650\n",
      "______________________________________________________\n",
      "Train Epoch: 6 [0/17068 (0%)]\tRMSE loss: 12.4638, MAE loss: 7.1138, Mean error: 0.2324\n",
      "Train Epoch: 6 [4096/17068 (24%)]\tRMSE loss: 12.8027, MAE loss: 7.2094, Mean error: -2.2843\n",
      "Train Epoch: 6 [8192/17068 (47%)]\tRMSE loss: 12.0088, MAE loss: 7.4538, Mean error: 1.8619\n",
      "Train Epoch: 6 [12288/17068 (71%)]\tRMSE loss: 12.6590, MAE loss: 7.0606, Mean error: -0.5446\n",
      "Train Epoch: 6 [16384/17068 (94%)]\tRMSE loss: 12.5887, MAE loss: 7.2050, Mean error: 0.9473\n",
      "______________________________________________________\n",
      "\n",
      "Test set: RMSE loss: 13.9224, MAE loss: 8.3853, Mean error: 2.3999\n",
      "______________________________________________________\n",
      "Train Epoch: 7 [0/17068 (0%)]\tRMSE loss: 11.8409, MAE loss: 6.9082, Mean error: 0.6575\n",
      "Train Epoch: 7 [4096/17068 (24%)]\tRMSE loss: 11.8210, MAE loss: 6.7667, Mean error: 0.1285\n",
      "Train Epoch: 7 [8192/17068 (47%)]\tRMSE loss: 12.6633, MAE loss: 6.9431, Mean error: -1.6949\n",
      "Train Epoch: 7 [12288/17068 (71%)]\tRMSE loss: 12.0039, MAE loss: 6.9589, Mean error: 0.8978\n",
      "Train Epoch: 7 [16384/17068 (94%)]\tRMSE loss: 11.8251, MAE loss: 6.7402, Mean error: -0.4850\n",
      "______________________________________________________\n",
      "\n",
      "Test set: RMSE loss: 13.3192, MAE loss: 7.7830, Mean error: 0.8736\n",
      "______________________________________________________\n",
      "Train Epoch: 8 [0/17068 (0%)]\tRMSE loss: 11.7425, MAE loss: 6.6079, Mean error: -0.4663\n",
      "Train Epoch: 8 [4096/17068 (24%)]\tRMSE loss: 11.6850, MAE loss: 6.5639, Mean error: -1.8669\n",
      "Train Epoch: 8 [8192/17068 (47%)]\tRMSE loss: 12.0506, MAE loss: 6.9720, Mean error: 0.7423\n",
      "Train Epoch: 8 [12288/17068 (71%)]\tRMSE loss: 11.7834, MAE loss: 6.7766, Mean error: -0.7736\n",
      "Train Epoch: 8 [16384/17068 (94%)]\tRMSE loss: 11.2902, MAE loss: 6.8234, Mean error: 1.5210\n",
      "______________________________________________________\n",
      "\n",
      "Test set: RMSE loss: 12.9888, MAE loss: 7.3779, Mean error: -0.1250\n",
      "______________________________________________________\n",
      "Train Epoch: 9 [0/17068 (0%)]\tRMSE loss: 10.8655, MAE loss: 6.4401, Mean error: 0.3606\n",
      "Train Epoch: 9 [4096/17068 (24%)]\tRMSE loss: 10.9698, MAE loss: 6.3757, Mean error: -0.6903\n",
      "Train Epoch: 9 [8192/17068 (47%)]\tRMSE loss: 11.6236, MAE loss: 6.8463, Mean error: 1.3587\n",
      "Train Epoch: 9 [12288/17068 (71%)]\tRMSE loss: 11.5459, MAE loss: 6.5185, Mean error: -1.5806\n",
      "Train Epoch: 9 [16384/17068 (94%)]\tRMSE loss: 11.3248, MAE loss: 7.0032, Mean error: 2.5242\n",
      "______________________________________________________\n",
      "\n",
      "Test set: RMSE loss: 12.9159, MAE loss: 7.4058, Mean error: -0.5562\n",
      "______________________________________________________\n",
      "Train Epoch: 10 [0/17068 (0%)]\tRMSE loss: 11.0639, MAE loss: 6.5896, Mean error: 1.2428\n",
      "Train Epoch: 10 [4096/17068 (24%)]\tRMSE loss: 11.3543, MAE loss: 6.3328, Mean error: -1.4349\n",
      "Train Epoch: 10 [8192/17068 (47%)]\tRMSE loss: 10.2393, MAE loss: 6.3304, Mean error: 1.7451\n",
      "Train Epoch: 10 [12288/17068 (71%)]\tRMSE loss: 10.8276, MAE loss: 6.2823, Mean error: -0.1463\n",
      "Train Epoch: 10 [16384/17068 (94%)]\tRMSE loss: 10.9564, MAE loss: 6.0753, Mean error: -0.4403\n",
      "______________________________________________________\n",
      "\n",
      "Test set: RMSE loss: 12.7451, MAE loss: 7.3800, Mean error: 0.3498\n",
      "______________________________________________________\n",
      "Train Epoch: 11 [0/17068 (0%)]\tRMSE loss: 10.5023, MAE loss: 5.9326, Mean error: -0.9343\n",
      "Train Epoch: 11 [4096/17068 (24%)]\tRMSE loss: 10.6446, MAE loss: 6.4129, Mean error: 1.3307\n",
      "Train Epoch: 11 [8192/17068 (47%)]\tRMSE loss: 11.1860, MAE loss: 6.1337, Mean error: -1.2075\n",
      "Train Epoch: 11 [12288/17068 (71%)]\tRMSE loss: 10.6243, MAE loss: 6.2302, Mean error: 1.1661\n",
      "Train Epoch: 11 [16384/17068 (94%)]\tRMSE loss: 10.8060, MAE loss: 6.2863, Mean error: 0.9601\n",
      "______________________________________________________\n",
      "\n",
      "Test set: RMSE loss: 12.6093, MAE loss: 7.2618, Mean error: 0.3149\n",
      "______________________________________________________\n",
      "Train Epoch: 12 [0/17068 (0%)]\tRMSE loss: 10.5579, MAE loss: 6.2838, Mean error: 1.5712\n",
      "Train Epoch: 12 [4096/17068 (24%)]\tRMSE loss: 10.6164, MAE loss: 6.1375, Mean error: -1.3504\n",
      "Train Epoch: 12 [8192/17068 (47%)]\tRMSE loss: 10.5245, MAE loss: 6.3198, Mean error: 1.6438\n",
      "Train Epoch: 12 [12288/17068 (71%)]\tRMSE loss: 10.8008, MAE loss: 6.0789, Mean error: -1.4644\n",
      "Train Epoch: 12 [16384/17068 (94%)]\tRMSE loss: 10.6607, MAE loss: 6.2942, Mean error: 0.9536\n",
      "______________________________________________________\n",
      "\n",
      "Test set: RMSE loss: 12.6533, MAE loss: 7.2221, Mean error: -0.1797\n",
      "______________________________________________________\n",
      "Train Epoch: 13 [0/17068 (0%)]\tRMSE loss: 10.6258, MAE loss: 5.9859, Mean error: -0.8934\n",
      "Train Epoch: 13 [4096/17068 (24%)]\tRMSE loss: 9.7612, MAE loss: 5.7873, Mean error: -1.7328\n",
      "Train Epoch: 13 [8192/17068 (47%)]\tRMSE loss: 10.0087, MAE loss: 5.9582, Mean error: -0.0783\n",
      "Train Epoch: 13 [12288/17068 (71%)]\tRMSE loss: 10.8169, MAE loss: 6.1719, Mean error: 0.3731\n",
      "Train Epoch: 13 [16384/17068 (94%)]\tRMSE loss: 9.8317, MAE loss: 5.9872, Mean error: 0.4375\n",
      "______________________________________________________\n",
      "\n",
      "Test set: RMSE loss: 12.6837, MAE loss: 7.1337, Mean error: -1.1145\n",
      "______________________________________________________\n",
      "Train Epoch: 14 [0/17068 (0%)]\tRMSE loss: 10.6593, MAE loss: 5.9615, Mean error: -0.8305\n",
      "Train Epoch: 14 [4096/17068 (24%)]\tRMSE loss: 10.4888, MAE loss: 5.8856, Mean error: -1.5382\n",
      "Train Epoch: 14 [8192/17068 (47%)]\tRMSE loss: 9.4720, MAE loss: 5.7086, Mean error: 0.6063\n",
      "Train Epoch: 14 [12288/17068 (71%)]\tRMSE loss: 9.8848, MAE loss: 5.7122, Mean error: -0.8088\n",
      "Train Epoch: 14 [16384/17068 (94%)]\tRMSE loss: 9.6725, MAE loss: 5.7431, Mean error: 0.4601\n",
      "______________________________________________________\n",
      "\n",
      "Test set: RMSE loss: 12.4781, MAE loss: 7.2825, Mean error: 0.8338\n",
      "______________________________________________________\n",
      "Train Epoch: 15 [0/17068 (0%)]\tRMSE loss: 9.7389, MAE loss: 5.8352, Mean error: 1.0345\n",
      "Train Epoch: 15 [4096/17068 (24%)]\tRMSE loss: 10.2671, MAE loss: 5.8218, Mean error: -1.9007\n",
      "Train Epoch: 15 [8192/17068 (47%)]\tRMSE loss: 9.9052, MAE loss: 5.7135, Mean error: -0.0914\n",
      "Train Epoch: 15 [12288/17068 (71%)]\tRMSE loss: 9.6452, MAE loss: 5.5807, Mean error: 0.8589\n",
      "Train Epoch: 15 [16384/17068 (94%)]\tRMSE loss: 11.0547, MAE loss: 6.2926, Mean error: -2.3728\n",
      "______________________________________________________\n",
      "\n",
      "Test set: RMSE loss: 12.4329, MAE loss: 7.1043, Mean error: -0.4657\n",
      "______________________________________________________\n",
      "TRAINING COMPLETE\n",
      "______________________________________________________\n"
     ]
    }
   ],
   "source": [
    "optimizer = optim.Adam(model.parameters(), lr=param_log_opti['lr'])\n",
    "scheduler = ExponentialLR(optimizer, gamma=param_log_opti['gamma'], last_epoch=-1)\n",
    "train_losses = []\n",
    "results = []\n",
    "\n",
    "for epoch in range(1, param_log_opti['epochs'] + 1):\n",
    "    train_losses += [train(model, device, loader_train, optimizer, scaler, epoch)]\n",
    "    results += [test(model, device, loader_test, scaler, epoch)]\n",
    "    scheduler.step()\n",
    "    \n",
    "print('TRAINING COMPLETE')\n",
    "print('______________________________________________________')\n"
   ]
  },
  {
   "cell_type": "code",
   "execution_count": 61,
   "id": "a0b86eb9-ecf5-4ef1-ab0f-13d0ce980850",
   "metadata": {},
   "outputs": [],
   "source": [
    "def test_post_train(model, device, loader_test, scaler):\n",
    "    model.eval()\n",
    "    mse_loss = 0\n",
    "    mae_loss = 0\n",
    "    mean_error = 0\n",
    "    \n",
    "    with torch.no_grad():\n",
    "        for hist_future, hist, tabular, label in loader_test:\n",
    "            hist_future, hist, tabular, label = (hist_future.to(device), \n",
    "                                             hist.to(device), \n",
    "                                             tabular.to(device), \n",
    "                                             label.to(device)\n",
    "                                            )\n",
    "            \n",
    "            # scaled actuals\n",
    "            label = torch.flatten(label, start_dim=1)\n",
    "            label = label*scaler['sd'].price+scaler['means'].price\n",
    "            # label = label*(scaler['max'].price-scaler['min'].price) + scaler['min'].price\n",
    "            # scaled predictions\n",
    "            output = model.forward(hist_future, hist, tabular)\n",
    "            output = output*scaler['sd'].price+scaler['means'].price\n",
    "            # output = output*(scaler['max'].price-scaler['min'].price) + scaler['min'].price\n",
    "            \n",
    "            # calculate scaled loss\n",
    "            mse_loss += F.mse_loss(output, label, reduction=\"sum\").item()  # sum up batch loss\n",
    "            mae_loss += F.l1_loss(output, label, reduction=\"sum\").item()  # sum up batch loss\n",
    "            mean_error += torch.sum(output-label)\n",
    "            # mse_loss += torch.sum((output-label)**2)  # sum up batch loss\n",
    "            # mae_loss += torch.sum(torch.abs((output-label)))  # sum up batch loss\n",
    "    \n",
    "    # scale historical prices\n",
    "    hist = hist*scaler['sd'].price+scaler['means'].price\n",
    "    # hist = hist*(scaler['max'].price-scaler['min'].price) + scaler['min'].price\n",
    "    \n",
    "    n_step = label.shape[-1]\n",
    "    n_pred = len(loader_test.dataset)\n",
    "    rmse_loss = np.sqrt(mse_loss/n_pred/n_step)\n",
    "    mae_loss = mae_loss/n_pred/n_step\n",
    "    mean_error = (mean_error/n_pred/n_step).item()\n",
    "    print('______________________________________________________')\n",
    "    print(\n",
    "        \"\\nTest set: RMSE loss: {:.4f}, MAE loss: {:.4f}, Mean error: {:.4f}\".format(\n",
    "            rmse_loss,\n",
    "            mae_loss,\n",
    "            mean_error,\n",
    "        )\n",
    "    )\n",
    "    print('______________________________________________________')\n",
    "    \n",
    "    return {'test_rmse_loss':rmse_loss, \n",
    "            'test_mae_loss':mae_loss, \n",
    "            'test_mean_error':mean_error, \n",
    "            'label':label, \n",
    "            'hist_future':hist_future, \n",
    "            'hist':hist,\n",
    "            'tabular':tabular,\n",
    "            'output':output}"
   ]
  },
  {
   "cell_type": "code",
   "execution_count": 62,
   "id": "505b248f-8221-4460-abe0-6ff7fd6873c5",
   "metadata": {},
   "outputs": [
    {
     "name": "stdout",
     "output_type": "stream",
     "text": [
      "______________________________________________________\n",
      "\n",
      "Test set: RMSE loss: 12.4329, MAE loss: 7.1043, Mean error: -0.4657\n",
      "______________________________________________________\n"
     ]
    }
   ],
   "source": [
    "res = test_post_train(model, device, loader_test, scaler)"
   ]
  },
  {
   "cell_type": "code",
   "execution_count": 63,
   "id": "dc9e9333-62fb-4876-bad7-dd41a2aa2daa",
   "metadata": {},
   "outputs": [
    {
     "data": {
      "text/plain": [
       "-0.4657324666312148"
      ]
     },
     "execution_count": 63,
     "metadata": {},
     "output_type": "execute_result"
    }
   ],
   "source": [
    "res['test_mean_error']"
   ]
  },
  {
   "cell_type": "code",
   "execution_count": 64,
   "id": "130f8849-a91e-40ee-a1b4-d83535f26bf0",
   "metadata": {},
   "outputs": [
    {
     "data": {
      "text/plain": [
       "(125, 24)"
      ]
     },
     "execution_count": 64,
     "metadata": {},
     "output_type": "execute_result"
    }
   ],
   "source": [
    "error = (res['output'] - res['label']).cpu().numpy()\n",
    "error.shape"
   ]
  },
  {
   "cell_type": "code",
   "execution_count": 65,
   "id": "8e2dcbf2-4867-48ca-9e52-1c7709f76843",
   "metadata": {},
   "outputs": [
    {
     "data": {
      "image/png": "[encoded data removed]",
      "text/plain": [
       "<Figure size 432x288 with 1 Axes>"
      ]
     },
     "metadata": {
      "needs_background": "light"
     },
     "output_type": "display_data"
    }
   ],
   "source": [
    "plt.plot(np.mean(error,axis=0));"
   ]
  },
  {
   "cell_type": "code",
   "execution_count": 66,
   "id": "bfd7023f-a3e8-4b62-8631-1470dca845fe",
   "metadata": {},
   "outputs": [
    {
     "data": {
      "image/png": "[encoded data removed]",
      "text/plain": [
       "<Figure size 432x288 with 1 Axes>"
      ]
     },
     "metadata": {
      "needs_background": "light"
     },
     "output_type": "display_data"
    }
   ],
   "source": [
    "plt.plot(np.percentile(error, 50 ,axis=0));"
   ]
  },
  {
   "cell_type": "code",
   "execution_count": 67,
   "id": "07986125-a412-4367-8a24-c4e10be006d0",
   "metadata": {},
   "outputs": [
    {
     "data": {
      "image/png": "[encoded data removed]",
      "text/plain": [
       "<Figure size 432x432 with 2 Axes>"
      ]
     },
     "metadata": {
      "needs_background": "light"
     },
     "output_type": "display_data"
    },
    {
     "name": "stdout",
     "output_type": "stream",
     "text": [
      "=================================================================\n",
      "\n"
     ]
    },
    {
     "data": {
      "image/png": "[encoded data removed]",
      "text/plain": [
       "<Figure size 432x432 with 2 Axes>"
      ]
     },
     "metadata": {
      "needs_background": "light"
     },
     "output_type": "display_data"
    },
    {
     "name": "stdout",
     "output_type": "stream",
     "text": [
      "=================================================================\n",
      "\n"
     ]
    },
    {
     "data": {
      "image/png": "[encoded data removed]",
      "text/plain": [
       "<Figure size 432x432 with 2 Axes>"
      ]
     },
     "metadata": {
      "needs_background": "light"
     },
     "output_type": "display_data"
    },
    {
     "name": "stdout",
     "output_type": "stream",
     "text": [
      "=================================================================\n",
      "\n"
     ]
    },
    {
     "data": {
      "image/png": "[encoded data removed]",
      "text/plain": [
       "<Figure size 432x432 with 2 Axes>"
      ]
     },
     "metadata": {
      "needs_background": "light"
     },
     "output_type": "display_data"
    },
    {
     "name": "stdout",
     "output_type": "stream",
     "text": [
      "=================================================================\n",
      "\n"
     ]
    },
    {
     "data": {
      "image/png": "[encoded data removed]",
      "text/plain": [
       "<Figure size 432x432 with 2 Axes>"
      ]
     },
     "metadata": {
      "needs_background": "light"
     },
     "output_type": "display_data"
    },
    {
     "name": "stdout",
     "output_type": "stream",
     "text": [
      "=================================================================\n",
      "\n"
     ]
    },
    {
     "data": {
      "image/png": "[encoded data removed]",
      "text/plain": [
       "<Figure size 432x432 with 2 Axes>"
      ]
     },
     "metadata": {
      "needs_background": "light"
     },
     "output_type": "display_data"
    },
    {
     "name": "stdout",
     "output_type": "stream",
     "text": [
      "=================================================================\n",
      "\n"
     ]
    },
    {
     "data": {
      "image/png": "[encoded data removed]",
      "text/plain": [
       "<Figure size 432x432 with 2 Axes>"
      ]
     },
     "metadata": {
      "needs_background": "light"
     },
     "output_type": "display_data"
    },
    {
     "name": "stdout",
     "output_type": "stream",
     "text": [
      "=================================================================\n",
      "\n"
     ]
    },
    {
     "data": {
      "image/png": "[encoded data removed]",
      "text/plain": [
       "<Figure size 432x432 with 2 Axes>"
      ]
     },
     "metadata": {
      "needs_background": "light"
     },
     "output_type": "display_data"
    },
    {
     "name": "stdout",
     "output_type": "stream",
     "text": [
      "=================================================================\n",
      "\n"
     ]
    },
    {
     "data": {
      "image/png": "[encoded data removed]",
      "text/plain": [
       "<Figure size 432x432 with 2 Axes>"
      ]
     },
     "metadata": {
      "needs_background": "light"
     },
     "output_type": "display_data"
    },
    {
     "name": "stdout",
     "output_type": "stream",
     "text": [
      "=================================================================\n",
      "\n"
     ]
    },
    {
     "data": {
      "image/png": "[encoded data removed]",
      "text/plain": [
       "<Figure size 432x432 with 2 Axes>"
      ]
     },
     "metadata": {
      "needs_background": "light"
     },
     "output_type": "display_data"
    },
    {
     "name": "stdout",
     "output_type": "stream",
     "text": [
      "=================================================================\n",
      "\n"
     ]
    }
   ],
   "source": [
    "r_idx = np.random.randint(low=0, high=res['label'].shape[0], size=10, dtype=int)\n",
    "for i in r_idx:\n",
    "    \n",
    "    hist_future_cols = ['wind', 'solar', 'load_mwh']\n",
    "    hist_future = res['hist_future'][i,:].cpu().numpy()\n",
    "    hist_future = np.transpose(hist_future)\n",
    "    hist_future = (\n",
    "        hist_future*scaler['sd'][hist_future_cols].values.reshape(1,-1)+\n",
    "        scaler['means'][hist_future_cols].values.reshape(1,-1)\n",
    "    )\n",
    "\n",
    "    hist_future = pd.DataFrame(hist_future, columns=hist_future_cols)\n",
    "\n",
    "    hist = res['hist'][i,:][0].cpu().numpy()\n",
    "    \n",
    "    actual = res['label'][i,:].cpu().numpy()\n",
    "    actual = np.concatenate([hist, actual])\n",
    "\n",
    "    predicted = res['output'][i,:].cpu().numpy()\n",
    "    predicted = np.concatenate([hist, predicted])\n",
    "    \n",
    "    comp = pd.DataFrame(\n",
    "        {'actual':actual, 'predicted':predicted}\n",
    "    )\n",
    "    \n",
    "    fig, axs = plt.subplots(\n",
    "        ncols=1, \n",
    "        nrows=2, \n",
    "        figsize=(6, 6),\n",
    "        constrained_layout=True\n",
    "    )\n",
    "    \n",
    "    comp.plot(ax=axs[0]);\n",
    "    axs[0].set_ylabel('$/MWh')\n",
    "    axs[0].set_title(f'idx: {i}');\n",
    "    hist_future.plot(ax=axs[1]);\n",
    "    axs[1].set_ylabel('MW')\n",
    "    plt.show();\n",
    "    print('=================================================================\\n')\n"
   ]
  },
  {
   "cell_type": "markdown",
   "id": "460a3ccf-a868-4a0b-a256-cd87e76dd905",
   "metadata": {},
   "source": [
    "## MLFlow"
   ]
  },
  {
   "cell_type": "code",
   "execution_count": 68,
   "id": "b3efe826-4741-4c8d-9870-77d6967a4efd",
   "metadata": {},
   "outputs": [],
   "source": [
    "import mlflow\n",
    "import mlflow.pytorch\n",
    "from mlflow.models.signature import infer_signature\n",
    "\n",
    "import warnings\n",
    "warnings.filterwarnings(\"ignore\")"
   ]
  },
  {
   "cell_type": "code",
   "execution_count": 69,
   "id": "b6a91fa0-1444-4042-909c-93bd2d3e8c39",
   "metadata": {},
   "outputs": [],
   "source": [
    "# quiet warning when loggin run\n",
    "!export GIT_PYTHON_REFRESH=quiet"
   ]
  },
  {
   "cell_type": "code",
   "execution_count": 70,
   "id": "389770a7-f9ab-4843-95bf-7ed77264a202",
   "metadata": {},
   "outputs": [
    {
     "data": {
      "text/plain": [
       "'file:///workspace/src/mlruns'"
      ]
     },
     "execution_count": 70,
     "metadata": {},
     "output_type": "execute_result"
    }
   ],
   "source": [
    "# default: 'file:///{pwd}/mlruns'\n",
    "mlflow.get_tracking_uri()"
   ]
  },
  {
   "cell_type": "code",
   "execution_count": 71,
   "id": "6ceebb3a-253f-4432-84c9-668a91d7efa5",
   "metadata": {},
   "outputs": [],
   "source": [
    "# MLFLOW_TRACKING_URI = 'sqlite:////workspace/mlruns/tracking.db'\n",
    "MLFLOW_TRACKING_URI = 'file:///workspace/mlruns'\n",
    "mlflow.set_tracking_uri(MLFLOW_TRACKING_URI)"
   ]
  },
  {
   "cell_type": "code",
   "execution_count": 72,
   "id": "4c1fff81-e529-4f63-8c65-3e7d0fb1f6d5",
   "metadata": {},
   "outputs": [],
   "source": [
    "# https://stackoverflow.com/questions/63255631/mlflow-invalid-parameter-value-unsupported-uri-mlruns-for-model-registry-s\n",
    "# https://www.mlflow.org/docs/latest/tracking.html#scenario-3-mlflow-on-localhost-with-tracking-server\n",
    "# mlflow.set_tracking_uri(\"http://localhost:5000\")"
   ]
  },
  {
   "cell_type": "code",
   "execution_count": 73,
   "id": "9525874b-0b11-40af-aa53-c769f3503f36",
   "metadata": {},
   "outputs": [],
   "source": [
    "# mlflow.set_tracking_uri('/workspace')\n",
    "os.chdir('/workspace')"
   ]
  },
  {
   "cell_type": "code",
   "execution_count": 74,
   "id": "3c036bbf-1ee5-4eec-a206-880917037de6",
   "metadata": {},
   "outputs": [
    {
     "data": {
      "text/plain": [
       "'file:///workspace/mlruns'"
      ]
     },
     "execution_count": 74,
     "metadata": {},
     "output_type": "execute_result"
    }
   ],
   "source": [
    "mlflow.get_tracking_uri()"
   ]
  },
  {
   "cell_type": "code",
   "execution_count": 75,
   "id": "7967a8df-ebc0-4773-9826-30e8e7b2785e",
   "metadata": {},
   "outputs": [],
   "source": [
    "# script model for logging\n",
    "scripted_model = torch.jit.script(model)  "
   ]
  },
  {
   "cell_type": "code",
   "execution_count": 76,
   "id": "1f0581d5-3bc3-4b2b-896b-ec6b6de1b27c",
   "metadata": {},
   "outputs": [
    {
     "data": {
      "text/plain": [
       "{'model': 'pytorch_cnn',\n",
       " 'hist_future_out_ch': [8, 16],\n",
       " 'hist_future_ks': [3, 3],\n",
       " 'hist_out_ch': [8, 16],\n",
       " 'hist_ks': [3, 3],\n",
       " 'drop_out': 0.0,\n",
       " 'n_fc': [512, 128, 512],\n",
       " 'lr': 0.001,\n",
       " 'gamma': 0.95,\n",
       " 'epochs': 15}"
      ]
     },
     "execution_count": 76,
     "metadata": {},
     "output_type": "execute_result"
    }
   ],
   "source": [
    "# parameters for logging\n",
    "param_log = {'model':'pytorch_cnn'}\n",
    "param_log.update(param_log_model)\n",
    "param_log.update(param_log_opti)\n",
    "param_log"
   ]
  },
  {
   "cell_type": "code",
   "execution_count": 77,
   "id": "2556d73b-714a-44d4-afe8-bf4dd9dc01ff",
   "metadata": {},
   "outputs": [
    {
     "data": {
      "text/plain": [
       "{'test_rmse_loss': 12.432851719585916,\n",
       " 'test_mae_loss': 7.104285900254825,\n",
       " 'test_mean_error': -0.4657324666312148}"
      ]
     },
     "execution_count": 77,
     "metadata": {},
     "output_type": "execute_result"
    }
   ],
   "source": [
    "# metrics for logging\n",
    "metrics = {}\n",
    "for m in ['test_rmse_loss', 'test_mae_loss', 'test_mean_error']:\n",
    "    metrics[m] = res[m]\n",
    "metrics"
   ]
  },
  {
   "cell_type": "code",
   "execution_count": 78,
   "id": "e9594a07-0139-47f3-9a2a-8b4e58453e3b",
   "metadata": {},
   "outputs": [],
   "source": [
    "EXPERIMENT_NAME = \"pytorch_cnn_miso_price\""
   ]
  },
  {
   "cell_type": "code",
   "execution_count": 79,
   "id": "f8b48e0e-227e-4ae4-99ee-7704e8734bed",
   "metadata": {},
   "outputs": [],
   "source": [
    "# create experiment if it does not exist\n",
    "exp_list = mlflow.list_experiments()\n",
    "if not any([e.name == EXPERIMENT_NAME for e in exp_list]):\n",
    "    mlflow.create_experiment(EXPERIMENT_NAME)"
   ]
  },
  {
   "cell_type": "code",
   "execution_count": 80,
   "id": "a280a9c7-024a-40ae-9a92-f6e5278d092d",
   "metadata": {},
   "outputs": [
    {
     "data": {
      "text/plain": [
       "'1'"
      ]
     },
     "execution_count": 80,
     "metadata": {},
     "output_type": "execute_result"
    }
   ],
   "source": [
    "mlflow.set_experiment(EXPERIMENT_NAME)\n",
    "experiment = mlflow.get_experiment_by_name(EXPERIMENT_NAME)\n",
    "experiment.experiment_id"
   ]
  },
  {
   "cell_type": "code",
   "execution_count": 81,
   "id": "c8f4f65a-c402-43eb-bee8-28ac1172971e",
   "metadata": {},
   "outputs": [],
   "source": [
    "# script model for logging\n",
    "MODEL_URI = \"/workspace/models/scripted_model.pt\"\n",
    "scripted_model = torch.jit.script(model) \n",
    "scripted_model.save(MODEL_URI)"
   ]
  },
  {
   "cell_type": "code",
   "execution_count": 82,
   "id": "7b773191-42e4-43e7-960a-d9bd7694392d",
   "metadata": {},
   "outputs": [],
   "source": [
    "MODEL_NAME = \"pytorch_cnn\""
   ]
  },
  {
   "cell_type": "code",
   "execution_count": 83,
   "id": "1caeb840-5ec9-4221-81d4-d9b1632b7100",
   "metadata": {},
   "outputs": [
    {
     "name": "stderr",
     "output_type": "stream",
     "text": [
      "2022/06/12 14:28:27 WARNING mlflow.tracking.context.git_context: Failed to import Git (the Git executable is probably not on your PATH), so Git SHA is not available. Error: Failed to initialize: Bad git executable.\n",
      "The git executable must be specified in one of the following ways:\n",
      "    - be included in your $PATH\n",
      "    - be set via $GIT_PYTHON_GIT_EXECUTABLE\n",
      "    - explicitly set via git.refresh()\n",
      "\n",
      "All git commands will error until this is rectified.\n",
      "\n",
      "This initial warning can be silenced or aggravated in the future by setting the\n",
      "$GIT_PYTHON_REFRESH environment variable. Use one of the following values:\n",
      "    - quiet|q|silence|s|none|n|0: for no warning or exception\n",
      "    - warn|w|warning|1: for a printed warning\n",
      "    - error|e|raise|r|2: for a raised exception\n",
      "\n",
      "Example:\n",
      "    export GIT_PYTHON_REFRESH=quiet\n",
      "\n"
     ]
    }
   ],
   "source": [
    "with mlflow.start_run(experiment_id=experiment.experiment_id) as run:\n",
    "    \n",
    "    mlflow.log_params(param_log)\n",
    "    mlflow.log_metrics(metrics)\n",
    "    \n",
    "    tracking_url_type_store = urlparse(mlflow.get_tracking_uri()).scheme\n",
    "    # Model registry does not work with file store\n",
    "    if tracking_url_type_store != \"file\":\n",
    "        # Register the model\n",
    "        # There are other ways to use the Model Registry, which depends on the use case,\n",
    "        # please refer to the doc for more information:\n",
    "        # https://mlflow.org/docs/latest/model-registry.html#api-workflow\n",
    "        mlflow.pytorch.log_model(\n",
    "            pytorch_model=scripted_model,\n",
    "            artifact_path=MODEL_NAME,\n",
    "            registered_model_name=\"pytorch_cnn_price_reg\"\n",
    "        )\n",
    "    else:\n",
    "        mlflow.pytorch.log_model(\n",
    "            pytorch_model=scripted_model, \n",
    "            artifact_path=MODEL_NAME)  # logging scripted model\n",
    "    "
   ]
  },
  {
   "cell_type": "markdown",
   "id": "77495b7c-ed83-4c13-a286-51bb7c9ed624",
   "metadata": {},
   "source": [
    "## MLFlow UI\n",
    "\n",
    "To view logged models via the mlflow ui run: `mlflow ui` from the directory with the mlruns folder. In a terminal to start ui server and then go to: http://localhost:5000."
   ]
  },
  {
   "cell_type": "markdown",
   "id": "df49b735-28fa-4808-93ef-3427402c386d",
   "metadata": {},
   "source": [
    "## Model serving data testing\n",
    "\n",
    "* Test model inference on data from the `res` dictionary created above.\n",
    "* Convert data to json file\n",
    "* Read in json file\n",
    "* Test inference on data read from json file"
   ]
  },
  {
   "cell_type": "code",
   "execution_count": 84,
   "id": "9cef6992-0131-455e-892b-2d73fba0782b",
   "metadata": {},
   "outputs": [],
   "source": [
    "import json\n",
    "import requests"
   ]
  },
  {
   "cell_type": "code",
   "execution_count": 85,
   "id": "e605aa0b-24c8-4705-8f51-26bdb3dbc16e",
   "metadata": {},
   "outputs": [
    {
     "data": {
      "text/plain": [
       "{'hist_future': tensor([[[ 1.6992,  1.8980,  2.0033,  1.9166,  1.7724,  1.6972,  1.6196,\n",
       "            1.4881,  1.3227,  1.2264,  1.3772,  1.3055,  1.1909,  1.1101,\n",
       "            1.3170,  1.3502,  1.2617,  1.0536,  0.6330,  0.4769,  0.3279,\n",
       "            0.1755,  0.0239, -0.2205, -0.5572, -0.6379, -0.6091, -0.5854,\n",
       "           -0.5959, -0.5941, -0.4874, -0.2951, -0.0180,  0.2474,  0.5663,\n",
       "            0.8392,  1.0514,  1.0935,  1.3719,  1.4836,  1.4640,  1.3763,\n",
       "            1.1500,  0.7246,  0.3110,  0.0747, -0.0062,  0.0722],\n",
       "          [-0.5813, -0.6275, -0.6290, -0.6290, -0.6290, -0.6290, -0.6290,\n",
       "           -0.6290, -0.6290, -0.6290, -0.6290, -0.6290, -0.6290, -0.6290,\n",
       "           -0.6304, -0.6245, -0.4248, -0.1356,  0.2250,  0.6140,  0.9955,\n",
       "            1.1267,  0.9568,  0.3681, -0.5008, -0.6379, -0.6364, -0.6364,\n",
       "           -0.6364, -0.6364, -0.6349, -0.6334, -0.6319, -0.6304, -0.6304,\n",
       "           -0.6290, -0.6290, -0.6290, -0.6290, -0.6051, -0.4218,  0.1013,\n",
       "            0.8197,  1.1431,  1.1252,  0.9925,  0.8197, -0.0060],\n",
       "          [-0.2068,  0.0632,  0.0817,  0.0967,  0.0595, -0.0346, -0.1984,\n",
       "           -0.3702, -0.4969, -0.5604, -0.5912, -0.5941, -0.5133, -0.3282,\n",
       "           -0.0760,  0.1510,  0.2561,  0.2537,  0.1457,  0.0412, -0.0697,\n",
       "           -0.1047, -0.1242, -0.0598,  0.1546,  0.4005,  0.3297,  0.2170,\n",
       "            0.0714, -0.1168, -0.3431, -0.6032, -0.7976, -0.9021, -0.9325,\n",
       "           -0.9699, -0.9191, -0.7665, -0.5320, -0.2928, -0.1259, -0.0628,\n",
       "           -0.1640, -0.2655, -0.3958, -0.4530, -0.4770, -0.3268]]],\n",
       "        device='cuda:0', dtype=torch.float64),\n",
       " 'hist': tensor([[[81.0900, 84.7100, 66.0600, 65.6900, 63.7400, 58.6200, 57.7800,\n",
       "           40.0000, -0.4600, 29.5000, 28.9100, 24.1200, 11.8900, 31.3000,\n",
       "           38.1200, 41.4700, 36.7500, 41.7700, 45.1700, 37.7100, 33.1300,\n",
       "           30.4300, 29.5900, 30.3700]]], device='cuda:0', dtype=torch.float64),\n",
       " 'tabular': tensor([[[0, 0, 0, 0, 0, 0, 0, 0, 0, 0, 0, 0, 0, 0, 0, 0, 0, 0, 0, 0, 0, 0, 0,\n",
       "           0, 0, 1, 0, 0, 0, 0, 0, 0, 0, 0, 0, 0, 0, 0, 0, 0, 0, 1, 0, 0, 0, 0,\n",
       "           0, 1, 0, 0, 0, 0, 0, 0, 0, 0, 0, 0, 0, 0, 0, 0, 0, 0, 0, 0, 0, 1, 0,\n",
       "           0, 0, 0, 0, 0]]], device='cuda:0')}"
      ]
     },
     "execution_count": 85,
     "metadata": {},
     "output_type": "execute_result"
    }
   ],
   "source": [
    "test_inference_data = {\n",
    "    'hist_future':res['hist_future'][:1,:,:],\n",
    "    'hist':res['hist'][:1,:,:],\n",
    "    'tabular':res['tabular'][:1,:],\n",
    "}\n",
    "test_inference_data"
   ]
  },
  {
   "cell_type": "code",
   "execution_count": 87,
   "id": "eeaa5a56-d7b9-49c7-bc32-314960bb324d",
   "metadata": {},
   "outputs": [
    {
     "data": {
      "text/plain": [
       "tensor([[25.3177,  8.0479, 11.8874,  7.1252, 10.1310,  5.3683,  7.4221,  2.9481,\n",
       "          0.4250,  0.3717,  1.1305,  9.7153,  9.6199, 15.5910, 12.1454, 17.5787,\n",
       "         21.8753, 22.8851, 20.0301, 15.8271, 11.0997,  5.6318,  3.0192, -1.2908]],\n",
       "       device='cuda:0', dtype=torch.float64, grad_fn=<AddmmBackward0>)"
      ]
     },
     "execution_count": 87,
     "metadata": {},
     "output_type": "execute_result"
    }
   ],
   "source": [
    "model.to(device)\n",
    "pred = model(**test_inference_data)\n",
    "pred"
   ]
  },
  {
   "cell_type": "code",
   "execution_count": 88,
   "id": "0c477636-5d85-4443-9898-feee916b34ea",
   "metadata": {},
   "outputs": [
    {
     "data": {
      "text/plain": [
       "tensor([[25.3177,  8.0479, 11.8874,  7.1252, 10.1310,  5.3683,  7.4221,  2.9481,\n",
       "          0.4250,  0.3717,  1.1305,  9.7153,  9.6199, 15.5910, 12.1454, 17.5787,\n",
       "         21.8753, 22.8851, 20.0301, 15.8271, 11.0997,  5.6318,  3.0192, -1.2908]],\n",
       "       device='cuda:0', dtype=torch.float64, grad_fn=<AddmmBackward0>)"
      ]
     },
     "execution_count": 88,
     "metadata": {},
     "output_type": "execute_result"
    }
   ],
   "source": [
    "scripted_model(**test_inference_data)"
   ]
  },
  {
   "cell_type": "markdown",
   "id": "4fb70ada-f173-42df-ab10-e01fabbbf464",
   "metadata": {},
   "source": [
    "### Covert data to json"
   ]
  },
  {
   "cell_type": "code",
   "execution_count": 107,
   "id": "ed999705-5214-42a9-8818-031288ad90e6",
   "metadata": {},
   "outputs": [],
   "source": [
    "inference_data = {\n",
    "    'hist_future':res['hist_future'][:1,:,:].cpu().tolist(),\n",
    "    'hist':res['hist'][:1,:,:].cpu().tolist(),\n",
    "    'tabular':res['tabular'][:1,:].cpu().tolist(),\n",
    "}\n",
    "\n",
    "post_data = json.dumps(inference_data)"
   ]
  },
  {
   "cell_type": "code",
   "execution_count": 108,
   "id": "554f4db7-2124-4231-b3f8-da85df905d8a",
   "metadata": {},
   "outputs": [
    {
     "data": {
      "text/plain": [
       "'{\"hist_future\": [[[1.6991557061591716, 1.8979954037274296, 2.0032677732881057, 1.9165871953003275, 1.7723548017760262, 1.6972332565070003, 1.6195808914427106, 1.4880756013118983, 1.3227205964194357, 1.2263791005593534, 1.377206226434774, 1.305491553967064, 1.1909232886199392, 1.110083064005846, 1.3170262518800926, 1.3502432616929274, 1.2616889036644248, 1.053553310309718, 0.6329748629872115, 0.47686708426975033, 0.3278894036293297, 0.17548051538186918, 0.023947680140461503, -0.22054411296543588, -0.5572404849583888, -0.6379347007381394, -0.6090736211498451, -0.5853958551806963, -0.5958841564476061, -0.5940590460183294, -0.4873995925314031, -0.2951302925085409, -0.017956855315729894, 0.24736553148964488, 0.5662731604985815, 0.8392366763011941, 1.0513631777945862, 1.093486726502291, 1.37190123878701, 1.483573662253016, 1.4639598088397232, 1.3762571690115502, 1.1499921453926951, 0.7245710717311745, 0.31104971806853715, 0.07473441968579916, -0.006203144151188347, 0.07215493027908833], [-0.5812590279218759, -0.6274598223811972, -0.6289501705895624, -0.6289501705895624, -0.6289501705895624, -0.6289501705895624, -0.6289501705895624, -0.6289501705895624, -0.6289501705895624, -0.6289501705895624, -0.6289501705895624, -0.6289501705895624, -0.6289501705895624, -0.6289501705895624, -0.6304405187979276, -0.6244791259644669, -0.42477246604352936, -0.13564491362067965, 0.22501935280369972, 0.6140002351870183, 0.9955293765285105, 1.126680018864649, 0.9567803231110152, 0.3680927808067595, -0.5007802246701549, -0.6378922598397536, -0.6364019116313885, -0.6364019116313885, -0.6364019116313885, -0.6364019116313885, -0.6349115634230232, -0.6334212152146581, -0.6319308670062929, -0.6304405187979276, -0.6304405187979276, -0.6289501705895624, -0.6289501705895624, -0.6289501705895624, -0.6289501705895624, -0.6051045992557191, -0.421791769626799, 0.10132045150938788, 0.8196682879414164, 1.1430738491566663, 1.1251896706562836, 0.9925486801117802, 0.8196682879414164, -0.005984619492906897], [-0.20681803472669982, 0.063177347096279, 0.08169536790961875, 0.09674641287611423, 0.059541351023847014, -0.0346441390746298, -0.19838763566987075, -0.37019875620360393, -0.49692682339480015, -0.5603629997696129, -0.5912071297173871, -0.5940598613297714, -0.513288805720744, -0.32815394447714713, -0.07595515567535738, 0.1510101501793161, 0.2561366080513006, 0.25368787600252035, 0.14573342118531066, 0.041171738213463906, -0.06970552977308186, -0.10471745113721555, -0.12415889952450548, -0.059774560908581895, 0.15461728914006223, 0.40053347248336324, 0.3296727735162032, 0.21702285438323396, 0.0713645219260413, -0.11680033604458248, -0.3430978058859525, -0.603244667734963, -0.7975560904946989, -0.9021301408001241, -0.9324919447382899, -0.9698825165942522, -0.9190940000269472, -0.7665140832096489, -0.5319964589823055, -0.29281222755088765, -0.12585734666945067, -0.06282104741371466, -0.1639858360956688, -0.26545568567258954, -0.3958238713807444, -0.45300217696422823, -0.47699480410884854, -0.3268265173395921]]], \"hist\": [[[81.09, 84.70999999999998, 66.06, 65.69000000000003, 63.74, 58.620000000000005, 57.78000000000001, 40.00000000000001, -0.4600000000000044, 29.500000000000007, 28.910000000000004, 24.119999999999997, 11.89, 31.300000000000004, 38.12, 41.470000000000006, 36.75000000000001, 41.77, 45.169999999999995, 37.71, 33.13, 30.43, 29.589999999999996, 30.369999999999997]]], \"tabular\": [[[0, 0, 0, 0, 0, 0, 0, 0, 0, 0, 0, 0, 0, 0, 0, 0, 0, 0, 0, 0, 0, 0, 0, 0, 0, 1, 0, 0, 0, 0, 0, 0, 0, 0, 0, 0, 0, 0, 0, 0, 0, 1, 0, 0, 0, 0, 0, 1, 0, 0, 0, 0, 0, 0, 0, 0, 0, 0, 0, 0, 0, 0, 0, 0, 0, 0, 0, 1, 0, 0, 0, 0, 0, 0]]]}'"
      ]
     },
     "execution_count": 108,
     "metadata": {},
     "output_type": "execute_result"
    }
   ],
   "source": [
    "post_data"
   ]
  },
  {
   "cell_type": "code",
   "execution_count": 91,
   "id": "5201e0f6-d0df-4719-b00b-b164763234fe",
   "metadata": {},
   "outputs": [],
   "source": [
    "# with open('post_data.json', 'w', encoding='utf-8') as f:\n",
    "#     json.dump(post_data, f, ensure_ascii=False, indent=4)"
   ]
  },
  {
   "cell_type": "code",
   "execution_count": 109,
   "id": "3606ad63-a301-4463-842d-3e3b07724ce7",
   "metadata": {},
   "outputs": [],
   "source": [
    "with open('post_data.txt', 'w', encoding='utf-8') as f:\n",
    "    json.dump(post_data, f)"
   ]
  },
  {
   "cell_type": "markdown",
   "id": "d45e682f-b661-4bc2-97d9-518f395f44c9",
   "metadata": {},
   "source": [
    "### Read json data"
   ]
  },
  {
   "cell_type": "code",
   "execution_count": 110,
   "id": "5db9ffd0-82ed-4c16-8a57-70fc80ad57ed",
   "metadata": {},
   "outputs": [],
   "source": [
    "with open('post_data.txt', 'r') as f:\n",
    "    post_data = f.read()"
   ]
  },
  {
   "cell_type": "code",
   "execution_count": 111,
   "id": "9aea0653-bc3d-452c-8672-d6c0d29dc853",
   "metadata": {},
   "outputs": [
    {
     "data": {
      "text/plain": [
       "'\"{\\\\\"hist_future\\\\\": [[[1.6991557061591716, 1.8979954037274296, 2.0032677732881057, 1.9165871953003275, 1.7723548017760262, 1.6972332565070003, 1.6195808914427106, 1.4880756013118983, 1.3227205964194357, 1.2263791005593534, 1.377206226434774, 1.305491553967064, 1.1909232886199392, 1.110083064005846, 1.3170262518800926, 1.3502432616929274, 1.2616889036644248, 1.053553310309718, 0.6329748629872115, 0.47686708426975033, 0.3278894036293297, 0.17548051538186918, 0.023947680140461503, -0.22054411296543588, -0.5572404849583888, -0.6379347007381394, -0.6090736211498451, -0.5853958551806963, -0.5958841564476061, -0.5940590460183294, -0.4873995925314031, -0.2951302925085409, -0.017956855315729894, 0.24736553148964488, 0.5662731604985815, 0.8392366763011941, 1.0513631777945862, 1.093486726502291, 1.37190123878701, 1.483573662253016, 1.4639598088397232, 1.3762571690115502, 1.1499921453926951, 0.7245710717311745, 0.31104971806853715, 0.07473441968579916, -0.006203144151188347, 0.07215493027908833], [-0.5812590279218759, -0.6274598223811972, -0.6289501705895624, -0.6289501705895624, -0.6289501705895624, -0.6289501705895624, -0.6289501705895624, -0.6289501705895624, -0.6289501705895624, -0.6289501705895624, -0.6289501705895624, -0.6289501705895624, -0.6289501705895624, -0.6289501705895624, -0.6304405187979276, -0.6244791259644669, -0.42477246604352936, -0.13564491362067965, 0.22501935280369972, 0.6140002351870183, 0.9955293765285105, 1.126680018864649, 0.9567803231110152, 0.3680927808067595, -0.5007802246701549, -0.6378922598397536, -0.6364019116313885, -0.6364019116313885, -0.6364019116313885, -0.6364019116313885, -0.6349115634230232, -0.6334212152146581, -0.6319308670062929, -0.6304405187979276, -0.6304405187979276, -0.6289501705895624, -0.6289501705895624, -0.6289501705895624, -0.6289501705895624, -0.6051045992557191, -0.421791769626799, 0.10132045150938788, 0.8196682879414164, 1.1430738491566663, 1.1251896706562836, 0.9925486801117802, 0.8196682879414164, -0.005984619492906897], [-0.20681803472669982, 0.063177347096279, 0.08169536790961875, 0.09674641287611423, 0.059541351023847014, -0.0346441390746298, -0.19838763566987075, -0.37019875620360393, -0.49692682339480015, -0.5603629997696129, -0.5912071297173871, -0.5940598613297714, -0.513288805720744, -0.32815394447714713, -0.07595515567535738, 0.1510101501793161, 0.2561366080513006, 0.25368787600252035, 0.14573342118531066, 0.041171738213463906, -0.06970552977308186, -0.10471745113721555, -0.12415889952450548, -0.059774560908581895, 0.15461728914006223, 0.40053347248336324, 0.3296727735162032, 0.21702285438323396, 0.0713645219260413, -0.11680033604458248, -0.3430978058859525, -0.603244667734963, -0.7975560904946989, -0.9021301408001241, -0.9324919447382899, -0.9698825165942522, -0.9190940000269472, -0.7665140832096489, -0.5319964589823055, -0.29281222755088765, -0.12585734666945067, -0.06282104741371466, -0.1639858360956688, -0.26545568567258954, -0.3958238713807444, -0.45300217696422823, -0.47699480410884854, -0.3268265173395921]]], \\\\\"hist\\\\\": [[[81.09, 84.70999999999998, 66.06, 65.69000000000003, 63.74, 58.620000000000005, 57.78000000000001, 40.00000000000001, -0.4600000000000044, 29.500000000000007, 28.910000000000004, 24.119999999999997, 11.89, 31.300000000000004, 38.12, 41.470000000000006, 36.75000000000001, 41.77, 45.169999999999995, 37.71, 33.13, 30.43, 29.589999999999996, 30.369999999999997]]], \\\\\"tabular\\\\\": [[[0, 0, 0, 0, 0, 0, 0, 0, 0, 0, 0, 0, 0, 0, 0, 0, 0, 0, 0, 0, 0, 0, 0, 0, 0, 1, 0, 0, 0, 0, 0, 0, 0, 0, 0, 0, 0, 0, 0, 0, 0, 1, 0, 0, 0, 0, 0, 1, 0, 0, 0, 0, 0, 0, 0, 0, 0, 0, 0, 0, 0, 0, 0, 0, 0, 0, 0, 1, 0, 0, 0, 0, 0, 0]]]}\"'"
      ]
     },
     "execution_count": 111,
     "metadata": {},
     "output_type": "execute_result"
    }
   ],
   "source": [
    "post_data"
   ]
  },
  {
   "cell_type": "code",
   "execution_count": 112,
   "id": "8fee5fa1-3ec4-4c4c-a812-7d3f325e0a55",
   "metadata": {},
   "outputs": [],
   "source": [
    "post_data_loaded = json.loads(post_data) # returns string\n",
    "post_data_loaded = json.loads(post_data_loaded) # returns dict"
   ]
  },
  {
   "cell_type": "code",
   "execution_count": 113,
   "id": "9108abe0-72b4-4952-bdaf-a5446dc96c4a",
   "metadata": {},
   "outputs": [],
   "source": [
    "# convert data to tensors\n",
    "for k in post_data_loaded.keys():\n",
    "    post_data_loaded[k] = torch.asarray(post_data_loaded[k]).to(device)"
   ]
  },
  {
   "cell_type": "code",
   "execution_count": 114,
   "id": "7958bce7-b9d8-4290-9be5-c5cb551d394d",
   "metadata": {},
   "outputs": [
    {
     "data": {
      "text/plain": [
       "{'hist_future': tensor([[[ 1.6992,  1.8980,  2.0033,  1.9166,  1.7724,  1.6972,  1.6196,\n",
       "            1.4881,  1.3227,  1.2264,  1.3772,  1.3055,  1.1909,  1.1101,\n",
       "            1.3170,  1.3502,  1.2617,  1.0536,  0.6330,  0.4769,  0.3279,\n",
       "            0.1755,  0.0239, -0.2205, -0.5572, -0.6379, -0.6091, -0.5854,\n",
       "           -0.5959, -0.5941, -0.4874, -0.2951, -0.0180,  0.2474,  0.5663,\n",
       "            0.8392,  1.0514,  1.0935,  1.3719,  1.4836,  1.4640,  1.3763,\n",
       "            1.1500,  0.7246,  0.3110,  0.0747, -0.0062,  0.0722],\n",
       "          [-0.5813, -0.6275, -0.6290, -0.6290, -0.6290, -0.6290, -0.6290,\n",
       "           -0.6290, -0.6290, -0.6290, -0.6290, -0.6290, -0.6290, -0.6290,\n",
       "           -0.6304, -0.6245, -0.4248, -0.1356,  0.2250,  0.6140,  0.9955,\n",
       "            1.1267,  0.9568,  0.3681, -0.5008, -0.6379, -0.6364, -0.6364,\n",
       "           -0.6364, -0.6364, -0.6349, -0.6334, -0.6319, -0.6304, -0.6304,\n",
       "           -0.6290, -0.6290, -0.6290, -0.6290, -0.6051, -0.4218,  0.1013,\n",
       "            0.8197,  1.1431,  1.1252,  0.9925,  0.8197, -0.0060],\n",
       "          [-0.2068,  0.0632,  0.0817,  0.0967,  0.0595, -0.0346, -0.1984,\n",
       "           -0.3702, -0.4969, -0.5604, -0.5912, -0.5941, -0.5133, -0.3282,\n",
       "           -0.0760,  0.1510,  0.2561,  0.2537,  0.1457,  0.0412, -0.0697,\n",
       "           -0.1047, -0.1242, -0.0598,  0.1546,  0.4005,  0.3297,  0.2170,\n",
       "            0.0714, -0.1168, -0.3431, -0.6032, -0.7976, -0.9021, -0.9325,\n",
       "           -0.9699, -0.9191, -0.7665, -0.5320, -0.2928, -0.1259, -0.0628,\n",
       "           -0.1640, -0.2655, -0.3958, -0.4530, -0.4770, -0.3268]]],\n",
       "        device='cuda:0'),\n",
       " 'hist': tensor([[[81.0900, 84.7100, 66.0600, 65.6900, 63.7400, 58.6200, 57.7800,\n",
       "           40.0000, -0.4600, 29.5000, 28.9100, 24.1200, 11.8900, 31.3000,\n",
       "           38.1200, 41.4700, 36.7500, 41.7700, 45.1700, 37.7100, 33.1300,\n",
       "           30.4300, 29.5900, 30.3700]]], device='cuda:0'),\n",
       " 'tabular': tensor([[[0, 0, 0, 0, 0, 0, 0, 0, 0, 0, 0, 0, 0, 0, 0, 0, 0, 0, 0, 0, 0, 0, 0,\n",
       "           0, 0, 1, 0, 0, 0, 0, 0, 0, 0, 0, 0, 0, 0, 0, 0, 0, 0, 1, 0, 0, 0, 0,\n",
       "           0, 1, 0, 0, 0, 0, 0, 0, 0, 0, 0, 0, 0, 0, 0, 0, 0, 0, 0, 0, 0, 1, 0,\n",
       "           0, 0, 0, 0, 0]]], device='cuda:0')}"
      ]
     },
     "execution_count": 114,
     "metadata": {},
     "output_type": "execute_result"
    }
   ],
   "source": [
    "post_data_loaded"
   ]
  },
  {
   "cell_type": "code",
   "execution_count": 115,
   "id": "97958472-60a5-49c6-a56a-725f6cc1dd78",
   "metadata": {},
   "outputs": [
    {
     "data": {
      "text/plain": [
       "tensor([[25.3177,  8.0479, 11.8874,  7.1252, 10.1310,  5.3683,  7.4221,  2.9481,\n",
       "          0.4250,  0.3717,  1.1305,  9.7153,  9.6199, 15.5910, 12.1454, 17.5787,\n",
       "         21.8753, 22.8851, 20.0301, 15.8271, 11.0997,  5.6318,  3.0192, -1.2908]],\n",
       "       device='cuda:0', dtype=torch.float64, grad_fn=<AddmmBackward0>)"
      ]
     },
     "execution_count": 115,
     "metadata": {},
     "output_type": "execute_result"
    }
   ],
   "source": [
    "# check prediction\n",
    "model.to(device)\n",
    "pred = model(**test_inference_data)\n",
    "pred"
   ]
  },
  {
   "cell_type": "code",
   "execution_count": 125,
   "id": "e9ae45ce-e036-4e68-be7a-2c318bc8d005",
   "metadata": {},
   "outputs": [
    {
     "data": {
      "text/plain": [
       "'{\"prices\": [25.317656810779933, 8.04786981258847, 11.887389589686016, 7.125209211080032, 10.130984740546813, 5.368316391120309, 7.422092298803853, 2.9480927214724555, 0.42503682885294397, 0.37167897704469055, 1.1305281428117817, 9.715270982096078, 9.619884215470382, 15.590955721305114, 12.145408426322206, 17.578690136025674, 21.875276382555324, 22.88505601680696, 20.03013246536155, 15.827092695235908, 11.099696668055186, 5.631841782883107, 3.0191960457825973, -1.2908112939121392]}'"
      ]
     },
     "execution_count": 125,
     "metadata": {},
     "output_type": "execute_result"
    }
   ],
   "source": [
    "json.dumps({'prices':pred.tolist()[0]})"
   ]
  },
  {
   "cell_type": "markdown",
   "id": "2f305abd-3ac1-4235-923e-4e8ab35a042a",
   "metadata": {},
   "source": [
    "## Torchserve"
   ]
  },
  {
   "cell_type": "code",
   "execution_count": null,
   "id": "cee1ea57-e884-4a51-bc37-cbfa729746f0",
   "metadata": {},
   "outputs": [],
   "source": [
    "# see for custom handler\n",
    "# https://pytorch.org/serve/custom_service.html"
   ]
  },
  {
   "cell_type": "code",
   "execution_count": 118,
   "id": "c061011d-b589-4db4-8b28-6b1770c5f10b",
   "metadata": {},
   "outputs": [
    {
     "name": "stdout",
     "output_type": "stream",
     "text": [
      "WARNING - Overwriting /workspace/models/pytorch_cnn.mar ...\n"
     ]
    }
   ],
   "source": [
    "# https://github.com/pytorch/serve/tree/master/model-archiver#creating-a-model-archive\n",
    "!torch-model-archiver --model-name pytorch_cnn --export-path /workspace/models --version 1.0 --serialized-file /workspace/models/scripted_model.pt --handler /workspace/src/model_handler.py --force"
   ]
  },
  {
   "cell_type": "markdown",
   "id": "8b727656-5089-47d7-b30d-62855bf91e82",
   "metadata": {},
   "source": [
    "see https://github.com/pytorch/serve/blob/master/docs/server.md\n",
    "\n",
    "`torchserve --start --model-store /workspace/models --models miso_price=pytorch_cnn.mar`\n",
    "\n",
    "This would serve a prediction endpoint at predictions/miso_price/ and run your custom service code in the archive, the manifest in archive would point to the entry point."
   ]
  },
  {
   "cell_type": "code",
   "execution_count": 119,
   "id": "64b02201-d1e1-4868-b616-fa27b754b0b5",
   "metadata": {},
   "outputs": [
    {
     "name": "stdout",
     "output_type": "stream",
     "text": [
      "{\n",
      "  \"status\": \"Healthy\"\n",
      "}\n"
     ]
    }
   ],
   "source": [
    "# https://github.com/pytorch/serve/blob/master/docs/inference_api.md\n",
    "!curl http://localhost:8080/ping"
   ]
  },
  {
   "cell_type": "code",
   "execution_count": 120,
   "id": "a0016fce-44e0-4116-a0ae-903f308d74fd",
   "metadata": {},
   "outputs": [
    {
     "name": "stdout",
     "output_type": "stream",
     "text": [
      "/workspace\n"
     ]
    }
   ],
   "source": [
    "!pwd"
   ]
  },
  {
   "cell_type": "code",
   "execution_count": 121,
   "id": "559c88b5-749f-4347-81db-998ff1217b76",
   "metadata": {},
   "outputs": [],
   "source": [
    "req = requests.post(\n",
    "    \"http://localhost:8080/predictions/miso_price\", \n",
    "    files={'post_data': open('post_data.txt', 'r')}\n",
    ")"
   ]
  },
  {
   "cell_type": "code",
   "execution_count": 122,
   "id": "655aa233-448c-4835-bfa7-38e5b56b6240",
   "metadata": {},
   "outputs": [
    {
     "data": {
      "text/plain": [
       "(200, '')"
      ]
     },
     "execution_count": 122,
     "metadata": {},
     "output_type": "execute_result"
    }
   ],
   "source": [
    "req.status_code, req.reason"
   ]
  },
  {
   "cell_type": "code",
   "execution_count": 123,
   "id": "8bc65a3a-06f2-499f-871d-3dfcc33a0cc6",
   "metadata": {},
   "outputs": [
    {
     "data": {
      "text/plain": [
       "'[\\n  25.317656810779944,\\n  8.047869812588475,\\n  11.887389589686027,\\n  7.125209211080038,\\n  10.13098474054682,\\n  5.36831639112031,\\n  7.42209229880386,\\n  2.9480927214724564,\\n  0.4250368288529471,\\n  0.3716789770446932,\\n  1.1305281428117846,\\n  9.715270982096074,\\n  9.619884215470377,\\n  15.590955721305113,\\n  12.145408426322208,\\n  17.578690136025674,\\n  21.87527638255532,\\n  22.885056016806953,\\n  20.030132465361554,\\n  15.827092695235905,\\n  11.099696668055179,\\n  5.631841782883097,\\n  3.0191960457825933,\\n  -1.2908112939121357\\n]'"
      ]
     },
     "execution_count": 123,
     "metadata": {},
     "output_type": "execute_result"
    }
   ],
   "source": [
    "req.text"
   ]
  },
  {
   "cell_type": "code",
   "execution_count": 124,
   "id": "2854ed36-4d02-4582-af3a-6426e486dd52",
   "metadata": {},
   "outputs": [
    {
     "data": {
      "text/plain": [
       "{'price_forecast': [25.317656810779944,\n",
       "  8.047869812588475,\n",
       "  11.887389589686027,\n",
       "  7.125209211080038,\n",
       "  10.13098474054682,\n",
       "  5.36831639112031,\n",
       "  7.42209229880386,\n",
       "  2.9480927214724564,\n",
       "  0.4250368288529471,\n",
       "  0.3716789770446932,\n",
       "  1.1305281428117846,\n",
       "  9.715270982096074,\n",
       "  9.619884215470377,\n",
       "  15.590955721305113,\n",
       "  12.145408426322208,\n",
       "  17.578690136025674,\n",
       "  21.87527638255532,\n",
       "  22.885056016806953,\n",
       "  20.030132465361554,\n",
       "  15.827092695235905,\n",
       "  11.099696668055179,\n",
       "  5.631841782883097,\n",
       "  3.0191960457825933,\n",
       "  -1.2908112939121357]}"
      ]
     },
     "execution_count": 124,
     "metadata": {},
     "output_type": "execute_result"
    }
   ],
   "source": [
    "{'price_forecast':json.loads(req.text)}"
   ]
  },
  {
   "cell_type": "markdown",
   "id": "726655c4-9c6d-4512-944f-71e645af054f",
   "metadata": {},
   "source": [
    "## MLFlow-torchserve\n",
    "\n",
    "\n",
    "https://www.mlflow.org/docs/latest/tutorials-and-examples/tutorial.html#serving-the-model\n",
    "\n",
    "https://github.com/mlflow/mlflow-torchserve\n",
    "\n",
    "in a terminal run:\n",
    "`mlflow models serve -m /workspace/mlruns/1/<model_id>/artifacts/pytorch_cnn -p 1234`\n",
    "\n",
    "for example there is currently a run with id: `cdb28e28248946728ace5c2024e47ff7`\n",
    "so to serve this model run:\n",
    "`mlflow models serve -m /workspace/mlruns/1/cdb28e28248946728ace5c2024e47ff7/artifacts/pytorch_cnn -p 1234`\n",
    "\n",
    "after the container is build and ready it will output information on where it's listening in this case it's: http://127.0.0.1:1234 "
   ]
  },
  {
   "cell_type": "code",
   "execution_count": null,
   "id": "5754922a-f728-4828-89ce-b44aeb14f935",
   "metadata": {},
   "outputs": [],
   "source": []
  },
  {
   "cell_type": "code",
   "execution_count": null,
   "id": "8a0dbafd-57ec-4306-8cde-961fb13760c7",
   "metadata": {},
   "outputs": [],
   "source": []
  },
  {
   "cell_type": "code",
   "execution_count": null,
   "id": "44608d84-4a25-4349-8374-4aacd3387a3c",
   "metadata": {},
   "outputs": [],
   "source": []
  },
  {
   "cell_type": "markdown",
   "id": "d3bb760e-44b4-4718-932b-c931594bcc42",
   "metadata": {},
   "source": [
    "## Save notebook to html"
   ]
  },
  {
   "cell_type": "code",
   "execution_count": null,
   "id": "324074f8-9777-458e-a273-2b51b913d4fa",
   "metadata": {},
   "outputs": [],
   "source": [
    "!jupyter nbconvert --to html /workspace/src/build_model.ipynb"
   ]
  }
 ],
 "metadata": {
  "kernelspec": {
   "display_name": "Python 3 (ipykernel)",
   "language": "python",
   "name": "python3"
  },
  "language_info": {
   "codemirror_mode": {
    "name": "ipython",
    "version": 3
   },
   "file_extension": ".py",
   "mimetype": "text/x-python",
   "name": "python",
   "nbconvert_exporter": "python",
   "pygments_lexer": "ipython3",
   "version": "3.8.12"
  }
 },
 "nbformat": 4,
 "nbformat_minor": 5
}
