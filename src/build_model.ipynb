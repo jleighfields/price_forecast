{
 "cells": [
  {
   "cell_type": "code",
   "execution_count": 1,
   "id": "1858f86c-c952-42af-8679-88cc29e68e6e",
   "metadata": {},
   "outputs": [],
   "source": [
    "import pandas as pd\n",
    "import numpy as np\n",
    "import datetime\n",
    "import time\n",
    "import os\n",
    "from typing import List\n",
    "from urllib.parse import urlparse\n",
    "import random"
   ]
  },
  {
   "cell_type": "code",
   "execution_count": 2,
   "id": "3e9a1fc0-d089-43ae-a8f1-1843298d56cf",
   "metadata": {},
   "outputs": [],
   "source": [
    "import torch\n",
    "from torch.utils.data import Dataset, DataLoader"
   ]
  },
  {
   "cell_type": "code",
   "execution_count": 3,
   "id": "2522efaa-2c49-4e5f-a6db-fa0cc9928c1e",
   "metadata": {},
   "outputs": [],
   "source": [
    "import sqlite3\n",
    "import sqlalchemy\n",
    "from sqlalchemy import create_engine"
   ]
  },
  {
   "cell_type": "code",
   "execution_count": 4,
   "id": "2140e095-5187-46c4-8b77-b989f93ba172",
   "metadata": {},
   "outputs": [],
   "source": [
    "import matplotlib.pyplot as plt"
   ]
  },
  {
   "cell_type": "markdown",
   "id": "382ecf13-4c09-4bad-a0a5-45e729852f42",
   "metadata": {},
   "source": [
    "## Connect to database and query data"
   ]
  },
  {
   "cell_type": "code",
   "execution_count": 5,
   "id": "4d5d11f6-37a6-447e-b651-849be431b4ac",
   "metadata": {},
   "outputs": [],
   "source": [
    "PROJECT_SRC = '/workspace/src'\n",
    "os.chdir(PROJECT_SRC)\n",
    "    \n",
    "SQLALCHEMY_DATABASE_URI='sqlite:///../data/database.db'\n",
    "engine = create_engine(SQLALCHEMY_DATABASE_URI, echo=False)"
   ]
  },
  {
   "cell_type": "code",
   "execution_count": 6,
   "id": "e28b3d35-4a9a-47ad-b34f-b3af321929d3",
   "metadata": {},
   "outputs": [
    {
     "data": {
      "text/html": [
       "<div>\n",
       "<style scoped>\n",
       "    .dataframe tbody tr th:only-of-type {\n",
       "        vertical-align: middle;\n",
       "    }\n",
       "\n",
       "    .dataframe tbody tr th {\n",
       "        vertical-align: top;\n",
       "    }\n",
       "\n",
       "    .dataframe thead th {\n",
       "        text-align: right;\n",
       "    }\n",
       "</style>\n",
       "<table border=\"1\" class=\"dataframe\">\n",
       "  <thead>\n",
       "    <tr style=\"text-align: right;\">\n",
       "      <th></th>\n",
       "      <th>dttm</th>\n",
       "      <th>wind</th>\n",
       "      <th>solar</th>\n",
       "      <th>load_mwh</th>\n",
       "      <th>price</th>\n",
       "    </tr>\n",
       "  </thead>\n",
       "  <tbody>\n",
       "    <tr>\n",
       "      <th>0</th>\n",
       "      <td>2020-01-01 01:00:00.000000</td>\n",
       "      <td>12443.0</td>\n",
       "      <td>0.0</td>\n",
       "      <td>16368.09</td>\n",
       "      <td>12.52</td>\n",
       "    </tr>\n",
       "    <tr>\n",
       "      <th>1</th>\n",
       "      <td>2020-01-01 02:00:00.000000</td>\n",
       "      <td>12338.8</td>\n",
       "      <td>0.0</td>\n",
       "      <td>15948.21</td>\n",
       "      <td>12.35</td>\n",
       "    </tr>\n",
       "    <tr>\n",
       "      <th>2</th>\n",
       "      <td>2020-01-01 03:00:00.000000</td>\n",
       "      <td>12075.4</td>\n",
       "      <td>0.0</td>\n",
       "      <td>15586.64</td>\n",
       "      <td>12.06</td>\n",
       "    </tr>\n",
       "    <tr>\n",
       "      <th>3</th>\n",
       "      <td>2020-01-01 04:00:00.000000</td>\n",
       "      <td>11957.9</td>\n",
       "      <td>0.0</td>\n",
       "      <td>15336.74</td>\n",
       "      <td>11.97</td>\n",
       "    </tr>\n",
       "    <tr>\n",
       "      <th>4</th>\n",
       "      <td>2020-01-01 05:00:00.000000</td>\n",
       "      <td>12012.6</td>\n",
       "      <td>0.0</td>\n",
       "      <td>15288.27</td>\n",
       "      <td>12.37</td>\n",
       "    </tr>\n",
       "    <tr>\n",
       "      <th>...</th>\n",
       "      <td>...</td>\n",
       "      <td>...</td>\n",
       "      <td>...</td>\n",
       "      <td>...</td>\n",
       "      <td>...</td>\n",
       "    </tr>\n",
       "    <tr>\n",
       "      <th>21331</th>\n",
       "      <td>2022-06-07 20:00:00.000000</td>\n",
       "      <td>2421.1</td>\n",
       "      <td>76.9</td>\n",
       "      <td>17522.10</td>\n",
       "      <td>89.35</td>\n",
       "    </tr>\n",
       "    <tr>\n",
       "      <th>21332</th>\n",
       "      <td>2022-06-07 21:00:00.000000</td>\n",
       "      <td>2375.1</td>\n",
       "      <td>5.3</td>\n",
       "      <td>17342.36</td>\n",
       "      <td>77.73</td>\n",
       "    </tr>\n",
       "    <tr>\n",
       "      <th>21333</th>\n",
       "      <td>2022-06-07 22:00:00.000000</td>\n",
       "      <td>2391.7</td>\n",
       "      <td>0.0</td>\n",
       "      <td>17100.03</td>\n",
       "      <td>70.13</td>\n",
       "    </tr>\n",
       "    <tr>\n",
       "      <th>21334</th>\n",
       "      <td>2022-06-07 23:00:00.000000</td>\n",
       "      <td>2348.4</td>\n",
       "      <td>0.0</td>\n",
       "      <td>16229.20</td>\n",
       "      <td>63.36</td>\n",
       "    </tr>\n",
       "    <tr>\n",
       "      <th>21335</th>\n",
       "      <td>2022-06-08 00:00:00.000000</td>\n",
       "      <td>2169.3</td>\n",
       "      <td>0.0</td>\n",
       "      <td>15090.24</td>\n",
       "      <td>48.09</td>\n",
       "    </tr>\n",
       "  </tbody>\n",
       "</table>\n",
       "<p>21336 rows × 5 columns</p>\n",
       "</div>"
      ],
      "text/plain": [
       "                             dttm     wind  solar  load_mwh  price\n",
       "0      2020-01-01 01:00:00.000000  12443.0    0.0  16368.09  12.52\n",
       "1      2020-01-01 02:00:00.000000  12338.8    0.0  15948.21  12.35\n",
       "2      2020-01-01 03:00:00.000000  12075.4    0.0  15586.64  12.06\n",
       "3      2020-01-01 04:00:00.000000  11957.9    0.0  15336.74  11.97\n",
       "4      2020-01-01 05:00:00.000000  12012.6    0.0  15288.27  12.37\n",
       "...                           ...      ...    ...       ...    ...\n",
       "21331  2022-06-07 20:00:00.000000   2421.1   76.9  17522.10  89.35\n",
       "21332  2022-06-07 21:00:00.000000   2375.1    5.3  17342.36  77.73\n",
       "21333  2022-06-07 22:00:00.000000   2391.7    0.0  17100.03  70.13\n",
       "21334  2022-06-07 23:00:00.000000   2348.4    0.0  16229.20  63.36\n",
       "21335  2022-06-08 00:00:00.000000   2169.3    0.0  15090.24  48.09\n",
       "\n",
       "[21336 rows x 5 columns]"
      ]
     },
     "execution_count": 6,
     "metadata": {},
     "output_type": "execute_result"
    }
   ],
   "source": [
    "with engine.connect() as conn:\n",
    "    \n",
    "    join_txt='''\n",
    "    SELECT \n",
    "        g.dttm, \n",
    "        wind, \n",
    "        solar, \n",
    "        load_mwh,\n",
    "        price\n",
    "    FROM GENERATION as g\n",
    "    INNER JOIN\n",
    "    LOAD as l\n",
    "    ON g.dttm = l.dttm\n",
    "    INNER JOIN\n",
    "    PRICE as p\n",
    "    ON g.dttm = p.dttm\n",
    "    \n",
    "    '''\n",
    "    \n",
    "    data = pd.read_sql(join_txt, engine)\n",
    "    \n",
    "data\n"
   ]
  },
  {
   "cell_type": "code",
   "execution_count": 7,
   "id": "823963bb-835c-4973-bb30-e6f1010f1cb9",
   "metadata": {},
   "outputs": [],
   "source": [
    "data.dttm = pd.to_datetime(data.dttm)"
   ]
  },
  {
   "cell_type": "code",
   "execution_count": 8,
   "id": "d452a63d-4a93-4f18-ad28-6abf6e4ffabe",
   "metadata": {},
   "outputs": [
    {
     "name": "stdout",
     "output_type": "stream",
     "text": [
      "<class 'pandas.core.frame.DataFrame'>\n",
      "RangeIndex: 21336 entries, 0 to 21335\n",
      "Data columns (total 5 columns):\n",
      " #   Column    Non-Null Count  Dtype         \n",
      "---  ------    --------------  -----         \n",
      " 0   dttm      21336 non-null  datetime64[ns]\n",
      " 1   wind      21335 non-null  float64       \n",
      " 2   solar     21334 non-null  float64       \n",
      " 3   load_mwh  21336 non-null  float64       \n",
      " 4   price     21336 non-null  float64       \n",
      "dtypes: datetime64[ns](1), float64(4)\n",
      "memory usage: 833.6 KB\n"
     ]
    }
   ],
   "source": [
    "data.info()"
   ]
  },
  {
   "cell_type": "code",
   "execution_count": 9,
   "id": "5eedba56-e1c3-4d29-b1b7-12d62cf3146f",
   "metadata": {},
   "outputs": [],
   "source": [
    "# find any gaps in timeseries\n",
    "all_hours = pd.DataFrame({'dttm':pd.date_range(data.dttm.min(), data.dttm.max(), freq='H')})\n",
    "data = all_hours.merge(data, on='dttm', how='left')"
   ]
  },
  {
   "cell_type": "code",
   "execution_count": 10,
   "id": "2cd59a98-5764-4a70-a8dc-93b6542f2e6e",
   "metadata": {},
   "outputs": [
    {
     "data": {
      "text/html": [
       "<div>\n",
       "<style scoped>\n",
       "    .dataframe tbody tr th:only-of-type {\n",
       "        vertical-align: middle;\n",
       "    }\n",
       "\n",
       "    .dataframe tbody tr th {\n",
       "        vertical-align: top;\n",
       "    }\n",
       "\n",
       "    .dataframe thead th {\n",
       "        text-align: right;\n",
       "    }\n",
       "</style>\n",
       "<table border=\"1\" class=\"dataframe\">\n",
       "  <thead>\n",
       "    <tr style=\"text-align: right;\">\n",
       "      <th></th>\n",
       "      <th>wind</th>\n",
       "      <th>solar</th>\n",
       "      <th>load_mwh</th>\n",
       "      <th>price</th>\n",
       "    </tr>\n",
       "  </thead>\n",
       "  <tbody>\n",
       "    <tr>\n",
       "      <th>count</th>\n",
       "      <td>21335.000000</td>\n",
       "      <td>21334.000000</td>\n",
       "      <td>21336.000000</td>\n",
       "      <td>21336.000000</td>\n",
       "    </tr>\n",
       "    <tr>\n",
       "      <th>mean</th>\n",
       "      <td>7461.402747</td>\n",
       "      <td>43.089552</td>\n",
       "      <td>16689.353952</td>\n",
       "      <td>29.165156</td>\n",
       "    </tr>\n",
       "    <tr>\n",
       "      <th>std</th>\n",
       "      <td>4110.877294</td>\n",
       "      <td>67.299780</td>\n",
       "      <td>2425.926154</td>\n",
       "      <td>28.765352</td>\n",
       "    </tr>\n",
       "    <tr>\n",
       "      <th>min</th>\n",
       "      <td>11.500000</td>\n",
       "      <td>0.000000</td>\n",
       "      <td>10772.120000</td>\n",
       "      <td>-57.560000</td>\n",
       "    </tr>\n",
       "    <tr>\n",
       "      <th>25%</th>\n",
       "      <td>3892.700000</td>\n",
       "      <td>0.000000</td>\n",
       "      <td>14931.120000</td>\n",
       "      <td>16.067500</td>\n",
       "    </tr>\n",
       "    <tr>\n",
       "      <th>50%</th>\n",
       "      <td>7300.400000</td>\n",
       "      <td>0.500000</td>\n",
       "      <td>16506.295000</td>\n",
       "      <td>21.950000</td>\n",
       "    </tr>\n",
       "    <tr>\n",
       "      <th>75%</th>\n",
       "      <td>10985.250000</td>\n",
       "      <td>73.775000</td>\n",
       "      <td>18193.005000</td>\n",
       "      <td>34.900000</td>\n",
       "    </tr>\n",
       "    <tr>\n",
       "      <th>max</th>\n",
       "      <td>17027.700000</td>\n",
       "      <td>405.500000</td>\n",
       "      <td>25715.570000</td>\n",
       "      <td>888.140000</td>\n",
       "    </tr>\n",
       "  </tbody>\n",
       "</table>\n",
       "</div>"
      ],
      "text/plain": [
       "               wind         solar      load_mwh         price\n",
       "count  21335.000000  21334.000000  21336.000000  21336.000000\n",
       "mean    7461.402747     43.089552  16689.353952     29.165156\n",
       "std     4110.877294     67.299780   2425.926154     28.765352\n",
       "min       11.500000      0.000000  10772.120000    -57.560000\n",
       "25%     3892.700000      0.000000  14931.120000     16.067500\n",
       "50%     7300.400000      0.500000  16506.295000     21.950000\n",
       "75%    10985.250000     73.775000  18193.005000     34.900000\n",
       "max    17027.700000    405.500000  25715.570000    888.140000"
      ]
     },
     "execution_count": 10,
     "metadata": {},
     "output_type": "execute_result"
    }
   ],
   "source": [
    "data.describe()"
   ]
  },
  {
   "cell_type": "code",
   "execution_count": 11,
   "id": "b8b26d85-aa6e-4f8a-9f50-8e3a6e387935",
   "metadata": {},
   "outputs": [
    {
     "data": {
      "text/plain": [
       "dttm        0\n",
       "wind        1\n",
       "solar       2\n",
       "load_mwh    0\n",
       "price       0\n",
       "dtype: int64"
      ]
     },
     "execution_count": 11,
     "metadata": {},
     "output_type": "execute_result"
    }
   ],
   "source": [
    "data.isna().sum()"
   ]
  },
  {
   "cell_type": "code",
   "execution_count": 12,
   "id": "249d954e-5ba0-4316-a454-8a473d528f56",
   "metadata": {},
   "outputs": [],
   "source": [
    "data.fillna(method='ffill', inplace=True)"
   ]
  },
  {
   "cell_type": "code",
   "execution_count": 13,
   "id": "3b599076-80cb-4444-8c7e-21b5b95ba33e",
   "metadata": {},
   "outputs": [
    {
     "data": {
      "text/plain": [
       "dttm        0\n",
       "wind        0\n",
       "solar       0\n",
       "load_mwh    0\n",
       "price       0\n",
       "dtype: int64"
      ]
     },
     "execution_count": 13,
     "metadata": {},
     "output_type": "execute_result"
    }
   ],
   "source": [
    "data.isna().sum()"
   ]
  },
  {
   "cell_type": "code",
   "execution_count": 14,
   "id": "c7392752-4ceb-4b3e-b76b-0be3cdeecac0",
   "metadata": {},
   "outputs": [],
   "source": [
    "data.set_index('dttm', inplace=True)"
   ]
  },
  {
   "cell_type": "code",
   "execution_count": 15,
   "id": "1fc85bf9-5daf-41c3-9762-e1fd83f5d6ab",
   "metadata": {},
   "outputs": [
    {
     "data": {
      "text/html": [
       "<div>\n",
       "<style scoped>\n",
       "    .dataframe tbody tr th:only-of-type {\n",
       "        vertical-align: middle;\n",
       "    }\n",
       "\n",
       "    .dataframe tbody tr th {\n",
       "        vertical-align: top;\n",
       "    }\n",
       "\n",
       "    .dataframe thead th {\n",
       "        text-align: right;\n",
       "    }\n",
       "</style>\n",
       "<table border=\"1\" class=\"dataframe\">\n",
       "  <thead>\n",
       "    <tr style=\"text-align: right;\">\n",
       "      <th></th>\n",
       "      <th>wind</th>\n",
       "      <th>solar</th>\n",
       "      <th>load_mwh</th>\n",
       "      <th>price</th>\n",
       "    </tr>\n",
       "    <tr>\n",
       "      <th>dttm</th>\n",
       "      <th></th>\n",
       "      <th></th>\n",
       "      <th></th>\n",
       "      <th></th>\n",
       "    </tr>\n",
       "  </thead>\n",
       "  <tbody>\n",
       "    <tr>\n",
       "      <th>2020-01-01 01:00:00</th>\n",
       "      <td>12443.0</td>\n",
       "      <td>0.0</td>\n",
       "      <td>16368.09</td>\n",
       "      <td>12.52</td>\n",
       "    </tr>\n",
       "    <tr>\n",
       "      <th>2020-01-01 02:00:00</th>\n",
       "      <td>12338.8</td>\n",
       "      <td>0.0</td>\n",
       "      <td>15948.21</td>\n",
       "      <td>12.35</td>\n",
       "    </tr>\n",
       "    <tr>\n",
       "      <th>2020-01-01 03:00:00</th>\n",
       "      <td>12075.4</td>\n",
       "      <td>0.0</td>\n",
       "      <td>15586.64</td>\n",
       "      <td>12.06</td>\n",
       "    </tr>\n",
       "    <tr>\n",
       "      <th>2020-01-01 04:00:00</th>\n",
       "      <td>11957.9</td>\n",
       "      <td>0.0</td>\n",
       "      <td>15336.74</td>\n",
       "      <td>11.97</td>\n",
       "    </tr>\n",
       "    <tr>\n",
       "      <th>2020-01-01 05:00:00</th>\n",
       "      <td>12012.6</td>\n",
       "      <td>0.0</td>\n",
       "      <td>15288.27</td>\n",
       "      <td>12.37</td>\n",
       "    </tr>\n",
       "    <tr>\n",
       "      <th>...</th>\n",
       "      <td>...</td>\n",
       "      <td>...</td>\n",
       "      <td>...</td>\n",
       "      <td>...</td>\n",
       "    </tr>\n",
       "    <tr>\n",
       "      <th>2022-06-07 20:00:00</th>\n",
       "      <td>2421.1</td>\n",
       "      <td>76.9</td>\n",
       "      <td>17522.10</td>\n",
       "      <td>89.35</td>\n",
       "    </tr>\n",
       "    <tr>\n",
       "      <th>2022-06-07 21:00:00</th>\n",
       "      <td>2375.1</td>\n",
       "      <td>5.3</td>\n",
       "      <td>17342.36</td>\n",
       "      <td>77.73</td>\n",
       "    </tr>\n",
       "    <tr>\n",
       "      <th>2022-06-07 22:00:00</th>\n",
       "      <td>2391.7</td>\n",
       "      <td>0.0</td>\n",
       "      <td>17100.03</td>\n",
       "      <td>70.13</td>\n",
       "    </tr>\n",
       "    <tr>\n",
       "      <th>2022-06-07 23:00:00</th>\n",
       "      <td>2348.4</td>\n",
       "      <td>0.0</td>\n",
       "      <td>16229.20</td>\n",
       "      <td>63.36</td>\n",
       "    </tr>\n",
       "    <tr>\n",
       "      <th>2022-06-08 00:00:00</th>\n",
       "      <td>2169.3</td>\n",
       "      <td>0.0</td>\n",
       "      <td>15090.24</td>\n",
       "      <td>48.09</td>\n",
       "    </tr>\n",
       "  </tbody>\n",
       "</table>\n",
       "<p>21336 rows × 4 columns</p>\n",
       "</div>"
      ],
      "text/plain": [
       "                        wind  solar  load_mwh  price\n",
       "dttm                                                \n",
       "2020-01-01 01:00:00  12443.0    0.0  16368.09  12.52\n",
       "2020-01-01 02:00:00  12338.8    0.0  15948.21  12.35\n",
       "2020-01-01 03:00:00  12075.4    0.0  15586.64  12.06\n",
       "2020-01-01 04:00:00  11957.9    0.0  15336.74  11.97\n",
       "2020-01-01 05:00:00  12012.6    0.0  15288.27  12.37\n",
       "...                      ...    ...       ...    ...\n",
       "2022-06-07 20:00:00   2421.1   76.9  17522.10  89.35\n",
       "2022-06-07 21:00:00   2375.1    5.3  17342.36  77.73\n",
       "2022-06-07 22:00:00   2391.7    0.0  17100.03  70.13\n",
       "2022-06-07 23:00:00   2348.4    0.0  16229.20  63.36\n",
       "2022-06-08 00:00:00   2169.3    0.0  15090.24  48.09\n",
       "\n",
       "[21336 rows x 4 columns]"
      ]
     },
     "execution_count": 15,
     "metadata": {},
     "output_type": "execute_result"
    }
   ],
   "source": [
    "data"
   ]
  },
  {
   "cell_type": "code",
   "execution_count": 16,
   "id": "b7720453-e71a-4e13-812a-b81cda86096b",
   "metadata": {},
   "outputs": [
    {
     "data": {
      "text/plain": [
       "<AxesSubplot:>"
      ]
     },
     "execution_count": 16,
     "metadata": {},
     "output_type": "execute_result"
    },
    {
     "data": {
      "image/png": "[encoded data removed]",
      "text/plain": [
       "<Figure size 432x288 with 1 Axes>"
      ]
     },
     "metadata": {
      "needs_background": "light"
     },
     "output_type": "display_data"
    }
   ],
   "source": [
    "data.price.hist()"
   ]
  },
  {
   "cell_type": "code",
   "execution_count": 17,
   "id": "58bcad77-4ac0-4a28-adde-135fe3790aaa",
   "metadata": {},
   "outputs": [
    {
     "data": {
      "text/plain": [
       "array([ -6.056   , 140.319625])"
      ]
     },
     "execution_count": 17,
     "metadata": {},
     "output_type": "execute_result"
    }
   ],
   "source": [
    "np.percentile(data.price, (0.5, 99.25))"
   ]
  },
  {
   "cell_type": "code",
   "execution_count": 18,
   "id": "c24024f8-1485-4a47-9a1c-319ed9e9f722",
   "metadata": {},
   "outputs": [],
   "source": [
    "MAX_PRICE = 175\n",
    "data.loc[data.price > MAX_PRICE, 'price'] = MAX_PRICE"
   ]
  },
  {
   "cell_type": "code",
   "execution_count": 19,
   "id": "54fe3024-1fe6-4963-bb75-12aaf352bff8",
   "metadata": {},
   "outputs": [
    {
     "data": {
      "text/html": [
       "<div>\n",
       "<style scoped>\n",
       "    .dataframe tbody tr th:only-of-type {\n",
       "        vertical-align: middle;\n",
       "    }\n",
       "\n",
       "    .dataframe tbody tr th {\n",
       "        vertical-align: top;\n",
       "    }\n",
       "\n",
       "    .dataframe thead th {\n",
       "        text-align: right;\n",
       "    }\n",
       "</style>\n",
       "<table border=\"1\" class=\"dataframe\">\n",
       "  <thead>\n",
       "    <tr style=\"text-align: right;\">\n",
       "      <th></th>\n",
       "      <th>wind</th>\n",
       "      <th>solar</th>\n",
       "      <th>load_mwh</th>\n",
       "      <th>price</th>\n",
       "    </tr>\n",
       "  </thead>\n",
       "  <tbody>\n",
       "    <tr>\n",
       "      <th>count</th>\n",
       "      <td>21336.000000</td>\n",
       "      <td>21336.000000</td>\n",
       "      <td>21336.000000</td>\n",
       "      <td>21336.000000</td>\n",
       "    </tr>\n",
       "    <tr>\n",
       "      <th>mean</th>\n",
       "      <td>7461.330062</td>\n",
       "      <td>43.085527</td>\n",
       "      <td>16689.353952</td>\n",
       "      <td>28.596543</td>\n",
       "    </tr>\n",
       "    <tr>\n",
       "      <th>std</th>\n",
       "      <td>4110.794662</td>\n",
       "      <td>67.297909</td>\n",
       "      <td>2425.926154</td>\n",
       "      <td>22.838198</td>\n",
       "    </tr>\n",
       "    <tr>\n",
       "      <th>min</th>\n",
       "      <td>11.500000</td>\n",
       "      <td>0.000000</td>\n",
       "      <td>10772.120000</td>\n",
       "      <td>-57.560000</td>\n",
       "    </tr>\n",
       "    <tr>\n",
       "      <th>25%</th>\n",
       "      <td>3892.700000</td>\n",
       "      <td>0.000000</td>\n",
       "      <td>14931.120000</td>\n",
       "      <td>16.067500</td>\n",
       "    </tr>\n",
       "    <tr>\n",
       "      <th>50%</th>\n",
       "      <td>7299.000000</td>\n",
       "      <td>0.500000</td>\n",
       "      <td>16506.295000</td>\n",
       "      <td>21.950000</td>\n",
       "    </tr>\n",
       "    <tr>\n",
       "      <th>75%</th>\n",
       "      <td>10985.025000</td>\n",
       "      <td>73.725000</td>\n",
       "      <td>18193.005000</td>\n",
       "      <td>34.900000</td>\n",
       "    </tr>\n",
       "    <tr>\n",
       "      <th>max</th>\n",
       "      <td>17027.700000</td>\n",
       "      <td>405.500000</td>\n",
       "      <td>25715.570000</td>\n",
       "      <td>175.000000</td>\n",
       "    </tr>\n",
       "  </tbody>\n",
       "</table>\n",
       "</div>"
      ],
      "text/plain": [
       "               wind         solar      load_mwh         price\n",
       "count  21336.000000  21336.000000  21336.000000  21336.000000\n",
       "mean    7461.330062     43.085527  16689.353952     28.596543\n",
       "std     4110.794662     67.297909   2425.926154     22.838198\n",
       "min       11.500000      0.000000  10772.120000    -57.560000\n",
       "25%     3892.700000      0.000000  14931.120000     16.067500\n",
       "50%     7299.000000      0.500000  16506.295000     21.950000\n",
       "75%    10985.025000     73.725000  18193.005000     34.900000\n",
       "max    17027.700000    405.500000  25715.570000    175.000000"
      ]
     },
     "execution_count": 19,
     "metadata": {},
     "output_type": "execute_result"
    }
   ],
   "source": [
    "data.describe()"
   ]
  },
  {
   "cell_type": "markdown",
   "id": "bc2d8b1d-3cbb-4d04-a296-6ce1b3db4519",
   "metadata": {},
   "source": [
    "## Data scaling"
   ]
  },
  {
   "cell_type": "code",
   "execution_count": 20,
   "id": "b94c3008-db92-476f-9fc5-ee5dbdc8e65b",
   "metadata": {},
   "outputs": [],
   "source": [
    "# define lookback and lookforward periods for \n",
    "# gathering training/test sets and creating\n",
    "# t_idx: a data frame time indexes for the \n",
    "# lookback and lookforward periods\n",
    "LOOKBACK = 23 \n",
    "LOOKFORWARD = 24"
   ]
  },
  {
   "cell_type": "code",
   "execution_count": 21,
   "id": "96a5adf9-444d-4c4a-a0b3-a634ff9409ba",
   "metadata": {},
   "outputs": [
    {
     "data": {
      "text/plain": [
       "array([20662,  5921, 14187, ...,  1717,  2696,  1848])"
      ]
     },
     "execution_count": 21,
     "metadata": {},
     "output_type": "execute_result"
    }
   ],
   "source": [
    "# get training and test indexes\n",
    "np.random.seed(42)\n",
    "TRAIN_IDX = np.random.choice(range(data.shape[0]-LOOKBACK-LOOKFORWARD), size=int(0.8*len(data)), replace=False)\n",
    "TRAIN_IDX"
   ]
  },
  {
   "cell_type": "code",
   "execution_count": 22,
   "id": "f274df2b-c766-438e-b95f-c97ae2d32d92",
   "metadata": {},
   "outputs": [
    {
     "data": {
      "text/plain": [
       "array([    9,    11,    13, ..., 21281, 21286, 21288])"
      ]
     },
     "execution_count": 22,
     "metadata": {},
     "output_type": "execute_result"
    }
   ],
   "source": [
    "TEST_IDX = np.setdiff1d(range(data.shape[0]-LOOKBACK-LOOKFORWARD),TRAIN_IDX)\n",
    "TEST_IDX"
   ]
  },
  {
   "cell_type": "markdown",
   "id": "5838ee19-c7ef-4c3f-ada4-5ba261ac23ff",
   "metadata": {},
   "source": [
    "### Gather scaler metrics"
   ]
  },
  {
   "cell_type": "code",
   "execution_count": 23,
   "id": "5482b167-3bfa-4d87-b802-94b3c164d56d",
   "metadata": {},
   "outputs": [
    {
     "data": {
      "text/plain": [
       "wind         7459.590831\n",
       "solar          42.801558\n",
       "load_mwh    16695.477854\n",
       "price          28.517849\n",
       "dtype: float64"
      ]
     },
     "execution_count": 23,
     "metadata": {},
     "output_type": "execute_result"
    }
   ],
   "source": [
    "scaler = {}\n",
    "scaler['means'] = data.iloc[TRAIN_IDX,:].mean()\n",
    "scaler['means']"
   ]
  },
  {
   "cell_type": "code",
   "execution_count": 24,
   "id": "eb0d72a6-27d9-4493-9a68-29adbfb76221",
   "metadata": {},
   "outputs": [
    {
     "data": {
      "text/plain": [
       "wind        4109.340388\n",
       "solar         67.098413\n",
       "load_mwh    2425.745195\n",
       "price         22.721287\n",
       "dtype: float64"
      ]
     },
     "execution_count": 24,
     "metadata": {},
     "output_type": "execute_result"
    }
   ],
   "source": [
    "scaler['sd'] = data.iloc[TRAIN_IDX,:].std()\n",
    "scaler['sd']"
   ]
  },
  {
   "cell_type": "markdown",
   "id": "f56e7e1c-3d03-4239-9580-acb1f0854ea4",
   "metadata": {},
   "source": [
    "### define scaling functions"
   ]
  },
  {
   "cell_type": "code",
   "execution_count": 25,
   "id": "6f365b1a-b5ab-416b-95f4-05c3c0927f7a",
   "metadata": {},
   "outputs": [
    {
     "data": {
      "text/html": [
       "<div>\n",
       "<style scoped>\n",
       "    .dataframe tbody tr th:only-of-type {\n",
       "        vertical-align: middle;\n",
       "    }\n",
       "\n",
       "    .dataframe tbody tr th {\n",
       "        vertical-align: top;\n",
       "    }\n",
       "\n",
       "    .dataframe thead th {\n",
       "        text-align: right;\n",
       "    }\n",
       "</style>\n",
       "<table border=\"1\" class=\"dataframe\">\n",
       "  <thead>\n",
       "    <tr style=\"text-align: right;\">\n",
       "      <th></th>\n",
       "      <th>wind</th>\n",
       "      <th>solar</th>\n",
       "      <th>load_mwh</th>\n",
       "      <th>price</th>\n",
       "    </tr>\n",
       "  </thead>\n",
       "  <tbody>\n",
       "    <tr>\n",
       "      <th>count</th>\n",
       "      <td>21336.000000</td>\n",
       "      <td>21336.000000</td>\n",
       "      <td>21336.000000</td>\n",
       "      <td>21336.000000</td>\n",
       "    </tr>\n",
       "    <tr>\n",
       "      <th>mean</th>\n",
       "      <td>0.000423</td>\n",
       "      <td>0.004232</td>\n",
       "      <td>-0.002525</td>\n",
       "      <td>0.003463</td>\n",
       "    </tr>\n",
       "    <tr>\n",
       "      <th>std</th>\n",
       "      <td>1.000354</td>\n",
       "      <td>1.002973</td>\n",
       "      <td>1.000075</td>\n",
       "      <td>1.005145</td>\n",
       "    </tr>\n",
       "    <tr>\n",
       "      <th>min</th>\n",
       "      <td>-1.812478</td>\n",
       "      <td>-0.637892</td>\n",
       "      <td>-2.441871</td>\n",
       "      <td>-3.788423</td>\n",
       "    </tr>\n",
       "    <tr>\n",
       "      <th>25%</th>\n",
       "      <td>-0.867996</td>\n",
       "      <td>-0.637892</td>\n",
       "      <td>-0.727347</td>\n",
       "      <td>-0.547960</td>\n",
       "    </tr>\n",
       "    <tr>\n",
       "      <th>50%</th>\n",
       "      <td>-0.039079</td>\n",
       "      <td>-0.630441</td>\n",
       "      <td>-0.077990</td>\n",
       "      <td>-0.289061</td>\n",
       "    </tr>\n",
       "    <tr>\n",
       "      <th>75%</th>\n",
       "      <td>0.857908</td>\n",
       "      <td>0.460867</td>\n",
       "      <td>0.617347</td>\n",
       "      <td>0.280889</td>\n",
       "    </tr>\n",
       "    <tr>\n",
       "      <th>max</th>\n",
       "      <td>2.328381</td>\n",
       "      <td>5.405470</td>\n",
       "      <td>3.718483</td>\n",
       "      <td>6.446913</td>\n",
       "    </tr>\n",
       "  </tbody>\n",
       "</table>\n",
       "</div>"
      ],
      "text/plain": [
       "               wind         solar      load_mwh         price\n",
       "count  21336.000000  21336.000000  21336.000000  21336.000000\n",
       "mean       0.000423      0.004232     -0.002525      0.003463\n",
       "std        1.000354      1.002973      1.000075      1.005145\n",
       "min       -1.812478     -0.637892     -2.441871     -3.788423\n",
       "25%       -0.867996     -0.637892     -0.727347     -0.547960\n",
       "50%       -0.039079     -0.630441     -0.077990     -0.289061\n",
       "75%        0.857908      0.460867      0.617347      0.280889\n",
       "max        2.328381      5.405470      3.718483      6.446913"
      ]
     },
     "execution_count": 25,
     "metadata": {},
     "output_type": "execute_result"
    }
   ],
   "source": [
    "def scale_data(data, scaler):\n",
    "    return ((data - scaler['means'])/scaler['sd'])\n",
    "\n",
    "data_scaled = scale_data(data, scaler)\n",
    "data_scaled.describe()"
   ]
  },
  {
   "cell_type": "code",
   "execution_count": 26,
   "id": "4a17848d-55a4-44c8-bd17-a1725ff9935d",
   "metadata": {},
   "outputs": [],
   "source": [
    "def unscale_data(data_scaled, scaler):\n",
    "    return data_scaled*scaler['sd'] + scaler['means']"
   ]
  },
  {
   "cell_type": "code",
   "execution_count": 27,
   "id": "2dc0c213-6809-4835-9cf4-3b3d056d6284",
   "metadata": {},
   "outputs": [
    {
     "data": {
      "text/html": [
       "<div>\n",
       "<style scoped>\n",
       "    .dataframe tbody tr th:only-of-type {\n",
       "        vertical-align: middle;\n",
       "    }\n",
       "\n",
       "    .dataframe tbody tr th {\n",
       "        vertical-align: top;\n",
       "    }\n",
       "\n",
       "    .dataframe thead th {\n",
       "        text-align: right;\n",
       "    }\n",
       "</style>\n",
       "<table border=\"1\" class=\"dataframe\">\n",
       "  <thead>\n",
       "    <tr style=\"text-align: right;\">\n",
       "      <th></th>\n",
       "      <th>wind</th>\n",
       "      <th>solar</th>\n",
       "      <th>load_mwh</th>\n",
       "      <th>price</th>\n",
       "    </tr>\n",
       "  </thead>\n",
       "  <tbody>\n",
       "    <tr>\n",
       "      <th>count</th>\n",
       "      <td>21336.000000</td>\n",
       "      <td>21336.000000</td>\n",
       "      <td>21336.000000</td>\n",
       "      <td>21336.000000</td>\n",
       "    </tr>\n",
       "    <tr>\n",
       "      <th>mean</th>\n",
       "      <td>7461.330062</td>\n",
       "      <td>43.085527</td>\n",
       "      <td>16689.353952</td>\n",
       "      <td>28.596543</td>\n",
       "    </tr>\n",
       "    <tr>\n",
       "      <th>std</th>\n",
       "      <td>4110.794662</td>\n",
       "      <td>67.297909</td>\n",
       "      <td>2425.926154</td>\n",
       "      <td>22.838198</td>\n",
       "    </tr>\n",
       "    <tr>\n",
       "      <th>min</th>\n",
       "      <td>11.500000</td>\n",
       "      <td>0.000000</td>\n",
       "      <td>10772.120000</td>\n",
       "      <td>-57.560000</td>\n",
       "    </tr>\n",
       "    <tr>\n",
       "      <th>25%</th>\n",
       "      <td>3892.700000</td>\n",
       "      <td>0.000000</td>\n",
       "      <td>14931.120000</td>\n",
       "      <td>16.067500</td>\n",
       "    </tr>\n",
       "    <tr>\n",
       "      <th>50%</th>\n",
       "      <td>7299.000000</td>\n",
       "      <td>0.500000</td>\n",
       "      <td>16506.295000</td>\n",
       "      <td>21.950000</td>\n",
       "    </tr>\n",
       "    <tr>\n",
       "      <th>75%</th>\n",
       "      <td>10985.025000</td>\n",
       "      <td>73.725000</td>\n",
       "      <td>18193.005000</td>\n",
       "      <td>34.900000</td>\n",
       "    </tr>\n",
       "    <tr>\n",
       "      <th>max</th>\n",
       "      <td>17027.700000</td>\n",
       "      <td>405.500000</td>\n",
       "      <td>25715.570000</td>\n",
       "      <td>175.000000</td>\n",
       "    </tr>\n",
       "  </tbody>\n",
       "</table>\n",
       "</div>"
      ],
      "text/plain": [
       "               wind         solar      load_mwh         price\n",
       "count  21336.000000  21336.000000  21336.000000  21336.000000\n",
       "mean    7461.330062     43.085527  16689.353952     28.596543\n",
       "std     4110.794662     67.297909   2425.926154     22.838198\n",
       "min       11.500000      0.000000  10772.120000    -57.560000\n",
       "25%     3892.700000      0.000000  14931.120000     16.067500\n",
       "50%     7299.000000      0.500000  16506.295000     21.950000\n",
       "75%    10985.025000     73.725000  18193.005000     34.900000\n",
       "max    17027.700000    405.500000  25715.570000    175.000000"
      ]
     },
     "execution_count": 27,
     "metadata": {},
     "output_type": "execute_result"
    }
   ],
   "source": [
    "data = unscale_data(data_scaled, scaler)\n",
    "data.describe()"
   ]
  },
  {
   "cell_type": "markdown",
   "id": "c7872839-03d2-46b6-9505-4606fc35b9cd",
   "metadata": {},
   "source": [
    "### Create scaling data set for use in modeling"
   ]
  },
  {
   "cell_type": "code",
   "execution_count": 28,
   "id": "5b7e63f6-0e65-43da-bc1e-8ea9478fc010",
   "metadata": {},
   "outputs": [
    {
     "data": {
      "text/html": [
       "<div>\n",
       "<style scoped>\n",
       "    .dataframe tbody tr th:only-of-type {\n",
       "        vertical-align: middle;\n",
       "    }\n",
       "\n",
       "    .dataframe tbody tr th {\n",
       "        vertical-align: top;\n",
       "    }\n",
       "\n",
       "    .dataframe thead th {\n",
       "        text-align: right;\n",
       "    }\n",
       "</style>\n",
       "<table border=\"1\" class=\"dataframe\">\n",
       "  <thead>\n",
       "    <tr style=\"text-align: right;\">\n",
       "      <th></th>\n",
       "      <th>wind</th>\n",
       "      <th>solar</th>\n",
       "      <th>load_mwh</th>\n",
       "      <th>price</th>\n",
       "    </tr>\n",
       "  </thead>\n",
       "  <tbody>\n",
       "    <tr>\n",
       "      <th>count</th>\n",
       "      <td>21336.000000</td>\n",
       "      <td>21336.000000</td>\n",
       "      <td>21336.000000</td>\n",
       "      <td>21336.000000</td>\n",
       "    </tr>\n",
       "    <tr>\n",
       "      <th>mean</th>\n",
       "      <td>0.000423</td>\n",
       "      <td>0.004232</td>\n",
       "      <td>-0.002525</td>\n",
       "      <td>0.003463</td>\n",
       "    </tr>\n",
       "    <tr>\n",
       "      <th>std</th>\n",
       "      <td>1.000354</td>\n",
       "      <td>1.002973</td>\n",
       "      <td>1.000075</td>\n",
       "      <td>1.005145</td>\n",
       "    </tr>\n",
       "    <tr>\n",
       "      <th>min</th>\n",
       "      <td>-1.812478</td>\n",
       "      <td>-0.637892</td>\n",
       "      <td>-2.441871</td>\n",
       "      <td>-3.788423</td>\n",
       "    </tr>\n",
       "    <tr>\n",
       "      <th>25%</th>\n",
       "      <td>-0.867996</td>\n",
       "      <td>-0.637892</td>\n",
       "      <td>-0.727347</td>\n",
       "      <td>-0.547960</td>\n",
       "    </tr>\n",
       "    <tr>\n",
       "      <th>50%</th>\n",
       "      <td>-0.039079</td>\n",
       "      <td>-0.630441</td>\n",
       "      <td>-0.077990</td>\n",
       "      <td>-0.289061</td>\n",
       "    </tr>\n",
       "    <tr>\n",
       "      <th>75%</th>\n",
       "      <td>0.857908</td>\n",
       "      <td>0.460867</td>\n",
       "      <td>0.617347</td>\n",
       "      <td>0.280889</td>\n",
       "    </tr>\n",
       "    <tr>\n",
       "      <th>max</th>\n",
       "      <td>2.328381</td>\n",
       "      <td>5.405470</td>\n",
       "      <td>3.718483</td>\n",
       "      <td>6.446913</td>\n",
       "    </tr>\n",
       "  </tbody>\n",
       "</table>\n",
       "</div>"
      ],
      "text/plain": [
       "               wind         solar      load_mwh         price\n",
       "count  21336.000000  21336.000000  21336.000000  21336.000000\n",
       "mean       0.000423      0.004232     -0.002525      0.003463\n",
       "std        1.000354      1.002973      1.000075      1.005145\n",
       "min       -1.812478     -0.637892     -2.441871     -3.788423\n",
       "25%       -0.867996     -0.637892     -0.727347     -0.547960\n",
       "50%       -0.039079     -0.630441     -0.077990     -0.289061\n",
       "75%        0.857908      0.460867      0.617347      0.280889\n",
       "max        2.328381      5.405470      3.718483      6.446913"
      ]
     },
     "execution_count": 28,
     "metadata": {},
     "output_type": "execute_result"
    }
   ],
   "source": [
    "data_scaled = scale_data(data, scaler)\n",
    "data_scaled.describe()"
   ]
  },
  {
   "cell_type": "markdown",
   "id": "78a17940-ddb0-4a57-a29f-a41c279e5fa5",
   "metadata": {},
   "source": [
    "## Create `t_idx` dataframe\n",
    "`t_idx` has `t_start`, `t_now`, and `t_end` columns which define the start and end points of a sample based on the `LOOKBACK` and `LOOKFORWARD` windows.  This data frame is used in the data loader to produce samples."
   ]
  },
  {
   "cell_type": "code",
   "execution_count": 29,
   "id": "b1d15ba5-95c1-4114-a0da-5a70d2f6c356",
   "metadata": {},
   "outputs": [],
   "source": [
    "def create_t_idx(\n",
    "    data: pd.core.frame.DataFrame, \n",
    "    LOOKBACK: int, \n",
    "    LOOKFORWARD: int\n",
    ") -> pd.core.frame.DataFrame:\n",
    "    \n",
    "    t_idx = pd.DataFrame()\n",
    "    t_idx['t_start'] = data.index\n",
    "    t_idx['t_now'] = data.index.shift(LOOKBACK, freq='H')\n",
    "    t_idx['t_end'] = data.index.shift(LOOKBACK+LOOKFORWARD, freq='H')\n",
    "    t_idx = t_idx[t_idx.t_end <= t_idx.t_start.max()]\n",
    "    return t_idx"
   ]
  },
  {
   "cell_type": "code",
   "execution_count": 30,
   "id": "8c39a715-c48d-4741-b112-65c7a7e183e2",
   "metadata": {},
   "outputs": [
    {
     "data": {
      "text/html": [
       "<div>\n",
       "<style scoped>\n",
       "    .dataframe tbody tr th:only-of-type {\n",
       "        vertical-align: middle;\n",
       "    }\n",
       "\n",
       "    .dataframe tbody tr th {\n",
       "        vertical-align: top;\n",
       "    }\n",
       "\n",
       "    .dataframe thead th {\n",
       "        text-align: right;\n",
       "    }\n",
       "</style>\n",
       "<table border=\"1\" class=\"dataframe\">\n",
       "  <thead>\n",
       "    <tr style=\"text-align: right;\">\n",
       "      <th></th>\n",
       "      <th>t_start</th>\n",
       "      <th>t_now</th>\n",
       "      <th>t_end</th>\n",
       "    </tr>\n",
       "  </thead>\n",
       "  <tbody>\n",
       "    <tr>\n",
       "      <th>0</th>\n",
       "      <td>2020-01-01 01:00:00</td>\n",
       "      <td>2020-01-02 00:00:00</td>\n",
       "      <td>2020-01-03 00:00:00</td>\n",
       "    </tr>\n",
       "    <tr>\n",
       "      <th>1</th>\n",
       "      <td>2020-01-01 02:00:00</td>\n",
       "      <td>2020-01-02 01:00:00</td>\n",
       "      <td>2020-01-03 01:00:00</td>\n",
       "    </tr>\n",
       "    <tr>\n",
       "      <th>2</th>\n",
       "      <td>2020-01-01 03:00:00</td>\n",
       "      <td>2020-01-02 02:00:00</td>\n",
       "      <td>2020-01-03 02:00:00</td>\n",
       "    </tr>\n",
       "    <tr>\n",
       "      <th>3</th>\n",
       "      <td>2020-01-01 04:00:00</td>\n",
       "      <td>2020-01-02 03:00:00</td>\n",
       "      <td>2020-01-03 03:00:00</td>\n",
       "    </tr>\n",
       "    <tr>\n",
       "      <th>4</th>\n",
       "      <td>2020-01-01 05:00:00</td>\n",
       "      <td>2020-01-02 04:00:00</td>\n",
       "      <td>2020-01-03 04:00:00</td>\n",
       "    </tr>\n",
       "    <tr>\n",
       "      <th>...</th>\n",
       "      <td>...</td>\n",
       "      <td>...</td>\n",
       "      <td>...</td>\n",
       "    </tr>\n",
       "    <tr>\n",
       "      <th>21284</th>\n",
       "      <td>2022-06-05 21:00:00</td>\n",
       "      <td>2022-06-06 20:00:00</td>\n",
       "      <td>2022-06-07 20:00:00</td>\n",
       "    </tr>\n",
       "    <tr>\n",
       "      <th>21285</th>\n",
       "      <td>2022-06-05 22:00:00</td>\n",
       "      <td>2022-06-06 21:00:00</td>\n",
       "      <td>2022-06-07 21:00:00</td>\n",
       "    </tr>\n",
       "    <tr>\n",
       "      <th>21286</th>\n",
       "      <td>2022-06-05 23:00:00</td>\n",
       "      <td>2022-06-06 22:00:00</td>\n",
       "      <td>2022-06-07 22:00:00</td>\n",
       "    </tr>\n",
       "    <tr>\n",
       "      <th>21287</th>\n",
       "      <td>2022-06-06 00:00:00</td>\n",
       "      <td>2022-06-06 23:00:00</td>\n",
       "      <td>2022-06-07 23:00:00</td>\n",
       "    </tr>\n",
       "    <tr>\n",
       "      <th>21288</th>\n",
       "      <td>2022-06-06 01:00:00</td>\n",
       "      <td>2022-06-07 00:00:00</td>\n",
       "      <td>2022-06-08 00:00:00</td>\n",
       "    </tr>\n",
       "  </tbody>\n",
       "</table>\n",
       "<p>21289 rows × 3 columns</p>\n",
       "</div>"
      ],
      "text/plain": [
       "                  t_start               t_now               t_end\n",
       "0     2020-01-01 01:00:00 2020-01-02 00:00:00 2020-01-03 00:00:00\n",
       "1     2020-01-01 02:00:00 2020-01-02 01:00:00 2020-01-03 01:00:00\n",
       "2     2020-01-01 03:00:00 2020-01-02 02:00:00 2020-01-03 02:00:00\n",
       "3     2020-01-01 04:00:00 2020-01-02 03:00:00 2020-01-03 03:00:00\n",
       "4     2020-01-01 05:00:00 2020-01-02 04:00:00 2020-01-03 04:00:00\n",
       "...                   ...                 ...                 ...\n",
       "21284 2022-06-05 21:00:00 2022-06-06 20:00:00 2022-06-07 20:00:00\n",
       "21285 2022-06-05 22:00:00 2022-06-06 21:00:00 2022-06-07 21:00:00\n",
       "21286 2022-06-05 23:00:00 2022-06-06 22:00:00 2022-06-07 22:00:00\n",
       "21287 2022-06-06 00:00:00 2022-06-06 23:00:00 2022-06-07 23:00:00\n",
       "21288 2022-06-06 01:00:00 2022-06-07 00:00:00 2022-06-08 00:00:00\n",
       "\n",
       "[21289 rows x 3 columns]"
      ]
     },
     "execution_count": 30,
     "metadata": {},
     "output_type": "execute_result"
    }
   ],
   "source": [
    "t_idx = create_t_idx(data, LOOKBACK, LOOKFORWARD)\n",
    "t_idx"
   ]
  },
  {
   "cell_type": "markdown",
   "id": "e814eddb-aa66-4d28-b529-9f92f29d8284",
   "metadata": {},
   "source": [
    "## Test getting data from time indexes"
   ]
  },
  {
   "cell_type": "code",
   "execution_count": 31,
   "id": "6cdc07f4-d302-4ada-831f-81f74a64fe1d",
   "metadata": {},
   "outputs": [
    {
     "data": {
      "text/plain": [
       "t_start   2020-01-01 01:00:00\n",
       "t_now     2020-01-02 00:00:00\n",
       "t_end     2020-01-03 00:00:00\n",
       "Name: 0, dtype: datetime64[ns]"
      ]
     },
     "execution_count": 31,
     "metadata": {},
     "output_type": "execute_result"
    }
   ],
   "source": [
    "# test_idx = 21118\n",
    "test_idx = 0\n",
    "t_idx.iloc[test_idx,:]"
   ]
  },
  {
   "cell_type": "code",
   "execution_count": 32,
   "id": "9549fa72-61fe-44d0-b17c-9d10abf349c6",
   "metadata": {},
   "outputs": [
    {
     "data": {
      "text/html": [
       "<div>\n",
       "<style scoped>\n",
       "    .dataframe tbody tr th:only-of-type {\n",
       "        vertical-align: middle;\n",
       "    }\n",
       "\n",
       "    .dataframe tbody tr th {\n",
       "        vertical-align: top;\n",
       "    }\n",
       "\n",
       "    .dataframe thead th {\n",
       "        text-align: right;\n",
       "    }\n",
       "</style>\n",
       "<table border=\"1\" class=\"dataframe\">\n",
       "  <thead>\n",
       "    <tr style=\"text-align: right;\">\n",
       "      <th></th>\n",
       "      <th>wind</th>\n",
       "      <th>solar</th>\n",
       "      <th>load_mwh</th>\n",
       "    </tr>\n",
       "    <tr>\n",
       "      <th>dttm</th>\n",
       "      <th></th>\n",
       "      <th></th>\n",
       "      <th></th>\n",
       "    </tr>\n",
       "  </thead>\n",
       "  <tbody>\n",
       "    <tr>\n",
       "      <th>2020-01-01 01:00:00</th>\n",
       "      <td>1.212703</td>\n",
       "      <td>-0.637892</td>\n",
       "      <td>-0.134964</td>\n",
       "    </tr>\n",
       "    <tr>\n",
       "      <th>2020-01-01 02:00:00</th>\n",
       "      <td>1.187346</td>\n",
       "      <td>-0.637892</td>\n",
       "      <td>-0.308057</td>\n",
       "    </tr>\n",
       "    <tr>\n",
       "      <th>2020-01-01 03:00:00</th>\n",
       "      <td>1.123248</td>\n",
       "      <td>-0.637892</td>\n",
       "      <td>-0.457112</td>\n",
       "    </tr>\n",
       "    <tr>\n",
       "      <th>2020-01-01 04:00:00</th>\n",
       "      <td>1.094655</td>\n",
       "      <td>-0.637892</td>\n",
       "      <td>-0.560132</td>\n",
       "    </tr>\n",
       "    <tr>\n",
       "      <th>2020-01-01 05:00:00</th>\n",
       "      <td>1.107966</td>\n",
       "      <td>-0.637892</td>\n",
       "      <td>-0.580114</td>\n",
       "    </tr>\n",
       "    <tr>\n",
       "      <th>2020-01-01 06:00:00</th>\n",
       "      <td>1.102977</td>\n",
       "      <td>-0.637892</td>\n",
       "      <td>-0.552324</td>\n",
       "    </tr>\n",
       "    <tr>\n",
       "      <th>2020-01-01 07:00:00</th>\n",
       "      <td>1.034280</td>\n",
       "      <td>-0.637892</td>\n",
       "      <td>-0.458147</td>\n",
       "    </tr>\n",
       "    <tr>\n",
       "      <th>2020-01-01 08:00:00</th>\n",
       "      <td>0.906912</td>\n",
       "      <td>-0.637892</td>\n",
       "      <td>-0.384689</td>\n",
       "    </tr>\n",
       "    <tr>\n",
       "      <th>2020-01-01 09:00:00</th>\n",
       "      <td>0.770418</td>\n",
       "      <td>-0.637892</td>\n",
       "      <td>-0.275502</td>\n",
       "    </tr>\n",
       "    <tr>\n",
       "      <th>2020-01-01 10:00:00</th>\n",
       "      <td>0.582577</td>\n",
       "      <td>-0.637892</td>\n",
       "      <td>-0.252466</td>\n",
       "    </tr>\n",
       "    <tr>\n",
       "      <th>2020-01-01 11:00:00</th>\n",
       "      <td>0.422892</td>\n",
       "      <td>-0.439676</td>\n",
       "      <td>-0.204555</td>\n",
       "    </tr>\n",
       "    <tr>\n",
       "      <th>2020-01-01 12:00:00</th>\n",
       "      <td>0.200278</td>\n",
       "      <td>-0.219104</td>\n",
       "      <td>-0.144755</td>\n",
       "    </tr>\n",
       "    <tr>\n",
       "      <th>2020-01-01 13:00:00</th>\n",
       "      <td>-0.048594</td>\n",
       "      <td>-0.035792</td>\n",
       "      <td>-0.177322</td>\n",
       "    </tr>\n",
       "    <tr>\n",
       "      <th>2020-01-01 14:00:00</th>\n",
       "      <td>-0.108069</td>\n",
       "      <td>0.165405</td>\n",
       "      <td>-0.222760</td>\n",
       "    </tr>\n",
       "    <tr>\n",
       "      <th>2020-01-01 15:00:00</th>\n",
       "      <td>-0.083685</td>\n",
       "      <td>0.509676</td>\n",
       "      <td>-0.331745</td>\n",
       "    </tr>\n",
       "    <tr>\n",
       "      <th>2020-01-01 16:00:00</th>\n",
       "      <td>-0.133060</td>\n",
       "      <td>0.208626</td>\n",
       "      <td>-0.352254</td>\n",
       "    </tr>\n",
       "    <tr>\n",
       "      <th>2020-01-01 17:00:00</th>\n",
       "      <td>-0.203802</td>\n",
       "      <td>-0.193768</td>\n",
       "      <td>-0.301737</td>\n",
       "    </tr>\n",
       "    <tr>\n",
       "      <th>2020-01-01 18:00:00</th>\n",
       "      <td>-0.339955</td>\n",
       "      <td>-0.637892</td>\n",
       "      <td>-0.022289</td>\n",
       "    </tr>\n",
       "    <tr>\n",
       "      <th>2020-01-01 19:00:00</th>\n",
       "      <td>-0.208474</td>\n",
       "      <td>-0.637892</td>\n",
       "      <td>0.388096</td>\n",
       "    </tr>\n",
       "    <tr>\n",
       "      <th>2020-01-01 20:00:00</th>\n",
       "      <td>-0.058888</td>\n",
       "      <td>-0.637892</td>\n",
       "      <td>0.358303</td>\n",
       "    </tr>\n",
       "    <tr>\n",
       "      <th>2020-01-01 21:00:00</th>\n",
       "      <td>-0.030733</td>\n",
       "      <td>-0.637892</td>\n",
       "      <td>0.232169</td>\n",
       "    </tr>\n",
       "    <tr>\n",
       "      <th>2020-01-01 22:00:00</th>\n",
       "      <td>0.026405</td>\n",
       "      <td>-0.637892</td>\n",
       "      <td>0.069575</td>\n",
       "    </tr>\n",
       "    <tr>\n",
       "      <th>2020-01-01 23:00:00</th>\n",
       "      <td>0.189765</td>\n",
       "      <td>-0.637892</td>\n",
       "      <td>-0.216728</td>\n",
       "    </tr>\n",
       "    <tr>\n",
       "      <th>2020-01-02 00:00:00</th>\n",
       "      <td>0.397268</td>\n",
       "      <td>-0.637892</td>\n",
       "      <td>-0.518838</td>\n",
       "    </tr>\n",
       "    <tr>\n",
       "      <th>2020-01-02 01:00:00</th>\n",
       "      <td>0.574060</td>\n",
       "      <td>-0.637892</td>\n",
       "      <td>-0.794365</td>\n",
       "    </tr>\n",
       "    <tr>\n",
       "      <th>2020-01-02 02:00:00</th>\n",
       "      <td>0.836876</td>\n",
       "      <td>-0.637892</td>\n",
       "      <td>-0.976903</td>\n",
       "    </tr>\n",
       "    <tr>\n",
       "      <th>2020-01-02 03:00:00</th>\n",
       "      <td>0.962809</td>\n",
       "      <td>-0.637892</td>\n",
       "      <td>-1.076963</td>\n",
       "    </tr>\n",
       "    <tr>\n",
       "      <th>2020-01-02 04:00:00</th>\n",
       "      <td>0.996634</td>\n",
       "      <td>-0.637892</td>\n",
       "      <td>-1.103248</td>\n",
       "    </tr>\n",
       "    <tr>\n",
       "      <th>2020-01-02 05:00:00</th>\n",
       "      <td>0.939812</td>\n",
       "      <td>-0.637892</td>\n",
       "      <td>-1.067551</td>\n",
       "    </tr>\n",
       "    <tr>\n",
       "      <th>2020-01-02 06:00:00</th>\n",
       "      <td>0.986292</td>\n",
       "      <td>-0.637892</td>\n",
       "      <td>-0.905754</td>\n",
       "    </tr>\n",
       "    <tr>\n",
       "      <th>2020-01-02 07:00:00</th>\n",
       "      <td>0.935773</td>\n",
       "      <td>-0.637892</td>\n",
       "      <td>-0.524345</td>\n",
       "    </tr>\n",
       "    <tr>\n",
       "      <th>2020-01-02 08:00:00</th>\n",
       "      <td>0.853497</td>\n",
       "      <td>-0.637892</td>\n",
       "      <td>0.022332</td>\n",
       "    </tr>\n",
       "    <tr>\n",
       "      <th>2020-01-02 09:00:00</th>\n",
       "      <td>0.903408</td>\n",
       "      <td>-0.637892</td>\n",
       "      <td>0.402286</td>\n",
       "    </tr>\n",
       "    <tr>\n",
       "      <th>2020-01-02 10:00:00</th>\n",
       "      <td>0.927523</td>\n",
       "      <td>-0.637892</td>\n",
       "      <td>0.456590</td>\n",
       "    </tr>\n",
       "    <tr>\n",
       "      <th>2020-01-02 11:00:00</th>\n",
       "      <td>0.843544</td>\n",
       "      <td>-0.301074</td>\n",
       "      <td>0.429304</td>\n",
       "    </tr>\n",
       "    <tr>\n",
       "      <th>2020-01-02 12:00:00</th>\n",
       "      <td>0.755501</td>\n",
       "      <td>-0.317467</td>\n",
       "      <td>0.407101</td>\n",
       "    </tr>\n",
       "    <tr>\n",
       "      <th>2020-01-02 13:00:00</th>\n",
       "      <td>0.724255</td>\n",
       "      <td>-0.345784</td>\n",
       "      <td>0.410168</td>\n",
       "    </tr>\n",
       "    <tr>\n",
       "      <th>2020-01-02 14:00:00</th>\n",
       "      <td>0.646651</td>\n",
       "      <td>0.041707</td>\n",
       "      <td>0.403510</td>\n",
       "    </tr>\n",
       "    <tr>\n",
       "      <th>2020-01-02 15:00:00</th>\n",
       "      <td>0.520937</td>\n",
       "      <td>0.399390</td>\n",
       "      <td>0.411190</td>\n",
       "    </tr>\n",
       "    <tr>\n",
       "      <th>2020-01-02 16:00:00</th>\n",
       "      <td>0.625601</td>\n",
       "      <td>0.260788</td>\n",
       "      <td>0.387589</td>\n",
       "    </tr>\n",
       "    <tr>\n",
       "      <th>2020-01-02 17:00:00</th>\n",
       "      <td>0.598711</td>\n",
       "      <td>-0.411359</td>\n",
       "      <td>0.394721</td>\n",
       "    </tr>\n",
       "    <tr>\n",
       "      <th>2020-01-02 18:00:00</th>\n",
       "      <td>0.693057</td>\n",
       "      <td>-0.637892</td>\n",
       "      <td>0.567212</td>\n",
       "    </tr>\n",
       "    <tr>\n",
       "      <th>2020-01-02 19:00:00</th>\n",
       "      <td>0.910951</td>\n",
       "      <td>-0.637892</td>\n",
       "      <td>0.823265</td>\n",
       "    </tr>\n",
       "    <tr>\n",
       "      <th>2020-01-02 20:00:00</th>\n",
       "      <td>1.038758</td>\n",
       "      <td>-0.637892</td>\n",
       "      <td>0.780293</td>\n",
       "    </tr>\n",
       "    <tr>\n",
       "      <th>2020-01-02 21:00:00</th>\n",
       "      <td>1.060318</td>\n",
       "      <td>-0.637892</td>\n",
       "      <td>0.614909</td>\n",
       "    </tr>\n",
       "    <tr>\n",
       "      <th>2020-01-02 22:00:00</th>\n",
       "      <td>1.041289</td>\n",
       "      <td>-0.637892</td>\n",
       "      <td>0.434004</td>\n",
       "    </tr>\n",
       "    <tr>\n",
       "      <th>2020-01-02 23:00:00</th>\n",
       "      <td>0.947454</td>\n",
       "      <td>-0.637892</td>\n",
       "      <td>0.159482</td>\n",
       "    </tr>\n",
       "    <tr>\n",
       "      <th>2020-01-03 00:00:00</th>\n",
       "      <td>0.888077</td>\n",
       "      <td>-0.637892</td>\n",
       "      <td>-0.146160</td>\n",
       "    </tr>\n",
       "  </tbody>\n",
       "</table>\n",
       "</div>"
      ],
      "text/plain": [
       "                         wind     solar  load_mwh\n",
       "dttm                                             \n",
       "2020-01-01 01:00:00  1.212703 -0.637892 -0.134964\n",
       "2020-01-01 02:00:00  1.187346 -0.637892 -0.308057\n",
       "2020-01-01 03:00:00  1.123248 -0.637892 -0.457112\n",
       "2020-01-01 04:00:00  1.094655 -0.637892 -0.560132\n",
       "2020-01-01 05:00:00  1.107966 -0.637892 -0.580114\n",
       "2020-01-01 06:00:00  1.102977 -0.637892 -0.552324\n",
       "2020-01-01 07:00:00  1.034280 -0.637892 -0.458147\n",
       "2020-01-01 08:00:00  0.906912 -0.637892 -0.384689\n",
       "2020-01-01 09:00:00  0.770418 -0.637892 -0.275502\n",
       "2020-01-01 10:00:00  0.582577 -0.637892 -0.252466\n",
       "2020-01-01 11:00:00  0.422892 -0.439676 -0.204555\n",
       "2020-01-01 12:00:00  0.200278 -0.219104 -0.144755\n",
       "2020-01-01 13:00:00 -0.048594 -0.035792 -0.177322\n",
       "2020-01-01 14:00:00 -0.108069  0.165405 -0.222760\n",
       "2020-01-01 15:00:00 -0.083685  0.509676 -0.331745\n",
       "2020-01-01 16:00:00 -0.133060  0.208626 -0.352254\n",
       "2020-01-01 17:00:00 -0.203802 -0.193768 -0.301737\n",
       "2020-01-01 18:00:00 -0.339955 -0.637892 -0.022289\n",
       "2020-01-01 19:00:00 -0.208474 -0.637892  0.388096\n",
       "2020-01-01 20:00:00 -0.058888 -0.637892  0.358303\n",
       "2020-01-01 21:00:00 -0.030733 -0.637892  0.232169\n",
       "2020-01-01 22:00:00  0.026405 -0.637892  0.069575\n",
       "2020-01-01 23:00:00  0.189765 -0.637892 -0.216728\n",
       "2020-01-02 00:00:00  0.397268 -0.637892 -0.518838\n",
       "2020-01-02 01:00:00  0.574060 -0.637892 -0.794365\n",
       "2020-01-02 02:00:00  0.836876 -0.637892 -0.976903\n",
       "2020-01-02 03:00:00  0.962809 -0.637892 -1.076963\n",
       "2020-01-02 04:00:00  0.996634 -0.637892 -1.103248\n",
       "2020-01-02 05:00:00  0.939812 -0.637892 -1.067551\n",
       "2020-01-02 06:00:00  0.986292 -0.637892 -0.905754\n",
       "2020-01-02 07:00:00  0.935773 -0.637892 -0.524345\n",
       "2020-01-02 08:00:00  0.853497 -0.637892  0.022332\n",
       "2020-01-02 09:00:00  0.903408 -0.637892  0.402286\n",
       "2020-01-02 10:00:00  0.927523 -0.637892  0.456590\n",
       "2020-01-02 11:00:00  0.843544 -0.301074  0.429304\n",
       "2020-01-02 12:00:00  0.755501 -0.317467  0.407101\n",
       "2020-01-02 13:00:00  0.724255 -0.345784  0.410168\n",
       "2020-01-02 14:00:00  0.646651  0.041707  0.403510\n",
       "2020-01-02 15:00:00  0.520937  0.399390  0.411190\n",
       "2020-01-02 16:00:00  0.625601  0.260788  0.387589\n",
       "2020-01-02 17:00:00  0.598711 -0.411359  0.394721\n",
       "2020-01-02 18:00:00  0.693057 -0.637892  0.567212\n",
       "2020-01-02 19:00:00  0.910951 -0.637892  0.823265\n",
       "2020-01-02 20:00:00  1.038758 -0.637892  0.780293\n",
       "2020-01-02 21:00:00  1.060318 -0.637892  0.614909\n",
       "2020-01-02 22:00:00  1.041289 -0.637892  0.434004\n",
       "2020-01-02 23:00:00  0.947454 -0.637892  0.159482\n",
       "2020-01-03 00:00:00  0.888077 -0.637892 -0.146160"
      ]
     },
     "execution_count": 32,
     "metadata": {},
     "output_type": "execute_result"
    }
   ],
   "source": [
    "# get dataframe with historical and future timeseries values\n",
    "# i.e. historical values from t_start:t_now and \n",
    "# future values from t_now:t_end\n",
    "# in production future values would come from forecasts \n",
    "# but actuals will be used for training\n",
    "hist_future_cols = ['wind', 'solar', 'load_mwh']\n",
    "hist_future = data_scaled.loc[t_idx.t_start[test_idx]:t_idx.t_end[test_idx], hist_future_cols]\n",
    "hist_future"
   ]
  },
  {
   "cell_type": "code",
   "execution_count": 33,
   "id": "573312f4-4923-41f9-b462-4d427e05d17b",
   "metadata": {},
   "outputs": [
    {
     "data": {
      "text/html": [
       "<div>\n",
       "<style scoped>\n",
       "    .dataframe tbody tr th:only-of-type {\n",
       "        vertical-align: middle;\n",
       "    }\n",
       "\n",
       "    .dataframe tbody tr th {\n",
       "        vertical-align: top;\n",
       "    }\n",
       "\n",
       "    .dataframe thead th {\n",
       "        text-align: right;\n",
       "    }\n",
       "</style>\n",
       "<table border=\"1\" class=\"dataframe\">\n",
       "  <thead>\n",
       "    <tr style=\"text-align: right;\">\n",
       "      <th></th>\n",
       "      <th>price</th>\n",
       "    </tr>\n",
       "    <tr>\n",
       "      <th>dttm</th>\n",
       "      <th></th>\n",
       "    </tr>\n",
       "  </thead>\n",
       "  <tbody>\n",
       "    <tr>\n",
       "      <th>2020-01-01 01:00:00</th>\n",
       "      <td>-0.704091</td>\n",
       "    </tr>\n",
       "    <tr>\n",
       "      <th>2020-01-01 02:00:00</th>\n",
       "      <td>-0.711573</td>\n",
       "    </tr>\n",
       "    <tr>\n",
       "      <th>2020-01-01 03:00:00</th>\n",
       "      <td>-0.724336</td>\n",
       "    </tr>\n",
       "    <tr>\n",
       "      <th>2020-01-01 04:00:00</th>\n",
       "      <td>-0.728297</td>\n",
       "    </tr>\n",
       "    <tr>\n",
       "      <th>2020-01-01 05:00:00</th>\n",
       "      <td>-0.710693</td>\n",
       "    </tr>\n",
       "    <tr>\n",
       "      <th>2020-01-01 06:00:00</th>\n",
       "      <td>-0.609906</td>\n",
       "    </tr>\n",
       "    <tr>\n",
       "      <th>2020-01-01 07:00:00</th>\n",
       "      <td>-0.565454</td>\n",
       "    </tr>\n",
       "    <tr>\n",
       "      <th>2020-01-01 08:00:00</th>\n",
       "      <td>-0.618708</td>\n",
       "    </tr>\n",
       "    <tr>\n",
       "      <th>2020-01-01 09:00:00</th>\n",
       "      <td>-0.570736</td>\n",
       "    </tr>\n",
       "    <tr>\n",
       "      <th>2020-01-01 10:00:00</th>\n",
       "      <td>-0.473030</td>\n",
       "    </tr>\n",
       "    <tr>\n",
       "      <th>2020-01-01 11:00:00</th>\n",
       "      <td>-0.450584</td>\n",
       "    </tr>\n",
       "    <tr>\n",
       "      <th>2020-01-01 12:00:00</th>\n",
       "      <td>-0.398650</td>\n",
       "    </tr>\n",
       "    <tr>\n",
       "      <th>2020-01-01 13:00:00</th>\n",
       "      <td>-0.367842</td>\n",
       "    </tr>\n",
       "    <tr>\n",
       "      <th>2020-01-01 14:00:00</th>\n",
       "      <td>-0.414054</td>\n",
       "    </tr>\n",
       "    <tr>\n",
       "      <th>2020-01-01 15:00:00</th>\n",
       "      <td>-0.473030</td>\n",
       "    </tr>\n",
       "    <tr>\n",
       "      <th>2020-01-01 16:00:00</th>\n",
       "      <td>-0.458946</td>\n",
       "    </tr>\n",
       "    <tr>\n",
       "      <th>2020-01-01 17:00:00</th>\n",
       "      <td>-0.443102</td>\n",
       "    </tr>\n",
       "    <tr>\n",
       "      <th>2020-01-01 18:00:00</th>\n",
       "      <td>-0.334393</td>\n",
       "    </tr>\n",
       "    <tr>\n",
       "      <th>2020-01-01 19:00:00</th>\n",
       "      <td>-0.322510</td>\n",
       "    </tr>\n",
       "    <tr>\n",
       "      <th>2020-01-01 20:00:00</th>\n",
       "      <td>-0.451024</td>\n",
       "    </tr>\n",
       "    <tr>\n",
       "      <th>2020-01-01 21:00:00</th>\n",
       "      <td>-0.479632</td>\n",
       "    </tr>\n",
       "    <tr>\n",
       "      <th>2020-01-01 22:00:00</th>\n",
       "      <td>-0.514841</td>\n",
       "    </tr>\n",
       "    <tr>\n",
       "      <th>2020-01-01 23:00:00</th>\n",
       "      <td>-0.547850</td>\n",
       "    </tr>\n",
       "    <tr>\n",
       "      <th>2020-01-02 00:00:00</th>\n",
       "      <td>-0.533326</td>\n",
       "    </tr>\n",
       "  </tbody>\n",
       "</table>\n",
       "</div>"
      ],
      "text/plain": [
       "                        price\n",
       "dttm                         \n",
       "2020-01-01 01:00:00 -0.704091\n",
       "2020-01-01 02:00:00 -0.711573\n",
       "2020-01-01 03:00:00 -0.724336\n",
       "2020-01-01 04:00:00 -0.728297\n",
       "2020-01-01 05:00:00 -0.710693\n",
       "2020-01-01 06:00:00 -0.609906\n",
       "2020-01-01 07:00:00 -0.565454\n",
       "2020-01-01 08:00:00 -0.618708\n",
       "2020-01-01 09:00:00 -0.570736\n",
       "2020-01-01 10:00:00 -0.473030\n",
       "2020-01-01 11:00:00 -0.450584\n",
       "2020-01-01 12:00:00 -0.398650\n",
       "2020-01-01 13:00:00 -0.367842\n",
       "2020-01-01 14:00:00 -0.414054\n",
       "2020-01-01 15:00:00 -0.473030\n",
       "2020-01-01 16:00:00 -0.458946\n",
       "2020-01-01 17:00:00 -0.443102\n",
       "2020-01-01 18:00:00 -0.334393\n",
       "2020-01-01 19:00:00 -0.322510\n",
       "2020-01-01 20:00:00 -0.451024\n",
       "2020-01-01 21:00:00 -0.479632\n",
       "2020-01-01 22:00:00 -0.514841\n",
       "2020-01-01 23:00:00 -0.547850\n",
       "2020-01-02 00:00:00 -0.533326"
      ]
     },
     "execution_count": 33,
     "metadata": {},
     "output_type": "execute_result"
    }
   ],
   "source": [
    "# get dataframe with historical timeseries values\n",
    "label_cols = ['price']\n",
    "hist = data_scaled.loc[t_idx.t_start[test_idx]:t_idx.t_now[test_idx], label_cols]\n",
    "hist"
   ]
  },
  {
   "cell_type": "code",
   "execution_count": 34,
   "id": "cc8dfbb7-8894-4134-8aaf-b55de114bb4d",
   "metadata": {},
   "outputs": [
    {
     "data": {
      "text/html": [
       "<div>\n",
       "<style scoped>\n",
       "    .dataframe tbody tr th:only-of-type {\n",
       "        vertical-align: middle;\n",
       "    }\n",
       "\n",
       "    .dataframe tbody tr th {\n",
       "        vertical-align: top;\n",
       "    }\n",
       "\n",
       "    .dataframe thead th {\n",
       "        text-align: right;\n",
       "    }\n",
       "</style>\n",
       "<table border=\"1\" class=\"dataframe\">\n",
       "  <thead>\n",
       "    <tr style=\"text-align: right;\">\n",
       "      <th></th>\n",
       "      <th>price</th>\n",
       "    </tr>\n",
       "    <tr>\n",
       "      <th>dttm</th>\n",
       "      <th></th>\n",
       "    </tr>\n",
       "  </thead>\n",
       "  <tbody>\n",
       "    <tr>\n",
       "      <th>2020-01-02 01:00:00</th>\n",
       "      <td>-0.591421</td>\n",
       "    </tr>\n",
       "    <tr>\n",
       "      <th>2020-01-02 02:00:00</th>\n",
       "      <td>-0.656558</td>\n",
       "    </tr>\n",
       "    <tr>\n",
       "      <th>2020-01-02 03:00:00</th>\n",
       "      <td>-0.687366</td>\n",
       "    </tr>\n",
       "    <tr>\n",
       "      <th>2020-01-02 04:00:00</th>\n",
       "      <td>-0.722136</td>\n",
       "    </tr>\n",
       "    <tr>\n",
       "      <th>2020-01-02 05:00:00</th>\n",
       "      <td>-0.758225</td>\n",
       "    </tr>\n",
       "    <tr>\n",
       "      <th>2020-01-02 06:00:00</th>\n",
       "      <td>-0.725216</td>\n",
       "    </tr>\n",
       "    <tr>\n",
       "      <th>2020-01-02 07:00:00</th>\n",
       "      <td>-0.664920</td>\n",
       "    </tr>\n",
       "    <tr>\n",
       "      <th>2020-01-02 08:00:00</th>\n",
       "      <td>-0.712453</td>\n",
       "    </tr>\n",
       "    <tr>\n",
       "      <th>2020-01-02 09:00:00</th>\n",
       "      <td>-0.713773</td>\n",
       "    </tr>\n",
       "    <tr>\n",
       "      <th>2020-01-02 10:00:00</th>\n",
       "      <td>-0.679884</td>\n",
       "    </tr>\n",
       "    <tr>\n",
       "      <th>2020-01-02 11:00:00</th>\n",
       "      <td>-0.625750</td>\n",
       "    </tr>\n",
       "    <tr>\n",
       "      <th>2020-01-02 12:00:00</th>\n",
       "      <td>-0.623109</td>\n",
       "    </tr>\n",
       "    <tr>\n",
       "      <th>2020-01-02 13:00:00</th>\n",
       "      <td>-0.612987</td>\n",
       "    </tr>\n",
       "    <tr>\n",
       "      <th>2020-01-02 14:00:00</th>\n",
       "      <td>-0.634552</td>\n",
       "    </tr>\n",
       "    <tr>\n",
       "      <th>2020-01-02 15:00:00</th>\n",
       "      <td>-0.656558</td>\n",
       "    </tr>\n",
       "    <tr>\n",
       "      <th>2020-01-02 16:00:00</th>\n",
       "      <td>-0.679004</td>\n",
       "    </tr>\n",
       "    <tr>\n",
       "      <th>2020-01-02 17:00:00</th>\n",
       "      <td>-0.605945</td>\n",
       "    </tr>\n",
       "    <tr>\n",
       "      <th>2020-01-02 18:00:00</th>\n",
       "      <td>-0.566775</td>\n",
       "    </tr>\n",
       "    <tr>\n",
       "      <th>2020-01-02 19:00:00</th>\n",
       "      <td>-0.600664</td>\n",
       "    </tr>\n",
       "    <tr>\n",
       "      <th>2020-01-02 20:00:00</th>\n",
       "      <td>-0.652597</td>\n",
       "    </tr>\n",
       "    <tr>\n",
       "      <th>2020-01-02 21:00:00</th>\n",
       "      <td>-0.693968</td>\n",
       "    </tr>\n",
       "    <tr>\n",
       "      <th>2020-01-02 22:00:00</th>\n",
       "      <td>-0.710693</td>\n",
       "    </tr>\n",
       "    <tr>\n",
       "      <th>2020-01-02 23:00:00</th>\n",
       "      <td>-0.721695</td>\n",
       "    </tr>\n",
       "    <tr>\n",
       "      <th>2020-01-03 00:00:00</th>\n",
       "      <td>-0.726977</td>\n",
       "    </tr>\n",
       "  </tbody>\n",
       "</table>\n",
       "</div>"
      ],
      "text/plain": [
       "                        price\n",
       "dttm                         \n",
       "2020-01-02 01:00:00 -0.591421\n",
       "2020-01-02 02:00:00 -0.656558\n",
       "2020-01-02 03:00:00 -0.687366\n",
       "2020-01-02 04:00:00 -0.722136\n",
       "2020-01-02 05:00:00 -0.758225\n",
       "2020-01-02 06:00:00 -0.725216\n",
       "2020-01-02 07:00:00 -0.664920\n",
       "2020-01-02 08:00:00 -0.712453\n",
       "2020-01-02 09:00:00 -0.713773\n",
       "2020-01-02 10:00:00 -0.679884\n",
       "2020-01-02 11:00:00 -0.625750\n",
       "2020-01-02 12:00:00 -0.623109\n",
       "2020-01-02 13:00:00 -0.612987\n",
       "2020-01-02 14:00:00 -0.634552\n",
       "2020-01-02 15:00:00 -0.656558\n",
       "2020-01-02 16:00:00 -0.679004\n",
       "2020-01-02 17:00:00 -0.605945\n",
       "2020-01-02 18:00:00 -0.566775\n",
       "2020-01-02 19:00:00 -0.600664\n",
       "2020-01-02 20:00:00 -0.652597\n",
       "2020-01-02 21:00:00 -0.693968\n",
       "2020-01-02 22:00:00 -0.710693\n",
       "2020-01-02 23:00:00 -0.721695\n",
       "2020-01-03 00:00:00 -0.726977"
      ]
     },
     "execution_count": 34,
     "metadata": {},
     "output_type": "execute_result"
    }
   ],
   "source": [
    "# get dataframe with future timeseries label values\n",
    "# this is what we're trying to predict\n",
    "label_cols = ['price']\n",
    "label = data_scaled.loc[(t_idx.t_now[test_idx]+pd.DateOffset(hours=1)):t_idx.t_end[test_idx], label_cols]\n",
    "label"
   ]
  },
  {
   "cell_type": "code",
   "execution_count": 35,
   "id": "113ab946-05da-4c45-ac5d-cabc204b2bfc",
   "metadata": {},
   "outputs": [],
   "source": [
    "# function to create tabular data from t_now index\n",
    "# this will consist of one hot encoding for timestamp variables\n",
    "def create_tabular_data(\n",
    "    t_now: pd._libs.tslibs.timestamps.Timestamp\n",
    ") -> pd.core.frame.DataFrame:\n",
    "    \n",
    "    hours = pd.DataFrame({f'hour_{i}':1*(t_now.hour == i) for i in range(24)}, index=[0])\n",
    "    dayofweek = pd.DataFrame({f'dayofweek_{i}':1*(t_now.dayofweek == i) for i in range(7)}, index=[0])\n",
    "    month = pd.DataFrame({f'month_{i}':1*(t_now.month == i) for i in range(1, 13)}, index=[0])\n",
    "    # week = pd.DataFrame({f'week_{i}':1*(t_now.isocalendar()[1] == i) for i in range(1, 54)}, index=[0])\n",
    "    day = pd.DataFrame({f'day_{i}':1*(t_now.day == i) for i in range(1,32)}, index=[0])\n",
    "        \n",
    "        \n",
    "    return pd.concat([day, month, dayofweek, hours], axis=1)"
   ]
  },
  {
   "cell_type": "code",
   "execution_count": 36,
   "id": "83bd0400-1661-48f6-abc7-93a941d6b740",
   "metadata": {},
   "outputs": [
    {
     "data": {
      "text/html": [
       "<div>\n",
       "<style scoped>\n",
       "    .dataframe tbody tr th:only-of-type {\n",
       "        vertical-align: middle;\n",
       "    }\n",
       "\n",
       "    .dataframe tbody tr th {\n",
       "        vertical-align: top;\n",
       "    }\n",
       "\n",
       "    .dataframe thead th {\n",
       "        text-align: right;\n",
       "    }\n",
       "</style>\n",
       "<table border=\"1\" class=\"dataframe\">\n",
       "  <thead>\n",
       "    <tr style=\"text-align: right;\">\n",
       "      <th></th>\n",
       "      <th>0</th>\n",
       "    </tr>\n",
       "  </thead>\n",
       "  <tbody>\n",
       "    <tr>\n",
       "      <th>day_1</th>\n",
       "      <td>0</td>\n",
       "    </tr>\n",
       "    <tr>\n",
       "      <th>day_2</th>\n",
       "      <td>1</td>\n",
       "    </tr>\n",
       "    <tr>\n",
       "      <th>day_3</th>\n",
       "      <td>0</td>\n",
       "    </tr>\n",
       "    <tr>\n",
       "      <th>day_4</th>\n",
       "      <td>0</td>\n",
       "    </tr>\n",
       "    <tr>\n",
       "      <th>day_5</th>\n",
       "      <td>0</td>\n",
       "    </tr>\n",
       "    <tr>\n",
       "      <th>...</th>\n",
       "      <td>...</td>\n",
       "    </tr>\n",
       "    <tr>\n",
       "      <th>hour_19</th>\n",
       "      <td>0</td>\n",
       "    </tr>\n",
       "    <tr>\n",
       "      <th>hour_20</th>\n",
       "      <td>0</td>\n",
       "    </tr>\n",
       "    <tr>\n",
       "      <th>hour_21</th>\n",
       "      <td>0</td>\n",
       "    </tr>\n",
       "    <tr>\n",
       "      <th>hour_22</th>\n",
       "      <td>0</td>\n",
       "    </tr>\n",
       "    <tr>\n",
       "      <th>hour_23</th>\n",
       "      <td>0</td>\n",
       "    </tr>\n",
       "  </tbody>\n",
       "</table>\n",
       "<p>74 rows × 1 columns</p>\n",
       "</div>"
      ],
      "text/plain": [
       "         0\n",
       "day_1    0\n",
       "day_2    1\n",
       "day_3    0\n",
       "day_4    0\n",
       "day_5    0\n",
       "...     ..\n",
       "hour_19  0\n",
       "hour_20  0\n",
       "hour_21  0\n",
       "hour_22  0\n",
       "hour_23  0\n",
       "\n",
       "[74 rows x 1 columns]"
      ]
     },
     "execution_count": 36,
     "metadata": {},
     "output_type": "execute_result"
    }
   ],
   "source": [
    "tabular_data = create_tabular_data(t_idx.t_now[test_idx])\n",
    "tabular_data.transpose()"
   ]
  },
  {
   "cell_type": "markdown",
   "id": "92d53a8f-6230-42b3-b06e-15015b76788c",
   "metadata": {},
   "source": [
    "## Custom dataloader"
   ]
  },
  {
   "cell_type": "code",
   "execution_count": 37,
   "id": "ce723bce-b2a4-4af4-ab1d-db5338906121",
   "metadata": {},
   "outputs": [],
   "source": [
    "# this the class for our custom data loader\n",
    "# it will return our timeseries dataframes, tabular data, and target values\n",
    "class CombineDataset(Dataset):\n",
    "\n",
    "    def __init__(self, t_idx, data_scaled, hist_future_cols, label_cols):\n",
    "        \"\"\"\n",
    "        Args:\n",
    "            t_idx (pd.DataFrame): DataFrame with t_start, t_now, t_end columns\n",
    "            t_idx (pd.DataFrame): DataFrame with wind, solar, load_mwh, price columns\n",
    "            hist_future_cols (List[str]): List of column names with historical and future values\n",
    "            label_cols (List[str]): List of label column names, used to create hist and label data\n",
    "        Returns:\n",
    "            hist_future (numpy.ndarray): sample with historical and future \n",
    "                wind, solar, load_mwh timeseries values\n",
    "            hist (numpy.ndarray): sample with historical price time series values\n",
    "            tabular (numpy.ndarray): sample with tabular data\n",
    "            label (numpy.ndarray): sample with future prices that is used for the target variable\n",
    "        \"\"\"\n",
    "        self.t_idx = t_idx\n",
    "        self.data_scaled = data_scaled\n",
    "        self.hist_future_cols = hist_future_cols\n",
    "        self.label_cols = label_cols\n",
    "\n",
    "    def __len__(self):\n",
    "        return (self.t_idx.shape[0])\n",
    "\n",
    "    def __getitem__(self, idx):\n",
    "        if torch.is_tensor(idx):\n",
    "            idx = idx.tolist()\n",
    "        \n",
    "        # print(f'idx: {idx}')\n",
    "        \n",
    "        # get historical and future timeseries\n",
    "        hist_future = self.data_scaled.loc[\n",
    "            self.t_idx.t_start[idx]:self.t_idx.t_end[idx], self.hist_future_cols\n",
    "        ].transpose()\n",
    "\n",
    "        # get historical label timeseries\n",
    "        hist = self.data_scaled.loc[\n",
    "            self.t_idx.t_start[idx]:self.t_idx.t_now[idx], self.label_cols\n",
    "        ].transpose()\n",
    "       \n",
    "        # get tabular data\n",
    "        tabular = create_tabular_data(self.t_idx.t_now[idx])\n",
    "        \n",
    "        # get label timeseries\n",
    "        label = self.data_scaled.loc[\n",
    "            (self.t_idx.t_now[idx]+pd.DateOffset(hours=1)):self.t_idx.t_end[idx], self.label_cols\n",
    "        ].transpose()\n",
    "\n",
    "        return hist_future.values, hist.values, tabular.values, label.values"
   ]
  },
  {
   "cell_type": "code",
   "execution_count": 38,
   "id": "a7bc759e-1558-4134-b08f-32c5704ec226",
   "metadata": {},
   "outputs": [
    {
     "data": {
      "text/html": [
       "<div>\n",
       "<style scoped>\n",
       "    .dataframe tbody tr th:only-of-type {\n",
       "        vertical-align: middle;\n",
       "    }\n",
       "\n",
       "    .dataframe tbody tr th {\n",
       "        vertical-align: top;\n",
       "    }\n",
       "\n",
       "    .dataframe thead th {\n",
       "        text-align: right;\n",
       "    }\n",
       "</style>\n",
       "<table border=\"1\" class=\"dataframe\">\n",
       "  <thead>\n",
       "    <tr style=\"text-align: right;\">\n",
       "      <th></th>\n",
       "      <th>t_start</th>\n",
       "      <th>t_now</th>\n",
       "      <th>t_end</th>\n",
       "    </tr>\n",
       "  </thead>\n",
       "  <tbody>\n",
       "    <tr>\n",
       "      <th>0</th>\n",
       "      <td>2022-05-10 23:00:00</td>\n",
       "      <td>2022-05-11 22:00:00</td>\n",
       "      <td>2022-05-12 22:00:00</td>\n",
       "    </tr>\n",
       "    <tr>\n",
       "      <th>1</th>\n",
       "      <td>2020-09-03 18:00:00</td>\n",
       "      <td>2020-09-04 17:00:00</td>\n",
       "      <td>2020-09-05 17:00:00</td>\n",
       "    </tr>\n",
       "    <tr>\n",
       "      <th>2</th>\n",
       "      <td>2021-08-14 04:00:00</td>\n",
       "      <td>2021-08-15 03:00:00</td>\n",
       "      <td>2021-08-16 03:00:00</td>\n",
       "    </tr>\n",
       "    <tr>\n",
       "      <th>3</th>\n",
       "      <td>2021-12-04 17:00:00</td>\n",
       "      <td>2021-12-05 16:00:00</td>\n",
       "      <td>2021-12-06 16:00:00</td>\n",
       "    </tr>\n",
       "    <tr>\n",
       "      <th>4</th>\n",
       "      <td>2020-12-04 10:00:00</td>\n",
       "      <td>2020-12-05 09:00:00</td>\n",
       "      <td>2020-12-06 09:00:00</td>\n",
       "    </tr>\n",
       "    <tr>\n",
       "      <th>...</th>\n",
       "      <td>...</td>\n",
       "      <td>...</td>\n",
       "      <td>...</td>\n",
       "    </tr>\n",
       "    <tr>\n",
       "      <th>17063</th>\n",
       "      <td>2020-04-26 03:00:00</td>\n",
       "      <td>2020-04-27 02:00:00</td>\n",
       "      <td>2020-04-28 02:00:00</td>\n",
       "    </tr>\n",
       "    <tr>\n",
       "      <th>17064</th>\n",
       "      <td>2021-01-20 20:00:00</td>\n",
       "      <td>2021-01-21 19:00:00</td>\n",
       "      <td>2021-01-22 19:00:00</td>\n",
       "    </tr>\n",
       "    <tr>\n",
       "      <th>17065</th>\n",
       "      <td>2020-03-12 14:00:00</td>\n",
       "      <td>2020-03-13 13:00:00</td>\n",
       "      <td>2020-03-14 13:00:00</td>\n",
       "    </tr>\n",
       "    <tr>\n",
       "      <th>17066</th>\n",
       "      <td>2020-04-22 09:00:00</td>\n",
       "      <td>2020-04-23 08:00:00</td>\n",
       "      <td>2020-04-24 08:00:00</td>\n",
       "    </tr>\n",
       "    <tr>\n",
       "      <th>17067</th>\n",
       "      <td>2020-03-18 01:00:00</td>\n",
       "      <td>2020-03-19 00:00:00</td>\n",
       "      <td>2020-03-20 00:00:00</td>\n",
       "    </tr>\n",
       "  </tbody>\n",
       "</table>\n",
       "<p>17068 rows × 3 columns</p>\n",
       "</div>"
      ],
      "text/plain": [
       "                  t_start               t_now               t_end\n",
       "0     2022-05-10 23:00:00 2022-05-11 22:00:00 2022-05-12 22:00:00\n",
       "1     2020-09-03 18:00:00 2020-09-04 17:00:00 2020-09-05 17:00:00\n",
       "2     2021-08-14 04:00:00 2021-08-15 03:00:00 2021-08-16 03:00:00\n",
       "3     2021-12-04 17:00:00 2021-12-05 16:00:00 2021-12-06 16:00:00\n",
       "4     2020-12-04 10:00:00 2020-12-05 09:00:00 2020-12-06 09:00:00\n",
       "...                   ...                 ...                 ...\n",
       "17063 2020-04-26 03:00:00 2020-04-27 02:00:00 2020-04-28 02:00:00\n",
       "17064 2021-01-20 20:00:00 2021-01-21 19:00:00 2021-01-22 19:00:00\n",
       "17065 2020-03-12 14:00:00 2020-03-13 13:00:00 2020-03-14 13:00:00\n",
       "17066 2020-04-22 09:00:00 2020-04-23 08:00:00 2020-04-24 08:00:00\n",
       "17067 2020-03-18 01:00:00 2020-03-19 00:00:00 2020-03-20 00:00:00\n",
       "\n",
       "[17068 rows x 3 columns]"
      ]
     },
     "execution_count": 38,
     "metadata": {},
     "output_type": "execute_result"
    }
   ],
   "source": [
    "# create t_idx_train and t_idx_test for train and test dataloaders\n",
    "t_idx_train = t_idx.iloc[TRAIN_IDX,:].reset_index(drop=True)\n",
    "t_idx_train"
   ]
  },
  {
   "cell_type": "code",
   "execution_count": 39,
   "id": "b199064d-1bed-49cb-85b0-22e3f4451be1",
   "metadata": {},
   "outputs": [
    {
     "data": {
      "text/html": [
       "<div>\n",
       "<style scoped>\n",
       "    .dataframe tbody tr th:only-of-type {\n",
       "        vertical-align: middle;\n",
       "    }\n",
       "\n",
       "    .dataframe tbody tr th {\n",
       "        vertical-align: top;\n",
       "    }\n",
       "\n",
       "    .dataframe thead th {\n",
       "        text-align: right;\n",
       "    }\n",
       "</style>\n",
       "<table border=\"1\" class=\"dataframe\">\n",
       "  <thead>\n",
       "    <tr style=\"text-align: right;\">\n",
       "      <th></th>\n",
       "      <th>t_start</th>\n",
       "      <th>t_now</th>\n",
       "      <th>t_end</th>\n",
       "    </tr>\n",
       "  </thead>\n",
       "  <tbody>\n",
       "    <tr>\n",
       "      <th>0</th>\n",
       "      <td>2020-01-01 10:00:00</td>\n",
       "      <td>2020-01-02 09:00:00</td>\n",
       "      <td>2020-01-03 09:00:00</td>\n",
       "    </tr>\n",
       "    <tr>\n",
       "      <th>1</th>\n",
       "      <td>2020-01-01 12:00:00</td>\n",
       "      <td>2020-01-02 11:00:00</td>\n",
       "      <td>2020-01-03 11:00:00</td>\n",
       "    </tr>\n",
       "    <tr>\n",
       "      <th>2</th>\n",
       "      <td>2020-01-01 14:00:00</td>\n",
       "      <td>2020-01-02 13:00:00</td>\n",
       "      <td>2020-01-03 13:00:00</td>\n",
       "    </tr>\n",
       "    <tr>\n",
       "      <th>3</th>\n",
       "      <td>2020-01-01 17:00:00</td>\n",
       "      <td>2020-01-02 16:00:00</td>\n",
       "      <td>2020-01-03 16:00:00</td>\n",
       "    </tr>\n",
       "    <tr>\n",
       "      <th>4</th>\n",
       "      <td>2020-01-02 01:00:00</td>\n",
       "      <td>2020-01-03 00:00:00</td>\n",
       "      <td>2020-01-04 00:00:00</td>\n",
       "    </tr>\n",
       "    <tr>\n",
       "      <th>...</th>\n",
       "      <td>...</td>\n",
       "      <td>...</td>\n",
       "      <td>...</td>\n",
       "    </tr>\n",
       "    <tr>\n",
       "      <th>4216</th>\n",
       "      <td>2022-06-05 11:00:00</td>\n",
       "      <td>2022-06-06 10:00:00</td>\n",
       "      <td>2022-06-07 10:00:00</td>\n",
       "    </tr>\n",
       "    <tr>\n",
       "      <th>4217</th>\n",
       "      <td>2022-06-05 12:00:00</td>\n",
       "      <td>2022-06-06 11:00:00</td>\n",
       "      <td>2022-06-07 11:00:00</td>\n",
       "    </tr>\n",
       "    <tr>\n",
       "      <th>4218</th>\n",
       "      <td>2022-06-05 18:00:00</td>\n",
       "      <td>2022-06-06 17:00:00</td>\n",
       "      <td>2022-06-07 17:00:00</td>\n",
       "    </tr>\n",
       "    <tr>\n",
       "      <th>4219</th>\n",
       "      <td>2022-06-05 23:00:00</td>\n",
       "      <td>2022-06-06 22:00:00</td>\n",
       "      <td>2022-06-07 22:00:00</td>\n",
       "    </tr>\n",
       "    <tr>\n",
       "      <th>4220</th>\n",
       "      <td>2022-06-06 01:00:00</td>\n",
       "      <td>2022-06-07 00:00:00</td>\n",
       "      <td>2022-06-08 00:00:00</td>\n",
       "    </tr>\n",
       "  </tbody>\n",
       "</table>\n",
       "<p>4221 rows × 3 columns</p>\n",
       "</div>"
      ],
      "text/plain": [
       "                 t_start               t_now               t_end\n",
       "0    2020-01-01 10:00:00 2020-01-02 09:00:00 2020-01-03 09:00:00\n",
       "1    2020-01-01 12:00:00 2020-01-02 11:00:00 2020-01-03 11:00:00\n",
       "2    2020-01-01 14:00:00 2020-01-02 13:00:00 2020-01-03 13:00:00\n",
       "3    2020-01-01 17:00:00 2020-01-02 16:00:00 2020-01-03 16:00:00\n",
       "4    2020-01-02 01:00:00 2020-01-03 00:00:00 2020-01-04 00:00:00\n",
       "...                  ...                 ...                 ...\n",
       "4216 2022-06-05 11:00:00 2022-06-06 10:00:00 2022-06-07 10:00:00\n",
       "4217 2022-06-05 12:00:00 2022-06-06 11:00:00 2022-06-07 11:00:00\n",
       "4218 2022-06-05 18:00:00 2022-06-06 17:00:00 2022-06-07 17:00:00\n",
       "4219 2022-06-05 23:00:00 2022-06-06 22:00:00 2022-06-07 22:00:00\n",
       "4220 2022-06-06 01:00:00 2022-06-07 00:00:00 2022-06-08 00:00:00\n",
       "\n",
       "[4221 rows x 3 columns]"
      ]
     },
     "execution_count": 39,
     "metadata": {},
     "output_type": "execute_result"
    }
   ],
   "source": [
    "t_idx_test = t_idx.iloc[TEST_IDX,:].reset_index(drop=True)\n",
    "t_idx_test"
   ]
  },
  {
   "cell_type": "code",
   "execution_count": 40,
   "id": "703d36a8-4bcc-4715-8a58-595e3804193f",
   "metadata": {},
   "outputs": [
    {
     "name": "stdout",
     "output_type": "stream",
     "text": [
      "hist_future.shape: torch.Size([64, 3, 48])\n",
      "hist.shape: torch.Size([64, 1, 24])\n",
      "tabular.shape: torch.Size([64, 1, 74])\n",
      "label.shape: torch.Size([64, 1, 24])\n",
      "hist_future.shape: torch.Size([1, 3, 48])\n",
      "hist.shape: torch.Size([1, 1, 24])\n",
      "tabular.shape: torch.Size([1, 1, 74])\n",
      "label.shape: torch.Size([1, 1, 24])\n"
     ]
    }
   ],
   "source": [
    "# build dataloader for testing dataloader functionality and examine outputs\n",
    "loader_testing = DataLoader(\n",
    "    CombineDataset(t_idx_train.loc[:64,:], data_scaled, hist_future_cols, label_cols),\n",
    "    batch_size = 64,\n",
    "    shuffle = True,\n",
    "    num_workers = 0,\n",
    "    drop_last=False\n",
    ")\n",
    "\n",
    "for data in loader_testing:\n",
    "    hist_future, hist, tabular, label = data\n",
    "    \n",
    "    print(f'hist_future.shape: {hist_future.shape}')\n",
    "    print(f'hist.shape: {hist.shape}')\n",
    "    print(f'tabular.shape: {tabular.shape}')\n",
    "    print(f'label.shape: {label.shape}')"
   ]
  },
  {
   "cell_type": "code",
   "execution_count": 41,
   "id": "0e193bb9-b842-4721-8da5-3e6db660a366",
   "metadata": {},
   "outputs": [],
   "source": [
    "# loader for training data\n",
    "BATCH_SIZE_TRAIN = 512\n",
    "\n",
    "train_set = CombineDataset(t_idx_train, data_scaled, hist_future_cols, label_cols)\n",
    "loader_train = DataLoader(\n",
    "    train_set,\n",
    "    batch_size = BATCH_SIZE_TRAIN,\n",
    "    shuffle = True,\n",
    "    num_workers = 0,\n",
    "    drop_last=False\n",
    ")"
   ]
  },
  {
   "cell_type": "code",
   "execution_count": 42,
   "id": "0fd16cc4-e888-4fdd-9af4-5acfc45d5a5a",
   "metadata": {},
   "outputs": [],
   "source": [
    "# loader for testing data\n",
    "BATCH_SIZE_TEST = 1024\n",
    "\n",
    "test_set = CombineDataset(t_idx_test, data_scaled, hist_future_cols, label_cols)\n",
    "loader_test = DataLoader(\n",
    "    test_set,\n",
    "    batch_size = BATCH_SIZE_TEST,\n",
    "    shuffle = True,\n",
    "    num_workers = 0,\n",
    "    drop_last=False\n",
    ")"
   ]
  },
  {
   "cell_type": "markdown",
   "id": "d79f7ee9-f3ba-4bf1-b9fd-eb3d02bd1439",
   "metadata": {},
   "source": [
    "## Build model"
   ]
  },
  {
   "cell_type": "code",
   "execution_count": 43,
   "id": "3fa7e3d3-d6d2-4e0d-b5eb-4b7a572ec57f",
   "metadata": {},
   "outputs": [],
   "source": [
    "import torch\n",
    "import torch.nn as nn\n",
    "import torch.nn.functional as F\n",
    "import torch.optim as optim\n",
    "from torch.optim.lr_scheduler import StepLR, ExponentialLR"
   ]
  },
  {
   "cell_type": "code",
   "execution_count": 44,
   "id": "4b5067dd-3e59-4f37-9745-70be3fb63c50",
   "metadata": {},
   "outputs": [
    {
     "data": {
      "text/plain": [
       "device(type='cuda')"
      ]
     },
     "execution_count": 44,
     "metadata": {},
     "output_type": "execute_result"
    }
   ],
   "source": [
    "device = torch.device(\"cuda\" if torch.cuda.is_available() else \"cpu\")\n",
    "device"
   ]
  },
  {
   "cell_type": "code",
   "execution_count": 45,
   "id": "9d653e90-29dd-41a1-8e2e-b3a9eb74dc9b",
   "metadata": {},
   "outputs": [],
   "source": [
    "class Net(nn.Module):\n",
    "    def __init__(self, \n",
    "                 hist_future_out_ch: List[int] = [8, 16],\n",
    "                 hist_future_ks: List[int] = [3, 3],\n",
    "                 hist_out_ch: List[int] = [8, 16],\n",
    "                 hist_ks: List[int] = [3, 3],\n",
    "                 drop_out: float = 0.0,\n",
    "                 n_fc: List[int] = [256, 64, 256],\n",
    "                ):\n",
    "        super(Net, self).__init__()\n",
    "        \n",
    "        self.hist_future_in_ch = 3\n",
    "        self.hist_in_ch = 1\n",
    "        self.tabular_in_ch = 74\n",
    "        \n",
    "        self.steps_hist_future = 48\n",
    "        self.steps_hist = 24\n",
    "        self.label_out_ch = 24\n",
    "        \n",
    "        self.hist_future_out_ch = hist_future_out_ch\n",
    "        self.hist_future_ks = hist_future_ks\n",
    "        \n",
    "        self.hist_out_ch = hist_out_ch\n",
    "        self.hist_ks = hist_ks\n",
    "        \n",
    "        self.drop_out = drop_out\n",
    "        \n",
    "        # calculate the number of inputs for the first fully connected layer\n",
    "        self.fc_in_ch = (\n",
    "            self.hist_future_out_ch[-1]*self.steps_hist_future + \n",
    "            self.hist_out_ch[-1]*self.steps_hist + \n",
    "            self.tabular_in_ch\n",
    "        )\n",
    "        self.n_fc = n_fc\n",
    "        \n",
    "        # check inputs\n",
    "        # out channel lists and kernel size lists need to be the same length\n",
    "        len_hf_oc = len(self.hist_future_out_ch)\n",
    "        len_hf_ks = len(self.hist_future_ks)\n",
    "        assert len_hf_oc == len_hf_ks, \\\n",
    "            f\"len(hist_future_out_ch) ({len_hf_oc}) != len(hist_future_ks) ({len_hf_ks})\"\n",
    "        \n",
    "        len_h_oc = len(self.hist_out_ch)\n",
    "        len_h_ks = len(self.hist_ks)\n",
    "        assert len_hf_oc == len_hf_ks, \\\n",
    "            f\"len(hist_out_ch) ({len_h_oc}) != len(hist_ks) ({len_h_ks})\"\n",
    "        \n",
    "        \n",
    "        # create convolution blocks\n",
    "        self.hist_future_conv = nn.ModuleList()\n",
    "        in_ch = [self.hist_future_in_ch] + self.hist_future_out_ch\n",
    "        for i in range(len(self.hist_future_out_ch)):\n",
    "            self.hist_future_conv.append(\n",
    "                nn.Sequential(\n",
    "                    nn.Conv1d(\n",
    "                        in_ch[i], \n",
    "                        self.hist_future_out_ch[i], \n",
    "                        self.hist_future_ks[i], \n",
    "                        padding='same'),\n",
    "                    nn.BatchNorm1d(self.hist_future_out_ch[i]),\n",
    "                    nn.ReLU()\n",
    "                )\n",
    "            )\n",
    "            \n",
    "        self.hist_conv = nn.ModuleList()\n",
    "        in_ch = [self.hist_in_ch] + self.hist_out_ch\n",
    "        for i in range(len(self.hist_out_ch)):\n",
    "            self.hist_conv.append(\n",
    "                nn.Sequential(\n",
    "                    nn.Conv1d(\n",
    "                        in_ch[i], \n",
    "                        self.hist_out_ch[i], \n",
    "                        self.hist_ks[i], \n",
    "                        padding='same'),\n",
    "                    nn.BatchNorm1d(self.hist_out_ch[i]),\n",
    "                    nn.ReLU()\n",
    "                )\n",
    "            )\n",
    "        \n",
    "        \n",
    "        # fully connected layers\n",
    "        self.fc = nn.ModuleList()\n",
    "        in_ch = [self.fc_in_ch] + self.n_fc\n",
    "        for i in range(len(self.n_fc)):\n",
    "            self.fc.append(nn.Linear(in_ch[i], self.n_fc[i]))\n",
    "            self.fc.append(nn.BatchNorm1d(self.n_fc[i]))\n",
    "            self.fc.append(nn.Dropout(self.drop_out))\n",
    "            self.fc.append(nn.ReLU())\n",
    "                \n",
    "        self.fc.append(nn.Linear(self.n_fc[-1], self.label_out_ch))\n",
    "    \n",
    "    \n",
    "    def forward(self, hist_future, hist, tabular):\n",
    "        \n",
    "        # forward pass through conv blocks\n",
    "        for layer in self.hist_future_conv:\n",
    "            hist_future = layer(hist_future)\n",
    "        \n",
    "        for layer in self.hist_conv:\n",
    "            hist = layer(hist)\n",
    "        \n",
    "        # flatten layers for concatenation\n",
    "        hist_future = torch.flatten(hist_future, start_dim=1)    \n",
    "        hist = torch.flatten(hist, start_dim=1)\n",
    "        tabular = torch.flatten(tabular, start_dim=1)\n",
    "        x = torch.cat((hist_future, hist, tabular), dim=1)\n",
    "        \n",
    "        # forward pass through fully connected layers\n",
    "        for layer in self.fc:\n",
    "            x = layer(x)\n",
    "\n",
    "        return x"
   ]
  },
  {
   "cell_type": "code",
   "execution_count": 46,
   "id": "172dfdea-5f80-4133-9a7e-4bcdada5936d",
   "metadata": {},
   "outputs": [],
   "source": [
    "def train(model, device, loader_train, optimizer, scaler, epoch, loss_func=F.mse_loss):\n",
    "    model.train()\n",
    "    rmse_losses = []\n",
    "    for batch_idx, (hist_future, hist, tabular, label) in enumerate(loader_train):\n",
    "        hist_future, hist, tabular, label = (hist_future.to(device), \n",
    "                                             hist.to(device), \n",
    "                                             tabular.to(device), \n",
    "                                             label.to(device)\n",
    "                                            )\n",
    "        \n",
    "        label = torch.flatten(label, start_dim=1)\n",
    "        \n",
    "        optimizer.zero_grad()\n",
    "        output = model.forward(hist_future, hist, tabular)\n",
    "        loss = loss_func(output, label)\n",
    "        # loss = F.l1_loss(output, label)\n",
    "        loss.backward()\n",
    "        optimizer.step()\n",
    "        \n",
    "        \n",
    "        if batch_idx % (2**3) == 0:\n",
    "            \n",
    "            label = label*scaler['sd'].price+scaler['means'].price\n",
    "            output = output*scaler['sd'].price+scaler['means'].price\n",
    "            mse_loss = F.mse_loss(output, label, reduction=\"sum\").item()\n",
    "            mae_loss = F.l1_loss(output, label, reduction=\"mean\").item()\n",
    "            \n",
    "            count = np.prod(label.shape)\n",
    "            \n",
    "            rmse_loss = np.sqrt(mse_loss/count)\n",
    "            mean_error = torch.sum(output-label)/count\n",
    "            \n",
    "            print(\n",
    "                \"Train Epoch: {} [{}/{} ({:.0f}%)]\\tRMSE loss: {:.4f}, MAE loss: {:.4f}, Mean error: {:.4f}\".format(\n",
    "                    epoch,\n",
    "                    batch_idx * len(hist_future),\n",
    "                    len(loader_train.dataset),\n",
    "                    100.0 * batch_idx / len(loader_train),\n",
    "                    rmse_loss,\n",
    "                    mae_loss,\n",
    "                    mean_error\n",
    "                )\n",
    "            )\n",
    "            \n",
    "        rmse_losses+=[rmse_loss]\n",
    "        \n",
    "    return {\n",
    "        'epoch':epoch,\n",
    "        'losses':rmse_losses\n",
    "    }"
   ]
  },
  {
   "cell_type": "code",
   "execution_count": 47,
   "id": "8e548167-e265-4c99-90f8-b9829a9f71d1",
   "metadata": {},
   "outputs": [],
   "source": [
    "# function to print test error metrics during training\n",
    "def test(model, device, loader_test, scaler, epoch):\n",
    "    model.eval()\n",
    "    mse_loss = 0\n",
    "    mae_loss = 0\n",
    "    mean_error = 0\n",
    "    \n",
    "    with torch.no_grad():\n",
    "        for hist_future, hist, tabular, label in loader_test:\n",
    "            hist_future, hist, tabular, label = (hist_future.to(device), \n",
    "                                             hist.to(device), \n",
    "                                             tabular.to(device), \n",
    "                                             label.to(device)\n",
    "                                            )\n",
    "            \n",
    "            # scaled actuals\n",
    "            label = torch.flatten(label, start_dim=1)\n",
    "            label = label*scaler['sd'].price+scaler['means'].price\n",
    "            \n",
    "            # scaled predictions\n",
    "            output = model.forward(hist_future, hist, tabular)\n",
    "            output = output*scaler['sd'].price+scaler['means'].price\n",
    "            \n",
    "            # calculate scaled loss\n",
    "            mse_loss += F.mse_loss(output, label, reduction=\"sum\").item()  # sum up batch loss\n",
    "            mae_loss += F.l1_loss(output, label, reduction=\"sum\").item()  # sum up batch loss\n",
    "            mean_error += torch.sum(output-label)\n",
    "    \n",
    "    \n",
    "    n_step = label.shape[-1]\n",
    "    n_pred = len(loader_test.dataset)\n",
    "    rmse_loss = np.sqrt(mse_loss/n_pred/n_step)\n",
    "    mae_loss = mae_loss/n_pred/n_step\n",
    "    mean_error = (mean_error/n_pred/n_step).item()\n",
    "    print('______________________________________________________')\n",
    "    print(\n",
    "        \"\\nTest set: RMSE loss: {:.4f}, MAE loss: {:.4f}, Mean error: {:.4f}\".format(\n",
    "            rmse_loss,\n",
    "            mae_loss,\n",
    "            mean_error,\n",
    "        )\n",
    "    )\n",
    "    print('______________________________________________________')\n",
    "    \n",
    "    return {\n",
    "        'epoch':epoch,\n",
    "        'test_rmse_loss':rmse_loss, \n",
    "        'test_mae_loss':mae_loss,\n",
    "        'test_mean_error':mean_error\n",
    "    }"
   ]
  },
  {
   "cell_type": "markdown",
   "id": "5e344e20-8ddd-4aac-bde6-ad43e8ce448a",
   "metadata": {},
   "source": [
    "# MLFlow"
   ]
  },
  {
   "cell_type": "code",
   "execution_count": 48,
   "id": "bea39e70-fb17-471a-9020-98033592027a",
   "metadata": {},
   "outputs": [],
   "source": [
    "import mlflow\n",
    "import mlflow.pytorch\n",
    "from mlflow.models.signature import infer_signature\n",
    "\n",
    "import warnings\n",
    "warnings.filterwarnings(\"ignore\")"
   ]
  },
  {
   "cell_type": "code",
   "execution_count": 49,
   "id": "a29ca78a-667a-4abb-ba1a-84c021416cf7",
   "metadata": {},
   "outputs": [],
   "source": [
    "# quiet warning when loggin run\n",
    "os.environ['GIT_PYTHON_REFRESH'] = 'quiet'"
   ]
  },
  {
   "cell_type": "code",
   "execution_count": 50,
   "id": "a6dd8d14-870b-4c9d-b189-35874e2bd794",
   "metadata": {},
   "outputs": [
    {
     "data": {
      "text/plain": [
       "'file:///workspace/src/mlruns'"
      ]
     },
     "execution_count": 50,
     "metadata": {},
     "output_type": "execute_result"
    }
   ],
   "source": [
    "# default: 'file:///{pwd}/mlruns'\n",
    "mlflow.get_tracking_uri()"
   ]
  },
  {
   "cell_type": "code",
   "execution_count": 51,
   "id": "a246afca-415b-41f5-b58e-b71dc3b85a80",
   "metadata": {},
   "outputs": [],
   "source": [
    "# MLFLOW_TRACKING_URI = 'sqlite:////workspace/mlruns/tracking.db'\n",
    "MLFLOW_TRACKING_URI = 'file:///workspace/mlruns'\n",
    "mlflow.set_tracking_uri(MLFLOW_TRACKING_URI)"
   ]
  },
  {
   "cell_type": "code",
   "execution_count": 52,
   "id": "05a5ac51-9d92-4961-9ab8-0af18c95a30e",
   "metadata": {},
   "outputs": [
    {
     "data": {
      "text/plain": [
       "'file:///workspace/mlruns'"
      ]
     },
     "execution_count": 52,
     "metadata": {},
     "output_type": "execute_result"
    }
   ],
   "source": [
    "# mlflow.set_tracking_uri('/workspace')\n",
    "os.chdir('/workspace')\n",
    "mlflow.get_tracking_uri()"
   ]
  },
  {
   "cell_type": "code",
   "execution_count": 53,
   "id": "2f3779cf-f388-4802-8872-1f4ffbd55040",
   "metadata": {},
   "outputs": [],
   "source": [
    "def run_experiment(\n",
    "    exp_params, \n",
    "    EXPERIMENT_NAME = \"pytorch_cnn_miso_price\",\n",
    "    MODEL_NAME = \"pytorch_cnn\"\n",
    "):\n",
    "    for i in range(len(exp_params)):\n",
    "        \n",
    "        print('\\n======================================================\\n')\n",
    "        print(f'Working on exp {i+1} of {len(exp_params)}\\n')\n",
    "        \n",
    "        # unpack params dictionaries\n",
    "        param_log_model, param_log_opti = exp_params[i]\n",
    "        \n",
    "        # check for gpu\n",
    "        device = torch.device(\"cuda\" if torch.cuda.is_available() else \"cpu\")\n",
    "        \n",
    "        # set random seeds\n",
    "        # https://pytorch.org/docs/stable/notes/randomness.html\n",
    "        torch.manual_seed(0)\n",
    "        np.random.seed(0)\n",
    "        random.seed(0)\n",
    "        \n",
    "        # instantiate model\n",
    "        model = Net(**param_log_model).double().to(device)\n",
    "        print(model)\n",
    "        \n",
    "        num_params = sum(param.numel() for param in model.parameters() if param.requires_grad)\n",
    "        print(f'\\nTotal number of parameters: {num_params:,}\\n')\n",
    "        \n",
    "        # for name, module in model.named_modules():\n",
    "        #     print(f'{name}, \\t- {sum(param.numel() for param in module.parameters()):,}')\n",
    "        \n",
    "        optimizer = optim.Adam(model.parameters(), lr=param_log_opti['lr'])\n",
    "        scheduler = ExponentialLR(optimizer, gamma=param_log_opti['gamma'], last_epoch=-1)\n",
    "        train_losses = []\n",
    "        results = []\n",
    "\n",
    "        for epoch in range(1, param_log_opti['epochs'] + 1):\n",
    "            train_losses += [train(model, device, loader_train, optimizer, scaler, epoch)]\n",
    "            results += [test(model, device, loader_test, scaler, epoch)]\n",
    "            scheduler.step()\n",
    "\n",
    "        print('TRAINING COMPLETE')\n",
    "        print('______________________________________________________')\n",
    "        \n",
    "        # script model for logging\n",
    "        scripted_model = torch.jit.script(model)  \n",
    "        \n",
    "        # parameters for logging\n",
    "        param_log = {'model':'pytorch_cnn'}\n",
    "        param_log.update(param_log_model)\n",
    "        param_log.update(param_log_opti)\n",
    "        \n",
    "        # metrics for logging\n",
    "        metrics = {}\n",
    "        for m in ['test_rmse_loss', 'test_mae_loss', 'test_mean_error']:\n",
    "            metrics[m] = results[-1][m]\n",
    "            \n",
    "        print('Logging model')\n",
    "\n",
    "        # create experiment if it does not exist\n",
    "        exp_list = mlflow.list_experiments()\n",
    "        if not any([e.name == EXPERIMENT_NAME for e in exp_list]):\n",
    "            mlflow.create_experiment(EXPERIMENT_NAME)\n",
    "\n",
    "        mlflow.set_experiment(EXPERIMENT_NAME)\n",
    "        experiment = mlflow.get_experiment_by_name(EXPERIMENT_NAME)\n",
    "        experiment.experiment_id\n",
    "\n",
    "        # script model for logging\n",
    "        # MODEL_URI = \"/workspace/models/scripted_model.pt\"\n",
    "        scripted_model = torch.jit.script(model) \n",
    "        # scripted_model.save(MODEL_URI)\n",
    "\n",
    "\n",
    "        with mlflow.start_run(experiment_id=experiment.experiment_id) as run:\n",
    "\n",
    "            mlflow.log_params(param_log)\n",
    "            mlflow.log_metrics(metrics)\n",
    "\n",
    "            tracking_url_type_store = urlparse(mlflow.get_tracking_uri()).scheme\n",
    "            # Model registry does not work with file store\n",
    "            if tracking_url_type_store != \"file\":\n",
    "                # Register the model\n",
    "                # There are other ways to use the Model Registry, which depends on the use case,\n",
    "                # please refer to the doc for more information:\n",
    "                # https://mlflow.org/docs/latest/model-registry.html#api-workflow\n",
    "                mlflow.pytorch.log_model(\n",
    "                    pytorch_model=scripted_model,\n",
    "                    artifact_path=MODEL_NAME,\n",
    "                    registered_model_name=\"pytorch_cnn_price_reg\"\n",
    "                )\n",
    "            else:\n",
    "                mlflow.pytorch.log_model(\n",
    "                    pytorch_model=scripted_model, \n",
    "                    artifact_path=MODEL_NAME)  # logging scripted model\n",
    "                \n",
    "    print('EXPERIMENT COMPLETE')\n",
    "\n",
    "    "
   ]
  },
  {
   "cell_type": "code",
   "execution_count": 54,
   "id": "aa5d86cc-d67f-4a74-9014-e14e8db4b8b7",
   "metadata": {},
   "outputs": [
    {
     "data": {
      "text/plain": [
       "[({'hist_future_out_ch': [8, 16],\n",
       "   'hist_future_ks': [3, 3],\n",
       "   'hist_out_ch': [8, 16],\n",
       "   'hist_ks': [3, 3],\n",
       "   'drop_out': 0.0,\n",
       "   'n_fc': [256, 128, 256]},\n",
       "  {'lr': 0.001, 'gamma': 0.95, 'epochs': 10}),\n",
       " ({'hist_future_out_ch': [8, 16],\n",
       "   'hist_future_ks': [3, 3],\n",
       "   'hist_out_ch': [8, 16],\n",
       "   'hist_ks': [3, 3],\n",
       "   'drop_out': 0.0,\n",
       "   'n_fc': [256, 256, 256]},\n",
       "  {'lr': 0.001, 'gamma': 0.95, 'epochs': 10}),\n",
       " ({'hist_future_out_ch': [8, 16],\n",
       "   'hist_future_ks': [3, 3],\n",
       "   'hist_out_ch': [8, 16],\n",
       "   'hist_ks': [3, 3],\n",
       "   'drop_out': 0.0,\n",
       "   'n_fc': [512, 256, 512]},\n",
       "  {'lr': 0.001, 'gamma': 0.95, 'epochs': 10})]"
      ]
     },
     "execution_count": 54,
     "metadata": {},
     "output_type": "execute_result"
    }
   ],
   "source": [
    "exp_params = []\n",
    "\n",
    "n_fcs = [\n",
    "    [256, 128, 256],\n",
    "    [256, 256, 256],\n",
    "    [512, 256, 512],\n",
    "]\n",
    "\n",
    "for n_fc in n_fcs:\n",
    "    param_log_model = {\n",
    "        'hist_future_out_ch':[8, 16],\n",
    "        'hist_future_ks': [3, 3],\n",
    "        'hist_out_ch': [8, 16],\n",
    "        'hist_ks': [3, 3],\n",
    "        'drop_out': 0.0,\n",
    "        'n_fc': n_fc,\n",
    "    }\n",
    "\n",
    "    param_log_opti = {\n",
    "        'lr': 0.001,\n",
    "        'gamma': 0.95,\n",
    "        'epochs': 10,\n",
    "    }\n",
    "\n",
    "    exp_params += [(param_log_model, param_log_opti)]\n",
    "    \n",
    "exp_params"
   ]
  },
  {
   "cell_type": "code",
   "execution_count": 55,
   "id": "a90ad057-fda9-4d66-8ff2-d8f413314b02",
   "metadata": {},
   "outputs": [],
   "source": [
    "# test optimizer scheduler\n",
    "# optimizer = optim.Adam(model.parameters(), lr=param_log_opti['lr'])\n",
    "# scheduler = ExponentialLR(optimizer, gamma=param_log_opti['gamma'], last_epoch=-1)\n",
    "# for epoch in range(1, param_log_opti['epochs'] + 1):\n",
    "#     optimizer.step()\n",
    "#     scheduler.step()\n",
    "    \n",
    "# scheduler.state_dict()"
   ]
  },
  {
   "cell_type": "code",
   "execution_count": 56,
   "id": "aa55ba34-4b6e-4d68-866b-8eed126988ee",
   "metadata": {},
   "outputs": [],
   "source": [
    "EXPERIMENT_NAME = \"pytorch_cnn_miso_price\"\n",
    "MODEL_NAME = \"pytorch_cnn\""
   ]
  },
  {
   "cell_type": "code",
   "execution_count": 57,
   "id": "092b720c-2d48-4991-b2e8-159881d32e84",
   "metadata": {},
   "outputs": [
    {
     "name": "stdout",
     "output_type": "stream",
     "text": [
      "\n",
      "======================================================\n",
      "\n",
      "Working on exp 1 of 3\n",
      "\n",
      "Net(\n",
      "  (hist_future_conv): ModuleList(\n",
      "    (0): Sequential(\n",
      "      (0): Conv1d(3, 8, kernel_size=(3,), stride=(1,), padding=same)\n",
      "      (1): BatchNorm1d(8, eps=1e-05, momentum=0.1, affine=True, track_running_stats=True)\n",
      "      (2): ReLU()\n",
      "    )\n",
      "    (1): Sequential(\n",
      "      (0): Conv1d(8, 16, kernel_size=(3,), stride=(1,), padding=same)\n",
      "      (1): BatchNorm1d(16, eps=1e-05, momentum=0.1, affine=True, track_running_stats=True)\n",
      "      (2): ReLU()\n",
      "    )\n",
      "  )\n",
      "  (hist_conv): ModuleList(\n",
      "    (0): Sequential(\n",
      "      (0): Conv1d(1, 8, kernel_size=(3,), stride=(1,), padding=same)\n",
      "      (1): BatchNorm1d(8, eps=1e-05, momentum=0.1, affine=True, track_running_stats=True)\n",
      "      (2): ReLU()\n",
      "    )\n",
      "    (1): Sequential(\n",
      "      (0): Conv1d(8, 16, kernel_size=(3,), stride=(1,), padding=same)\n",
      "      (1): BatchNorm1d(16, eps=1e-05, momentum=0.1, affine=True, track_running_stats=True)\n",
      "      (2): ReLU()\n",
      "    )\n",
      "  )\n",
      "  (fc): ModuleList(\n",
      "    (0): Linear(in_features=1226, out_features=256, bias=True)\n",
      "    (1): BatchNorm1d(256, eps=1e-05, momentum=0.1, affine=True, track_running_stats=True)\n",
      "    (2): Dropout(p=0.0, inplace=False)\n",
      "    (3): ReLU()\n",
      "    (4): Linear(in_features=256, out_features=128, bias=True)\n",
      "    (5): BatchNorm1d(128, eps=1e-05, momentum=0.1, affine=True, track_running_stats=True)\n",
      "    (6): Dropout(p=0.0, inplace=False)\n",
      "    (7): ReLU()\n",
      "    (8): Linear(in_features=128, out_features=256, bias=True)\n",
      "    (9): BatchNorm1d(256, eps=1e-05, momentum=0.1, affine=True, track_running_stats=True)\n",
      "    (10): Dropout(p=0.0, inplace=False)\n",
      "    (11): ReLU()\n",
      "    (12): Linear(in_features=256, out_features=24, bias=True)\n",
      "  )\n",
      ")\n",
      "\n",
      "Total number of parameters: 388,488\n",
      "\n",
      "Train Epoch: 1 [0/17068 (0%)]\tRMSE loss: 24.4112, MAE loss: 16.7046, Mean error: -0.1231\n",
      "Train Epoch: 1 [4096/17068 (24%)]\tRMSE loss: 19.3578, MAE loss: 11.3336, Mean error: -1.3589\n",
      "Train Epoch: 1 [8192/17068 (47%)]\tRMSE loss: 17.0543, MAE loss: 10.1407, Mean error: 1.2912\n",
      "Train Epoch: 1 [12288/17068 (71%)]\tRMSE loss: 16.4566, MAE loss: 9.6486, Mean error: -1.0760\n",
      "Train Epoch: 1 [16384/17068 (94%)]\tRMSE loss: 15.6259, MAE loss: 9.3462, Mean error: 2.0005\n",
      "______________________________________________________\n",
      "\n",
      "Test set: RMSE loss: 16.2833, MAE loss: 9.0676, Mean error: -0.9962\n",
      "______________________________________________________\n",
      "Train Epoch: 2 [0/17068 (0%)]\tRMSE loss: 16.3694, MAE loss: 9.1638, Mean error: -0.1850\n",
      "Train Epoch: 2 [4096/17068 (24%)]\tRMSE loss: 16.1940, MAE loss: 9.1532, Mean error: -1.0801\n",
      "Train Epoch: 2 [8192/17068 (47%)]\tRMSE loss: 16.1500, MAE loss: 9.1984, Mean error: -0.6169\n",
      "Train Epoch: 2 [12288/17068 (71%)]\tRMSE loss: 15.2219, MAE loss: 8.8556, Mean error: 0.4251\n",
      "Train Epoch: 2 [16384/17068 (94%)]\tRMSE loss: 15.5429, MAE loss: 8.5902, Mean error: -0.4307\n",
      "______________________________________________________\n",
      "\n",
      "Test set: RMSE loss: 15.5244, MAE loss: 8.9794, Mean error: 0.0531\n",
      "______________________________________________________\n",
      "Train Epoch: 3 [0/17068 (0%)]\tRMSE loss: 15.0021, MAE loss: 8.6785, Mean error: 0.3027\n",
      "Train Epoch: 3 [4096/17068 (24%)]\tRMSE loss: 14.3093, MAE loss: 8.4258, Mean error: 2.0345\n",
      "Train Epoch: 3 [8192/17068 (47%)]\tRMSE loss: 15.0062, MAE loss: 8.4275, Mean error: -1.0440\n",
      "Train Epoch: 3 [12288/17068 (71%)]\tRMSE loss: 14.4391, MAE loss: 8.3426, Mean error: 0.1038\n",
      "Train Epoch: 3 [16384/17068 (94%)]\tRMSE loss: 15.2892, MAE loss: 8.4695, Mean error: -0.9402\n",
      "______________________________________________________\n",
      "\n",
      "Test set: RMSE loss: 15.0989, MAE loss: 9.0212, Mean error: 1.6214\n",
      "______________________________________________________\n",
      "Train Epoch: 4 [0/17068 (0%)]\tRMSE loss: 14.5654, MAE loss: 8.2550, Mean error: 0.4979\n",
      "Train Epoch: 4 [4096/17068 (24%)]\tRMSE loss: 13.8457, MAE loss: 7.8569, Mean error: -0.2932\n",
      "Train Epoch: 4 [8192/17068 (47%)]\tRMSE loss: 14.6708, MAE loss: 8.2263, Mean error: -0.2623\n",
      "Train Epoch: 4 [12288/17068 (71%)]\tRMSE loss: 14.6420, MAE loss: 8.1267, Mean error: -1.2879\n",
      "Train Epoch: 4 [16384/17068 (94%)]\tRMSE loss: 13.9615, MAE loss: 8.1266, Mean error: 0.7698\n",
      "______________________________________________________\n",
      "\n",
      "Test set: RMSE loss: 14.6230, MAE loss: 8.1795, Mean error: -1.0396\n",
      "______________________________________________________\n",
      "Train Epoch: 5 [0/17068 (0%)]\tRMSE loss: 13.2584, MAE loss: 7.7738, Mean error: 1.0660\n",
      "Train Epoch: 5 [4096/17068 (24%)]\tRMSE loss: 13.2506, MAE loss: 7.5577, Mean error: 0.0402\n",
      "Train Epoch: 5 [8192/17068 (47%)]\tRMSE loss: 12.8065, MAE loss: 7.4787, Mean error: 0.1522\n",
      "Train Epoch: 5 [12288/17068 (71%)]\tRMSE loss: 13.8178, MAE loss: 7.8329, Mean error: -1.7550\n",
      "Train Epoch: 5 [16384/17068 (94%)]\tRMSE loss: 14.0237, MAE loss: 8.1710, Mean error: 0.1937\n",
      "______________________________________________________\n",
      "\n",
      "Test set: RMSE loss: 14.0922, MAE loss: 8.1727, Mean error: 0.7225\n",
      "______________________________________________________\n",
      "Train Epoch: 6 [0/17068 (0%)]\tRMSE loss: 12.8953, MAE loss: 7.5217, Mean error: 1.2605\n",
      "Train Epoch: 6 [4096/17068 (24%)]\tRMSE loss: 12.1787, MAE loss: 7.1274, Mean error: -0.1590\n",
      "Train Epoch: 6 [8192/17068 (47%)]\tRMSE loss: 13.1894, MAE loss: 7.3663, Mean error: -0.8868\n",
      "Train Epoch: 6 [12288/17068 (71%)]\tRMSE loss: 13.0169, MAE loss: 7.6671, Mean error: 0.9966\n",
      "Train Epoch: 6 [16384/17068 (94%)]\tRMSE loss: 12.6825, MAE loss: 7.2413, Mean error: -0.1166\n",
      "______________________________________________________\n",
      "\n",
      "Test set: RMSE loss: 13.9596, MAE loss: 8.0585, Mean error: 0.6587\n",
      "______________________________________________________\n",
      "Train Epoch: 7 [0/17068 (0%)]\tRMSE loss: 12.7675, MAE loss: 7.2174, Mean error: 0.0120\n",
      "Train Epoch: 7 [4096/17068 (24%)]\tRMSE loss: 11.9217, MAE loss: 7.1101, Mean error: 0.6282\n",
      "Train Epoch: 7 [8192/17068 (47%)]\tRMSE loss: 12.3762, MAE loss: 7.1227, Mean error: -0.1058\n",
      "Train Epoch: 7 [12288/17068 (71%)]\tRMSE loss: 12.3442, MAE loss: 7.0030, Mean error: -0.4359\n",
      "Train Epoch: 7 [16384/17068 (94%)]\tRMSE loss: 12.4483, MAE loss: 7.1087, Mean error: -0.4821\n",
      "______________________________________________________\n",
      "\n",
      "Test set: RMSE loss: 13.7008, MAE loss: 7.7643, Mean error: -0.9990\n",
      "______________________________________________________\n",
      "Train Epoch: 8 [0/17068 (0%)]\tRMSE loss: 12.3418, MAE loss: 6.9804, Mean error: -0.1861\n",
      "Train Epoch: 8 [4096/17068 (24%)]\tRMSE loss: 11.4283, MAE loss: 6.5701, Mean error: 0.1979\n",
      "Train Epoch: 8 [8192/17068 (47%)]\tRMSE loss: 12.2898, MAE loss: 6.9559, Mean error: 0.1881\n",
      "Train Epoch: 8 [12288/17068 (71%)]\tRMSE loss: 11.7156, MAE loss: 7.1869, Mean error: 1.8581\n",
      "Train Epoch: 8 [16384/17068 (94%)]\tRMSE loss: 12.1632, MAE loss: 6.8947, Mean error: -1.1875\n",
      "______________________________________________________\n",
      "\n",
      "Test set: RMSE loss: 13.4301, MAE loss: 7.6716, Mean error: -0.3104\n",
      "______________________________________________________\n",
      "Train Epoch: 9 [0/17068 (0%)]\tRMSE loss: 11.6046, MAE loss: 6.8538, Mean error: 1.3296\n",
      "Train Epoch: 9 [4096/17068 (24%)]\tRMSE loss: 11.3011, MAE loss: 6.5617, Mean error: 0.9419\n",
      "Train Epoch: 9 [8192/17068 (47%)]\tRMSE loss: 11.8192, MAE loss: 6.8447, Mean error: 1.1509\n",
      "Train Epoch: 9 [12288/17068 (71%)]\tRMSE loss: 11.9568, MAE loss: 6.8452, Mean error: -0.6026\n",
      "Train Epoch: 9 [16384/17068 (94%)]\tRMSE loss: 11.3118, MAE loss: 6.7154, Mean error: 0.9948\n",
      "______________________________________________________\n",
      "\n",
      "Test set: RMSE loss: 13.3186, MAE loss: 7.8483, Mean error: 0.8519\n",
      "______________________________________________________\n",
      "Train Epoch: 10 [0/17068 (0%)]\tRMSE loss: 11.0338, MAE loss: 6.3740, Mean error: 0.4747\n",
      "Train Epoch: 10 [4096/17068 (24%)]\tRMSE loss: 10.9563, MAE loss: 6.3319, Mean error: -0.2421\n",
      "Train Epoch: 10 [8192/17068 (47%)]\tRMSE loss: 11.1556, MAE loss: 6.3966, Mean error: 0.4529\n",
      "Train Epoch: 10 [12288/17068 (71%)]\tRMSE loss: 11.3985, MAE loss: 6.7544, Mean error: 1.2587\n",
      "Train Epoch: 10 [16384/17068 (94%)]\tRMSE loss: 11.0892, MAE loss: 6.5589, Mean error: 0.9138\n",
      "______________________________________________________\n",
      "\n",
      "Test set: RMSE loss: 13.1903, MAE loss: 7.7233, Mean error: 0.5416\n",
      "______________________________________________________\n",
      "TRAINING COMPLETE\n",
      "______________________________________________________\n",
      "Logging model\n",
      "\n",
      "======================================================\n",
      "\n",
      "Working on exp 2 of 3\n",
      "\n",
      "Net(\n",
      "  (hist_future_conv): ModuleList(\n",
      "    (0): Sequential(\n",
      "      (0): Conv1d(3, 8, kernel_size=(3,), stride=(1,), padding=same)\n",
      "      (1): BatchNorm1d(8, eps=1e-05, momentum=0.1, affine=True, track_running_stats=True)\n",
      "      (2): ReLU()\n",
      "    )\n",
      "    (1): Sequential(\n",
      "      (0): Conv1d(8, 16, kernel_size=(3,), stride=(1,), padding=same)\n",
      "      (1): BatchNorm1d(16, eps=1e-05, momentum=0.1, affine=True, track_running_stats=True)\n",
      "      (2): ReLU()\n",
      "    )\n",
      "  )\n",
      "  (hist_conv): ModuleList(\n",
      "    (0): Sequential(\n",
      "      (0): Conv1d(1, 8, kernel_size=(3,), stride=(1,), padding=same)\n",
      "      (1): BatchNorm1d(8, eps=1e-05, momentum=0.1, affine=True, track_running_stats=True)\n",
      "      (2): ReLU()\n",
      "    )\n",
      "    (1): Sequential(\n",
      "      (0): Conv1d(8, 16, kernel_size=(3,), stride=(1,), padding=same)\n",
      "      (1): BatchNorm1d(16, eps=1e-05, momentum=0.1, affine=True, track_running_stats=True)\n",
      "      (2): ReLU()\n",
      "    )\n",
      "  )\n",
      "  (fc): ModuleList(\n",
      "    (0): Linear(in_features=1226, out_features=256, bias=True)\n",
      "    (1): BatchNorm1d(256, eps=1e-05, momentum=0.1, affine=True, track_running_stats=True)\n",
      "    (2): Dropout(p=0.0, inplace=False)\n",
      "    (3): ReLU()\n",
      "    (4): Linear(in_features=256, out_features=256, bias=True)\n",
      "    (5): BatchNorm1d(256, eps=1e-05, momentum=0.1, affine=True, track_running_stats=True)\n",
      "    (6): Dropout(p=0.0, inplace=False)\n",
      "    (7): ReLU()\n",
      "    (8): Linear(in_features=256, out_features=256, bias=True)\n",
      "    (9): BatchNorm1d(256, eps=1e-05, momentum=0.1, affine=True, track_running_stats=True)\n",
      "    (10): Dropout(p=0.0, inplace=False)\n",
      "    (11): ReLU()\n",
      "    (12): Linear(in_features=256, out_features=24, bias=True)\n",
      "  )\n",
      ")\n",
      "\n",
      "Total number of parameters: 454,408\n",
      "\n",
      "Train Epoch: 1 [0/17068 (0%)]\tRMSE loss: 24.5676, MAE loss: 17.2767, Mean error: 2.0739\n",
      "Train Epoch: 1 [4096/17068 (24%)]\tRMSE loss: 16.9350, MAE loss: 10.4172, Mean error: 0.4998\n",
      "Train Epoch: 1 [8192/17068 (47%)]\tRMSE loss: 16.8423, MAE loss: 9.7730, Mean error: -0.4331\n",
      "Train Epoch: 1 [12288/17068 (71%)]\tRMSE loss: 16.7595, MAE loss: 9.8302, Mean error: 0.7001\n",
      "Train Epoch: 1 [16384/17068 (94%)]\tRMSE loss: 17.0688, MAE loss: 9.3808, Mean error: -1.4907\n",
      "______________________________________________________\n",
      "\n",
      "Test set: RMSE loss: 16.3728, MAE loss: 9.0868, Mean error: -1.0324\n",
      "______________________________________________________\n",
      "Train Epoch: 2 [0/17068 (0%)]\tRMSE loss: 17.4454, MAE loss: 9.5946, Mean error: -1.9062\n",
      "Train Epoch: 2 [4096/17068 (24%)]\tRMSE loss: 15.6679, MAE loss: 9.3419, Mean error: 1.2078\n",
      "Train Epoch: 2 [8192/17068 (47%)]\tRMSE loss: 15.3569, MAE loss: 8.7147, Mean error: 0.6086\n",
      "Train Epoch: 2 [12288/17068 (71%)]\tRMSE loss: 14.6377, MAE loss: 8.3747, Mean error: 0.0382\n",
      "Train Epoch: 2 [16384/17068 (94%)]\tRMSE loss: 15.7760, MAE loss: 9.1261, Mean error: 0.9943\n",
      "______________________________________________________\n",
      "\n",
      "Test set: RMSE loss: 15.6045, MAE loss: 9.1679, Mean error: 1.4593\n",
      "______________________________________________________\n",
      "Train Epoch: 3 [0/17068 (0%)]\tRMSE loss: 14.8025, MAE loss: 8.3923, Mean error: 0.8604\n",
      "Train Epoch: 3 [4096/17068 (24%)]\tRMSE loss: 15.4425, MAE loss: 8.5246, Mean error: -1.6043\n",
      "Train Epoch: 3 [8192/17068 (47%)]\tRMSE loss: 14.2086, MAE loss: 8.3284, Mean error: 0.7666\n",
      "Train Epoch: 3 [12288/17068 (71%)]\tRMSE loss: 14.6937, MAE loss: 8.2447, Mean error: -0.9456\n",
      "Train Epoch: 3 [16384/17068 (94%)]\tRMSE loss: 14.1457, MAE loss: 8.1459, Mean error: 0.9763\n",
      "______________________________________________________\n",
      "\n",
      "Test set: RMSE loss: 15.0468, MAE loss: 8.5089, Mean error: -0.1371\n",
      "______________________________________________________\n",
      "Train Epoch: 4 [0/17068 (0%)]\tRMSE loss: 15.1231, MAE loss: 8.4994, Mean error: 0.1165\n",
      "Train Epoch: 4 [4096/17068 (24%)]\tRMSE loss: 14.2176, MAE loss: 8.2390, Mean error: 0.6760\n",
      "Train Epoch: 4 [8192/17068 (47%)]\tRMSE loss: 14.2758, MAE loss: 8.2761, Mean error: 1.2789\n",
      "Train Epoch: 4 [12288/17068 (71%)]\tRMSE loss: 13.9901, MAE loss: 7.8420, Mean error: 0.4486\n",
      "Train Epoch: 4 [16384/17068 (94%)]\tRMSE loss: 13.1678, MAE loss: 7.6674, Mean error: 0.5789\n",
      "______________________________________________________\n",
      "\n",
      "Test set: RMSE loss: 14.4566, MAE loss: 8.3356, Mean error: 0.5946\n",
      "______________________________________________________\n",
      "Train Epoch: 5 [0/17068 (0%)]\tRMSE loss: 13.3841, MAE loss: 7.5922, Mean error: -0.0350\n",
      "Train Epoch: 5 [4096/17068 (24%)]\tRMSE loss: 13.0663, MAE loss: 7.6898, Mean error: 1.5167\n",
      "Train Epoch: 5 [8192/17068 (47%)]\tRMSE loss: 15.0271, MAE loss: 8.1469, Mean error: -2.5606\n",
      "Train Epoch: 5 [12288/17068 (71%)]\tRMSE loss: 13.1232, MAE loss: 7.7611, Mean error: 0.8987\n",
      "Train Epoch: 5 [16384/17068 (94%)]\tRMSE loss: 13.2019, MAE loss: 7.3653, Mean error: -0.1939\n",
      "______________________________________________________\n",
      "\n",
      "Test set: RMSE loss: 14.2451, MAE loss: 8.3290, Mean error: 1.1514\n",
      "______________________________________________________\n",
      "Train Epoch: 6 [0/17068 (0%)]\tRMSE loss: 13.3004, MAE loss: 7.3607, Mean error: -2.3093\n",
      "Train Epoch: 6 [4096/17068 (24%)]\tRMSE loss: 12.5383, MAE loss: 7.3889, Mean error: -0.3071\n",
      "Train Epoch: 6 [8192/17068 (47%)]\tRMSE loss: 12.6510, MAE loss: 7.3263, Mean error: -0.8588\n",
      "Train Epoch: 6 [12288/17068 (71%)]\tRMSE loss: 12.5989, MAE loss: 7.3853, Mean error: 0.7537\n",
      "Train Epoch: 6 [16384/17068 (94%)]\tRMSE loss: 12.6650, MAE loss: 7.1552, Mean error: 0.1447\n",
      "______________________________________________________\n",
      "\n",
      "Test set: RMSE loss: 13.9600, MAE loss: 7.8055, Mean error: -0.7662\n",
      "______________________________________________________\n",
      "Train Epoch: 7 [0/17068 (0%)]\tRMSE loss: 12.3156, MAE loss: 7.0004, Mean error: -0.5627\n",
      "Train Epoch: 7 [4096/17068 (24%)]\tRMSE loss: 12.8505, MAE loss: 7.1891, Mean error: -0.5768\n",
      "Train Epoch: 7 [8192/17068 (47%)]\tRMSE loss: 12.2463, MAE loss: 6.8563, Mean error: -1.2241\n",
      "Train Epoch: 7 [12288/17068 (71%)]\tRMSE loss: 12.6092, MAE loss: 7.2055, Mean error: 0.6566\n",
      "Train Epoch: 7 [16384/17068 (94%)]\tRMSE loss: 12.6128, MAE loss: 7.1329, Mean error: -0.4870\n",
      "______________________________________________________\n",
      "\n",
      "Test set: RMSE loss: 13.7945, MAE loss: 8.1373, Mean error: 1.4057\n",
      "______________________________________________________\n",
      "Train Epoch: 8 [0/17068 (0%)]\tRMSE loss: 12.2802, MAE loss: 6.8204, Mean error: -0.9277\n",
      "Train Epoch: 8 [4096/17068 (24%)]\tRMSE loss: 11.9912, MAE loss: 7.1618, Mean error: 1.2822\n",
      "Train Epoch: 8 [8192/17068 (47%)]\tRMSE loss: 12.0241, MAE loss: 6.8602, Mean error: -0.6931\n",
      "Train Epoch: 8 [12288/17068 (71%)]\tRMSE loss: 12.1132, MAE loss: 7.0082, Mean error: 0.0174\n",
      "Train Epoch: 8 [16384/17068 (94%)]\tRMSE loss: 12.1486, MAE loss: 6.8855, Mean error: -0.0914\n",
      "______________________________________________________\n",
      "\n",
      "Test set: RMSE loss: 13.5059, MAE loss: 7.7520, Mean error: 0.2446\n",
      "______________________________________________________\n",
      "Train Epoch: 9 [0/17068 (0%)]\tRMSE loss: 11.6272, MAE loss: 6.5447, Mean error: -0.6878\n",
      "Train Epoch: 9 [4096/17068 (24%)]\tRMSE loss: 11.4196, MAE loss: 6.6237, Mean error: 0.3650\n",
      "Train Epoch: 9 [8192/17068 (47%)]\tRMSE loss: 11.6653, MAE loss: 6.6820, Mean error: -0.0018\n",
      "Train Epoch: 9 [12288/17068 (71%)]\tRMSE loss: 11.1048, MAE loss: 6.7710, Mean error: 1.9378\n",
      "Train Epoch: 9 [16384/17068 (94%)]\tRMSE loss: 11.5999, MAE loss: 6.8174, Mean error: 0.8814\n",
      "______________________________________________________\n",
      "\n",
      "Test set: RMSE loss: 13.2595, MAE loss: 7.6223, Mean error: 0.2605\n",
      "______________________________________________________\n",
      "Train Epoch: 10 [0/17068 (0%)]\tRMSE loss: 11.8246, MAE loss: 6.5671, Mean error: -1.2097\n",
      "Train Epoch: 10 [4096/17068 (24%)]\tRMSE loss: 11.3990, MAE loss: 6.6177, Mean error: 0.6655\n",
      "Train Epoch: 10 [8192/17068 (47%)]\tRMSE loss: 11.3564, MAE loss: 6.4862, Mean error: 0.0657\n",
      "Train Epoch: 10 [12288/17068 (71%)]\tRMSE loss: 11.1698, MAE loss: 6.5293, Mean error: -0.0835\n",
      "Train Epoch: 10 [16384/17068 (94%)]\tRMSE loss: 11.9788, MAE loss: 6.7559, Mean error: 0.1575\n",
      "______________________________________________________\n",
      "\n",
      "Test set: RMSE loss: 13.2844, MAE loss: 7.6029, Mean error: -0.4086\n",
      "______________________________________________________\n",
      "TRAINING COMPLETE\n",
      "______________________________________________________\n",
      "Logging model\n",
      "\n",
      "======================================================\n",
      "\n",
      "Working on exp 3 of 3\n",
      "\n",
      "Net(\n",
      "  (hist_future_conv): ModuleList(\n",
      "    (0): Sequential(\n",
      "      (0): Conv1d(3, 8, kernel_size=(3,), stride=(1,), padding=same)\n",
      "      (1): BatchNorm1d(8, eps=1e-05, momentum=0.1, affine=True, track_running_stats=True)\n",
      "      (2): ReLU()\n",
      "    )\n",
      "    (1): Sequential(\n",
      "      (0): Conv1d(8, 16, kernel_size=(3,), stride=(1,), padding=same)\n",
      "      (1): BatchNorm1d(16, eps=1e-05, momentum=0.1, affine=True, track_running_stats=True)\n",
      "      (2): ReLU()\n",
      "    )\n",
      "  )\n",
      "  (hist_conv): ModuleList(\n",
      "    (0): Sequential(\n",
      "      (0): Conv1d(1, 8, kernel_size=(3,), stride=(1,), padding=same)\n",
      "      (1): BatchNorm1d(8, eps=1e-05, momentum=0.1, affine=True, track_running_stats=True)\n",
      "      (2): ReLU()\n",
      "    )\n",
      "    (1): Sequential(\n",
      "      (0): Conv1d(8, 16, kernel_size=(3,), stride=(1,), padding=same)\n",
      "      (1): BatchNorm1d(16, eps=1e-05, momentum=0.1, affine=True, track_running_stats=True)\n",
      "      (2): ReLU()\n",
      "    )\n",
      "  )\n",
      "  (fc): ModuleList(\n",
      "    (0): Linear(in_features=1226, out_features=512, bias=True)\n",
      "    (1): BatchNorm1d(512, eps=1e-05, momentum=0.1, affine=True, track_running_stats=True)\n",
      "    (2): Dropout(p=0.0, inplace=False)\n",
      "    (3): ReLU()\n",
      "    (4): Linear(in_features=512, out_features=256, bias=True)\n",
      "    (5): BatchNorm1d(256, eps=1e-05, momentum=0.1, affine=True, track_running_stats=True)\n",
      "    (6): Dropout(p=0.0, inplace=False)\n",
      "    (7): ReLU()\n",
      "    (8): Linear(in_features=256, out_features=512, bias=True)\n",
      "    (9): BatchNorm1d(512, eps=1e-05, momentum=0.1, affine=True, track_running_stats=True)\n",
      "    (10): Dropout(p=0.0, inplace=False)\n",
      "    (11): ReLU()\n",
      "    (12): Linear(in_features=512, out_features=24, bias=True)\n",
      "  )\n",
      ")\n",
      "\n",
      "Total number of parameters: 907,016\n",
      "\n",
      "Train Epoch: 1 [0/17068 (0%)]\tRMSE loss: 23.9015, MAE loss: 16.5389, Mean error: 0.3651\n",
      "Train Epoch: 1 [4096/17068 (24%)]\tRMSE loss: 17.4702, MAE loss: 10.3288, Mean error: -0.6382\n",
      "Train Epoch: 1 [8192/17068 (47%)]\tRMSE loss: 17.2100, MAE loss: 9.9051, Mean error: 0.1911\n",
      "Train Epoch: 1 [12288/17068 (71%)]\tRMSE loss: 15.4991, MAE loss: 9.3269, Mean error: 1.3234\n",
      "Train Epoch: 1 [16384/17068 (94%)]\tRMSE loss: 15.7190, MAE loss: 9.0243, Mean error: 0.0550\n",
      "______________________________________________________\n",
      "\n",
      "Test set: RMSE loss: 16.1796, MAE loss: 9.0700, Mean error: -1.0016\n",
      "______________________________________________________\n",
      "Train Epoch: 2 [0/17068 (0%)]\tRMSE loss: 15.6463, MAE loss: 9.0860, Mean error: 0.1632\n",
      "Train Epoch: 2 [4096/17068 (24%)]\tRMSE loss: 15.1505, MAE loss: 8.8067, Mean error: 0.8316\n",
      "Train Epoch: 2 [8192/17068 (47%)]\tRMSE loss: 14.5653, MAE loss: 8.5866, Mean error: 1.9846\n",
      "Train Epoch: 2 [12288/17068 (71%)]\tRMSE loss: 14.9734, MAE loss: 8.7933, Mean error: 0.4602\n",
      "Train Epoch: 2 [16384/17068 (94%)]\tRMSE loss: 14.6416, MAE loss: 8.4737, Mean error: 1.8430\n",
      "______________________________________________________\n",
      "\n",
      "Test set: RMSE loss: 15.1791, MAE loss: 8.6722, Mean error: 0.2135\n",
      "______________________________________________________\n",
      "Train Epoch: 3 [0/17068 (0%)]\tRMSE loss: 14.6258, MAE loss: 8.3079, Mean error: 0.5391\n",
      "Train Epoch: 3 [4096/17068 (24%)]\tRMSE loss: 13.8347, MAE loss: 8.4921, Mean error: 1.3441\n",
      "Train Epoch: 3 [8192/17068 (47%)]\tRMSE loss: 14.6738, MAE loss: 8.4671, Mean error: -0.0020\n",
      "Train Epoch: 3 [12288/17068 (71%)]\tRMSE loss: 13.0644, MAE loss: 7.8692, Mean error: 0.2701\n",
      "Train Epoch: 3 [16384/17068 (94%)]\tRMSE loss: 13.5307, MAE loss: 8.0829, Mean error: 1.1727\n",
      "______________________________________________________\n",
      "\n",
      "Test set: RMSE loss: 14.5839, MAE loss: 8.5070, Mean error: 1.1199\n",
      "______________________________________________________\n",
      "Train Epoch: 4 [0/17068 (0%)]\tRMSE loss: 13.5825, MAE loss: 7.5603, Mean error: -0.0717\n",
      "Train Epoch: 4 [4096/17068 (24%)]\tRMSE loss: 13.2355, MAE loss: 7.8736, Mean error: 1.1547\n",
      "Train Epoch: 4 [8192/17068 (47%)]\tRMSE loss: 14.0803, MAE loss: 7.9851, Mean error: 1.1851\n",
      "Train Epoch: 4 [12288/17068 (71%)]\tRMSE loss: 13.0844, MAE loss: 7.6923, Mean error: 0.0749\n",
      "Train Epoch: 4 [16384/17068 (94%)]\tRMSE loss: 13.6178, MAE loss: 8.2529, Mean error: 2.0814\n",
      "______________________________________________________\n",
      "\n",
      "Test set: RMSE loss: 14.2815, MAE loss: 8.2665, Mean error: 0.3765\n",
      "______________________________________________________\n",
      "Train Epoch: 5 [0/17068 (0%)]\tRMSE loss: 12.6136, MAE loss: 7.5133, Mean error: 0.8462\n",
      "Train Epoch: 5 [4096/17068 (24%)]\tRMSE loss: 12.8963, MAE loss: 7.4619, Mean error: -1.0484\n",
      "Train Epoch: 5 [8192/17068 (47%)]\tRMSE loss: 12.8840, MAE loss: 7.5538, Mean error: 1.0838\n",
      "Train Epoch: 5 [12288/17068 (71%)]\tRMSE loss: 12.6498, MAE loss: 7.2984, Mean error: -0.3520\n",
      "Train Epoch: 5 [16384/17068 (94%)]\tRMSE loss: 13.4676, MAE loss: 7.6890, Mean error: 0.5267\n",
      "______________________________________________________\n",
      "\n",
      "Test set: RMSE loss: 13.9519, MAE loss: 7.8806, Mean error: -0.4790\n",
      "______________________________________________________\n",
      "Train Epoch: 6 [0/17068 (0%)]\tRMSE loss: 12.5701, MAE loss: 7.0527, Mean error: -0.8807\n",
      "Train Epoch: 6 [4096/17068 (24%)]\tRMSE loss: 12.5036, MAE loss: 7.1635, Mean error: -1.3058\n",
      "Train Epoch: 6 [8192/17068 (47%)]\tRMSE loss: 11.8348, MAE loss: 7.3491, Mean error: 2.1334\n",
      "Train Epoch: 6 [12288/17068 (71%)]\tRMSE loss: 11.8515, MAE loss: 6.8864, Mean error: -0.3706\n",
      "Train Epoch: 6 [16384/17068 (94%)]\tRMSE loss: 12.7897, MAE loss: 7.2738, Mean error: 0.4824\n",
      "______________________________________________________\n",
      "\n",
      "Test set: RMSE loss: 13.6813, MAE loss: 8.0199, Mean error: 1.3987\n",
      "______________________________________________________\n",
      "Train Epoch: 7 [0/17068 (0%)]\tRMSE loss: 11.5485, MAE loss: 6.7813, Mean error: 1.0226\n",
      "Train Epoch: 7 [4096/17068 (24%)]\tRMSE loss: 11.9712, MAE loss: 6.7615, Mean error: -0.9114\n",
      "Train Epoch: 7 [8192/17068 (47%)]\tRMSE loss: 11.6189, MAE loss: 6.6943, Mean error: -0.2334\n",
      "Train Epoch: 7 [12288/17068 (71%)]\tRMSE loss: 11.8712, MAE loss: 6.9670, Mean error: 0.1625\n",
      "Train Epoch: 7 [16384/17068 (94%)]\tRMSE loss: 12.1571, MAE loss: 6.8441, Mean error: -1.7556\n",
      "______________________________________________________\n",
      "\n",
      "Test set: RMSE loss: 13.3813, MAE loss: 7.6935, Mean error: -0.0177\n",
      "______________________________________________________\n",
      "Train Epoch: 8 [0/17068 (0%)]\tRMSE loss: 11.4051, MAE loss: 6.5241, Mean error: -0.6942\n",
      "Train Epoch: 8 [4096/17068 (24%)]\tRMSE loss: 11.8220, MAE loss: 6.7703, Mean error: 0.3093\n",
      "Train Epoch: 8 [8192/17068 (47%)]\tRMSE loss: 11.1766, MAE loss: 6.5717, Mean error: -0.6192\n",
      "Train Epoch: 8 [12288/17068 (71%)]\tRMSE loss: 11.1203, MAE loss: 6.5993, Mean error: 0.3621\n",
      "Train Epoch: 8 [16384/17068 (94%)]\tRMSE loss: 10.9720, MAE loss: 6.4798, Mean error: -0.8615\n",
      "______________________________________________________\n",
      "\n",
      "Test set: RMSE loss: 13.3387, MAE loss: 7.6441, Mean error: -1.1201\n",
      "______________________________________________________\n",
      "Train Epoch: 9 [0/17068 (0%)]\tRMSE loss: 10.9922, MAE loss: 6.2911, Mean error: -1.0494\n",
      "Train Epoch: 9 [4096/17068 (24%)]\tRMSE loss: 10.7962, MAE loss: 6.3393, Mean error: 0.3001\n",
      "Train Epoch: 9 [8192/17068 (47%)]\tRMSE loss: 11.3607, MAE loss: 6.3948, Mean error: -0.5895\n",
      "Train Epoch: 9 [12288/17068 (71%)]\tRMSE loss: 11.0505, MAE loss: 6.3267, Mean error: -0.2527\n",
      "Train Epoch: 9 [16384/17068 (94%)]\tRMSE loss: 10.8885, MAE loss: 6.7189, Mean error: 2.0865\n",
      "______________________________________________________\n",
      "\n",
      "Test set: RMSE loss: 13.0326, MAE loss: 7.4455, Mean error: -0.3142\n",
      "______________________________________________________\n",
      "Train Epoch: 10 [0/17068 (0%)]\tRMSE loss: 10.5735, MAE loss: 6.1903, Mean error: -0.4342\n",
      "Train Epoch: 10 [4096/17068 (24%)]\tRMSE loss: 10.8320, MAE loss: 6.3005, Mean error: 0.6958\n",
      "Train Epoch: 10 [8192/17068 (47%)]\tRMSE loss: 10.1018, MAE loss: 6.1317, Mean error: 1.3476\n",
      "Train Epoch: 10 [12288/17068 (71%)]\tRMSE loss: 10.4818, MAE loss: 6.0851, Mean error: -0.8113\n",
      "Train Epoch: 10 [16384/17068 (94%)]\tRMSE loss: 11.2964, MAE loss: 6.3943, Mean error: 0.0125\n",
      "______________________________________________________\n",
      "\n",
      "Test set: RMSE loss: 12.9364, MAE loss: 7.5615, Mean error: 0.9379\n",
      "______________________________________________________\n",
      "TRAINING COMPLETE\n",
      "______________________________________________________\n",
      "Logging model\n",
      "EXPERIMENT COMPLETE\n"
     ]
    }
   ],
   "source": [
    "run_experiment(exp_params, EXPERIMENT_NAME, MODEL_NAME)"
   ]
  },
  {
   "cell_type": "markdown",
   "id": "9d5b124f-70dd-4a8c-97ef-1e51c19de9db",
   "metadata": {},
   "source": [
    "## MLFlow UI\n",
    "\n",
    "To view logged models via the mlflow ui run: `mlflow ui` from the directory with the mlruns folder. In a terminal to start ui server and then go to: http://localhost:5000."
   ]
  },
  {
   "cell_type": "markdown",
   "id": "e6f494d6-a14c-4c63-91c0-ecc9a8ab71b8",
   "metadata": {},
   "source": [
    "## MLFLow search runs"
   ]
  },
  {
   "cell_type": "code",
   "execution_count": 58,
   "id": "a8d0f6d6-2d7a-4d58-bc1d-d433c1bf61a3",
   "metadata": {},
   "outputs": [],
   "source": [
    "from mlflow.tracking.client import MlflowClient\n",
    "from mlflow.entities import ViewType"
   ]
  },
  {
   "cell_type": "code",
   "execution_count": 59,
   "id": "9a3953a1-ed32-4a48-999b-ff931ec84201",
   "metadata": {},
   "outputs": [
    {
     "name": "stdout",
     "output_type": "stream",
     "text": [
      "pytorch_cnn_miso_price\n"
     ]
    },
    {
     "data": {
      "text/plain": [
       "'0'"
      ]
     },
     "execution_count": 59,
     "metadata": {},
     "output_type": "execute_result"
    }
   ],
   "source": [
    "print(EXPERIMENT_NAME)\n",
    "experiment = mlflow.get_experiment_by_name(EXPERIMENT_NAME)\n",
    "experiment.experiment_id"
   ]
  },
  {
   "cell_type": "code",
   "execution_count": 60,
   "id": "8d078494-fe0b-4d0c-8d77-aea0db75c47b",
   "metadata": {},
   "outputs": [
    {
     "data": {
      "text/plain": [
       "{'info': {'artifact_uri': 'file:///workspace/mlruns/0/f33a558db2d948af90064da862e3f81f/artifacts',\n",
       "  'end_time': 1655157383923,\n",
       "  'experiment_id': '0',\n",
       "  'lifecycle_stage': 'active',\n",
       "  'run_id': 'f33a558db2d948af90064da862e3f81f',\n",
       "  'run_uuid': 'f33a558db2d948af90064da862e3f81f',\n",
       "  'start_time': 1655157380100,\n",
       "  'status': 'FINISHED',\n",
       "  'user_id': 'root'},\n",
       " 'data': {'metrics': {'test_rmse_loss': 12.936359018680882,\n",
       "   'test_mae_loss': 7.561518101045109,\n",
       "   'test_mean_error': 0.9378922550869062},\n",
       "  'params': {'epochs': '10',\n",
       "   'lr': '0.001',\n",
       "   'model': 'pytorch_cnn',\n",
       "   'hist_ks': '[3, 3]',\n",
       "   'hist_out_ch': '[8, 16]',\n",
       "   'n_fc': '[512, 256, 512]',\n",
       "   'hist_future_out_ch': '[8, 16]',\n",
       "   'drop_out': '0.0',\n",
       "   'hist_future_ks': '[3, 3]',\n",
       "   'gamma': '0.95'},\n",
       "  'tags': {'mlflow.log-model.history': '[{\"run_id\": \"f33a558db2d948af90064da862e3f81f\", \"artifact_path\": \"pytorch_cnn\", \"utc_time_created\": \"2022-06-13 21:56:20.104304\", \"flavors\": {\"pytorch\": {\"model_data\": \"data\", \"pytorch_version\": \"1.11.0\", \"code\": null}, \"python_function\": {\"pickle_module_name\": \"mlflow.pytorch.pickle_module\", \"loader_module\": \"mlflow.pytorch\", \"python_version\": \"3.8.12\", \"data\": \"data\", \"env\": \"conda.yaml\"}}, \"model_uuid\": \"6e3f3d28e4134ad9a13d423c17ffe1c6\", \"mlflow_version\": \"1.26.1\"}]',\n",
       "   'mlflow.source.name': '/opt/conda/lib/python3.8/site-packages/ipykernel_launcher.py',\n",
       "   'mlflow.user': 'root',\n",
       "   'mlflow.source.type': 'LOCAL'}}}"
      ]
     },
     "execution_count": 60,
     "metadata": {},
     "output_type": "execute_result"
    }
   ],
   "source": [
    "run = MlflowClient().search_runs(\n",
    "  experiment_ids=experiment.experiment_id,\n",
    "  filter_string=\"\",\n",
    "  run_view_type=ViewType.ACTIVE_ONLY,\n",
    "  max_results=1,\n",
    "  order_by=[\"metrics.test_rmse_loss\"]\n",
    ")[0]\n",
    "\n",
    "run.to_dictionary()"
   ]
  },
  {
   "cell_type": "code",
   "execution_count": 61,
   "id": "7d0ef86b-6ed6-4a3c-98c2-b48721778b94",
   "metadata": {},
   "outputs": [
    {
     "data": {
      "text/plain": [
       "('/workspace/mlruns/0/f33a558db2d948af90064da862e3f81f/artifacts',\n",
       " 'pytorch_cnn')"
      ]
     },
     "execution_count": 61,
     "metadata": {},
     "output_type": "execute_result"
    }
   ],
   "source": [
    "arifacts_loc = run.to_dictionary()['info']['artifact_uri'].replace('file://', '')\n",
    "artifact_path = run.to_dictionary()['data']['params']['model']\n",
    "arifacts_loc, artifact_path"
   ]
  },
  {
   "cell_type": "code",
   "execution_count": 62,
   "id": "866696f8-1437-40e4-a2f7-f29033137240",
   "metadata": {},
   "outputs": [
    {
     "data": {
      "text/plain": [
       "'/workspace/mlruns/0/f33a558db2d948af90064da862e3f81f/artifacts/pytorch_cnn/data/model.pth'"
      ]
     },
     "execution_count": 62,
     "metadata": {},
     "output_type": "execute_result"
    }
   ],
   "source": [
    "mlflow_model_uri = f'{arifacts_loc}/{artifact_path}/data/model.pth'\n",
    "mlflow_model_uri"
   ]
  },
  {
   "cell_type": "code",
   "execution_count": 63,
   "id": "d88fcb89-4293-41e0-81a0-0b6a1065fa93",
   "metadata": {},
   "outputs": [],
   "source": [
    "os.environ['MLFLOW_MODEL_URI'] = mlflow_model_uri"
   ]
  },
  {
   "cell_type": "code",
   "execution_count": 64,
   "id": "366c32b4-91de-4fe5-8562-f06338c94036",
   "metadata": {},
   "outputs": [
    {
     "name": "stdout",
     "output_type": "stream",
     "text": [
      "/workspace/mlruns/0/f33a558db2d948af90064da862e3f81f/artifacts/pytorch_cnn/data/model.pth\n"
     ]
    }
   ],
   "source": [
    "!echo $MLFLOW_MODEL_URI"
   ]
  },
  {
   "cell_type": "code",
   "execution_count": 65,
   "id": "2aeabb24-7994-4617-860f-567b1e759815",
   "metadata": {},
   "outputs": [],
   "source": [
    "# load the best model\n",
    "model = torch.load(mlflow_model_uri)"
   ]
  },
  {
   "cell_type": "markdown",
   "id": "f12cbcdb-c9bc-407e-ba26-a082d0f15a5d",
   "metadata": {},
   "source": [
    "## Check what the best model has learned"
   ]
  },
  {
   "cell_type": "code",
   "execution_count": 66,
   "id": "a0b86eb9-ecf5-4ef1-ab0f-13d0ce980850",
   "metadata": {},
   "outputs": [],
   "source": [
    "# the test error and return the datasets from the last batch\n",
    "# the datasets will be used to test model serving and\n",
    "# generate some plots\n",
    "def test_post_train(model, device, loader_test, scaler):\n",
    "    model.eval()\n",
    "    mse_loss = 0\n",
    "    mae_loss = 0\n",
    "    mean_error = 0\n",
    "    \n",
    "    with torch.no_grad():\n",
    "        for hist_future, hist, tabular, label in loader_test:\n",
    "            hist_future, hist, tabular, label = (hist_future.to(device), \n",
    "                                             hist.to(device), \n",
    "                                             tabular.to(device), \n",
    "                                             label.to(device)\n",
    "                                            )\n",
    "            \n",
    "            # scaled actuals\n",
    "            label = torch.flatten(label, start_dim=1)\n",
    "            label = label*scaler['sd'].price+scaler['means'].price\n",
    "            \n",
    "            # scaled predictions\n",
    "            output = model.forward(hist_future, hist, tabular)\n",
    "            output = output*scaler['sd'].price+scaler['means'].price\n",
    "            \n",
    "            # calculate scaled loss\n",
    "            mse_loss += F.mse_loss(output, label, reduction=\"sum\").item()  # sum up batch loss\n",
    "            mae_loss += F.l1_loss(output, label, reduction=\"sum\").item()  # sum up batch loss\n",
    "            mean_error += torch.sum(output-label)\n",
    "    \n",
    "    # scale historical prices\n",
    "    hist = hist*scaler['sd'].price+scaler['means'].price\n",
    "    \n",
    "    n_step = label.shape[-1]\n",
    "    n_pred = len(loader_test.dataset)\n",
    "    rmse_loss = np.sqrt(mse_loss/n_pred/n_step)\n",
    "    mae_loss = mae_loss/n_pred/n_step\n",
    "    mean_error = (mean_error/n_pred/n_step).item()\n",
    "    print('______________________________________________________')\n",
    "    print(\n",
    "        \"\\nTest set: RMSE loss: {:.4f}, MAE loss: {:.4f}, Mean error: {:.4f}\".format(\n",
    "            rmse_loss,\n",
    "            mae_loss,\n",
    "            mean_error,\n",
    "        )\n",
    "    )\n",
    "    print('______________________________________________________')\n",
    "    \n",
    "    return {'test_rmse_loss':rmse_loss, \n",
    "            'test_mae_loss':mae_loss, \n",
    "            'test_mean_error':mean_error, \n",
    "            'label':label, \n",
    "            'hist_future':hist_future, \n",
    "            'hist':hist,\n",
    "            'tabular':tabular,\n",
    "            'output':output}"
   ]
  },
  {
   "cell_type": "code",
   "execution_count": 67,
   "id": "505b248f-8221-4460-abe0-6ff7fd6873c5",
   "metadata": {},
   "outputs": [
    {
     "name": "stdout",
     "output_type": "stream",
     "text": [
      "______________________________________________________\n",
      "\n",
      "Test set: RMSE loss: 12.9364, MAE loss: 7.5615, Mean error: 0.9379\n",
      "______________________________________________________\n"
     ]
    }
   ],
   "source": [
    "res = test_post_train(model, device, loader_test, scaler)"
   ]
  },
  {
   "cell_type": "code",
   "execution_count": 68,
   "id": "130f8849-a91e-40ee-a1b4-d83535f26bf0",
   "metadata": {},
   "outputs": [
    {
     "data": {
      "text/plain": [
       "(125, 24)"
      ]
     },
     "execution_count": 68,
     "metadata": {},
     "output_type": "execute_result"
    }
   ],
   "source": [
    "error = (res['output'] - res['label']).cpu().numpy()\n",
    "error.shape"
   ]
  },
  {
   "cell_type": "code",
   "execution_count": 69,
   "id": "8e2dcbf2-4867-48ca-9e52-1c7709f76843",
   "metadata": {},
   "outputs": [
    {
     "data": {
      "image/png": "[encoded data removed]",
      "text/plain": [
       "<Figure size 432x288 with 1 Axes>"
      ]
     },
     "metadata": {
      "needs_background": "light"
     },
     "output_type": "display_data"
    }
   ],
   "source": [
    "plt.plot(np.mean(error,axis=0));"
   ]
  },
  {
   "cell_type": "code",
   "execution_count": 70,
   "id": "bfd7023f-a3e8-4b62-8631-1470dca845fe",
   "metadata": {},
   "outputs": [
    {
     "data": {
      "image/png": "[encoded data removed]",
      "text/plain": [
       "<Figure size 432x288 with 1 Axes>"
      ]
     },
     "metadata": {
      "needs_background": "light"
     },
     "output_type": "display_data"
    }
   ],
   "source": [
    "plt.plot(np.percentile(error, 50 ,axis=0));"
   ]
  },
  {
   "cell_type": "code",
   "execution_count": 71,
   "id": "07986125-a412-4367-8a24-c4e10be006d0",
   "metadata": {},
   "outputs": [
    {
     "data": {
      "image/png": "[encoded data removed]",
      "text/plain": [
       "<Figure size 432x432 with 2 Axes>"
      ]
     },
     "metadata": {
      "needs_background": "light"
     },
     "output_type": "display_data"
    },
    {
     "name": "stdout",
     "output_type": "stream",
     "text": [
      "=================================================================\n",
      "\n"
     ]
    },
    {
     "data": {
      "image/png": "[encoded data removed]",
      "text/plain": [
       "<Figure size 432x432 with 2 Axes>"
      ]
     },
     "metadata": {
      "needs_background": "light"
     },
     "output_type": "display_data"
    },
    {
     "name": "stdout",
     "output_type": "stream",
     "text": [
      "=================================================================\n",
      "\n"
     ]
    },
    {
     "data": {
      "image/png": "[encoded data removed]",
      "text/plain": [
       "<Figure size 432x432 with 2 Axes>"
      ]
     },
     "metadata": {
      "needs_background": "light"
     },
     "output_type": "display_data"
    },
    {
     "name": "stdout",
     "output_type": "stream",
     "text": [
      "=================================================================\n",
      "\n"
     ]
    },
    {
     "data": {
      "image/png": "[encoded data removed]",
      "text/plain": [
       "<Figure size 432x432 with 2 Axes>"
      ]
     },
     "metadata": {
      "needs_background": "light"
     },
     "output_type": "display_data"
    },
    {
     "name": "stdout",
     "output_type": "stream",
     "text": [
      "=================================================================\n",
      "\n"
     ]
    },
    {
     "data": {
      "image/png": "[encoded data removed]",
      "text/plain": [
       "<Figure size 432x432 with 2 Axes>"
      ]
     },
     "metadata": {
      "needs_background": "light"
     },
     "output_type": "display_data"
    },
    {
     "name": "stdout",
     "output_type": "stream",
     "text": [
      "=================================================================\n",
      "\n"
     ]
    },
    {
     "data": {
      "image/png": "[encoded data removed]",
      "text/plain": [
       "<Figure size 432x432 with 2 Axes>"
      ]
     },
     "metadata": {
      "needs_background": "light"
     },
     "output_type": "display_data"
    },
    {
     "name": "stdout",
     "output_type": "stream",
     "text": [
      "=================================================================\n",
      "\n"
     ]
    },
    {
     "data": {
      "image/png": "[encoded data removed]",
      "text/plain": [
       "<Figure size 432x432 with 2 Axes>"
      ]
     },
     "metadata": {
      "needs_background": "light"
     },
     "output_type": "display_data"
    },
    {
     "name": "stdout",
     "output_type": "stream",
     "text": [
      "=================================================================\n",
      "\n"
     ]
    },
    {
     "data": {
      "image/png": "[encoded data removed]",
      "text/plain": [
       "<Figure size 432x432 with 2 Axes>"
      ]
     },
     "metadata": {
      "needs_background": "light"
     },
     "output_type": "display_data"
    },
    {
     "name": "stdout",
     "output_type": "stream",
     "text": [
      "=================================================================\n",
      "\n"
     ]
    },
    {
     "data": {
      "image/png": "[encoded data removed]",
      "text/plain": [
       "<Figure size 432x432 with 2 Axes>"
      ]
     },
     "metadata": {
      "needs_background": "light"
     },
     "output_type": "display_data"
    },
    {
     "name": "stdout",
     "output_type": "stream",
     "text": [
      "=================================================================\n",
      "\n"
     ]
    },
    {
     "data": {
      "image/png": "[encoded data removed]",
      "text/plain": [
       "<Figure size 432x432 with 2 Axes>"
      ]
     },
     "metadata": {
      "needs_background": "light"
     },
     "output_type": "display_data"
    },
    {
     "name": "stdout",
     "output_type": "stream",
     "text": [
      "=================================================================\n",
      "\n"
     ]
    }
   ],
   "source": [
    "# create some random plots from the last batch of testing data\n",
    "# to see what the model has learned\n",
    "N_PLOT = 10\n",
    "\n",
    "r_idx = np.random.randint(low=0, high=res['label'].shape[0], size=N_PLOT, dtype=int)\n",
    "for i in r_idx:\n",
    "    \n",
    "    hist_future_cols = ['wind', 'solar', 'load_mwh']\n",
    "    hist_future = res['hist_future'][i,:].cpu().numpy()\n",
    "    hist_future = np.transpose(hist_future)\n",
    "    hist_future = (\n",
    "        hist_future*scaler['sd'][hist_future_cols].values.reshape(1,-1)+\n",
    "        scaler['means'][hist_future_cols].values.reshape(1,-1)\n",
    "    )\n",
    "\n",
    "    hist_future = pd.DataFrame(hist_future, columns=hist_future_cols)\n",
    "\n",
    "    hist = res['hist'][i,:][0].cpu().numpy()\n",
    "    \n",
    "    actual = res['label'][i,:].cpu().numpy()\n",
    "    actual = np.concatenate([hist, actual])\n",
    "\n",
    "    predicted = res['output'][i,:].cpu().numpy()\n",
    "    predicted = np.concatenate([hist, predicted])\n",
    "    \n",
    "    comp = pd.DataFrame(\n",
    "        {'actual':actual, 'predicted':predicted}\n",
    "    )\n",
    "    \n",
    "    fig, axs = plt.subplots(\n",
    "        ncols=1, \n",
    "        nrows=2, \n",
    "        figsize=(6, 6),\n",
    "        constrained_layout=True\n",
    "    )\n",
    "    \n",
    "    comp.plot(ax=axs[0]);\n",
    "    axs[0].set_ylabel('$/MWh')\n",
    "    axs[0].set_title(f'idx: {i}');\n",
    "    hist_future.plot(ax=axs[1]);\n",
    "    axs[1].set_ylabel('MW')\n",
    "    plt.show();\n",
    "    print('=================================================================\\n')\n"
   ]
  },
  {
   "cell_type": "markdown",
   "id": "df49b735-28fa-4808-93ef-3427402c386d",
   "metadata": {},
   "source": [
    "## Model serving data testing\n",
    "\n",
    "* Test model inference on data from the `res` dictionary created above.\n",
    "* Convert data to json file\n",
    "* Read in json file\n",
    "* Test inference on data read from json file"
   ]
  },
  {
   "cell_type": "code",
   "execution_count": 72,
   "id": "9cef6992-0131-455e-892b-2d73fba0782b",
   "metadata": {},
   "outputs": [],
   "source": [
    "import json\n",
    "import requests"
   ]
  },
  {
   "cell_type": "code",
   "execution_count": 73,
   "id": "e605aa0b-24c8-4705-8f51-26bdb3dbc16e",
   "metadata": {},
   "outputs": [
    {
     "data": {
      "text/plain": [
       "{'hist_future': tensor([[[-1.0270e+00, -9.5482e-01, -8.2205e-01, -6.7748e-01, -5.0149e-01,\n",
       "           -3.3373e-01, -1.9618e-01,  1.0795e-01,  3.6476e-01,  6.0662e-01,\n",
       "            6.3809e-01,  9.1779e-01,  9.7941e-01,  1.0791e+00,  1.1554e+00,\n",
       "            1.2018e+00,  1.2105e+00,  1.1997e+00,  1.1452e+00,  1.2111e+00,\n",
       "            1.3402e+00,  1.4519e+00,  1.5148e+00,  1.4987e+00,  1.4291e+00,\n",
       "            1.3278e+00,  1.4837e+00,  1.5148e+00,  1.5343e+00,  1.5457e+00,\n",
       "            1.5486e+00,  1.6503e+00,  1.7333e+00,  1.8572e+00,  1.8105e+00,\n",
       "            1.8326e+00,  1.8042e+00,  1.7582e+00,  1.7612e+00,  1.7848e+00,\n",
       "            1.7763e+00,  1.7939e+00,  1.7974e+00,  1.7830e+00,  1.7532e+00,\n",
       "            1.7200e+00,  1.5688e+00,  1.3435e+00],\n",
       "          [-6.3491e-01, -6.3491e-01, -6.3491e-01, -6.3491e-01, -6.3491e-01,\n",
       "           -6.3342e-01, -6.3342e-01, -6.3342e-01, -6.3342e-01, -3.3684e-01,\n",
       "            1.7526e+00,  1.9806e+00,  2.3413e+00,  2.6752e+00,  3.2534e+00,\n",
       "            2.7333e+00,  2.0179e+00,  2.2295e+00,  1.7571e+00,  8.9121e-01,\n",
       "            2.0842e-02, -5.8126e-01, -6.2895e-01, -6.2895e-01, -6.2895e-01,\n",
       "           -6.2895e-01, -6.2895e-01, -6.2895e-01, -6.2895e-01, -6.3044e-01,\n",
       "           -6.3044e-01, -6.2895e-01, -6.3044e-01, -6.0212e-01, -4.1881e-01,\n",
       "           -1.9675e-01, -1.2670e-01, -8.9653e-03,  1.8180e-01,  3.5915e-01,\n",
       "            4.9477e-01,  5.8717e-01,  1.6392e-01, -1.5651e-01, -4.1136e-01,\n",
       "           -5.9765e-01, -6.2895e-01, -6.2895e-01],\n",
       "          [-2.3118e-03, -2.7403e-01, -4.0503e-01, -5.2982e-01, -5.9300e-01,\n",
       "           -5.8472e-01, -4.5984e-01, -1.3064e-01,  4.0384e-01,  7.9444e-01,\n",
       "            7.8162e-01,  7.2090e-01,  6.8023e-01,  4.9206e-01,  4.0638e-01,\n",
       "            3.8628e-01,  3.5349e-01,  3.5859e-01,  4.1832e-01,  3.5319e-01,\n",
       "            4.4424e-01,  4.8472e-01,  3.9983e-01,  8.0846e-02, -1.6794e-01,\n",
       "           -4.1147e-01, -5.6518e-01, -7.0666e-01, -7.6895e-01, -7.8411e-01,\n",
       "           -6.5384e-01, -3.2534e-01,  1.9219e-01,  5.4847e-01,  6.5035e-01,\n",
       "            6.9561e-01,  7.9125e-01,  7.6230e-01,  6.9737e-01,  6.8422e-01,\n",
       "            6.6024e-01,  6.0093e-01,  6.1529e-01,  6.1647e-01,  6.0478e-01,\n",
       "            6.4296e-01,  5.7673e-01,  3.3269e-01]]], device='cuda:0',\n",
       "        dtype=torch.float64),\n",
       " 'hist': tensor([[[ 56.5000, 111.3800,  65.1700,  51.0400,  44.9500,  68.0300,  41.1600,\n",
       "            42.5400,  13.8600,  29.0500,  21.0200,  -2.3900,   6.0800,  23.2500,\n",
       "            35.4200,  29.9400,  22.4900,  23.8900,  21.5800,  38.9900,  39.8700,\n",
       "            37.4400,  15.7100,  23.2500]]], device='cuda:0',\n",
       "        dtype=torch.float64),\n",
       " 'tabular': tensor([[[0, 0, 0, 0, 0, 0, 0, 0, 0, 0, 0, 0, 0, 0, 0, 0, 0, 0, 0, 0, 0, 0, 0,\n",
       "           0, 0, 0, 0, 0, 1, 0, 0, 0, 0, 1, 0, 0, 0, 0, 0, 0, 0, 0, 0, 0, 1, 0,\n",
       "           0, 0, 0, 0, 0, 0, 0, 0, 0, 0, 0, 0, 0, 0, 0, 0, 0, 0, 0, 0, 0, 0, 0,\n",
       "           0, 0, 0, 1, 0]]], device='cuda:0')}"
      ]
     },
     "execution_count": 73,
     "metadata": {},
     "output_type": "execute_result"
    }
   ],
   "source": [
    "test_inference_data = {\n",
    "    'hist_future':res['hist_future'][:1,:,:],\n",
    "    'hist':res['hist'][:1,:,:],\n",
    "    'tabular':res['tabular'][:1,:],\n",
    "}\n",
    "test_inference_data"
   ]
  },
  {
   "cell_type": "code",
   "execution_count": 74,
   "id": "eeaa5a56-d7b9-49c7-bc32-314960bb324d",
   "metadata": {},
   "outputs": [
    {
     "data": {
      "text/plain": [
       "tensor([[11.4827,  9.4336,  6.3577,  4.6521,  5.3740, 10.1376,  5.4985, -1.0352,\n",
       "          5.4180,  7.1423, 14.6984, 22.6820, 23.5086, 16.9262, 16.5871, 17.4603,\n",
       "         22.2521, 27.4443, 29.6677, 30.3275, 23.9049, 15.5747,  7.7575, 10.2603]],\n",
       "       device='cuda:0', dtype=torch.float64, grad_fn=<AddmmBackward0>)"
      ]
     },
     "execution_count": 74,
     "metadata": {},
     "output_type": "execute_result"
    }
   ],
   "source": [
    "model.to(device)\n",
    "pred_test = model(**test_inference_data)\n",
    "pred_test"
   ]
  },
  {
   "cell_type": "code",
   "execution_count": 75,
   "id": "0c477636-5d85-4443-9898-feee916b34ea",
   "metadata": {},
   "outputs": [],
   "source": [
    "# scripted_model(**test_inference_data)"
   ]
  },
  {
   "cell_type": "markdown",
   "id": "4fb70ada-f173-42df-ab10-e01fabbbf464",
   "metadata": {},
   "source": [
    "### Covert data to json"
   ]
  },
  {
   "cell_type": "code",
   "execution_count": 76,
   "id": "ed999705-5214-42a9-8818-031288ad90e6",
   "metadata": {},
   "outputs": [],
   "source": [
    "inference_data = {\n",
    "    'hist_future':res['hist_future'][:1,:,:].cpu().tolist(),\n",
    "    'hist':res['hist'][:1,:,:].cpu().tolist(),\n",
    "    'tabular':res['tabular'][:1,:].cpu().tolist(),\n",
    "}\n",
    "\n",
    "post_data = json.dumps(inference_data)"
   ]
  },
  {
   "cell_type": "code",
   "execution_count": 77,
   "id": "554f4db7-2124-4231-b3f8-da85df905d8a",
   "metadata": {},
   "outputs": [
    {
     "data": {
      "text/plain": [
       "'{\"hist_future\": [[[-1.0269995746484697, -0.95482254087201, -0.8220518408435661, -0.6774787600391331, -0.5014894450454186, -0.33372529438631077, -0.19618497243602392, 0.10795142949863384, 0.3647566343007177, 0.6066202683884567, 0.638085172189186, 0.9177894291772606, 0.9794051572696393, 1.0791048563195909, 1.1553701374576304, 1.2017766119727042, 1.2105128072275084, 1.1997324882919145, 1.145173853859405, 1.2110725077591529, 1.3401929869290439, 1.4518897452007735, 1.5147708831907842, 1.4986855766074267, 1.429063697431954, 1.3278065708156865, 1.4836953362816345, 1.514819552802232, 1.5343360669926303, 1.5457004212655925, 1.548620597952435, 1.6503400858774526, 1.7332974385895061, 1.8572346041402517, 1.8105117771507697, 1.832583445942155, 1.8041847276626108, 1.7582162796505636, 1.7611851259488533, 1.7847655526951072, 1.7762970403032639, 1.7939154396472141, 1.7973953168657018, 1.7829647770715544, 1.7531789748657598, 1.7200106346643727, 1.5688184867030963, 1.3435025205074655], [-0.6349115634230232, -0.6349115634230232, -0.6349115634230232, -0.6349115634230232, -0.6349115634230232, -0.6334212152146581, -0.6334212152146581, -0.6334212152146581, -0.6334212152146581, -0.33684192174998234, 1.7526262663780345, 1.9806495422579107, 2.3413138086822904, 2.6751518073560963, 3.253406912201796, 2.733275387482339, 2.017908247467041, 2.2295376930549002, 1.75709731100313, 0.8912050019429463, 0.02084164825766685, -0.5812590279218759, -0.6289501705895624, -0.6289501705895624, -0.6289501705895624, -0.6289501705895624, -0.6289501705895624, -0.6289501705895624, -0.6289501705895624, -0.6304405187979276, -0.6304405187979276, -0.6289501705895624, -0.6304405187979276, -0.6021239028389888, -0.4188110732100686, -0.19674919016365305, -0.1267028243704885, -0.008965315909637242, 0.18179925476110892, 0.35915069155656837, 0.4947723785178019, 0.5871739674364447, 0.1639150762607264, -0.1565097885377926, -0.41135933216824255, -0.5976528582138931, -0.6289501705895624, -0.6289501705895624], [-0.0023118066527646705, -0.2740303702878486, -0.40502929000856847, -0.5298239307168046, -0.5930045155309706, -0.5847225244770974, -0.4598371899892763, -0.13063525987574187, 0.4038355505491442, 0.7944371694413679, 0.7816163669637436, 0.7209010039764652, 0.6802289662773552, 0.492059985862204, 0.4063832212665628, 0.3862780593104953, 0.353488135546181, 0.35858759942554397, 0.41832182061550044, 0.3531871970957418, 0.4442437517985542, 0.4847220346049151, 0.39982853446932065, 0.0808461443371454, -0.1679392603966466, -0.41147267080359234, -0.5651780149766432, -0.7066603111284231, -0.768946325480324, -0.7841127988935637, -0.6538435518540463, -0.3253424373100278, 0.19218512611066776, 0.5484673943192211, 0.6503453659042704, 0.6956098068059773, 0.7912505198223317, 0.7622985919122504, 0.6973659681742941, 0.6842194925790722, 0.6602433552125585, 0.600933745808838, 0.6152922200948716, 0.6164671167849426, 0.6047841089966516, 0.642957945312663, 0.5767349964378908, 0.3326945253541776]]], \"hist\": [[[56.5, 111.38, 65.17, 51.04, 44.95, 68.03, 41.16, 42.54, 13.86, 29.05, 21.02, -2.389999999999997, 6.079999999999998, 23.25, 35.42, 29.94, 22.49, 23.89, 21.58, 38.99, 39.87, 37.44, 15.71, 23.25]]], \"tabular\": [[[0, 0, 0, 0, 0, 0, 0, 0, 0, 0, 0, 0, 0, 0, 0, 0, 0, 0, 0, 0, 0, 0, 0, 0, 0, 0, 0, 0, 1, 0, 0, 0, 0, 1, 0, 0, 0, 0, 0, 0, 0, 0, 0, 0, 1, 0, 0, 0, 0, 0, 0, 0, 0, 0, 0, 0, 0, 0, 0, 0, 0, 0, 0, 0, 0, 0, 0, 0, 0, 0, 0, 0, 1, 0]]]}'"
      ]
     },
     "execution_count": 77,
     "metadata": {},
     "output_type": "execute_result"
    }
   ],
   "source": [
    "post_data"
   ]
  },
  {
   "cell_type": "code",
   "execution_count": 78,
   "id": "5201e0f6-d0df-4719-b00b-b164763234fe",
   "metadata": {},
   "outputs": [],
   "source": [
    "# with open('post_data.json', 'w', encoding='utf-8') as f:\n",
    "#     json.dump(post_data, f, ensure_ascii=False, indent=4)"
   ]
  },
  {
   "cell_type": "code",
   "execution_count": 79,
   "id": "3606ad63-a301-4463-842d-3e3b07724ce7",
   "metadata": {},
   "outputs": [],
   "source": [
    "with open('post_data.txt', 'w', encoding='utf-8') as f:\n",
    "    json.dump(post_data, f)"
   ]
  },
  {
   "cell_type": "markdown",
   "id": "d45e682f-b661-4bc2-97d9-518f395f44c9",
   "metadata": {},
   "source": [
    "### Read json data"
   ]
  },
  {
   "cell_type": "code",
   "execution_count": 80,
   "id": "5db9ffd0-82ed-4c16-8a57-70fc80ad57ed",
   "metadata": {},
   "outputs": [],
   "source": [
    "with open('post_data.txt', 'r') as f:\n",
    "    post_data = f.read()"
   ]
  },
  {
   "cell_type": "code",
   "execution_count": 81,
   "id": "9aea0653-bc3d-452c-8672-d6c0d29dc853",
   "metadata": {},
   "outputs": [
    {
     "data": {
      "text/plain": [
       "'\"{\\\\\"hist_future\\\\\": [[[-1.0269995746484697, -0.95482254087201, -0.8220518408435661, -0.6774787600391331, -0.5014894450454186, -0.33372529438631077, -0.19618497243602392, 0.10795142949863384, 0.3647566343007177, 0.6066202683884567, 0.638085172189186, 0.9177894291772606, 0.9794051572696393, 1.0791048563195909, 1.1553701374576304, 1.2017766119727042, 1.2105128072275084, 1.1997324882919145, 1.145173853859405, 1.2110725077591529, 1.3401929869290439, 1.4518897452007735, 1.5147708831907842, 1.4986855766074267, 1.429063697431954, 1.3278065708156865, 1.4836953362816345, 1.514819552802232, 1.5343360669926303, 1.5457004212655925, 1.548620597952435, 1.6503400858774526, 1.7332974385895061, 1.8572346041402517, 1.8105117771507697, 1.832583445942155, 1.8041847276626108, 1.7582162796505636, 1.7611851259488533, 1.7847655526951072, 1.7762970403032639, 1.7939154396472141, 1.7973953168657018, 1.7829647770715544, 1.7531789748657598, 1.7200106346643727, 1.5688184867030963, 1.3435025205074655], [-0.6349115634230232, -0.6349115634230232, -0.6349115634230232, -0.6349115634230232, -0.6349115634230232, -0.6334212152146581, -0.6334212152146581, -0.6334212152146581, -0.6334212152146581, -0.33684192174998234, 1.7526262663780345, 1.9806495422579107, 2.3413138086822904, 2.6751518073560963, 3.253406912201796, 2.733275387482339, 2.017908247467041, 2.2295376930549002, 1.75709731100313, 0.8912050019429463, 0.02084164825766685, -0.5812590279218759, -0.6289501705895624, -0.6289501705895624, -0.6289501705895624, -0.6289501705895624, -0.6289501705895624, -0.6289501705895624, -0.6289501705895624, -0.6304405187979276, -0.6304405187979276, -0.6289501705895624, -0.6304405187979276, -0.6021239028389888, -0.4188110732100686, -0.19674919016365305, -0.1267028243704885, -0.008965315909637242, 0.18179925476110892, 0.35915069155656837, 0.4947723785178019, 0.5871739674364447, 0.1639150762607264, -0.1565097885377926, -0.41135933216824255, -0.5976528582138931, -0.6289501705895624, -0.6289501705895624], [-0.0023118066527646705, -0.2740303702878486, -0.40502929000856847, -0.5298239307168046, -0.5930045155309706, -0.5847225244770974, -0.4598371899892763, -0.13063525987574187, 0.4038355505491442, 0.7944371694413679, 0.7816163669637436, 0.7209010039764652, 0.6802289662773552, 0.492059985862204, 0.4063832212665628, 0.3862780593104953, 0.353488135546181, 0.35858759942554397, 0.41832182061550044, 0.3531871970957418, 0.4442437517985542, 0.4847220346049151, 0.39982853446932065, 0.0808461443371454, -0.1679392603966466, -0.41147267080359234, -0.5651780149766432, -0.7066603111284231, -0.768946325480324, -0.7841127988935637, -0.6538435518540463, -0.3253424373100278, 0.19218512611066776, 0.5484673943192211, 0.6503453659042704, 0.6956098068059773, 0.7912505198223317, 0.7622985919122504, 0.6973659681742941, 0.6842194925790722, 0.6602433552125585, 0.600933745808838, 0.6152922200948716, 0.6164671167849426, 0.6047841089966516, 0.642957945312663, 0.5767349964378908, 0.3326945253541776]]], \\\\\"hist\\\\\": [[[56.5, 111.38, 65.17, 51.04, 44.95, 68.03, 41.16, 42.54, 13.86, 29.05, 21.02, -2.389999999999997, 6.079999999999998, 23.25, 35.42, 29.94, 22.49, 23.89, 21.58, 38.99, 39.87, 37.44, 15.71, 23.25]]], \\\\\"tabular\\\\\": [[[0, 0, 0, 0, 0, 0, 0, 0, 0, 0, 0, 0, 0, 0, 0, 0, 0, 0, 0, 0, 0, 0, 0, 0, 0, 0, 0, 0, 1, 0, 0, 0, 0, 1, 0, 0, 0, 0, 0, 0, 0, 0, 0, 0, 1, 0, 0, 0, 0, 0, 0, 0, 0, 0, 0, 0, 0, 0, 0, 0, 0, 0, 0, 0, 0, 0, 0, 0, 0, 0, 0, 0, 1, 0]]]}\"'"
      ]
     },
     "execution_count": 81,
     "metadata": {},
     "output_type": "execute_result"
    }
   ],
   "source": [
    "post_data"
   ]
  },
  {
   "cell_type": "code",
   "execution_count": 82,
   "id": "8fee5fa1-3ec4-4c4c-a812-7d3f325e0a55",
   "metadata": {},
   "outputs": [],
   "source": [
    "post_data_loaded = json.loads(post_data) # returns string\n",
    "post_data_loaded = json.loads(post_data_loaded) # returns dict"
   ]
  },
  {
   "cell_type": "code",
   "execution_count": 83,
   "id": "9108abe0-72b4-4952-bdaf-a5446dc96c4a",
   "metadata": {},
   "outputs": [],
   "source": [
    "# convert data to tensors\n",
    "for k in post_data_loaded.keys():\n",
    "    post_data_loaded[k] = torch.asarray(post_data_loaded[k]).to(device)"
   ]
  },
  {
   "cell_type": "code",
   "execution_count": 84,
   "id": "7958bce7-b9d8-4290-9be5-c5cb551d394d",
   "metadata": {},
   "outputs": [
    {
     "data": {
      "text/plain": [
       "{'hist_future': tensor([[[-1.0270e+00, -9.5482e-01, -8.2205e-01, -6.7748e-01, -5.0149e-01,\n",
       "           -3.3373e-01, -1.9618e-01,  1.0795e-01,  3.6476e-01,  6.0662e-01,\n",
       "            6.3809e-01,  9.1779e-01,  9.7941e-01,  1.0791e+00,  1.1554e+00,\n",
       "            1.2018e+00,  1.2105e+00,  1.1997e+00,  1.1452e+00,  1.2111e+00,\n",
       "            1.3402e+00,  1.4519e+00,  1.5148e+00,  1.4987e+00,  1.4291e+00,\n",
       "            1.3278e+00,  1.4837e+00,  1.5148e+00,  1.5343e+00,  1.5457e+00,\n",
       "            1.5486e+00,  1.6503e+00,  1.7333e+00,  1.8572e+00,  1.8105e+00,\n",
       "            1.8326e+00,  1.8042e+00,  1.7582e+00,  1.7612e+00,  1.7848e+00,\n",
       "            1.7763e+00,  1.7939e+00,  1.7974e+00,  1.7830e+00,  1.7532e+00,\n",
       "            1.7200e+00,  1.5688e+00,  1.3435e+00],\n",
       "          [-6.3491e-01, -6.3491e-01, -6.3491e-01, -6.3491e-01, -6.3491e-01,\n",
       "           -6.3342e-01, -6.3342e-01, -6.3342e-01, -6.3342e-01, -3.3684e-01,\n",
       "            1.7526e+00,  1.9806e+00,  2.3413e+00,  2.6752e+00,  3.2534e+00,\n",
       "            2.7333e+00,  2.0179e+00,  2.2295e+00,  1.7571e+00,  8.9121e-01,\n",
       "            2.0842e-02, -5.8126e-01, -6.2895e-01, -6.2895e-01, -6.2895e-01,\n",
       "           -6.2895e-01, -6.2895e-01, -6.2895e-01, -6.2895e-01, -6.3044e-01,\n",
       "           -6.3044e-01, -6.2895e-01, -6.3044e-01, -6.0212e-01, -4.1881e-01,\n",
       "           -1.9675e-01, -1.2670e-01, -8.9653e-03,  1.8180e-01,  3.5915e-01,\n",
       "            4.9477e-01,  5.8717e-01,  1.6392e-01, -1.5651e-01, -4.1136e-01,\n",
       "           -5.9765e-01, -6.2895e-01, -6.2895e-01],\n",
       "          [-2.3118e-03, -2.7403e-01, -4.0503e-01, -5.2982e-01, -5.9300e-01,\n",
       "           -5.8472e-01, -4.5984e-01, -1.3064e-01,  4.0384e-01,  7.9444e-01,\n",
       "            7.8162e-01,  7.2090e-01,  6.8023e-01,  4.9206e-01,  4.0638e-01,\n",
       "            3.8628e-01,  3.5349e-01,  3.5859e-01,  4.1832e-01,  3.5319e-01,\n",
       "            4.4424e-01,  4.8472e-01,  3.9983e-01,  8.0846e-02, -1.6794e-01,\n",
       "           -4.1147e-01, -5.6518e-01, -7.0666e-01, -7.6895e-01, -7.8411e-01,\n",
       "           -6.5384e-01, -3.2534e-01,  1.9219e-01,  5.4847e-01,  6.5035e-01,\n",
       "            6.9561e-01,  7.9125e-01,  7.6230e-01,  6.9737e-01,  6.8422e-01,\n",
       "            6.6024e-01,  6.0093e-01,  6.1529e-01,  6.1647e-01,  6.0478e-01,\n",
       "            6.4296e-01,  5.7674e-01,  3.3269e-01]]], device='cuda:0'),\n",
       " 'hist': tensor([[[ 56.5000, 111.3800,  65.1700,  51.0400,  44.9500,  68.0300,  41.1600,\n",
       "            42.5400,  13.8600,  29.0500,  21.0200,  -2.3900,   6.0800,  23.2500,\n",
       "            35.4200,  29.9400,  22.4900,  23.8900,  21.5800,  38.9900,  39.8700,\n",
       "            37.4400,  15.7100,  23.2500]]], device='cuda:0'),\n",
       " 'tabular': tensor([[[0, 0, 0, 0, 0, 0, 0, 0, 0, 0, 0, 0, 0, 0, 0, 0, 0, 0, 0, 0, 0, 0, 0,\n",
       "           0, 0, 0, 0, 0, 1, 0, 0, 0, 0, 1, 0, 0, 0, 0, 0, 0, 0, 0, 0, 0, 1, 0,\n",
       "           0, 0, 0, 0, 0, 0, 0, 0, 0, 0, 0, 0, 0, 0, 0, 0, 0, 0, 0, 0, 0, 0, 0,\n",
       "           0, 0, 0, 1, 0]]], device='cuda:0')}"
      ]
     },
     "execution_count": 84,
     "metadata": {},
     "output_type": "execute_result"
    }
   ],
   "source": [
    "post_data_loaded"
   ]
  },
  {
   "cell_type": "code",
   "execution_count": 85,
   "id": "97958472-60a5-49c6-a56a-725f6cc1dd78",
   "metadata": {},
   "outputs": [
    {
     "data": {
      "text/plain": [
       "tensor([[11.4827,  9.4336,  6.3577,  4.6521,  5.3740, 10.1376,  5.4985, -1.0352,\n",
       "          5.4180,  7.1423, 14.6984, 22.6820, 23.5086, 16.9262, 16.5871, 17.4603,\n",
       "         22.2521, 27.4443, 29.6677, 30.3275, 23.9049, 15.5747,  7.7575, 10.2603]],\n",
       "       device='cuda:0', dtype=torch.float64, grad_fn=<AddmmBackward0>)"
      ]
     },
     "execution_count": 85,
     "metadata": {},
     "output_type": "execute_result"
    }
   ],
   "source": [
    "# check prediction\n",
    "model.to(device)\n",
    "pred = model(**test_inference_data)\n",
    "pred"
   ]
  },
  {
   "cell_type": "code",
   "execution_count": 86,
   "id": "7b316609-6bdf-45e7-aed0-efcebd100093",
   "metadata": {},
   "outputs": [
    {
     "data": {
      "text/plain": [
       "True"
      ]
     },
     "execution_count": 86,
     "metadata": {},
     "output_type": "execute_result"
    }
   ],
   "source": [
    "# check that the predictions from the json formatted data match the \n",
    "# predictions from the test data\n",
    "pred_test.tolist() == pred.tolist()"
   ]
  },
  {
   "cell_type": "markdown",
   "id": "2f305abd-3ac1-4235-923e-4e8ab35a042a",
   "metadata": {},
   "source": [
    "## Torchserve"
   ]
  },
  {
   "cell_type": "code",
   "execution_count": null,
   "id": "cee1ea57-e884-4a51-bc37-cbfa729746f0",
   "metadata": {},
   "outputs": [],
   "source": [
    "# see for custom handler\n",
    "# https://pytorch.org/serve/custom_service.html"
   ]
  },
  {
   "cell_type": "code",
   "execution_count": 87,
   "id": "f6a4c4b8-de99-4a06-ab9c-8fcb0d003943",
   "metadata": {},
   "outputs": [
    {
     "name": "stdout",
     "output_type": "stream",
     "text": [
      "WARNING - Overwriting /workspace/models/pytorch_cnn.mar ...\n"
     ]
    }
   ],
   "source": [
    "# https://github.com/pytorch/serve/tree/master/model-archiver#creating-a-model-archive\n",
    "!torch-model-archiver --model-name pytorch_cnn --version 1.0 --export-path /workspace/models --serialized-file $MLFLOW_MODEL_URI --handler /workspace/src/model_handler.py --force"
   ]
  },
  {
   "cell_type": "markdown",
   "id": "8b727656-5089-47d7-b30d-62855bf91e82",
   "metadata": {},
   "source": [
    "see https://github.com/pytorch/serve/blob/master/docs/server.md\n",
    "\n",
    "`torchserve --start --model-store /workspace/models --models miso_price=pytorch_cnn.mar`\n",
    "\n",
    "This would serve a prediction endpoint at predictions/miso_price/ and run your custom service code in the archive, the manifest in archive would point to the entry point."
   ]
  },
  {
   "cell_type": "code",
   "execution_count": 88,
   "id": "64b02201-d1e1-4868-b616-fa27b754b0b5",
   "metadata": {},
   "outputs": [
    {
     "name": "stdout",
     "output_type": "stream",
     "text": [
      "{\n",
      "  \"status\": \"Healthy\"\n",
      "}\n"
     ]
    }
   ],
   "source": [
    "# check the status of the torchserve server\n",
    "# https://github.com/pytorch/serve/blob/master/docs/inference_api.md\n",
    "!curl http://localhost:8080/ping"
   ]
  },
  {
   "cell_type": "code",
   "execution_count": 89,
   "id": "559c88b5-749f-4347-81db-998ff1217b76",
   "metadata": {},
   "outputs": [],
   "source": [
    "req = requests.post(\n",
    "    \"http://localhost:8080/predictions/miso_price\", \n",
    "    files={'post_data': open('post_data.txt', 'r')}\n",
    ")"
   ]
  },
  {
   "cell_type": "code",
   "execution_count": 90,
   "id": "655aa233-448c-4835-bfa7-38e5b56b6240",
   "metadata": {},
   "outputs": [
    {
     "data": {
      "text/plain": [
       "(200, '')"
      ]
     },
     "execution_count": 90,
     "metadata": {},
     "output_type": "execute_result"
    }
   ],
   "source": [
    "req.status_code, req.reason"
   ]
  },
  {
   "cell_type": "code",
   "execution_count": 91,
   "id": "8bc65a3a-06f2-499f-871d-3dfcc33a0cc6",
   "metadata": {},
   "outputs": [
    {
     "data": {
      "text/plain": [
       "'[\\n  11.482740698582097,\\n  9.433558322509805,\\n  6.357670718767742,\\n  4.652072424362834,\\n  5.373981184366461,\\n  10.13755370668131,\\n  5.498537501139509,\\n  -1.0351698889924719,\\n  5.417987776815796,\\n  7.142253999295891,\\n  14.698423475187953,\\n  22.68197515918935,\\n  23.50863570268838,\\n  16.926248280318205,\\n  16.587138777594447,\\n  17.460261308536353,\\n  22.252084297007105,\\n  27.4442771372184,\\n  29.667714488103567,\\n  30.327531882724816,\\n  23.904924808893337,\\n  15.5746969646517,\\n  7.75750663936942,\\n  10.260269012567438\\n]'"
      ]
     },
     "execution_count": 91,
     "metadata": {},
     "output_type": "execute_result"
    }
   ],
   "source": [
    "req.text"
   ]
  },
  {
   "cell_type": "code",
   "execution_count": 92,
   "id": "20bee0d4-d6e0-45c4-bafd-d2bdecc3eddc",
   "metadata": {},
   "outputs": [
    {
     "data": {
      "text/plain": [
       "True"
      ]
     },
     "execution_count": 92,
     "metadata": {},
     "output_type": "execute_result"
    }
   ],
   "source": [
    "# check that the predictions from the api call match the \n",
    "# predictions from the test data\n",
    "all(np.round(pred_test.tolist()[0], 7) == np.round(json.loads(req.text), 7))"
   ]
  },
  {
   "cell_type": "code",
   "execution_count": 93,
   "id": "2854ed36-4d02-4582-af3a-6426e486dd52",
   "metadata": {},
   "outputs": [
    {
     "data": {
      "text/html": [
       "<div>\n",
       "<style scoped>\n",
       "    .dataframe tbody tr th:only-of-type {\n",
       "        vertical-align: middle;\n",
       "    }\n",
       "\n",
       "    .dataframe tbody tr th {\n",
       "        vertical-align: top;\n",
       "    }\n",
       "\n",
       "    .dataframe thead th {\n",
       "        text-align: right;\n",
       "    }\n",
       "</style>\n",
       "<table border=\"1\" class=\"dataframe\">\n",
       "  <thead>\n",
       "    <tr style=\"text-align: right;\">\n",
       "      <th></th>\n",
       "      <th>price_forecast_api</th>\n",
       "      <th>price_forecast_test_data</th>\n",
       "    </tr>\n",
       "  </thead>\n",
       "  <tbody>\n",
       "    <tr>\n",
       "      <th>0</th>\n",
       "      <td>11.482741</td>\n",
       "      <td>11.482741</td>\n",
       "    </tr>\n",
       "    <tr>\n",
       "      <th>1</th>\n",
       "      <td>9.433558</td>\n",
       "      <td>9.433558</td>\n",
       "    </tr>\n",
       "    <tr>\n",
       "      <th>2</th>\n",
       "      <td>6.357671</td>\n",
       "      <td>6.357671</td>\n",
       "    </tr>\n",
       "    <tr>\n",
       "      <th>3</th>\n",
       "      <td>4.652072</td>\n",
       "      <td>4.652072</td>\n",
       "    </tr>\n",
       "    <tr>\n",
       "      <th>4</th>\n",
       "      <td>5.373981</td>\n",
       "      <td>5.373981</td>\n",
       "    </tr>\n",
       "    <tr>\n",
       "      <th>5</th>\n",
       "      <td>10.137554</td>\n",
       "      <td>10.137554</td>\n",
       "    </tr>\n",
       "    <tr>\n",
       "      <th>6</th>\n",
       "      <td>5.498538</td>\n",
       "      <td>5.498538</td>\n",
       "    </tr>\n",
       "    <tr>\n",
       "      <th>7</th>\n",
       "      <td>-1.035170</td>\n",
       "      <td>-1.035170</td>\n",
       "    </tr>\n",
       "    <tr>\n",
       "      <th>8</th>\n",
       "      <td>5.417988</td>\n",
       "      <td>5.417988</td>\n",
       "    </tr>\n",
       "    <tr>\n",
       "      <th>9</th>\n",
       "      <td>7.142254</td>\n",
       "      <td>7.142254</td>\n",
       "    </tr>\n",
       "    <tr>\n",
       "      <th>10</th>\n",
       "      <td>14.698423</td>\n",
       "      <td>14.698423</td>\n",
       "    </tr>\n",
       "    <tr>\n",
       "      <th>11</th>\n",
       "      <td>22.681975</td>\n",
       "      <td>22.681975</td>\n",
       "    </tr>\n",
       "    <tr>\n",
       "      <th>12</th>\n",
       "      <td>23.508636</td>\n",
       "      <td>23.508636</td>\n",
       "    </tr>\n",
       "    <tr>\n",
       "      <th>13</th>\n",
       "      <td>16.926248</td>\n",
       "      <td>16.926248</td>\n",
       "    </tr>\n",
       "    <tr>\n",
       "      <th>14</th>\n",
       "      <td>16.587139</td>\n",
       "      <td>16.587139</td>\n",
       "    </tr>\n",
       "    <tr>\n",
       "      <th>15</th>\n",
       "      <td>17.460261</td>\n",
       "      <td>17.460261</td>\n",
       "    </tr>\n",
       "    <tr>\n",
       "      <th>16</th>\n",
       "      <td>22.252084</td>\n",
       "      <td>22.252084</td>\n",
       "    </tr>\n",
       "    <tr>\n",
       "      <th>17</th>\n",
       "      <td>27.444277</td>\n",
       "      <td>27.444277</td>\n",
       "    </tr>\n",
       "    <tr>\n",
       "      <th>18</th>\n",
       "      <td>29.667714</td>\n",
       "      <td>29.667714</td>\n",
       "    </tr>\n",
       "    <tr>\n",
       "      <th>19</th>\n",
       "      <td>30.327532</td>\n",
       "      <td>30.327532</td>\n",
       "    </tr>\n",
       "    <tr>\n",
       "      <th>20</th>\n",
       "      <td>23.904925</td>\n",
       "      <td>23.904925</td>\n",
       "    </tr>\n",
       "    <tr>\n",
       "      <th>21</th>\n",
       "      <td>15.574697</td>\n",
       "      <td>15.574697</td>\n",
       "    </tr>\n",
       "    <tr>\n",
       "      <th>22</th>\n",
       "      <td>7.757507</td>\n",
       "      <td>7.757507</td>\n",
       "    </tr>\n",
       "    <tr>\n",
       "      <th>23</th>\n",
       "      <td>10.260269</td>\n",
       "      <td>10.260269</td>\n",
       "    </tr>\n",
       "  </tbody>\n",
       "</table>\n",
       "</div>"
      ],
      "text/plain": [
       "    price_forecast_api  price_forecast_test_data\n",
       "0            11.482741                 11.482741\n",
       "1             9.433558                  9.433558\n",
       "2             6.357671                  6.357671\n",
       "3             4.652072                  4.652072\n",
       "4             5.373981                  5.373981\n",
       "5            10.137554                 10.137554\n",
       "6             5.498538                  5.498538\n",
       "7            -1.035170                 -1.035170\n",
       "8             5.417988                  5.417988\n",
       "9             7.142254                  7.142254\n",
       "10           14.698423                 14.698423\n",
       "11           22.681975                 22.681975\n",
       "12           23.508636                 23.508636\n",
       "13           16.926248                 16.926248\n",
       "14           16.587139                 16.587139\n",
       "15           17.460261                 17.460261\n",
       "16           22.252084                 22.252084\n",
       "17           27.444277                 27.444277\n",
       "18           29.667714                 29.667714\n",
       "19           30.327532                 30.327532\n",
       "20           23.904925                 23.904925\n",
       "21           15.574697                 15.574697\n",
       "22            7.757507                  7.757507\n",
       "23           10.260269                 10.260269"
      ]
     },
     "execution_count": 93,
     "metadata": {},
     "output_type": "execute_result"
    }
   ],
   "source": [
    "pd.DataFrame(\n",
    "    {\n",
    "        'price_forecast_api':json.loads(req.text),\n",
    "        'price_forecast_test_data':pred_test.tolist()[0]\n",
    "    }\n",
    ")"
   ]
  },
  {
   "cell_type": "markdown",
   "id": "d3bb760e-44b4-4718-932b-c931594bcc42",
   "metadata": {},
   "source": [
    "## Save notebook to html"
   ]
  },
  {
   "cell_type": "code",
   "execution_count": 94,
   "id": "324074f8-9777-458e-a273-2b51b913d4fa",
   "metadata": {},
   "outputs": [
    {
     "name": "stdout",
     "output_type": "stream",
     "text": [
      "[NbConvertApp] Converting notebook /workspace/src/build_model.ipynb to html\n",
      "[NbConvertApp] Writing 1380340 bytes to /workspace/src/build_model.html\n"
     ]
    }
   ],
   "source": [
    "!jupyter nbconvert --to html /workspace/src/build_model.ipynb"
   ]
  }
 ],
 "metadata": {
  "kernelspec": {
   "display_name": "Python 3 (ipykernel)",
   "language": "python",
   "name": "python3"
  },
  "language_info": {
   "codemirror_mode": {
    "name": "ipython",
    "version": 3
   },
   "file_extension": ".py",
   "mimetype": "text/x-python",
   "name": "python",
   "nbconvert_exporter": "python",
   "pygments_lexer": "ipython3",
   "version": "3.8.12"
  }
 },
 "nbformat": 4,
 "nbformat_minor": 5
}
