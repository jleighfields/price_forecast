{
 "cells": [
  {
   "cell_type": "code",
   "execution_count": 1,
   "id": "1858f86c-c952-42af-8679-88cc29e68e6e",
   "metadata": {},
   "outputs": [],
   "source": [
    "import pandas as pd\n",
    "import numpy as np\n",
    "import datetime\n",
    "import time\n",
    "import os\n",
    "from typing import List\n",
    "from urllib.parse import urlparse"
   ]
  },
  {
   "cell_type": "code",
   "execution_count": 2,
   "id": "3e9a1fc0-d089-43ae-a8f1-1843298d56cf",
   "metadata": {},
   "outputs": [],
   "source": [
    "import torch\n",
    "from torch.utils.data import Dataset, DataLoader"
   ]
  },
  {
   "cell_type": "code",
   "execution_count": 3,
   "id": "2522efaa-2c49-4e5f-a6db-fa0cc9928c1e",
   "metadata": {},
   "outputs": [],
   "source": [
    "import sqlite3\n",
    "import sqlalchemy\n",
    "from sqlalchemy import create_engine"
   ]
  },
  {
   "cell_type": "code",
   "execution_count": 4,
   "id": "2140e095-5187-46c4-8b77-b989f93ba172",
   "metadata": {},
   "outputs": [],
   "source": [
    "import matplotlib.pyplot as plt"
   ]
  },
  {
   "cell_type": "markdown",
   "id": "382ecf13-4c09-4bad-a0a5-45e729852f42",
   "metadata": {},
   "source": [
    "## Connect to database and query data"
   ]
  },
  {
   "cell_type": "code",
   "execution_count": 5,
   "id": "4d5d11f6-37a6-447e-b651-849be431b4ac",
   "metadata": {},
   "outputs": [],
   "source": [
    "PROJECT_SRC = '/workspace/src'\n",
    "os.chdir(PROJECT_SRC)\n",
    "    \n",
    "SQLALCHEMY_DATABASE_URI='sqlite:///../data/database.db'\n",
    "engine = create_engine(SQLALCHEMY_DATABASE_URI, echo=False)"
   ]
  },
  {
   "cell_type": "code",
   "execution_count": 6,
   "id": "e28b3d35-4a9a-47ad-b34f-b3af321929d3",
   "metadata": {},
   "outputs": [
    {
     "data": {
      "text/html": [
       "<div>\n",
       "<style scoped>\n",
       "    .dataframe tbody tr th:only-of-type {\n",
       "        vertical-align: middle;\n",
       "    }\n",
       "\n",
       "    .dataframe tbody tr th {\n",
       "        vertical-align: top;\n",
       "    }\n",
       "\n",
       "    .dataframe thead th {\n",
       "        text-align: right;\n",
       "    }\n",
       "</style>\n",
       "<table border=\"1\" class=\"dataframe\">\n",
       "  <thead>\n",
       "    <tr style=\"text-align: right;\">\n",
       "      <th></th>\n",
       "      <th>dttm</th>\n",
       "      <th>wind</th>\n",
       "      <th>solar</th>\n",
       "      <th>load_mwh</th>\n",
       "      <th>price</th>\n",
       "    </tr>\n",
       "  </thead>\n",
       "  <tbody>\n",
       "    <tr>\n",
       "      <th>0</th>\n",
       "      <td>2020-01-01 01:00:00.000000</td>\n",
       "      <td>12443.0</td>\n",
       "      <td>0.0</td>\n",
       "      <td>16368.09</td>\n",
       "      <td>12.52</td>\n",
       "    </tr>\n",
       "    <tr>\n",
       "      <th>1</th>\n",
       "      <td>2020-01-01 02:00:00.000000</td>\n",
       "      <td>12338.8</td>\n",
       "      <td>0.0</td>\n",
       "      <td>15948.21</td>\n",
       "      <td>12.35</td>\n",
       "    </tr>\n",
       "    <tr>\n",
       "      <th>2</th>\n",
       "      <td>2020-01-01 03:00:00.000000</td>\n",
       "      <td>12075.4</td>\n",
       "      <td>0.0</td>\n",
       "      <td>15586.64</td>\n",
       "      <td>12.06</td>\n",
       "    </tr>\n",
       "    <tr>\n",
       "      <th>3</th>\n",
       "      <td>2020-01-01 04:00:00.000000</td>\n",
       "      <td>11957.9</td>\n",
       "      <td>0.0</td>\n",
       "      <td>15336.74</td>\n",
       "      <td>11.97</td>\n",
       "    </tr>\n",
       "    <tr>\n",
       "      <th>4</th>\n",
       "      <td>2020-01-01 05:00:00.000000</td>\n",
       "      <td>12012.6</td>\n",
       "      <td>0.0</td>\n",
       "      <td>15288.27</td>\n",
       "      <td>12.37</td>\n",
       "    </tr>\n",
       "    <tr>\n",
       "      <th>...</th>\n",
       "      <td>...</td>\n",
       "      <td>...</td>\n",
       "      <td>...</td>\n",
       "      <td>...</td>\n",
       "      <td>...</td>\n",
       "    </tr>\n",
       "    <tr>\n",
       "      <th>21331</th>\n",
       "      <td>2022-06-07 20:00:00.000000</td>\n",
       "      <td>2421.1</td>\n",
       "      <td>76.9</td>\n",
       "      <td>17522.10</td>\n",
       "      <td>89.35</td>\n",
       "    </tr>\n",
       "    <tr>\n",
       "      <th>21332</th>\n",
       "      <td>2022-06-07 21:00:00.000000</td>\n",
       "      <td>2375.1</td>\n",
       "      <td>5.3</td>\n",
       "      <td>17342.36</td>\n",
       "      <td>77.73</td>\n",
       "    </tr>\n",
       "    <tr>\n",
       "      <th>21333</th>\n",
       "      <td>2022-06-07 22:00:00.000000</td>\n",
       "      <td>2391.7</td>\n",
       "      <td>0.0</td>\n",
       "      <td>17100.03</td>\n",
       "      <td>70.13</td>\n",
       "    </tr>\n",
       "    <tr>\n",
       "      <th>21334</th>\n",
       "      <td>2022-06-07 23:00:00.000000</td>\n",
       "      <td>2348.4</td>\n",
       "      <td>0.0</td>\n",
       "      <td>16229.20</td>\n",
       "      <td>63.36</td>\n",
       "    </tr>\n",
       "    <tr>\n",
       "      <th>21335</th>\n",
       "      <td>2022-06-08 00:00:00.000000</td>\n",
       "      <td>2169.3</td>\n",
       "      <td>0.0</td>\n",
       "      <td>15090.24</td>\n",
       "      <td>48.09</td>\n",
       "    </tr>\n",
       "  </tbody>\n",
       "</table>\n",
       "<p>21336 rows × 5 columns</p>\n",
       "</div>"
      ],
      "text/plain": [
       "                             dttm     wind  solar  load_mwh  price\n",
       "0      2020-01-01 01:00:00.000000  12443.0    0.0  16368.09  12.52\n",
       "1      2020-01-01 02:00:00.000000  12338.8    0.0  15948.21  12.35\n",
       "2      2020-01-01 03:00:00.000000  12075.4    0.0  15586.64  12.06\n",
       "3      2020-01-01 04:00:00.000000  11957.9    0.0  15336.74  11.97\n",
       "4      2020-01-01 05:00:00.000000  12012.6    0.0  15288.27  12.37\n",
       "...                           ...      ...    ...       ...    ...\n",
       "21331  2022-06-07 20:00:00.000000   2421.1   76.9  17522.10  89.35\n",
       "21332  2022-06-07 21:00:00.000000   2375.1    5.3  17342.36  77.73\n",
       "21333  2022-06-07 22:00:00.000000   2391.7    0.0  17100.03  70.13\n",
       "21334  2022-06-07 23:00:00.000000   2348.4    0.0  16229.20  63.36\n",
       "21335  2022-06-08 00:00:00.000000   2169.3    0.0  15090.24  48.09\n",
       "\n",
       "[21336 rows x 5 columns]"
      ]
     },
     "execution_count": 6,
     "metadata": {},
     "output_type": "execute_result"
    }
   ],
   "source": [
    "with engine.connect() as conn:\n",
    "    \n",
    "    join_txt='''\n",
    "    SELECT \n",
    "        g.dttm, \n",
    "        wind, \n",
    "        solar, \n",
    "        load_mwh,\n",
    "        price\n",
    "    FROM GENERATION as g\n",
    "    INNER JOIN\n",
    "    LOAD as l\n",
    "    ON g.dttm = l.dttm\n",
    "    INNER JOIN\n",
    "    PRICE as p\n",
    "    ON g.dttm = p.dttm\n",
    "    \n",
    "    '''\n",
    "    \n",
    "    data = pd.read_sql(join_txt, engine)\n",
    "    \n",
    "data\n"
   ]
  },
  {
   "cell_type": "code",
   "execution_count": 7,
   "id": "823963bb-835c-4973-bb30-e6f1010f1cb9",
   "metadata": {},
   "outputs": [],
   "source": [
    "data.dttm = pd.to_datetime(data.dttm)"
   ]
  },
  {
   "cell_type": "code",
   "execution_count": 8,
   "id": "d452a63d-4a93-4f18-ad28-6abf6e4ffabe",
   "metadata": {},
   "outputs": [
    {
     "name": "stdout",
     "output_type": "stream",
     "text": [
      "<class 'pandas.core.frame.DataFrame'>\n",
      "RangeIndex: 21336 entries, 0 to 21335\n",
      "Data columns (total 5 columns):\n",
      " #   Column    Non-Null Count  Dtype         \n",
      "---  ------    --------------  -----         \n",
      " 0   dttm      21336 non-null  datetime64[ns]\n",
      " 1   wind      21335 non-null  float64       \n",
      " 2   solar     21334 non-null  float64       \n",
      " 3   load_mwh  21336 non-null  float64       \n",
      " 4   price     21336 non-null  float64       \n",
      "dtypes: datetime64[ns](1), float64(4)\n",
      "memory usage: 833.6 KB\n"
     ]
    }
   ],
   "source": [
    "data.info()"
   ]
  },
  {
   "cell_type": "code",
   "execution_count": 9,
   "id": "5eedba56-e1c3-4d29-b1b7-12d62cf3146f",
   "metadata": {},
   "outputs": [],
   "source": [
    "# find any gaps in timeseries\n",
    "all_hours = pd.DataFrame({'dttm':pd.date_range(data.dttm.min(), data.dttm.max(), freq='H')})\n",
    "data = all_hours.merge(data, on='dttm', how='left')"
   ]
  },
  {
   "cell_type": "code",
   "execution_count": 10,
   "id": "2cd59a98-5764-4a70-a8dc-93b6542f2e6e",
   "metadata": {},
   "outputs": [
    {
     "data": {
      "text/html": [
       "<div>\n",
       "<style scoped>\n",
       "    .dataframe tbody tr th:only-of-type {\n",
       "        vertical-align: middle;\n",
       "    }\n",
       "\n",
       "    .dataframe tbody tr th {\n",
       "        vertical-align: top;\n",
       "    }\n",
       "\n",
       "    .dataframe thead th {\n",
       "        text-align: right;\n",
       "    }\n",
       "</style>\n",
       "<table border=\"1\" class=\"dataframe\">\n",
       "  <thead>\n",
       "    <tr style=\"text-align: right;\">\n",
       "      <th></th>\n",
       "      <th>wind</th>\n",
       "      <th>solar</th>\n",
       "      <th>load_mwh</th>\n",
       "      <th>price</th>\n",
       "    </tr>\n",
       "  </thead>\n",
       "  <tbody>\n",
       "    <tr>\n",
       "      <th>count</th>\n",
       "      <td>21335.000000</td>\n",
       "      <td>21334.000000</td>\n",
       "      <td>21336.000000</td>\n",
       "      <td>21336.000000</td>\n",
       "    </tr>\n",
       "    <tr>\n",
       "      <th>mean</th>\n",
       "      <td>7461.402747</td>\n",
       "      <td>43.089552</td>\n",
       "      <td>16689.353952</td>\n",
       "      <td>29.165156</td>\n",
       "    </tr>\n",
       "    <tr>\n",
       "      <th>std</th>\n",
       "      <td>4110.877294</td>\n",
       "      <td>67.299780</td>\n",
       "      <td>2425.926154</td>\n",
       "      <td>28.765352</td>\n",
       "    </tr>\n",
       "    <tr>\n",
       "      <th>min</th>\n",
       "      <td>11.500000</td>\n",
       "      <td>0.000000</td>\n",
       "      <td>10772.120000</td>\n",
       "      <td>-57.560000</td>\n",
       "    </tr>\n",
       "    <tr>\n",
       "      <th>25%</th>\n",
       "      <td>3892.700000</td>\n",
       "      <td>0.000000</td>\n",
       "      <td>14931.120000</td>\n",
       "      <td>16.067500</td>\n",
       "    </tr>\n",
       "    <tr>\n",
       "      <th>50%</th>\n",
       "      <td>7300.400000</td>\n",
       "      <td>0.500000</td>\n",
       "      <td>16506.295000</td>\n",
       "      <td>21.950000</td>\n",
       "    </tr>\n",
       "    <tr>\n",
       "      <th>75%</th>\n",
       "      <td>10985.250000</td>\n",
       "      <td>73.775000</td>\n",
       "      <td>18193.005000</td>\n",
       "      <td>34.900000</td>\n",
       "    </tr>\n",
       "    <tr>\n",
       "      <th>max</th>\n",
       "      <td>17027.700000</td>\n",
       "      <td>405.500000</td>\n",
       "      <td>25715.570000</td>\n",
       "      <td>888.140000</td>\n",
       "    </tr>\n",
       "  </tbody>\n",
       "</table>\n",
       "</div>"
      ],
      "text/plain": [
       "               wind         solar      load_mwh         price\n",
       "count  21335.000000  21334.000000  21336.000000  21336.000000\n",
       "mean    7461.402747     43.089552  16689.353952     29.165156\n",
       "std     4110.877294     67.299780   2425.926154     28.765352\n",
       "min       11.500000      0.000000  10772.120000    -57.560000\n",
       "25%     3892.700000      0.000000  14931.120000     16.067500\n",
       "50%     7300.400000      0.500000  16506.295000     21.950000\n",
       "75%    10985.250000     73.775000  18193.005000     34.900000\n",
       "max    17027.700000    405.500000  25715.570000    888.140000"
      ]
     },
     "execution_count": 10,
     "metadata": {},
     "output_type": "execute_result"
    }
   ],
   "source": [
    "data.describe()"
   ]
  },
  {
   "cell_type": "code",
   "execution_count": 11,
   "id": "b8b26d85-aa6e-4f8a-9f50-8e3a6e387935",
   "metadata": {},
   "outputs": [
    {
     "data": {
      "text/plain": [
       "dttm        0\n",
       "wind        1\n",
       "solar       2\n",
       "load_mwh    0\n",
       "price       0\n",
       "dtype: int64"
      ]
     },
     "execution_count": 11,
     "metadata": {},
     "output_type": "execute_result"
    }
   ],
   "source": [
    "data.isna().sum()"
   ]
  },
  {
   "cell_type": "code",
   "execution_count": 12,
   "id": "249d954e-5ba0-4316-a454-8a473d528f56",
   "metadata": {},
   "outputs": [],
   "source": [
    "data.fillna(method='ffill', inplace=True)"
   ]
  },
  {
   "cell_type": "code",
   "execution_count": 13,
   "id": "3b599076-80cb-4444-8c7e-21b5b95ba33e",
   "metadata": {},
   "outputs": [
    {
     "data": {
      "text/plain": [
       "dttm        0\n",
       "wind        0\n",
       "solar       0\n",
       "load_mwh    0\n",
       "price       0\n",
       "dtype: int64"
      ]
     },
     "execution_count": 13,
     "metadata": {},
     "output_type": "execute_result"
    }
   ],
   "source": [
    "data.isna().sum()"
   ]
  },
  {
   "cell_type": "code",
   "execution_count": 14,
   "id": "c7392752-4ceb-4b3e-b76b-0be3cdeecac0",
   "metadata": {},
   "outputs": [],
   "source": [
    "data.set_index('dttm', inplace=True)"
   ]
  },
  {
   "cell_type": "code",
   "execution_count": 15,
   "id": "1fc85bf9-5daf-41c3-9762-e1fd83f5d6ab",
   "metadata": {},
   "outputs": [
    {
     "data": {
      "text/html": [
       "<div>\n",
       "<style scoped>\n",
       "    .dataframe tbody tr th:only-of-type {\n",
       "        vertical-align: middle;\n",
       "    }\n",
       "\n",
       "    .dataframe tbody tr th {\n",
       "        vertical-align: top;\n",
       "    }\n",
       "\n",
       "    .dataframe thead th {\n",
       "        text-align: right;\n",
       "    }\n",
       "</style>\n",
       "<table border=\"1\" class=\"dataframe\">\n",
       "  <thead>\n",
       "    <tr style=\"text-align: right;\">\n",
       "      <th></th>\n",
       "      <th>wind</th>\n",
       "      <th>solar</th>\n",
       "      <th>load_mwh</th>\n",
       "      <th>price</th>\n",
       "    </tr>\n",
       "    <tr>\n",
       "      <th>dttm</th>\n",
       "      <th></th>\n",
       "      <th></th>\n",
       "      <th></th>\n",
       "      <th></th>\n",
       "    </tr>\n",
       "  </thead>\n",
       "  <tbody>\n",
       "    <tr>\n",
       "      <th>2020-01-01 01:00:00</th>\n",
       "      <td>12443.0</td>\n",
       "      <td>0.0</td>\n",
       "      <td>16368.09</td>\n",
       "      <td>12.52</td>\n",
       "    </tr>\n",
       "    <tr>\n",
       "      <th>2020-01-01 02:00:00</th>\n",
       "      <td>12338.8</td>\n",
       "      <td>0.0</td>\n",
       "      <td>15948.21</td>\n",
       "      <td>12.35</td>\n",
       "    </tr>\n",
       "    <tr>\n",
       "      <th>2020-01-01 03:00:00</th>\n",
       "      <td>12075.4</td>\n",
       "      <td>0.0</td>\n",
       "      <td>15586.64</td>\n",
       "      <td>12.06</td>\n",
       "    </tr>\n",
       "    <tr>\n",
       "      <th>2020-01-01 04:00:00</th>\n",
       "      <td>11957.9</td>\n",
       "      <td>0.0</td>\n",
       "      <td>15336.74</td>\n",
       "      <td>11.97</td>\n",
       "    </tr>\n",
       "    <tr>\n",
       "      <th>2020-01-01 05:00:00</th>\n",
       "      <td>12012.6</td>\n",
       "      <td>0.0</td>\n",
       "      <td>15288.27</td>\n",
       "      <td>12.37</td>\n",
       "    </tr>\n",
       "    <tr>\n",
       "      <th>...</th>\n",
       "      <td>...</td>\n",
       "      <td>...</td>\n",
       "      <td>...</td>\n",
       "      <td>...</td>\n",
       "    </tr>\n",
       "    <tr>\n",
       "      <th>2022-06-07 20:00:00</th>\n",
       "      <td>2421.1</td>\n",
       "      <td>76.9</td>\n",
       "      <td>17522.10</td>\n",
       "      <td>89.35</td>\n",
       "    </tr>\n",
       "    <tr>\n",
       "      <th>2022-06-07 21:00:00</th>\n",
       "      <td>2375.1</td>\n",
       "      <td>5.3</td>\n",
       "      <td>17342.36</td>\n",
       "      <td>77.73</td>\n",
       "    </tr>\n",
       "    <tr>\n",
       "      <th>2022-06-07 22:00:00</th>\n",
       "      <td>2391.7</td>\n",
       "      <td>0.0</td>\n",
       "      <td>17100.03</td>\n",
       "      <td>70.13</td>\n",
       "    </tr>\n",
       "    <tr>\n",
       "      <th>2022-06-07 23:00:00</th>\n",
       "      <td>2348.4</td>\n",
       "      <td>0.0</td>\n",
       "      <td>16229.20</td>\n",
       "      <td>63.36</td>\n",
       "    </tr>\n",
       "    <tr>\n",
       "      <th>2022-06-08 00:00:00</th>\n",
       "      <td>2169.3</td>\n",
       "      <td>0.0</td>\n",
       "      <td>15090.24</td>\n",
       "      <td>48.09</td>\n",
       "    </tr>\n",
       "  </tbody>\n",
       "</table>\n",
       "<p>21336 rows × 4 columns</p>\n",
       "</div>"
      ],
      "text/plain": [
       "                        wind  solar  load_mwh  price\n",
       "dttm                                                \n",
       "2020-01-01 01:00:00  12443.0    0.0  16368.09  12.52\n",
       "2020-01-01 02:00:00  12338.8    0.0  15948.21  12.35\n",
       "2020-01-01 03:00:00  12075.4    0.0  15586.64  12.06\n",
       "2020-01-01 04:00:00  11957.9    0.0  15336.74  11.97\n",
       "2020-01-01 05:00:00  12012.6    0.0  15288.27  12.37\n",
       "...                      ...    ...       ...    ...\n",
       "2022-06-07 20:00:00   2421.1   76.9  17522.10  89.35\n",
       "2022-06-07 21:00:00   2375.1    5.3  17342.36  77.73\n",
       "2022-06-07 22:00:00   2391.7    0.0  17100.03  70.13\n",
       "2022-06-07 23:00:00   2348.4    0.0  16229.20  63.36\n",
       "2022-06-08 00:00:00   2169.3    0.0  15090.24  48.09\n",
       "\n",
       "[21336 rows x 4 columns]"
      ]
     },
     "execution_count": 15,
     "metadata": {},
     "output_type": "execute_result"
    }
   ],
   "source": [
    "data"
   ]
  },
  {
   "cell_type": "code",
   "execution_count": 16,
   "id": "b7720453-e71a-4e13-812a-b81cda86096b",
   "metadata": {},
   "outputs": [
    {
     "data": {
      "text/plain": [
       "<AxesSubplot:>"
      ]
     },
     "execution_count": 16,
     "metadata": {},
     "output_type": "execute_result"
    },
    {
     "data": {
      "image/png": "[encoded data removed]",
      "text/plain": [
       "<Figure size 432x288 with 1 Axes>"
      ]
     },
     "metadata": {
      "needs_background": "light"
     },
     "output_type": "display_data"
    }
   ],
   "source": [
    "data.price.hist()"
   ]
  },
  {
   "cell_type": "code",
   "execution_count": 17,
   "id": "58bcad77-4ac0-4a28-adde-135fe3790aaa",
   "metadata": {},
   "outputs": [
    {
     "data": {
      "text/plain": [
       "array([ -6.056   , 140.319625])"
      ]
     },
     "execution_count": 17,
     "metadata": {},
     "output_type": "execute_result"
    }
   ],
   "source": [
    "np.percentile(data.price, (0.5, 99.25))"
   ]
  },
  {
   "cell_type": "code",
   "execution_count": 18,
   "id": "c24024f8-1485-4a47-9a1c-319ed9e9f722",
   "metadata": {},
   "outputs": [],
   "source": [
    "MAX_PRICE = 175\n",
    "data.loc[data.price > MAX_PRICE, 'price'] = MAX_PRICE"
   ]
  },
  {
   "cell_type": "code",
   "execution_count": 19,
   "id": "54fe3024-1fe6-4963-bb75-12aaf352bff8",
   "metadata": {},
   "outputs": [
    {
     "data": {
      "text/html": [
       "<div>\n",
       "<style scoped>\n",
       "    .dataframe tbody tr th:only-of-type {\n",
       "        vertical-align: middle;\n",
       "    }\n",
       "\n",
       "    .dataframe tbody tr th {\n",
       "        vertical-align: top;\n",
       "    }\n",
       "\n",
       "    .dataframe thead th {\n",
       "        text-align: right;\n",
       "    }\n",
       "</style>\n",
       "<table border=\"1\" class=\"dataframe\">\n",
       "  <thead>\n",
       "    <tr style=\"text-align: right;\">\n",
       "      <th></th>\n",
       "      <th>wind</th>\n",
       "      <th>solar</th>\n",
       "      <th>load_mwh</th>\n",
       "      <th>price</th>\n",
       "    </tr>\n",
       "  </thead>\n",
       "  <tbody>\n",
       "    <tr>\n",
       "      <th>count</th>\n",
       "      <td>21336.000000</td>\n",
       "      <td>21336.000000</td>\n",
       "      <td>21336.000000</td>\n",
       "      <td>21336.000000</td>\n",
       "    </tr>\n",
       "    <tr>\n",
       "      <th>mean</th>\n",
       "      <td>7461.330062</td>\n",
       "      <td>43.085527</td>\n",
       "      <td>16689.353952</td>\n",
       "      <td>28.596543</td>\n",
       "    </tr>\n",
       "    <tr>\n",
       "      <th>std</th>\n",
       "      <td>4110.794662</td>\n",
       "      <td>67.297909</td>\n",
       "      <td>2425.926154</td>\n",
       "      <td>22.838198</td>\n",
       "    </tr>\n",
       "    <tr>\n",
       "      <th>min</th>\n",
       "      <td>11.500000</td>\n",
       "      <td>0.000000</td>\n",
       "      <td>10772.120000</td>\n",
       "      <td>-57.560000</td>\n",
       "    </tr>\n",
       "    <tr>\n",
       "      <th>25%</th>\n",
       "      <td>3892.700000</td>\n",
       "      <td>0.000000</td>\n",
       "      <td>14931.120000</td>\n",
       "      <td>16.067500</td>\n",
       "    </tr>\n",
       "    <tr>\n",
       "      <th>50%</th>\n",
       "      <td>7299.000000</td>\n",
       "      <td>0.500000</td>\n",
       "      <td>16506.295000</td>\n",
       "      <td>21.950000</td>\n",
       "    </tr>\n",
       "    <tr>\n",
       "      <th>75%</th>\n",
       "      <td>10985.025000</td>\n",
       "      <td>73.725000</td>\n",
       "      <td>18193.005000</td>\n",
       "      <td>34.900000</td>\n",
       "    </tr>\n",
       "    <tr>\n",
       "      <th>max</th>\n",
       "      <td>17027.700000</td>\n",
       "      <td>405.500000</td>\n",
       "      <td>25715.570000</td>\n",
       "      <td>175.000000</td>\n",
       "    </tr>\n",
       "  </tbody>\n",
       "</table>\n",
       "</div>"
      ],
      "text/plain": [
       "               wind         solar      load_mwh         price\n",
       "count  21336.000000  21336.000000  21336.000000  21336.000000\n",
       "mean    7461.330062     43.085527  16689.353952     28.596543\n",
       "std     4110.794662     67.297909   2425.926154     22.838198\n",
       "min       11.500000      0.000000  10772.120000    -57.560000\n",
       "25%     3892.700000      0.000000  14931.120000     16.067500\n",
       "50%     7299.000000      0.500000  16506.295000     21.950000\n",
       "75%    10985.025000     73.725000  18193.005000     34.900000\n",
       "max    17027.700000    405.500000  25715.570000    175.000000"
      ]
     },
     "execution_count": 19,
     "metadata": {},
     "output_type": "execute_result"
    }
   ],
   "source": [
    "data.describe()"
   ]
  },
  {
   "cell_type": "markdown",
   "id": "bc2d8b1d-3cbb-4d04-a296-6ce1b3db4519",
   "metadata": {},
   "source": [
    "## Data scaling"
   ]
  },
  {
   "cell_type": "code",
   "execution_count": 20,
   "id": "b94c3008-db92-476f-9fc5-ee5dbdc8e65b",
   "metadata": {},
   "outputs": [],
   "source": [
    "# define lookback and lookforward periods for \n",
    "# gathering training/test sets and creating\n",
    "# t_idx: a data frame time indexes for the \n",
    "# lookback and lookforward periods\n",
    "LOOKBACK = 23 \n",
    "LOOKFORWARD = 24"
   ]
  },
  {
   "cell_type": "code",
   "execution_count": 21,
   "id": "96a5adf9-444d-4c4a-a0b3-a634ff9409ba",
   "metadata": {},
   "outputs": [
    {
     "data": {
      "text/plain": [
       "array([20662,  5921, 14187, ...,  1717,  2696,  1848])"
      ]
     },
     "execution_count": 21,
     "metadata": {},
     "output_type": "execute_result"
    }
   ],
   "source": [
    "# get training and test indexes\n",
    "np.random.seed(42)\n",
    "TRAIN_IDX = np.random.choice(range(data.shape[0]-LOOKBACK-LOOKFORWARD), size=int(0.8*len(data)), replace=False)\n",
    "TRAIN_IDX"
   ]
  },
  {
   "cell_type": "code",
   "execution_count": 22,
   "id": "f274df2b-c766-438e-b95f-c97ae2d32d92",
   "metadata": {},
   "outputs": [
    {
     "data": {
      "text/plain": [
       "array([    9,    11,    13, ..., 21281, 21286, 21288])"
      ]
     },
     "execution_count": 22,
     "metadata": {},
     "output_type": "execute_result"
    }
   ],
   "source": [
    "TEST_IDX = np.setdiff1d(range(data.shape[0]-LOOKBACK-LOOKFORWARD),TRAIN_IDX)\n",
    "TEST_IDX"
   ]
  },
  {
   "cell_type": "markdown",
   "id": "5838ee19-c7ef-4c3f-ada4-5ba261ac23ff",
   "metadata": {},
   "source": [
    "### Gather scaler metrics"
   ]
  },
  {
   "cell_type": "code",
   "execution_count": 23,
   "id": "5482b167-3bfa-4d87-b802-94b3c164d56d",
   "metadata": {},
   "outputs": [
    {
     "data": {
      "text/plain": [
       "wind         7459.590831\n",
       "solar          42.801558\n",
       "load_mwh    16695.477854\n",
       "price          28.517849\n",
       "dtype: float64"
      ]
     },
     "execution_count": 23,
     "metadata": {},
     "output_type": "execute_result"
    }
   ],
   "source": [
    "scaler = {}\n",
    "scaler['means'] = data.iloc[TRAIN_IDX,:].mean()\n",
    "scaler['means']"
   ]
  },
  {
   "cell_type": "code",
   "execution_count": 24,
   "id": "eb0d72a6-27d9-4493-9a68-29adbfb76221",
   "metadata": {},
   "outputs": [
    {
     "data": {
      "text/plain": [
       "wind        4109.340388\n",
       "solar         67.098413\n",
       "load_mwh    2425.745195\n",
       "price         22.721287\n",
       "dtype: float64"
      ]
     },
     "execution_count": 24,
     "metadata": {},
     "output_type": "execute_result"
    }
   ],
   "source": [
    "scaler['sd'] = data.iloc[TRAIN_IDX,:].std()\n",
    "scaler['sd']"
   ]
  },
  {
   "cell_type": "markdown",
   "id": "f56e7e1c-3d03-4239-9580-acb1f0854ea4",
   "metadata": {},
   "source": [
    "### define scaling functions"
   ]
  },
  {
   "cell_type": "code",
   "execution_count": 25,
   "id": "6f365b1a-b5ab-416b-95f4-05c3c0927f7a",
   "metadata": {},
   "outputs": [
    {
     "data": {
      "text/html": [
       "<div>\n",
       "<style scoped>\n",
       "    .dataframe tbody tr th:only-of-type {\n",
       "        vertical-align: middle;\n",
       "    }\n",
       "\n",
       "    .dataframe tbody tr th {\n",
       "        vertical-align: top;\n",
       "    }\n",
       "\n",
       "    .dataframe thead th {\n",
       "        text-align: right;\n",
       "    }\n",
       "</style>\n",
       "<table border=\"1\" class=\"dataframe\">\n",
       "  <thead>\n",
       "    <tr style=\"text-align: right;\">\n",
       "      <th></th>\n",
       "      <th>wind</th>\n",
       "      <th>solar</th>\n",
       "      <th>load_mwh</th>\n",
       "      <th>price</th>\n",
       "    </tr>\n",
       "  </thead>\n",
       "  <tbody>\n",
       "    <tr>\n",
       "      <th>count</th>\n",
       "      <td>21336.000000</td>\n",
       "      <td>21336.000000</td>\n",
       "      <td>21336.000000</td>\n",
       "      <td>21336.000000</td>\n",
       "    </tr>\n",
       "    <tr>\n",
       "      <th>mean</th>\n",
       "      <td>0.000423</td>\n",
       "      <td>0.004232</td>\n",
       "      <td>-0.002525</td>\n",
       "      <td>0.003463</td>\n",
       "    </tr>\n",
       "    <tr>\n",
       "      <th>std</th>\n",
       "      <td>1.000354</td>\n",
       "      <td>1.002973</td>\n",
       "      <td>1.000075</td>\n",
       "      <td>1.005145</td>\n",
       "    </tr>\n",
       "    <tr>\n",
       "      <th>min</th>\n",
       "      <td>-1.812478</td>\n",
       "      <td>-0.637892</td>\n",
       "      <td>-2.441871</td>\n",
       "      <td>-3.788423</td>\n",
       "    </tr>\n",
       "    <tr>\n",
       "      <th>25%</th>\n",
       "      <td>-0.867996</td>\n",
       "      <td>-0.637892</td>\n",
       "      <td>-0.727347</td>\n",
       "      <td>-0.547960</td>\n",
       "    </tr>\n",
       "    <tr>\n",
       "      <th>50%</th>\n",
       "      <td>-0.039079</td>\n",
       "      <td>-0.630441</td>\n",
       "      <td>-0.077990</td>\n",
       "      <td>-0.289061</td>\n",
       "    </tr>\n",
       "    <tr>\n",
       "      <th>75%</th>\n",
       "      <td>0.857908</td>\n",
       "      <td>0.460867</td>\n",
       "      <td>0.617347</td>\n",
       "      <td>0.280889</td>\n",
       "    </tr>\n",
       "    <tr>\n",
       "      <th>max</th>\n",
       "      <td>2.328381</td>\n",
       "      <td>5.405470</td>\n",
       "      <td>3.718483</td>\n",
       "      <td>6.446913</td>\n",
       "    </tr>\n",
       "  </tbody>\n",
       "</table>\n",
       "</div>"
      ],
      "text/plain": [
       "               wind         solar      load_mwh         price\n",
       "count  21336.000000  21336.000000  21336.000000  21336.000000\n",
       "mean       0.000423      0.004232     -0.002525      0.003463\n",
       "std        1.000354      1.002973      1.000075      1.005145\n",
       "min       -1.812478     -0.637892     -2.441871     -3.788423\n",
       "25%       -0.867996     -0.637892     -0.727347     -0.547960\n",
       "50%       -0.039079     -0.630441     -0.077990     -0.289061\n",
       "75%        0.857908      0.460867      0.617347      0.280889\n",
       "max        2.328381      5.405470      3.718483      6.446913"
      ]
     },
     "execution_count": 25,
     "metadata": {},
     "output_type": "execute_result"
    }
   ],
   "source": [
    "def scale_data(data, scaler):\n",
    "    return ((data - scaler['means'])/scaler['sd'])\n",
    "\n",
    "data_scaled = scale_data(data, scaler)\n",
    "data_scaled.describe()"
   ]
  },
  {
   "cell_type": "code",
   "execution_count": 26,
   "id": "4a17848d-55a4-44c8-bd17-a1725ff9935d",
   "metadata": {},
   "outputs": [],
   "source": [
    "def unscale_data(data_scaled, scaler):\n",
    "    return data_scaled*scaler['sd'] + scaler['means']"
   ]
  },
  {
   "cell_type": "code",
   "execution_count": 27,
   "id": "2dc0c213-6809-4835-9cf4-3b3d056d6284",
   "metadata": {},
   "outputs": [
    {
     "data": {
      "text/html": [
       "<div>\n",
       "<style scoped>\n",
       "    .dataframe tbody tr th:only-of-type {\n",
       "        vertical-align: middle;\n",
       "    }\n",
       "\n",
       "    .dataframe tbody tr th {\n",
       "        vertical-align: top;\n",
       "    }\n",
       "\n",
       "    .dataframe thead th {\n",
       "        text-align: right;\n",
       "    }\n",
       "</style>\n",
       "<table border=\"1\" class=\"dataframe\">\n",
       "  <thead>\n",
       "    <tr style=\"text-align: right;\">\n",
       "      <th></th>\n",
       "      <th>wind</th>\n",
       "      <th>solar</th>\n",
       "      <th>load_mwh</th>\n",
       "      <th>price</th>\n",
       "    </tr>\n",
       "  </thead>\n",
       "  <tbody>\n",
       "    <tr>\n",
       "      <th>count</th>\n",
       "      <td>21336.000000</td>\n",
       "      <td>21336.000000</td>\n",
       "      <td>21336.000000</td>\n",
       "      <td>21336.000000</td>\n",
       "    </tr>\n",
       "    <tr>\n",
       "      <th>mean</th>\n",
       "      <td>7461.330062</td>\n",
       "      <td>43.085527</td>\n",
       "      <td>16689.353952</td>\n",
       "      <td>28.596543</td>\n",
       "    </tr>\n",
       "    <tr>\n",
       "      <th>std</th>\n",
       "      <td>4110.794662</td>\n",
       "      <td>67.297909</td>\n",
       "      <td>2425.926154</td>\n",
       "      <td>22.838198</td>\n",
       "    </tr>\n",
       "    <tr>\n",
       "      <th>min</th>\n",
       "      <td>11.500000</td>\n",
       "      <td>0.000000</td>\n",
       "      <td>10772.120000</td>\n",
       "      <td>-57.560000</td>\n",
       "    </tr>\n",
       "    <tr>\n",
       "      <th>25%</th>\n",
       "      <td>3892.700000</td>\n",
       "      <td>0.000000</td>\n",
       "      <td>14931.120000</td>\n",
       "      <td>16.067500</td>\n",
       "    </tr>\n",
       "    <tr>\n",
       "      <th>50%</th>\n",
       "      <td>7299.000000</td>\n",
       "      <td>0.500000</td>\n",
       "      <td>16506.295000</td>\n",
       "      <td>21.950000</td>\n",
       "    </tr>\n",
       "    <tr>\n",
       "      <th>75%</th>\n",
       "      <td>10985.025000</td>\n",
       "      <td>73.725000</td>\n",
       "      <td>18193.005000</td>\n",
       "      <td>34.900000</td>\n",
       "    </tr>\n",
       "    <tr>\n",
       "      <th>max</th>\n",
       "      <td>17027.700000</td>\n",
       "      <td>405.500000</td>\n",
       "      <td>25715.570000</td>\n",
       "      <td>175.000000</td>\n",
       "    </tr>\n",
       "  </tbody>\n",
       "</table>\n",
       "</div>"
      ],
      "text/plain": [
       "               wind         solar      load_mwh         price\n",
       "count  21336.000000  21336.000000  21336.000000  21336.000000\n",
       "mean    7461.330062     43.085527  16689.353952     28.596543\n",
       "std     4110.794662     67.297909   2425.926154     22.838198\n",
       "min       11.500000      0.000000  10772.120000    -57.560000\n",
       "25%     3892.700000      0.000000  14931.120000     16.067500\n",
       "50%     7299.000000      0.500000  16506.295000     21.950000\n",
       "75%    10985.025000     73.725000  18193.005000     34.900000\n",
       "max    17027.700000    405.500000  25715.570000    175.000000"
      ]
     },
     "execution_count": 27,
     "metadata": {},
     "output_type": "execute_result"
    }
   ],
   "source": [
    "data = unscale_data(data_scaled, scaler)\n",
    "data.describe()"
   ]
  },
  {
   "cell_type": "markdown",
   "id": "c7872839-03d2-46b6-9505-4606fc35b9cd",
   "metadata": {},
   "source": [
    "### Create scaling data set for use in modeling"
   ]
  },
  {
   "cell_type": "code",
   "execution_count": 28,
   "id": "5b7e63f6-0e65-43da-bc1e-8ea9478fc010",
   "metadata": {},
   "outputs": [
    {
     "data": {
      "text/html": [
       "<div>\n",
       "<style scoped>\n",
       "    .dataframe tbody tr th:only-of-type {\n",
       "        vertical-align: middle;\n",
       "    }\n",
       "\n",
       "    .dataframe tbody tr th {\n",
       "        vertical-align: top;\n",
       "    }\n",
       "\n",
       "    .dataframe thead th {\n",
       "        text-align: right;\n",
       "    }\n",
       "</style>\n",
       "<table border=\"1\" class=\"dataframe\">\n",
       "  <thead>\n",
       "    <tr style=\"text-align: right;\">\n",
       "      <th></th>\n",
       "      <th>wind</th>\n",
       "      <th>solar</th>\n",
       "      <th>load_mwh</th>\n",
       "      <th>price</th>\n",
       "    </tr>\n",
       "  </thead>\n",
       "  <tbody>\n",
       "    <tr>\n",
       "      <th>count</th>\n",
       "      <td>21336.000000</td>\n",
       "      <td>21336.000000</td>\n",
       "      <td>21336.000000</td>\n",
       "      <td>21336.000000</td>\n",
       "    </tr>\n",
       "    <tr>\n",
       "      <th>mean</th>\n",
       "      <td>0.000423</td>\n",
       "      <td>0.004232</td>\n",
       "      <td>-0.002525</td>\n",
       "      <td>0.003463</td>\n",
       "    </tr>\n",
       "    <tr>\n",
       "      <th>std</th>\n",
       "      <td>1.000354</td>\n",
       "      <td>1.002973</td>\n",
       "      <td>1.000075</td>\n",
       "      <td>1.005145</td>\n",
       "    </tr>\n",
       "    <tr>\n",
       "      <th>min</th>\n",
       "      <td>-1.812478</td>\n",
       "      <td>-0.637892</td>\n",
       "      <td>-2.441871</td>\n",
       "      <td>-3.788423</td>\n",
       "    </tr>\n",
       "    <tr>\n",
       "      <th>25%</th>\n",
       "      <td>-0.867996</td>\n",
       "      <td>-0.637892</td>\n",
       "      <td>-0.727347</td>\n",
       "      <td>-0.547960</td>\n",
       "    </tr>\n",
       "    <tr>\n",
       "      <th>50%</th>\n",
       "      <td>-0.039079</td>\n",
       "      <td>-0.630441</td>\n",
       "      <td>-0.077990</td>\n",
       "      <td>-0.289061</td>\n",
       "    </tr>\n",
       "    <tr>\n",
       "      <th>75%</th>\n",
       "      <td>0.857908</td>\n",
       "      <td>0.460867</td>\n",
       "      <td>0.617347</td>\n",
       "      <td>0.280889</td>\n",
       "    </tr>\n",
       "    <tr>\n",
       "      <th>max</th>\n",
       "      <td>2.328381</td>\n",
       "      <td>5.405470</td>\n",
       "      <td>3.718483</td>\n",
       "      <td>6.446913</td>\n",
       "    </tr>\n",
       "  </tbody>\n",
       "</table>\n",
       "</div>"
      ],
      "text/plain": [
       "               wind         solar      load_mwh         price\n",
       "count  21336.000000  21336.000000  21336.000000  21336.000000\n",
       "mean       0.000423      0.004232     -0.002525      0.003463\n",
       "std        1.000354      1.002973      1.000075      1.005145\n",
       "min       -1.812478     -0.637892     -2.441871     -3.788423\n",
       "25%       -0.867996     -0.637892     -0.727347     -0.547960\n",
       "50%       -0.039079     -0.630441     -0.077990     -0.289061\n",
       "75%        0.857908      0.460867      0.617347      0.280889\n",
       "max        2.328381      5.405470      3.718483      6.446913"
      ]
     },
     "execution_count": 28,
     "metadata": {},
     "output_type": "execute_result"
    }
   ],
   "source": [
    "data_scaled = scale_data(data, scaler)\n",
    "data_scaled.describe()"
   ]
  },
  {
   "cell_type": "markdown",
   "id": "78a17940-ddb0-4a57-a29f-a41c279e5fa5",
   "metadata": {},
   "source": [
    "## Create `t_idx` dataframe\n",
    "`t_idx` has `t_start`, `t_now`, and `t_end` columns which define the start and end points of a sample based on the `LOOKBACK` and `LOOKFORWARD` windows.  This data frame is used in the data loader to produce samples."
   ]
  },
  {
   "cell_type": "code",
   "execution_count": 29,
   "id": "b1d15ba5-95c1-4114-a0da-5a70d2f6c356",
   "metadata": {},
   "outputs": [],
   "source": [
    "def create_t_idx(\n",
    "    data: pd.core.frame.DataFrame, \n",
    "    LOOKBACK: int, \n",
    "    LOOKFORWARD: int\n",
    ") -> pd.core.frame.DataFrame:\n",
    "    \n",
    "    t_idx = pd.DataFrame()\n",
    "    t_idx['t_start'] = data.index\n",
    "    t_idx['t_now'] = data.index.shift(LOOKBACK, freq='H')\n",
    "    t_idx['t_end'] = data.index.shift(LOOKBACK+LOOKFORWARD, freq='H')\n",
    "    t_idx = t_idx[t_idx.t_end <= t_idx.t_start.max()]\n",
    "    return t_idx"
   ]
  },
  {
   "cell_type": "code",
   "execution_count": 30,
   "id": "8c39a715-c48d-4741-b112-65c7a7e183e2",
   "metadata": {},
   "outputs": [
    {
     "data": {
      "text/html": [
       "<div>\n",
       "<style scoped>\n",
       "    .dataframe tbody tr th:only-of-type {\n",
       "        vertical-align: middle;\n",
       "    }\n",
       "\n",
       "    .dataframe tbody tr th {\n",
       "        vertical-align: top;\n",
       "    }\n",
       "\n",
       "    .dataframe thead th {\n",
       "        text-align: right;\n",
       "    }\n",
       "</style>\n",
       "<table border=\"1\" class=\"dataframe\">\n",
       "  <thead>\n",
       "    <tr style=\"text-align: right;\">\n",
       "      <th></th>\n",
       "      <th>t_start</th>\n",
       "      <th>t_now</th>\n",
       "      <th>t_end</th>\n",
       "    </tr>\n",
       "  </thead>\n",
       "  <tbody>\n",
       "    <tr>\n",
       "      <th>0</th>\n",
       "      <td>2020-01-01 01:00:00</td>\n",
       "      <td>2020-01-02 00:00:00</td>\n",
       "      <td>2020-01-03 00:00:00</td>\n",
       "    </tr>\n",
       "    <tr>\n",
       "      <th>1</th>\n",
       "      <td>2020-01-01 02:00:00</td>\n",
       "      <td>2020-01-02 01:00:00</td>\n",
       "      <td>2020-01-03 01:00:00</td>\n",
       "    </tr>\n",
       "    <tr>\n",
       "      <th>2</th>\n",
       "      <td>2020-01-01 03:00:00</td>\n",
       "      <td>2020-01-02 02:00:00</td>\n",
       "      <td>2020-01-03 02:00:00</td>\n",
       "    </tr>\n",
       "    <tr>\n",
       "      <th>3</th>\n",
       "      <td>2020-01-01 04:00:00</td>\n",
       "      <td>2020-01-02 03:00:00</td>\n",
       "      <td>2020-01-03 03:00:00</td>\n",
       "    </tr>\n",
       "    <tr>\n",
       "      <th>4</th>\n",
       "      <td>2020-01-01 05:00:00</td>\n",
       "      <td>2020-01-02 04:00:00</td>\n",
       "      <td>2020-01-03 04:00:00</td>\n",
       "    </tr>\n",
       "    <tr>\n",
       "      <th>...</th>\n",
       "      <td>...</td>\n",
       "      <td>...</td>\n",
       "      <td>...</td>\n",
       "    </tr>\n",
       "    <tr>\n",
       "      <th>21284</th>\n",
       "      <td>2022-06-05 21:00:00</td>\n",
       "      <td>2022-06-06 20:00:00</td>\n",
       "      <td>2022-06-07 20:00:00</td>\n",
       "    </tr>\n",
       "    <tr>\n",
       "      <th>21285</th>\n",
       "      <td>2022-06-05 22:00:00</td>\n",
       "      <td>2022-06-06 21:00:00</td>\n",
       "      <td>2022-06-07 21:00:00</td>\n",
       "    </tr>\n",
       "    <tr>\n",
       "      <th>21286</th>\n",
       "      <td>2022-06-05 23:00:00</td>\n",
       "      <td>2022-06-06 22:00:00</td>\n",
       "      <td>2022-06-07 22:00:00</td>\n",
       "    </tr>\n",
       "    <tr>\n",
       "      <th>21287</th>\n",
       "      <td>2022-06-06 00:00:00</td>\n",
       "      <td>2022-06-06 23:00:00</td>\n",
       "      <td>2022-06-07 23:00:00</td>\n",
       "    </tr>\n",
       "    <tr>\n",
       "      <th>21288</th>\n",
       "      <td>2022-06-06 01:00:00</td>\n",
       "      <td>2022-06-07 00:00:00</td>\n",
       "      <td>2022-06-08 00:00:00</td>\n",
       "    </tr>\n",
       "  </tbody>\n",
       "</table>\n",
       "<p>21289 rows × 3 columns</p>\n",
       "</div>"
      ],
      "text/plain": [
       "                  t_start               t_now               t_end\n",
       "0     2020-01-01 01:00:00 2020-01-02 00:00:00 2020-01-03 00:00:00\n",
       "1     2020-01-01 02:00:00 2020-01-02 01:00:00 2020-01-03 01:00:00\n",
       "2     2020-01-01 03:00:00 2020-01-02 02:00:00 2020-01-03 02:00:00\n",
       "3     2020-01-01 04:00:00 2020-01-02 03:00:00 2020-01-03 03:00:00\n",
       "4     2020-01-01 05:00:00 2020-01-02 04:00:00 2020-01-03 04:00:00\n",
       "...                   ...                 ...                 ...\n",
       "21284 2022-06-05 21:00:00 2022-06-06 20:00:00 2022-06-07 20:00:00\n",
       "21285 2022-06-05 22:00:00 2022-06-06 21:00:00 2022-06-07 21:00:00\n",
       "21286 2022-06-05 23:00:00 2022-06-06 22:00:00 2022-06-07 22:00:00\n",
       "21287 2022-06-06 00:00:00 2022-06-06 23:00:00 2022-06-07 23:00:00\n",
       "21288 2022-06-06 01:00:00 2022-06-07 00:00:00 2022-06-08 00:00:00\n",
       "\n",
       "[21289 rows x 3 columns]"
      ]
     },
     "execution_count": 30,
     "metadata": {},
     "output_type": "execute_result"
    }
   ],
   "source": [
    "t_idx = create_t_idx(data, LOOKBACK, LOOKFORWARD)\n",
    "t_idx"
   ]
  },
  {
   "cell_type": "markdown",
   "id": "e814eddb-aa66-4d28-b529-9f92f29d8284",
   "metadata": {},
   "source": [
    "## Test getting data from time indexes"
   ]
  },
  {
   "cell_type": "code",
   "execution_count": 31,
   "id": "6cdc07f4-d302-4ada-831f-81f74a64fe1d",
   "metadata": {},
   "outputs": [
    {
     "data": {
      "text/plain": [
       "t_start   2020-01-01 01:00:00\n",
       "t_now     2020-01-02 00:00:00\n",
       "t_end     2020-01-03 00:00:00\n",
       "Name: 0, dtype: datetime64[ns]"
      ]
     },
     "execution_count": 31,
     "metadata": {},
     "output_type": "execute_result"
    }
   ],
   "source": [
    "# test_idx = 21118\n",
    "test_idx = 0\n",
    "t_idx.iloc[test_idx,:]"
   ]
  },
  {
   "cell_type": "code",
   "execution_count": 32,
   "id": "9549fa72-61fe-44d0-b17c-9d10abf349c6",
   "metadata": {},
   "outputs": [
    {
     "data": {
      "text/html": [
       "<div>\n",
       "<style scoped>\n",
       "    .dataframe tbody tr th:only-of-type {\n",
       "        vertical-align: middle;\n",
       "    }\n",
       "\n",
       "    .dataframe tbody tr th {\n",
       "        vertical-align: top;\n",
       "    }\n",
       "\n",
       "    .dataframe thead th {\n",
       "        text-align: right;\n",
       "    }\n",
       "</style>\n",
       "<table border=\"1\" class=\"dataframe\">\n",
       "  <thead>\n",
       "    <tr style=\"text-align: right;\">\n",
       "      <th></th>\n",
       "      <th>wind</th>\n",
       "      <th>solar</th>\n",
       "      <th>load_mwh</th>\n",
       "    </tr>\n",
       "    <tr>\n",
       "      <th>dttm</th>\n",
       "      <th></th>\n",
       "      <th></th>\n",
       "      <th></th>\n",
       "    </tr>\n",
       "  </thead>\n",
       "  <tbody>\n",
       "    <tr>\n",
       "      <th>2020-01-01 01:00:00</th>\n",
       "      <td>1.212703</td>\n",
       "      <td>-0.637892</td>\n",
       "      <td>-0.134964</td>\n",
       "    </tr>\n",
       "    <tr>\n",
       "      <th>2020-01-01 02:00:00</th>\n",
       "      <td>1.187346</td>\n",
       "      <td>-0.637892</td>\n",
       "      <td>-0.308057</td>\n",
       "    </tr>\n",
       "    <tr>\n",
       "      <th>2020-01-01 03:00:00</th>\n",
       "      <td>1.123248</td>\n",
       "      <td>-0.637892</td>\n",
       "      <td>-0.457112</td>\n",
       "    </tr>\n",
       "    <tr>\n",
       "      <th>2020-01-01 04:00:00</th>\n",
       "      <td>1.094655</td>\n",
       "      <td>-0.637892</td>\n",
       "      <td>-0.560132</td>\n",
       "    </tr>\n",
       "    <tr>\n",
       "      <th>2020-01-01 05:00:00</th>\n",
       "      <td>1.107966</td>\n",
       "      <td>-0.637892</td>\n",
       "      <td>-0.580114</td>\n",
       "    </tr>\n",
       "    <tr>\n",
       "      <th>2020-01-01 06:00:00</th>\n",
       "      <td>1.102977</td>\n",
       "      <td>-0.637892</td>\n",
       "      <td>-0.552324</td>\n",
       "    </tr>\n",
       "    <tr>\n",
       "      <th>2020-01-01 07:00:00</th>\n",
       "      <td>1.034280</td>\n",
       "      <td>-0.637892</td>\n",
       "      <td>-0.458147</td>\n",
       "    </tr>\n",
       "    <tr>\n",
       "      <th>2020-01-01 08:00:00</th>\n",
       "      <td>0.906912</td>\n",
       "      <td>-0.637892</td>\n",
       "      <td>-0.384689</td>\n",
       "    </tr>\n",
       "    <tr>\n",
       "      <th>2020-01-01 09:00:00</th>\n",
       "      <td>0.770418</td>\n",
       "      <td>-0.637892</td>\n",
       "      <td>-0.275502</td>\n",
       "    </tr>\n",
       "    <tr>\n",
       "      <th>2020-01-01 10:00:00</th>\n",
       "      <td>0.582577</td>\n",
       "      <td>-0.637892</td>\n",
       "      <td>-0.252466</td>\n",
       "    </tr>\n",
       "    <tr>\n",
       "      <th>2020-01-01 11:00:00</th>\n",
       "      <td>0.422892</td>\n",
       "      <td>-0.439676</td>\n",
       "      <td>-0.204555</td>\n",
       "    </tr>\n",
       "    <tr>\n",
       "      <th>2020-01-01 12:00:00</th>\n",
       "      <td>0.200278</td>\n",
       "      <td>-0.219104</td>\n",
       "      <td>-0.144755</td>\n",
       "    </tr>\n",
       "    <tr>\n",
       "      <th>2020-01-01 13:00:00</th>\n",
       "      <td>-0.048594</td>\n",
       "      <td>-0.035792</td>\n",
       "      <td>-0.177322</td>\n",
       "    </tr>\n",
       "    <tr>\n",
       "      <th>2020-01-01 14:00:00</th>\n",
       "      <td>-0.108069</td>\n",
       "      <td>0.165405</td>\n",
       "      <td>-0.222760</td>\n",
       "    </tr>\n",
       "    <tr>\n",
       "      <th>2020-01-01 15:00:00</th>\n",
       "      <td>-0.083685</td>\n",
       "      <td>0.509676</td>\n",
       "      <td>-0.331745</td>\n",
       "    </tr>\n",
       "    <tr>\n",
       "      <th>2020-01-01 16:00:00</th>\n",
       "      <td>-0.133060</td>\n",
       "      <td>0.208626</td>\n",
       "      <td>-0.352254</td>\n",
       "    </tr>\n",
       "    <tr>\n",
       "      <th>2020-01-01 17:00:00</th>\n",
       "      <td>-0.203802</td>\n",
       "      <td>-0.193768</td>\n",
       "      <td>-0.301737</td>\n",
       "    </tr>\n",
       "    <tr>\n",
       "      <th>2020-01-01 18:00:00</th>\n",
       "      <td>-0.339955</td>\n",
       "      <td>-0.637892</td>\n",
       "      <td>-0.022289</td>\n",
       "    </tr>\n",
       "    <tr>\n",
       "      <th>2020-01-01 19:00:00</th>\n",
       "      <td>-0.208474</td>\n",
       "      <td>-0.637892</td>\n",
       "      <td>0.388096</td>\n",
       "    </tr>\n",
       "    <tr>\n",
       "      <th>2020-01-01 20:00:00</th>\n",
       "      <td>-0.058888</td>\n",
       "      <td>-0.637892</td>\n",
       "      <td>0.358303</td>\n",
       "    </tr>\n",
       "    <tr>\n",
       "      <th>2020-01-01 21:00:00</th>\n",
       "      <td>-0.030733</td>\n",
       "      <td>-0.637892</td>\n",
       "      <td>0.232169</td>\n",
       "    </tr>\n",
       "    <tr>\n",
       "      <th>2020-01-01 22:00:00</th>\n",
       "      <td>0.026405</td>\n",
       "      <td>-0.637892</td>\n",
       "      <td>0.069575</td>\n",
       "    </tr>\n",
       "    <tr>\n",
       "      <th>2020-01-01 23:00:00</th>\n",
       "      <td>0.189765</td>\n",
       "      <td>-0.637892</td>\n",
       "      <td>-0.216728</td>\n",
       "    </tr>\n",
       "    <tr>\n",
       "      <th>2020-01-02 00:00:00</th>\n",
       "      <td>0.397268</td>\n",
       "      <td>-0.637892</td>\n",
       "      <td>-0.518838</td>\n",
       "    </tr>\n",
       "    <tr>\n",
       "      <th>2020-01-02 01:00:00</th>\n",
       "      <td>0.574060</td>\n",
       "      <td>-0.637892</td>\n",
       "      <td>-0.794365</td>\n",
       "    </tr>\n",
       "    <tr>\n",
       "      <th>2020-01-02 02:00:00</th>\n",
       "      <td>0.836876</td>\n",
       "      <td>-0.637892</td>\n",
       "      <td>-0.976903</td>\n",
       "    </tr>\n",
       "    <tr>\n",
       "      <th>2020-01-02 03:00:00</th>\n",
       "      <td>0.962809</td>\n",
       "      <td>-0.637892</td>\n",
       "      <td>-1.076963</td>\n",
       "    </tr>\n",
       "    <tr>\n",
       "      <th>2020-01-02 04:00:00</th>\n",
       "      <td>0.996634</td>\n",
       "      <td>-0.637892</td>\n",
       "      <td>-1.103248</td>\n",
       "    </tr>\n",
       "    <tr>\n",
       "      <th>2020-01-02 05:00:00</th>\n",
       "      <td>0.939812</td>\n",
       "      <td>-0.637892</td>\n",
       "      <td>-1.067551</td>\n",
       "    </tr>\n",
       "    <tr>\n",
       "      <th>2020-01-02 06:00:00</th>\n",
       "      <td>0.986292</td>\n",
       "      <td>-0.637892</td>\n",
       "      <td>-0.905754</td>\n",
       "    </tr>\n",
       "    <tr>\n",
       "      <th>2020-01-02 07:00:00</th>\n",
       "      <td>0.935773</td>\n",
       "      <td>-0.637892</td>\n",
       "      <td>-0.524345</td>\n",
       "    </tr>\n",
       "    <tr>\n",
       "      <th>2020-01-02 08:00:00</th>\n",
       "      <td>0.853497</td>\n",
       "      <td>-0.637892</td>\n",
       "      <td>0.022332</td>\n",
       "    </tr>\n",
       "    <tr>\n",
       "      <th>2020-01-02 09:00:00</th>\n",
       "      <td>0.903408</td>\n",
       "      <td>-0.637892</td>\n",
       "      <td>0.402286</td>\n",
       "    </tr>\n",
       "    <tr>\n",
       "      <th>2020-01-02 10:00:00</th>\n",
       "      <td>0.927523</td>\n",
       "      <td>-0.637892</td>\n",
       "      <td>0.456590</td>\n",
       "    </tr>\n",
       "    <tr>\n",
       "      <th>2020-01-02 11:00:00</th>\n",
       "      <td>0.843544</td>\n",
       "      <td>-0.301074</td>\n",
       "      <td>0.429304</td>\n",
       "    </tr>\n",
       "    <tr>\n",
       "      <th>2020-01-02 12:00:00</th>\n",
       "      <td>0.755501</td>\n",
       "      <td>-0.317467</td>\n",
       "      <td>0.407101</td>\n",
       "    </tr>\n",
       "    <tr>\n",
       "      <th>2020-01-02 13:00:00</th>\n",
       "      <td>0.724255</td>\n",
       "      <td>-0.345784</td>\n",
       "      <td>0.410168</td>\n",
       "    </tr>\n",
       "    <tr>\n",
       "      <th>2020-01-02 14:00:00</th>\n",
       "      <td>0.646651</td>\n",
       "      <td>0.041707</td>\n",
       "      <td>0.403510</td>\n",
       "    </tr>\n",
       "    <tr>\n",
       "      <th>2020-01-02 15:00:00</th>\n",
       "      <td>0.520937</td>\n",
       "      <td>0.399390</td>\n",
       "      <td>0.411190</td>\n",
       "    </tr>\n",
       "    <tr>\n",
       "      <th>2020-01-02 16:00:00</th>\n",
       "      <td>0.625601</td>\n",
       "      <td>0.260788</td>\n",
       "      <td>0.387589</td>\n",
       "    </tr>\n",
       "    <tr>\n",
       "      <th>2020-01-02 17:00:00</th>\n",
       "      <td>0.598711</td>\n",
       "      <td>-0.411359</td>\n",
       "      <td>0.394721</td>\n",
       "    </tr>\n",
       "    <tr>\n",
       "      <th>2020-01-02 18:00:00</th>\n",
       "      <td>0.693057</td>\n",
       "      <td>-0.637892</td>\n",
       "      <td>0.567212</td>\n",
       "    </tr>\n",
       "    <tr>\n",
       "      <th>2020-01-02 19:00:00</th>\n",
       "      <td>0.910951</td>\n",
       "      <td>-0.637892</td>\n",
       "      <td>0.823265</td>\n",
       "    </tr>\n",
       "    <tr>\n",
       "      <th>2020-01-02 20:00:00</th>\n",
       "      <td>1.038758</td>\n",
       "      <td>-0.637892</td>\n",
       "      <td>0.780293</td>\n",
       "    </tr>\n",
       "    <tr>\n",
       "      <th>2020-01-02 21:00:00</th>\n",
       "      <td>1.060318</td>\n",
       "      <td>-0.637892</td>\n",
       "      <td>0.614909</td>\n",
       "    </tr>\n",
       "    <tr>\n",
       "      <th>2020-01-02 22:00:00</th>\n",
       "      <td>1.041289</td>\n",
       "      <td>-0.637892</td>\n",
       "      <td>0.434004</td>\n",
       "    </tr>\n",
       "    <tr>\n",
       "      <th>2020-01-02 23:00:00</th>\n",
       "      <td>0.947454</td>\n",
       "      <td>-0.637892</td>\n",
       "      <td>0.159482</td>\n",
       "    </tr>\n",
       "    <tr>\n",
       "      <th>2020-01-03 00:00:00</th>\n",
       "      <td>0.888077</td>\n",
       "      <td>-0.637892</td>\n",
       "      <td>-0.146160</td>\n",
       "    </tr>\n",
       "  </tbody>\n",
       "</table>\n",
       "</div>"
      ],
      "text/plain": [
       "                         wind     solar  load_mwh\n",
       "dttm                                             \n",
       "2020-01-01 01:00:00  1.212703 -0.637892 -0.134964\n",
       "2020-01-01 02:00:00  1.187346 -0.637892 -0.308057\n",
       "2020-01-01 03:00:00  1.123248 -0.637892 -0.457112\n",
       "2020-01-01 04:00:00  1.094655 -0.637892 -0.560132\n",
       "2020-01-01 05:00:00  1.107966 -0.637892 -0.580114\n",
       "2020-01-01 06:00:00  1.102977 -0.637892 -0.552324\n",
       "2020-01-01 07:00:00  1.034280 -0.637892 -0.458147\n",
       "2020-01-01 08:00:00  0.906912 -0.637892 -0.384689\n",
       "2020-01-01 09:00:00  0.770418 -0.637892 -0.275502\n",
       "2020-01-01 10:00:00  0.582577 -0.637892 -0.252466\n",
       "2020-01-01 11:00:00  0.422892 -0.439676 -0.204555\n",
       "2020-01-01 12:00:00  0.200278 -0.219104 -0.144755\n",
       "2020-01-01 13:00:00 -0.048594 -0.035792 -0.177322\n",
       "2020-01-01 14:00:00 -0.108069  0.165405 -0.222760\n",
       "2020-01-01 15:00:00 -0.083685  0.509676 -0.331745\n",
       "2020-01-01 16:00:00 -0.133060  0.208626 -0.352254\n",
       "2020-01-01 17:00:00 -0.203802 -0.193768 -0.301737\n",
       "2020-01-01 18:00:00 -0.339955 -0.637892 -0.022289\n",
       "2020-01-01 19:00:00 -0.208474 -0.637892  0.388096\n",
       "2020-01-01 20:00:00 -0.058888 -0.637892  0.358303\n",
       "2020-01-01 21:00:00 -0.030733 -0.637892  0.232169\n",
       "2020-01-01 22:00:00  0.026405 -0.637892  0.069575\n",
       "2020-01-01 23:00:00  0.189765 -0.637892 -0.216728\n",
       "2020-01-02 00:00:00  0.397268 -0.637892 -0.518838\n",
       "2020-01-02 01:00:00  0.574060 -0.637892 -0.794365\n",
       "2020-01-02 02:00:00  0.836876 -0.637892 -0.976903\n",
       "2020-01-02 03:00:00  0.962809 -0.637892 -1.076963\n",
       "2020-01-02 04:00:00  0.996634 -0.637892 -1.103248\n",
       "2020-01-02 05:00:00  0.939812 -0.637892 -1.067551\n",
       "2020-01-02 06:00:00  0.986292 -0.637892 -0.905754\n",
       "2020-01-02 07:00:00  0.935773 -0.637892 -0.524345\n",
       "2020-01-02 08:00:00  0.853497 -0.637892  0.022332\n",
       "2020-01-02 09:00:00  0.903408 -0.637892  0.402286\n",
       "2020-01-02 10:00:00  0.927523 -0.637892  0.456590\n",
       "2020-01-02 11:00:00  0.843544 -0.301074  0.429304\n",
       "2020-01-02 12:00:00  0.755501 -0.317467  0.407101\n",
       "2020-01-02 13:00:00  0.724255 -0.345784  0.410168\n",
       "2020-01-02 14:00:00  0.646651  0.041707  0.403510\n",
       "2020-01-02 15:00:00  0.520937  0.399390  0.411190\n",
       "2020-01-02 16:00:00  0.625601  0.260788  0.387589\n",
       "2020-01-02 17:00:00  0.598711 -0.411359  0.394721\n",
       "2020-01-02 18:00:00  0.693057 -0.637892  0.567212\n",
       "2020-01-02 19:00:00  0.910951 -0.637892  0.823265\n",
       "2020-01-02 20:00:00  1.038758 -0.637892  0.780293\n",
       "2020-01-02 21:00:00  1.060318 -0.637892  0.614909\n",
       "2020-01-02 22:00:00  1.041289 -0.637892  0.434004\n",
       "2020-01-02 23:00:00  0.947454 -0.637892  0.159482\n",
       "2020-01-03 00:00:00  0.888077 -0.637892 -0.146160"
      ]
     },
     "execution_count": 32,
     "metadata": {},
     "output_type": "execute_result"
    }
   ],
   "source": [
    "# get dataframe with historical and future timeseries values\n",
    "# i.e. historical values from t_start:t_now and \n",
    "# future values from t_now:t_end\n",
    "# in production future values would come from forecasts \n",
    "# but actuals will be used for training\n",
    "hist_future_cols = ['wind', 'solar', 'load_mwh']\n",
    "hist_future = data_scaled.loc[t_idx.t_start[test_idx]:t_idx.t_end[test_idx], hist_future_cols]\n",
    "hist_future"
   ]
  },
  {
   "cell_type": "code",
   "execution_count": 33,
   "id": "573312f4-4923-41f9-b462-4d427e05d17b",
   "metadata": {},
   "outputs": [
    {
     "data": {
      "text/html": [
       "<div>\n",
       "<style scoped>\n",
       "    .dataframe tbody tr th:only-of-type {\n",
       "        vertical-align: middle;\n",
       "    }\n",
       "\n",
       "    .dataframe tbody tr th {\n",
       "        vertical-align: top;\n",
       "    }\n",
       "\n",
       "    .dataframe thead th {\n",
       "        text-align: right;\n",
       "    }\n",
       "</style>\n",
       "<table border=\"1\" class=\"dataframe\">\n",
       "  <thead>\n",
       "    <tr style=\"text-align: right;\">\n",
       "      <th></th>\n",
       "      <th>price</th>\n",
       "    </tr>\n",
       "    <tr>\n",
       "      <th>dttm</th>\n",
       "      <th></th>\n",
       "    </tr>\n",
       "  </thead>\n",
       "  <tbody>\n",
       "    <tr>\n",
       "      <th>2020-01-01 01:00:00</th>\n",
       "      <td>-0.704091</td>\n",
       "    </tr>\n",
       "    <tr>\n",
       "      <th>2020-01-01 02:00:00</th>\n",
       "      <td>-0.711573</td>\n",
       "    </tr>\n",
       "    <tr>\n",
       "      <th>2020-01-01 03:00:00</th>\n",
       "      <td>-0.724336</td>\n",
       "    </tr>\n",
       "    <tr>\n",
       "      <th>2020-01-01 04:00:00</th>\n",
       "      <td>-0.728297</td>\n",
       "    </tr>\n",
       "    <tr>\n",
       "      <th>2020-01-01 05:00:00</th>\n",
       "      <td>-0.710693</td>\n",
       "    </tr>\n",
       "    <tr>\n",
       "      <th>2020-01-01 06:00:00</th>\n",
       "      <td>-0.609906</td>\n",
       "    </tr>\n",
       "    <tr>\n",
       "      <th>2020-01-01 07:00:00</th>\n",
       "      <td>-0.565454</td>\n",
       "    </tr>\n",
       "    <tr>\n",
       "      <th>2020-01-01 08:00:00</th>\n",
       "      <td>-0.618708</td>\n",
       "    </tr>\n",
       "    <tr>\n",
       "      <th>2020-01-01 09:00:00</th>\n",
       "      <td>-0.570736</td>\n",
       "    </tr>\n",
       "    <tr>\n",
       "      <th>2020-01-01 10:00:00</th>\n",
       "      <td>-0.473030</td>\n",
       "    </tr>\n",
       "    <tr>\n",
       "      <th>2020-01-01 11:00:00</th>\n",
       "      <td>-0.450584</td>\n",
       "    </tr>\n",
       "    <tr>\n",
       "      <th>2020-01-01 12:00:00</th>\n",
       "      <td>-0.398650</td>\n",
       "    </tr>\n",
       "    <tr>\n",
       "      <th>2020-01-01 13:00:00</th>\n",
       "      <td>-0.367842</td>\n",
       "    </tr>\n",
       "    <tr>\n",
       "      <th>2020-01-01 14:00:00</th>\n",
       "      <td>-0.414054</td>\n",
       "    </tr>\n",
       "    <tr>\n",
       "      <th>2020-01-01 15:00:00</th>\n",
       "      <td>-0.473030</td>\n",
       "    </tr>\n",
       "    <tr>\n",
       "      <th>2020-01-01 16:00:00</th>\n",
       "      <td>-0.458946</td>\n",
       "    </tr>\n",
       "    <tr>\n",
       "      <th>2020-01-01 17:00:00</th>\n",
       "      <td>-0.443102</td>\n",
       "    </tr>\n",
       "    <tr>\n",
       "      <th>2020-01-01 18:00:00</th>\n",
       "      <td>-0.334393</td>\n",
       "    </tr>\n",
       "    <tr>\n",
       "      <th>2020-01-01 19:00:00</th>\n",
       "      <td>-0.322510</td>\n",
       "    </tr>\n",
       "    <tr>\n",
       "      <th>2020-01-01 20:00:00</th>\n",
       "      <td>-0.451024</td>\n",
       "    </tr>\n",
       "    <tr>\n",
       "      <th>2020-01-01 21:00:00</th>\n",
       "      <td>-0.479632</td>\n",
       "    </tr>\n",
       "    <tr>\n",
       "      <th>2020-01-01 22:00:00</th>\n",
       "      <td>-0.514841</td>\n",
       "    </tr>\n",
       "    <tr>\n",
       "      <th>2020-01-01 23:00:00</th>\n",
       "      <td>-0.547850</td>\n",
       "    </tr>\n",
       "    <tr>\n",
       "      <th>2020-01-02 00:00:00</th>\n",
       "      <td>-0.533326</td>\n",
       "    </tr>\n",
       "  </tbody>\n",
       "</table>\n",
       "</div>"
      ],
      "text/plain": [
       "                        price\n",
       "dttm                         \n",
       "2020-01-01 01:00:00 -0.704091\n",
       "2020-01-01 02:00:00 -0.711573\n",
       "2020-01-01 03:00:00 -0.724336\n",
       "2020-01-01 04:00:00 -0.728297\n",
       "2020-01-01 05:00:00 -0.710693\n",
       "2020-01-01 06:00:00 -0.609906\n",
       "2020-01-01 07:00:00 -0.565454\n",
       "2020-01-01 08:00:00 -0.618708\n",
       "2020-01-01 09:00:00 -0.570736\n",
       "2020-01-01 10:00:00 -0.473030\n",
       "2020-01-01 11:00:00 -0.450584\n",
       "2020-01-01 12:00:00 -0.398650\n",
       "2020-01-01 13:00:00 -0.367842\n",
       "2020-01-01 14:00:00 -0.414054\n",
       "2020-01-01 15:00:00 -0.473030\n",
       "2020-01-01 16:00:00 -0.458946\n",
       "2020-01-01 17:00:00 -0.443102\n",
       "2020-01-01 18:00:00 -0.334393\n",
       "2020-01-01 19:00:00 -0.322510\n",
       "2020-01-01 20:00:00 -0.451024\n",
       "2020-01-01 21:00:00 -0.479632\n",
       "2020-01-01 22:00:00 -0.514841\n",
       "2020-01-01 23:00:00 -0.547850\n",
       "2020-01-02 00:00:00 -0.533326"
      ]
     },
     "execution_count": 33,
     "metadata": {},
     "output_type": "execute_result"
    }
   ],
   "source": [
    "# get dataframe with historical timeseries values\n",
    "label_cols = ['price']\n",
    "hist = data_scaled.loc[t_idx.t_start[test_idx]:t_idx.t_now[test_idx], label_cols]\n",
    "hist"
   ]
  },
  {
   "cell_type": "code",
   "execution_count": 34,
   "id": "cc8dfbb7-8894-4134-8aaf-b55de114bb4d",
   "metadata": {},
   "outputs": [
    {
     "data": {
      "text/html": [
       "<div>\n",
       "<style scoped>\n",
       "    .dataframe tbody tr th:only-of-type {\n",
       "        vertical-align: middle;\n",
       "    }\n",
       "\n",
       "    .dataframe tbody tr th {\n",
       "        vertical-align: top;\n",
       "    }\n",
       "\n",
       "    .dataframe thead th {\n",
       "        text-align: right;\n",
       "    }\n",
       "</style>\n",
       "<table border=\"1\" class=\"dataframe\">\n",
       "  <thead>\n",
       "    <tr style=\"text-align: right;\">\n",
       "      <th></th>\n",
       "      <th>price</th>\n",
       "    </tr>\n",
       "    <tr>\n",
       "      <th>dttm</th>\n",
       "      <th></th>\n",
       "    </tr>\n",
       "  </thead>\n",
       "  <tbody>\n",
       "    <tr>\n",
       "      <th>2020-01-02 01:00:00</th>\n",
       "      <td>-0.591421</td>\n",
       "    </tr>\n",
       "    <tr>\n",
       "      <th>2020-01-02 02:00:00</th>\n",
       "      <td>-0.656558</td>\n",
       "    </tr>\n",
       "    <tr>\n",
       "      <th>2020-01-02 03:00:00</th>\n",
       "      <td>-0.687366</td>\n",
       "    </tr>\n",
       "    <tr>\n",
       "      <th>2020-01-02 04:00:00</th>\n",
       "      <td>-0.722136</td>\n",
       "    </tr>\n",
       "    <tr>\n",
       "      <th>2020-01-02 05:00:00</th>\n",
       "      <td>-0.758225</td>\n",
       "    </tr>\n",
       "    <tr>\n",
       "      <th>2020-01-02 06:00:00</th>\n",
       "      <td>-0.725216</td>\n",
       "    </tr>\n",
       "    <tr>\n",
       "      <th>2020-01-02 07:00:00</th>\n",
       "      <td>-0.664920</td>\n",
       "    </tr>\n",
       "    <tr>\n",
       "      <th>2020-01-02 08:00:00</th>\n",
       "      <td>-0.712453</td>\n",
       "    </tr>\n",
       "    <tr>\n",
       "      <th>2020-01-02 09:00:00</th>\n",
       "      <td>-0.713773</td>\n",
       "    </tr>\n",
       "    <tr>\n",
       "      <th>2020-01-02 10:00:00</th>\n",
       "      <td>-0.679884</td>\n",
       "    </tr>\n",
       "    <tr>\n",
       "      <th>2020-01-02 11:00:00</th>\n",
       "      <td>-0.625750</td>\n",
       "    </tr>\n",
       "    <tr>\n",
       "      <th>2020-01-02 12:00:00</th>\n",
       "      <td>-0.623109</td>\n",
       "    </tr>\n",
       "    <tr>\n",
       "      <th>2020-01-02 13:00:00</th>\n",
       "      <td>-0.612987</td>\n",
       "    </tr>\n",
       "    <tr>\n",
       "      <th>2020-01-02 14:00:00</th>\n",
       "      <td>-0.634552</td>\n",
       "    </tr>\n",
       "    <tr>\n",
       "      <th>2020-01-02 15:00:00</th>\n",
       "      <td>-0.656558</td>\n",
       "    </tr>\n",
       "    <tr>\n",
       "      <th>2020-01-02 16:00:00</th>\n",
       "      <td>-0.679004</td>\n",
       "    </tr>\n",
       "    <tr>\n",
       "      <th>2020-01-02 17:00:00</th>\n",
       "      <td>-0.605945</td>\n",
       "    </tr>\n",
       "    <tr>\n",
       "      <th>2020-01-02 18:00:00</th>\n",
       "      <td>-0.566775</td>\n",
       "    </tr>\n",
       "    <tr>\n",
       "      <th>2020-01-02 19:00:00</th>\n",
       "      <td>-0.600664</td>\n",
       "    </tr>\n",
       "    <tr>\n",
       "      <th>2020-01-02 20:00:00</th>\n",
       "      <td>-0.652597</td>\n",
       "    </tr>\n",
       "    <tr>\n",
       "      <th>2020-01-02 21:00:00</th>\n",
       "      <td>-0.693968</td>\n",
       "    </tr>\n",
       "    <tr>\n",
       "      <th>2020-01-02 22:00:00</th>\n",
       "      <td>-0.710693</td>\n",
       "    </tr>\n",
       "    <tr>\n",
       "      <th>2020-01-02 23:00:00</th>\n",
       "      <td>-0.721695</td>\n",
       "    </tr>\n",
       "    <tr>\n",
       "      <th>2020-01-03 00:00:00</th>\n",
       "      <td>-0.726977</td>\n",
       "    </tr>\n",
       "  </tbody>\n",
       "</table>\n",
       "</div>"
      ],
      "text/plain": [
       "                        price\n",
       "dttm                         \n",
       "2020-01-02 01:00:00 -0.591421\n",
       "2020-01-02 02:00:00 -0.656558\n",
       "2020-01-02 03:00:00 -0.687366\n",
       "2020-01-02 04:00:00 -0.722136\n",
       "2020-01-02 05:00:00 -0.758225\n",
       "2020-01-02 06:00:00 -0.725216\n",
       "2020-01-02 07:00:00 -0.664920\n",
       "2020-01-02 08:00:00 -0.712453\n",
       "2020-01-02 09:00:00 -0.713773\n",
       "2020-01-02 10:00:00 -0.679884\n",
       "2020-01-02 11:00:00 -0.625750\n",
       "2020-01-02 12:00:00 -0.623109\n",
       "2020-01-02 13:00:00 -0.612987\n",
       "2020-01-02 14:00:00 -0.634552\n",
       "2020-01-02 15:00:00 -0.656558\n",
       "2020-01-02 16:00:00 -0.679004\n",
       "2020-01-02 17:00:00 -0.605945\n",
       "2020-01-02 18:00:00 -0.566775\n",
       "2020-01-02 19:00:00 -0.600664\n",
       "2020-01-02 20:00:00 -0.652597\n",
       "2020-01-02 21:00:00 -0.693968\n",
       "2020-01-02 22:00:00 -0.710693\n",
       "2020-01-02 23:00:00 -0.721695\n",
       "2020-01-03 00:00:00 -0.726977"
      ]
     },
     "execution_count": 34,
     "metadata": {},
     "output_type": "execute_result"
    }
   ],
   "source": [
    "# get dataframe with future timeseries label values\n",
    "# this is what we're trying to predict\n",
    "label_cols = ['price']\n",
    "label = data_scaled.loc[(t_idx.t_now[test_idx]+pd.DateOffset(hours=1)):t_idx.t_end[test_idx], label_cols]\n",
    "label"
   ]
  },
  {
   "cell_type": "code",
   "execution_count": 35,
   "id": "113ab946-05da-4c45-ac5d-cabc204b2bfc",
   "metadata": {},
   "outputs": [],
   "source": [
    "# function to create tabular data from t_now index\n",
    "# this will consist of one hot encoding for timestamp variables\n",
    "def create_tabular_data(\n",
    "    t_now: pd._libs.tslibs.timestamps.Timestamp\n",
    ") -> pd.core.frame.DataFrame:\n",
    "    \n",
    "    hours = pd.DataFrame({f'hour_{i}':1*(t_now.hour == i) for i in range(24)}, index=[0])\n",
    "    dayofweek = pd.DataFrame({f'dayofweek_{i}':1*(t_now.dayofweek == i) for i in range(7)}, index=[0])\n",
    "    month = pd.DataFrame({f'month_{i}':1*(t_now.month == i) for i in range(1, 13)}, index=[0])\n",
    "    # week = pd.DataFrame({f'week_{i}':1*(t_now.isocalendar()[1] == i) for i in range(1, 54)}, index=[0])\n",
    "    day = pd.DataFrame({f'day_{i}':1*(t_now.day == i) for i in range(1,32)}, index=[0])\n",
    "        \n",
    "        \n",
    "    return pd.concat([day, month, dayofweek, hours], axis=1)"
   ]
  },
  {
   "cell_type": "code",
   "execution_count": 36,
   "id": "83bd0400-1661-48f6-abc7-93a941d6b740",
   "metadata": {},
   "outputs": [
    {
     "data": {
      "text/html": [
       "<div>\n",
       "<style scoped>\n",
       "    .dataframe tbody tr th:only-of-type {\n",
       "        vertical-align: middle;\n",
       "    }\n",
       "\n",
       "    .dataframe tbody tr th {\n",
       "        vertical-align: top;\n",
       "    }\n",
       "\n",
       "    .dataframe thead th {\n",
       "        text-align: right;\n",
       "    }\n",
       "</style>\n",
       "<table border=\"1\" class=\"dataframe\">\n",
       "  <thead>\n",
       "    <tr style=\"text-align: right;\">\n",
       "      <th></th>\n",
       "      <th>0</th>\n",
       "    </tr>\n",
       "  </thead>\n",
       "  <tbody>\n",
       "    <tr>\n",
       "      <th>day_1</th>\n",
       "      <td>0</td>\n",
       "    </tr>\n",
       "    <tr>\n",
       "      <th>day_2</th>\n",
       "      <td>1</td>\n",
       "    </tr>\n",
       "    <tr>\n",
       "      <th>day_3</th>\n",
       "      <td>0</td>\n",
       "    </tr>\n",
       "    <tr>\n",
       "      <th>day_4</th>\n",
       "      <td>0</td>\n",
       "    </tr>\n",
       "    <tr>\n",
       "      <th>day_5</th>\n",
       "      <td>0</td>\n",
       "    </tr>\n",
       "    <tr>\n",
       "      <th>...</th>\n",
       "      <td>...</td>\n",
       "    </tr>\n",
       "    <tr>\n",
       "      <th>hour_19</th>\n",
       "      <td>0</td>\n",
       "    </tr>\n",
       "    <tr>\n",
       "      <th>hour_20</th>\n",
       "      <td>0</td>\n",
       "    </tr>\n",
       "    <tr>\n",
       "      <th>hour_21</th>\n",
       "      <td>0</td>\n",
       "    </tr>\n",
       "    <tr>\n",
       "      <th>hour_22</th>\n",
       "      <td>0</td>\n",
       "    </tr>\n",
       "    <tr>\n",
       "      <th>hour_23</th>\n",
       "      <td>0</td>\n",
       "    </tr>\n",
       "  </tbody>\n",
       "</table>\n",
       "<p>74 rows × 1 columns</p>\n",
       "</div>"
      ],
      "text/plain": [
       "         0\n",
       "day_1    0\n",
       "day_2    1\n",
       "day_3    0\n",
       "day_4    0\n",
       "day_5    0\n",
       "...     ..\n",
       "hour_19  0\n",
       "hour_20  0\n",
       "hour_21  0\n",
       "hour_22  0\n",
       "hour_23  0\n",
       "\n",
       "[74 rows x 1 columns]"
      ]
     },
     "execution_count": 36,
     "metadata": {},
     "output_type": "execute_result"
    }
   ],
   "source": [
    "tabular_data = create_tabular_data(t_idx.t_now[test_idx])\n",
    "tabular_data.transpose()"
   ]
  },
  {
   "cell_type": "markdown",
   "id": "92d53a8f-6230-42b3-b06e-15015b76788c",
   "metadata": {},
   "source": [
    "## Custom dataloader"
   ]
  },
  {
   "cell_type": "code",
   "execution_count": 37,
   "id": "ce723bce-b2a4-4af4-ab1d-db5338906121",
   "metadata": {},
   "outputs": [],
   "source": [
    "# this the class for our custom data loader\n",
    "# it will return our timeseries dataframes, tabular data, and target values\n",
    "class CombineDataset(Dataset):\n",
    "\n",
    "    def __init__(self, t_idx, data_scaled, hist_future_cols, label_cols):\n",
    "        \"\"\"\n",
    "        Args:\n",
    "            t_idx (pd.DataFrame): DataFrame with t_start, t_now, t_end columns\n",
    "            t_idx (pd.DataFrame): DataFrame with wind, solar, load_mwh, price columns\n",
    "            hist_future_cols (List[str]): List of column names with historical and future values\n",
    "            label_cols (List[str]): List of label column names, used to create hist and label data\n",
    "        Returns:\n",
    "            hist_future (numpy.ndarray): sample with historical and future \n",
    "                wind, solar, load_mwh timeseries values\n",
    "            hist (numpy.ndarray): sample with historical price time series values\n",
    "            tabular (numpy.ndarray): sample with tabular data\n",
    "            label (numpy.ndarray): sample with future prices that is used for the target variable\n",
    "        \"\"\"\n",
    "        self.t_idx = t_idx\n",
    "        self.data_scaled = data_scaled\n",
    "        self.hist_future_cols = hist_future_cols\n",
    "        self.label_cols = label_cols\n",
    "\n",
    "    def __len__(self):\n",
    "        return (self.t_idx.shape[0])\n",
    "\n",
    "    def __getitem__(self, idx):\n",
    "        if torch.is_tensor(idx):\n",
    "            idx = idx.tolist()\n",
    "        \n",
    "        # print(f'idx: {idx}')\n",
    "        \n",
    "        # get historical and future timeseries\n",
    "        hist_future = self.data_scaled.loc[\n",
    "            self.t_idx.t_start[idx]:self.t_idx.t_end[idx], self.hist_future_cols\n",
    "        ].transpose()\n",
    "\n",
    "        # get historical label timeseries\n",
    "        hist = self.data_scaled.loc[\n",
    "            self.t_idx.t_start[idx]:self.t_idx.t_now[idx], self.label_cols\n",
    "        ].transpose()\n",
    "       \n",
    "        # get tabular data\n",
    "        tabular = create_tabular_data(self.t_idx.t_now[idx])\n",
    "        \n",
    "        # get label timeseries\n",
    "        label = self.data_scaled.loc[\n",
    "            (self.t_idx.t_now[idx]+pd.DateOffset(hours=1)):self.t_idx.t_end[idx], self.label_cols\n",
    "        ].transpose()\n",
    "\n",
    "        return hist_future.values, hist.values, tabular.values, label.values"
   ]
  },
  {
   "cell_type": "code",
   "execution_count": 38,
   "id": "a7bc759e-1558-4134-b08f-32c5704ec226",
   "metadata": {},
   "outputs": [
    {
     "data": {
      "text/html": [
       "<div>\n",
       "<style scoped>\n",
       "    .dataframe tbody tr th:only-of-type {\n",
       "        vertical-align: middle;\n",
       "    }\n",
       "\n",
       "    .dataframe tbody tr th {\n",
       "        vertical-align: top;\n",
       "    }\n",
       "\n",
       "    .dataframe thead th {\n",
       "        text-align: right;\n",
       "    }\n",
       "</style>\n",
       "<table border=\"1\" class=\"dataframe\">\n",
       "  <thead>\n",
       "    <tr style=\"text-align: right;\">\n",
       "      <th></th>\n",
       "      <th>t_start</th>\n",
       "      <th>t_now</th>\n",
       "      <th>t_end</th>\n",
       "    </tr>\n",
       "  </thead>\n",
       "  <tbody>\n",
       "    <tr>\n",
       "      <th>0</th>\n",
       "      <td>2022-05-10 23:00:00</td>\n",
       "      <td>2022-05-11 22:00:00</td>\n",
       "      <td>2022-05-12 22:00:00</td>\n",
       "    </tr>\n",
       "    <tr>\n",
       "      <th>1</th>\n",
       "      <td>2020-09-03 18:00:00</td>\n",
       "      <td>2020-09-04 17:00:00</td>\n",
       "      <td>2020-09-05 17:00:00</td>\n",
       "    </tr>\n",
       "    <tr>\n",
       "      <th>2</th>\n",
       "      <td>2021-08-14 04:00:00</td>\n",
       "      <td>2021-08-15 03:00:00</td>\n",
       "      <td>2021-08-16 03:00:00</td>\n",
       "    </tr>\n",
       "    <tr>\n",
       "      <th>3</th>\n",
       "      <td>2021-12-04 17:00:00</td>\n",
       "      <td>2021-12-05 16:00:00</td>\n",
       "      <td>2021-12-06 16:00:00</td>\n",
       "    </tr>\n",
       "    <tr>\n",
       "      <th>4</th>\n",
       "      <td>2020-12-04 10:00:00</td>\n",
       "      <td>2020-12-05 09:00:00</td>\n",
       "      <td>2020-12-06 09:00:00</td>\n",
       "    </tr>\n",
       "    <tr>\n",
       "      <th>...</th>\n",
       "      <td>...</td>\n",
       "      <td>...</td>\n",
       "      <td>...</td>\n",
       "    </tr>\n",
       "    <tr>\n",
       "      <th>17063</th>\n",
       "      <td>2020-04-26 03:00:00</td>\n",
       "      <td>2020-04-27 02:00:00</td>\n",
       "      <td>2020-04-28 02:00:00</td>\n",
       "    </tr>\n",
       "    <tr>\n",
       "      <th>17064</th>\n",
       "      <td>2021-01-20 20:00:00</td>\n",
       "      <td>2021-01-21 19:00:00</td>\n",
       "      <td>2021-01-22 19:00:00</td>\n",
       "    </tr>\n",
       "    <tr>\n",
       "      <th>17065</th>\n",
       "      <td>2020-03-12 14:00:00</td>\n",
       "      <td>2020-03-13 13:00:00</td>\n",
       "      <td>2020-03-14 13:00:00</td>\n",
       "    </tr>\n",
       "    <tr>\n",
       "      <th>17066</th>\n",
       "      <td>2020-04-22 09:00:00</td>\n",
       "      <td>2020-04-23 08:00:00</td>\n",
       "      <td>2020-04-24 08:00:00</td>\n",
       "    </tr>\n",
       "    <tr>\n",
       "      <th>17067</th>\n",
       "      <td>2020-03-18 01:00:00</td>\n",
       "      <td>2020-03-19 00:00:00</td>\n",
       "      <td>2020-03-20 00:00:00</td>\n",
       "    </tr>\n",
       "  </tbody>\n",
       "</table>\n",
       "<p>17068 rows × 3 columns</p>\n",
       "</div>"
      ],
      "text/plain": [
       "                  t_start               t_now               t_end\n",
       "0     2022-05-10 23:00:00 2022-05-11 22:00:00 2022-05-12 22:00:00\n",
       "1     2020-09-03 18:00:00 2020-09-04 17:00:00 2020-09-05 17:00:00\n",
       "2     2021-08-14 04:00:00 2021-08-15 03:00:00 2021-08-16 03:00:00\n",
       "3     2021-12-04 17:00:00 2021-12-05 16:00:00 2021-12-06 16:00:00\n",
       "4     2020-12-04 10:00:00 2020-12-05 09:00:00 2020-12-06 09:00:00\n",
       "...                   ...                 ...                 ...\n",
       "17063 2020-04-26 03:00:00 2020-04-27 02:00:00 2020-04-28 02:00:00\n",
       "17064 2021-01-20 20:00:00 2021-01-21 19:00:00 2021-01-22 19:00:00\n",
       "17065 2020-03-12 14:00:00 2020-03-13 13:00:00 2020-03-14 13:00:00\n",
       "17066 2020-04-22 09:00:00 2020-04-23 08:00:00 2020-04-24 08:00:00\n",
       "17067 2020-03-18 01:00:00 2020-03-19 00:00:00 2020-03-20 00:00:00\n",
       "\n",
       "[17068 rows x 3 columns]"
      ]
     },
     "execution_count": 38,
     "metadata": {},
     "output_type": "execute_result"
    }
   ],
   "source": [
    "# create t_idx_train and t_idx_test for train and test dataloaders\n",
    "t_idx_train = t_idx.iloc[TRAIN_IDX,:].reset_index(drop=True)\n",
    "t_idx_train"
   ]
  },
  {
   "cell_type": "code",
   "execution_count": 39,
   "id": "b199064d-1bed-49cb-85b0-22e3f4451be1",
   "metadata": {},
   "outputs": [
    {
     "data": {
      "text/html": [
       "<div>\n",
       "<style scoped>\n",
       "    .dataframe tbody tr th:only-of-type {\n",
       "        vertical-align: middle;\n",
       "    }\n",
       "\n",
       "    .dataframe tbody tr th {\n",
       "        vertical-align: top;\n",
       "    }\n",
       "\n",
       "    .dataframe thead th {\n",
       "        text-align: right;\n",
       "    }\n",
       "</style>\n",
       "<table border=\"1\" class=\"dataframe\">\n",
       "  <thead>\n",
       "    <tr style=\"text-align: right;\">\n",
       "      <th></th>\n",
       "      <th>t_start</th>\n",
       "      <th>t_now</th>\n",
       "      <th>t_end</th>\n",
       "    </tr>\n",
       "  </thead>\n",
       "  <tbody>\n",
       "    <tr>\n",
       "      <th>0</th>\n",
       "      <td>2020-01-01 10:00:00</td>\n",
       "      <td>2020-01-02 09:00:00</td>\n",
       "      <td>2020-01-03 09:00:00</td>\n",
       "    </tr>\n",
       "    <tr>\n",
       "      <th>1</th>\n",
       "      <td>2020-01-01 12:00:00</td>\n",
       "      <td>2020-01-02 11:00:00</td>\n",
       "      <td>2020-01-03 11:00:00</td>\n",
       "    </tr>\n",
       "    <tr>\n",
       "      <th>2</th>\n",
       "      <td>2020-01-01 14:00:00</td>\n",
       "      <td>2020-01-02 13:00:00</td>\n",
       "      <td>2020-01-03 13:00:00</td>\n",
       "    </tr>\n",
       "    <tr>\n",
       "      <th>3</th>\n",
       "      <td>2020-01-01 17:00:00</td>\n",
       "      <td>2020-01-02 16:00:00</td>\n",
       "      <td>2020-01-03 16:00:00</td>\n",
       "    </tr>\n",
       "    <tr>\n",
       "      <th>4</th>\n",
       "      <td>2020-01-02 01:00:00</td>\n",
       "      <td>2020-01-03 00:00:00</td>\n",
       "      <td>2020-01-04 00:00:00</td>\n",
       "    </tr>\n",
       "    <tr>\n",
       "      <th>...</th>\n",
       "      <td>...</td>\n",
       "      <td>...</td>\n",
       "      <td>...</td>\n",
       "    </tr>\n",
       "    <tr>\n",
       "      <th>4216</th>\n",
       "      <td>2022-06-05 11:00:00</td>\n",
       "      <td>2022-06-06 10:00:00</td>\n",
       "      <td>2022-06-07 10:00:00</td>\n",
       "    </tr>\n",
       "    <tr>\n",
       "      <th>4217</th>\n",
       "      <td>2022-06-05 12:00:00</td>\n",
       "      <td>2022-06-06 11:00:00</td>\n",
       "      <td>2022-06-07 11:00:00</td>\n",
       "    </tr>\n",
       "    <tr>\n",
       "      <th>4218</th>\n",
       "      <td>2022-06-05 18:00:00</td>\n",
       "      <td>2022-06-06 17:00:00</td>\n",
       "      <td>2022-06-07 17:00:00</td>\n",
       "    </tr>\n",
       "    <tr>\n",
       "      <th>4219</th>\n",
       "      <td>2022-06-05 23:00:00</td>\n",
       "      <td>2022-06-06 22:00:00</td>\n",
       "      <td>2022-06-07 22:00:00</td>\n",
       "    </tr>\n",
       "    <tr>\n",
       "      <th>4220</th>\n",
       "      <td>2022-06-06 01:00:00</td>\n",
       "      <td>2022-06-07 00:00:00</td>\n",
       "      <td>2022-06-08 00:00:00</td>\n",
       "    </tr>\n",
       "  </tbody>\n",
       "</table>\n",
       "<p>4221 rows × 3 columns</p>\n",
       "</div>"
      ],
      "text/plain": [
       "                 t_start               t_now               t_end\n",
       "0    2020-01-01 10:00:00 2020-01-02 09:00:00 2020-01-03 09:00:00\n",
       "1    2020-01-01 12:00:00 2020-01-02 11:00:00 2020-01-03 11:00:00\n",
       "2    2020-01-01 14:00:00 2020-01-02 13:00:00 2020-01-03 13:00:00\n",
       "3    2020-01-01 17:00:00 2020-01-02 16:00:00 2020-01-03 16:00:00\n",
       "4    2020-01-02 01:00:00 2020-01-03 00:00:00 2020-01-04 00:00:00\n",
       "...                  ...                 ...                 ...\n",
       "4216 2022-06-05 11:00:00 2022-06-06 10:00:00 2022-06-07 10:00:00\n",
       "4217 2022-06-05 12:00:00 2022-06-06 11:00:00 2022-06-07 11:00:00\n",
       "4218 2022-06-05 18:00:00 2022-06-06 17:00:00 2022-06-07 17:00:00\n",
       "4219 2022-06-05 23:00:00 2022-06-06 22:00:00 2022-06-07 22:00:00\n",
       "4220 2022-06-06 01:00:00 2022-06-07 00:00:00 2022-06-08 00:00:00\n",
       "\n",
       "[4221 rows x 3 columns]"
      ]
     },
     "execution_count": 39,
     "metadata": {},
     "output_type": "execute_result"
    }
   ],
   "source": [
    "t_idx_test = t_idx.iloc[TEST_IDX,:].reset_index(drop=True)\n",
    "t_idx_test"
   ]
  },
  {
   "cell_type": "code",
   "execution_count": 40,
   "id": "703d36a8-4bcc-4715-8a58-595e3804193f",
   "metadata": {},
   "outputs": [
    {
     "name": "stdout",
     "output_type": "stream",
     "text": [
      "hist_future.shape: torch.Size([64, 3, 48])\n",
      "hist.shape: torch.Size([64, 1, 24])\n",
      "tabular.shape: torch.Size([64, 1, 74])\n",
      "label.shape: torch.Size([64, 1, 24])\n",
      "hist_future.shape: torch.Size([1, 3, 48])\n",
      "hist.shape: torch.Size([1, 1, 24])\n",
      "tabular.shape: torch.Size([1, 1, 74])\n",
      "label.shape: torch.Size([1, 1, 24])\n"
     ]
    }
   ],
   "source": [
    "# build dataloader for testing dataloader functionality and examine outputs\n",
    "loader_testing = DataLoader(\n",
    "    CombineDataset(t_idx_train.loc[:64,:], data_scaled, hist_future_cols, label_cols),\n",
    "    batch_size = 64,\n",
    "    shuffle = True,\n",
    "    num_workers = 0,\n",
    "    drop_last=False\n",
    ")\n",
    "\n",
    "for data in loader_testing:\n",
    "    hist_future, hist, tabular, label = data\n",
    "    \n",
    "    print(f'hist_future.shape: {hist_future.shape}')\n",
    "    print(f'hist.shape: {hist.shape}')\n",
    "    print(f'tabular.shape: {tabular.shape}')\n",
    "    print(f'label.shape: {label.shape}')"
   ]
  },
  {
   "cell_type": "code",
   "execution_count": 41,
   "id": "0e193bb9-b842-4721-8da5-3e6db660a366",
   "metadata": {},
   "outputs": [],
   "source": [
    "# loader for training data\n",
    "BATCH_SIZE_TRAIN = 512\n",
    "\n",
    "train_set = CombineDataset(t_idx_train, data_scaled, hist_future_cols, label_cols)\n",
    "loader_train = DataLoader(\n",
    "    train_set,\n",
    "    batch_size = BATCH_SIZE_TRAIN,\n",
    "    shuffle = True,\n",
    "    num_workers = 0,\n",
    "    drop_last=False\n",
    ")"
   ]
  },
  {
   "cell_type": "code",
   "execution_count": 42,
   "id": "0fd16cc4-e888-4fdd-9af4-5acfc45d5a5a",
   "metadata": {},
   "outputs": [],
   "source": [
    "# loader for testing data\n",
    "BATCH_SIZE_TEST = 1024\n",
    "\n",
    "test_set = CombineDataset(t_idx_test, data_scaled, hist_future_cols, label_cols)\n",
    "loader_test = DataLoader(\n",
    "    test_set,\n",
    "    batch_size = BATCH_SIZE_TEST,\n",
    "    shuffle = True,\n",
    "    num_workers = 0,\n",
    "    drop_last=False\n",
    ")"
   ]
  },
  {
   "cell_type": "markdown",
   "id": "d79f7ee9-f3ba-4bf1-b9fd-eb3d02bd1439",
   "metadata": {},
   "source": [
    "## Build model"
   ]
  },
  {
   "cell_type": "code",
   "execution_count": 43,
   "id": "3fa7e3d3-d6d2-4e0d-b5eb-4b7a572ec57f",
   "metadata": {},
   "outputs": [],
   "source": [
    "import torch\n",
    "import torch.nn as nn\n",
    "import torch.nn.functional as F\n",
    "import torch.optim as optim\n",
    "from torch.optim.lr_scheduler import StepLR, ExponentialLR"
   ]
  },
  {
   "cell_type": "code",
   "execution_count": 44,
   "id": "4b5067dd-3e59-4f37-9745-70be3fb63c50",
   "metadata": {},
   "outputs": [
    {
     "data": {
      "text/plain": [
       "device(type='cuda')"
      ]
     },
     "execution_count": 44,
     "metadata": {},
     "output_type": "execute_result"
    }
   ],
   "source": [
    "device = torch.device(\"cuda\" if torch.cuda.is_available() else \"cpu\")\n",
    "device"
   ]
  },
  {
   "cell_type": "code",
   "execution_count": 45,
   "id": "9d653e90-29dd-41a1-8e2e-b3a9eb74dc9b",
   "metadata": {},
   "outputs": [],
   "source": [
    "class Net(nn.Module):\n",
    "    def __init__(self, \n",
    "                 hist_future_out_ch: List[int] = [8, 16],\n",
    "                 hist_future_ks: List[int] = [3, 3],\n",
    "                 hist_out_ch: List[int] = [8, 16],\n",
    "                 hist_ks: List[int] = [3, 3],\n",
    "                 drop_out: float = 0.0,\n",
    "                 n_fc: List[int] = [256, 64, 256],\n",
    "                ):\n",
    "        super(Net, self).__init__()\n",
    "        \n",
    "        self.hist_future_in_ch = 3\n",
    "        self.hist_in_ch = 1\n",
    "        self.tabular_in_ch = 74\n",
    "        \n",
    "        self.steps_hist_future = 48\n",
    "        self.steps_hist = 24\n",
    "        self.label_out_ch = 24\n",
    "        \n",
    "        self.hist_future_out_ch = hist_future_out_ch\n",
    "        self.hist_future_ks = hist_future_ks\n",
    "        \n",
    "        self.hist_out_ch = hist_out_ch\n",
    "        self.hist_ks = hist_ks\n",
    "        \n",
    "        self.drop_out = drop_out\n",
    "        \n",
    "        # calculate the number of inputs for the first fully connected layer\n",
    "        self.fc_in_ch = (\n",
    "            self.hist_future_out_ch[-1]*self.steps_hist_future + \n",
    "            self.hist_out_ch[-1]*self.steps_hist + \n",
    "            self.tabular_in_ch\n",
    "        )\n",
    "        self.n_fc = n_fc\n",
    "        \n",
    "        # check inputs\n",
    "        # out channel lists and kernel size lists need to be the same length\n",
    "        len_hf_oc = len(self.hist_future_out_ch)\n",
    "        len_hf_ks = len(self.hist_future_ks)\n",
    "        assert len_hf_oc == len_hf_ks, \\\n",
    "            f\"len(hist_future_out_ch) ({len_hf_oc}) != len(hist_future_ks) ({len_hf_ks})\"\n",
    "        \n",
    "        len_h_oc = len(self.hist_out_ch)\n",
    "        len_h_ks = len(self.hist_ks)\n",
    "        assert len_hf_oc == len_hf_ks, \\\n",
    "            f\"len(hist_out_ch) ({len_h_oc}) != len(hist_ks) ({len_h_ks})\"\n",
    "        \n",
    "        \n",
    "        # create convolution blocks\n",
    "        self.hist_future_conv = nn.ModuleList()\n",
    "        in_ch = [self.hist_future_in_ch] + self.hist_future_out_ch\n",
    "        for i in range(len(self.hist_future_out_ch)):\n",
    "            self.hist_future_conv.append(\n",
    "                nn.Sequential(\n",
    "                    nn.Conv1d(\n",
    "                        in_ch[i], \n",
    "                        self.hist_future_out_ch[i], \n",
    "                        self.hist_future_ks[i], \n",
    "                        padding='same'),\n",
    "                    nn.BatchNorm1d(self.hist_future_out_ch[i]),\n",
    "                    nn.ReLU()\n",
    "                )\n",
    "            )\n",
    "            \n",
    "        self.hist_conv = nn.ModuleList()\n",
    "        in_ch = [self.hist_in_ch] + self.hist_out_ch\n",
    "        for i in range(len(self.hist_out_ch)):\n",
    "            self.hist_conv.append(\n",
    "                nn.Sequential(\n",
    "                    nn.Conv1d(\n",
    "                        in_ch[i], \n",
    "                        self.hist_out_ch[i], \n",
    "                        self.hist_ks[i], \n",
    "                        padding='same'),\n",
    "                    nn.BatchNorm1d(self.hist_out_ch[i]),\n",
    "                    nn.ReLU()\n",
    "                )\n",
    "            )\n",
    "        \n",
    "        \n",
    "        # fully connected layers\n",
    "        self.fc = nn.ModuleList()\n",
    "        in_ch = [self.fc_in_ch] + self.n_fc\n",
    "        for i in range(len(self.n_fc)):\n",
    "            self.fc.append(nn.Linear(in_ch[i], self.n_fc[i]))\n",
    "            self.fc.append(nn.BatchNorm1d(self.n_fc[i]))\n",
    "            self.fc.append(nn.Dropout(self.drop_out))\n",
    "            self.fc.append(nn.ReLU())\n",
    "                \n",
    "        self.fc.append(nn.Linear(self.n_fc[-1], self.label_out_ch))\n",
    "    \n",
    "    \n",
    "    def forward(self, hist_future, hist, tabular):\n",
    "        \n",
    "        # forward pass through conv blocks\n",
    "        for layer in self.hist_future_conv:\n",
    "            hist_future = layer(hist_future)\n",
    "        \n",
    "        for layer in self.hist_conv:\n",
    "            hist = layer(hist)\n",
    "        \n",
    "        # flatten layers for concatenation\n",
    "        hist_future = torch.flatten(hist_future, start_dim=1)    \n",
    "        hist = torch.flatten(hist, start_dim=1)\n",
    "        tabular = torch.flatten(tabular, start_dim=1)\n",
    "        x = torch.cat((hist_future, hist, tabular), dim=1)\n",
    "        \n",
    "        # forward pass through fully connected layers\n",
    "        for layer in self.fc:\n",
    "            x = layer(x)\n",
    "\n",
    "        return x"
   ]
  },
  {
   "cell_type": "code",
   "execution_count": 46,
   "id": "172dfdea-5f80-4133-9a7e-4bcdada5936d",
   "metadata": {},
   "outputs": [],
   "source": [
    "def train(model, device, loader_train, optimizer, scaler, epoch, loss_func=F.mse_loss):\n",
    "    model.train()\n",
    "    rmse_losses = []\n",
    "    for batch_idx, (hist_future, hist, tabular, label) in enumerate(loader_train):\n",
    "        hist_future, hist, tabular, label = (hist_future.to(device), \n",
    "                                             hist.to(device), \n",
    "                                             tabular.to(device), \n",
    "                                             label.to(device)\n",
    "                                            )\n",
    "        \n",
    "        label = torch.flatten(label, start_dim=1)\n",
    "        \n",
    "        optimizer.zero_grad()\n",
    "        output = model.forward(hist_future, hist, tabular)\n",
    "        loss = loss_func(output, label)\n",
    "        # loss = F.l1_loss(output, label)\n",
    "        loss.backward()\n",
    "        optimizer.step()\n",
    "        \n",
    "        \n",
    "        if batch_idx % (2**3) == 0:\n",
    "            \n",
    "            label = label*scaler['sd'].price+scaler['means'].price\n",
    "            output = output*scaler['sd'].price+scaler['means'].price\n",
    "            mse_loss = F.mse_loss(output, label, reduction=\"sum\").item()\n",
    "            mae_loss = F.l1_loss(output, label, reduction=\"mean\").item()\n",
    "            \n",
    "            count = np.prod(label.shape)\n",
    "            \n",
    "            rmse_loss = np.sqrt(mse_loss/count)\n",
    "            mean_error = torch.sum(output-label)/count\n",
    "            \n",
    "            print(\n",
    "                \"Train Epoch: {} [{}/{} ({:.0f}%)]\\tRMSE loss: {:.4f}, MAE loss: {:.4f}, Mean error: {:.4f}\".format(\n",
    "                    epoch,\n",
    "                    batch_idx * len(hist_future),\n",
    "                    len(loader_train.dataset),\n",
    "                    100.0 * batch_idx / len(loader_train),\n",
    "                    rmse_loss,\n",
    "                    mae_loss,\n",
    "                    mean_error\n",
    "                )\n",
    "            )\n",
    "            \n",
    "        rmse_losses+=[rmse_loss]\n",
    "        \n",
    "    return {\n",
    "        'epoch':epoch,\n",
    "        'losses':rmse_losses\n",
    "    }"
   ]
  },
  {
   "cell_type": "code",
   "execution_count": 47,
   "id": "8e548167-e265-4c99-90f8-b9829a9f71d1",
   "metadata": {},
   "outputs": [],
   "source": [
    "# function to print test error metrics during training\n",
    "def test(model, device, loader_test, scaler, epoch):\n",
    "    model.eval()\n",
    "    mse_loss = 0\n",
    "    mae_loss = 0\n",
    "    mean_error = 0\n",
    "    \n",
    "    with torch.no_grad():\n",
    "        for hist_future, hist, tabular, label in loader_test:\n",
    "            hist_future, hist, tabular, label = (hist_future.to(device), \n",
    "                                             hist.to(device), \n",
    "                                             tabular.to(device), \n",
    "                                             label.to(device)\n",
    "                                            )\n",
    "            \n",
    "            # scaled actuals\n",
    "            label = torch.flatten(label, start_dim=1)\n",
    "            label = label*scaler['sd'].price+scaler['means'].price\n",
    "            \n",
    "            # scaled predictions\n",
    "            output = model.forward(hist_future, hist, tabular)\n",
    "            output = output*scaler['sd'].price+scaler['means'].price\n",
    "            \n",
    "            # calculate scaled loss\n",
    "            mse_loss += F.mse_loss(output, label, reduction=\"sum\").item()  # sum up batch loss\n",
    "            mae_loss += F.l1_loss(output, label, reduction=\"sum\").item()  # sum up batch loss\n",
    "            mean_error += torch.sum(output-label)\n",
    "    \n",
    "    \n",
    "    n_step = label.shape[-1]\n",
    "    n_pred = len(loader_test.dataset)\n",
    "    rmse_loss = np.sqrt(mse_loss/n_pred/n_step)\n",
    "    mae_loss = mae_loss/n_pred/n_step\n",
    "    mean_error = (mean_error/n_pred/n_step).item()\n",
    "    print('______________________________________________________')\n",
    "    print(\n",
    "        \"\\nTest set: RMSE loss: {:.4f}, MAE loss: {:.4f}, Mean error: {:.4f}\".format(\n",
    "            rmse_loss,\n",
    "            mae_loss,\n",
    "            mean_error,\n",
    "        )\n",
    "    )\n",
    "    print('______________________________________________________')\n",
    "    \n",
    "    return {\n",
    "        'epoch':epoch,\n",
    "        'test_rmse_loss':rmse_loss, \n",
    "        'test_mae_loss':mae_loss,\n",
    "        'test_mean_error':mean_error\n",
    "    }"
   ]
  },
  {
   "cell_type": "markdown",
   "id": "5e344e20-8ddd-4aac-bde6-ad43e8ce448a",
   "metadata": {},
   "source": [
    "# MLFlow"
   ]
  },
  {
   "cell_type": "code",
   "execution_count": 48,
   "id": "bea39e70-fb17-471a-9020-98033592027a",
   "metadata": {},
   "outputs": [],
   "source": [
    "import mlflow\n",
    "import mlflow.pytorch\n",
    "from mlflow.models.signature import infer_signature\n",
    "\n",
    "import warnings\n",
    "warnings.filterwarnings(\"ignore\")"
   ]
  },
  {
   "cell_type": "code",
   "execution_count": 49,
   "id": "a29ca78a-667a-4abb-ba1a-84c021416cf7",
   "metadata": {},
   "outputs": [],
   "source": [
    "# quiet warning when loggin run\n",
    "os.environ['GIT_PYTHON_REFRESH'] = 'quiet'"
   ]
  },
  {
   "cell_type": "code",
   "execution_count": 50,
   "id": "a6dd8d14-870b-4c9d-b189-35874e2bd794",
   "metadata": {},
   "outputs": [
    {
     "data": {
      "text/plain": [
       "'file:///workspace/src/mlruns'"
      ]
     },
     "execution_count": 50,
     "metadata": {},
     "output_type": "execute_result"
    }
   ],
   "source": [
    "# default: 'file:///{pwd}/mlruns'\n",
    "mlflow.get_tracking_uri()"
   ]
  },
  {
   "cell_type": "code",
   "execution_count": 51,
   "id": "a246afca-415b-41f5-b58e-b71dc3b85a80",
   "metadata": {},
   "outputs": [],
   "source": [
    "# MLFLOW_TRACKING_URI = 'sqlite:////workspace/mlruns/tracking.db'\n",
    "MLFLOW_TRACKING_URI = 'file:///workspace/mlruns'\n",
    "mlflow.set_tracking_uri(MLFLOW_TRACKING_URI)"
   ]
  },
  {
   "cell_type": "code",
   "execution_count": 52,
   "id": "05a5ac51-9d92-4961-9ab8-0af18c95a30e",
   "metadata": {},
   "outputs": [
    {
     "data": {
      "text/plain": [
       "'file:///workspace/mlruns'"
      ]
     },
     "execution_count": 52,
     "metadata": {},
     "output_type": "execute_result"
    }
   ],
   "source": [
    "# mlflow.set_tracking_uri('/workspace')\n",
    "os.chdir('/workspace')\n",
    "mlflow.get_tracking_uri()"
   ]
  },
  {
   "cell_type": "code",
   "execution_count": 53,
   "id": "2f3779cf-f388-4802-8872-1f4ffbd55040",
   "metadata": {},
   "outputs": [],
   "source": [
    "def run_experiment(\n",
    "    exp_params, \n",
    "    EXPERIMENT_NAME = \"pytorch_cnn_miso_price\",\n",
    "    MODEL_NAME = \"pytorch_cnn\"\n",
    "):\n",
    "    for i in range(len(exp_params)):\n",
    "        \n",
    "        print('\\n======================================================\\n')\n",
    "        print(f'Working on exp {i+1} of {len(exp_params)}\\n')\n",
    "        \n",
    "        # unpack params dictionaries\n",
    "        param_log_model, param_log_opti = exp_params[i]\n",
    "        \n",
    "        # check for gpu\n",
    "        device = torch.device(\"cuda\" if torch.cuda.is_available() else \"cpu\")\n",
    "        \n",
    "        # instantiate model\n",
    "        model = Net(**param_log_model).double().to(device)\n",
    "        print(model)\n",
    "        \n",
    "        num_params = sum(param.numel() for param in model.parameters() if param.requires_grad)\n",
    "        print(f'\\ntotal number of parameters: {num_params:,}\\n')\n",
    "        \n",
    "        # for name, module in model.named_modules():\n",
    "        #     print(f'{name}, \\t- {sum(param.numel() for param in module.parameters()):,}')\n",
    "        \n",
    "        optimizer = optim.Adam(model.parameters(), lr=param_log_opti['lr'])\n",
    "        scheduler = ExponentialLR(optimizer, gamma=param_log_opti['gamma'], last_epoch=-1)\n",
    "        train_losses = []\n",
    "        results = []\n",
    "\n",
    "        for epoch in range(1, param_log_opti['epochs'] + 1):\n",
    "            train_losses += [train(model, device, loader_train, optimizer, scaler, epoch)]\n",
    "            results += [test(model, device, loader_test, scaler, epoch)]\n",
    "            scheduler.step()\n",
    "\n",
    "        print('TRAINING COMPLETE')\n",
    "        print('______________________________________________________')\n",
    "        \n",
    "        # script model for logging\n",
    "        scripted_model = torch.jit.script(model)  \n",
    "        \n",
    "        # parameters for logging\n",
    "        param_log = {'model':'pytorch_cnn'}\n",
    "        param_log.update(param_log_model)\n",
    "        param_log.update(param_log_opti)\n",
    "        \n",
    "        # metrics for logging\n",
    "        metrics = {}\n",
    "        for m in ['test_rmse_loss', 'test_mae_loss', 'test_mean_error']:\n",
    "            metrics[m] = results[-1][m]\n",
    "            \n",
    "        print('Logging model')\n",
    "        # EXPERIMENT_NAME = \"pytorch_cnn_miso_price\"\n",
    "\n",
    "        # create experiment if it does not exist\n",
    "        exp_list = mlflow.list_experiments()\n",
    "        if not any([e.name == EXPERIMENT_NAME for e in exp_list]):\n",
    "            mlflow.create_experiment(EXPERIMENT_NAME)\n",
    "\n",
    "        mlflow.set_experiment(EXPERIMENT_NAME)\n",
    "        experiment = mlflow.get_experiment_by_name(EXPERIMENT_NAME)\n",
    "        experiment.experiment_id\n",
    "\n",
    "        # script model for logging\n",
    "        MODEL_URI = \"/workspace/models/scripted_model.pt\"\n",
    "        scripted_model = torch.jit.script(model) \n",
    "        scripted_model.save(MODEL_URI)\n",
    "\n",
    "        # MODEL_NAME = \"pytorch_cnn\"\n",
    "\n",
    "        with mlflow.start_run(experiment_id=experiment.experiment_id) as run:\n",
    "\n",
    "            mlflow.log_params(param_log)\n",
    "            mlflow.log_metrics(metrics)\n",
    "\n",
    "            tracking_url_type_store = urlparse(mlflow.get_tracking_uri()).scheme\n",
    "            # Model registry does not work with file store\n",
    "            if tracking_url_type_store != \"file\":\n",
    "                # Register the model\n",
    "                # There are other ways to use the Model Registry, which depends on the use case,\n",
    "                # please refer to the doc for more information:\n",
    "                # https://mlflow.org/docs/latest/model-registry.html#api-workflow\n",
    "                mlflow.pytorch.log_model(\n",
    "                    pytorch_model=scripted_model,\n",
    "                    artifact_path=MODEL_NAME,\n",
    "                    registered_model_name=\"pytorch_cnn_price_reg\"\n",
    "                )\n",
    "            else:\n",
    "                mlflow.pytorch.log_model(\n",
    "                    pytorch_model=scripted_model, \n",
    "                    artifact_path=MODEL_NAME)  # logging scripted model\n",
    "                \n",
    "    print('EXPERIMENT COMPLETE')\n",
    "\n",
    "    "
   ]
  },
  {
   "cell_type": "code",
   "execution_count": 54,
   "id": "aa5d86cc-d67f-4a74-9014-e14e8db4b8b7",
   "metadata": {},
   "outputs": [
    {
     "data": {
      "text/plain": [
       "[({'hist_future_out_ch': [8, 16],\n",
       "   'hist_future_ks': [3, 3],\n",
       "   'hist_out_ch': [8, 16],\n",
       "   'hist_ks': [3, 3],\n",
       "   'drop_out': 0.0,\n",
       "   'n_fc': [256, 128, 256]},\n",
       "  {'lr': 0.001, 'gamma': 0.95, 'epochs': 10}),\n",
       " ({'hist_future_out_ch': [8, 16],\n",
       "   'hist_future_ks': [3, 3],\n",
       "   'hist_out_ch': [8, 16],\n",
       "   'hist_ks': [3, 3],\n",
       "   'drop_out': 0.0,\n",
       "   'n_fc': [256, 256, 256]},\n",
       "  {'lr': 0.001, 'gamma': 0.95, 'epochs': 10}),\n",
       " ({'hist_future_out_ch': [8, 16],\n",
       "   'hist_future_ks': [3, 3],\n",
       "   'hist_out_ch': [8, 16],\n",
       "   'hist_ks': [3, 3],\n",
       "   'drop_out': 0.0,\n",
       "   'n_fc': [512, 128, 512]},\n",
       "  {'lr': 0.001, 'gamma': 0.95, 'epochs': 10})]"
      ]
     },
     "execution_count": 54,
     "metadata": {},
     "output_type": "execute_result"
    }
   ],
   "source": [
    "exp_params = []\n",
    "\n",
    "n_fcs = [\n",
    "    [256, 128, 256],\n",
    "    [256, 256, 256],\n",
    "    [512, 128, 512],\n",
    "]\n",
    "\n",
    "for n_fc in n_fcs:\n",
    "    param_log_model = {\n",
    "        'hist_future_out_ch':[8, 16],\n",
    "        'hist_future_ks': [3, 3],\n",
    "        'hist_out_ch': [8, 16],\n",
    "        'hist_ks': [3, 3],\n",
    "        'drop_out': 0.0,\n",
    "        'n_fc': n_fc,\n",
    "    }\n",
    "\n",
    "    param_log_opti = {\n",
    "        'lr': 0.001,\n",
    "        'gamma': 0.95,\n",
    "        'epochs': 10,\n",
    "    }\n",
    "\n",
    "    exp_params += [(param_log_model, param_log_opti)]\n",
    "    \n",
    "exp_params"
   ]
  },
  {
   "cell_type": "code",
   "execution_count": 55,
   "id": "a90ad057-fda9-4d66-8ff2-d8f413314b02",
   "metadata": {},
   "outputs": [],
   "source": [
    "# test optimizer scheduler\n",
    "# optimizer = optim.Adam(model.parameters(), lr=param_log_opti['lr'])\n",
    "# scheduler = ExponentialLR(optimizer, gamma=param_log_opti['gamma'], last_epoch=-1)\n",
    "# for epoch in range(1, param_log_opti['epochs'] + 1):\n",
    "#     optimizer.step()\n",
    "#     scheduler.step()\n",
    "    \n",
    "# scheduler.state_dict()"
   ]
  },
  {
   "cell_type": "code",
   "execution_count": 59,
   "id": "aa55ba34-4b6e-4d68-866b-8eed126988ee",
   "metadata": {},
   "outputs": [],
   "source": [
    "EXPERIMENT_NAME = \"pytorch_cnn_miso_price\"\n",
    "MODEL_NAME = \"pytorch_cnn\""
   ]
  },
  {
   "cell_type": "code",
   "execution_count": 56,
   "id": "092b720c-2d48-4991-b2e8-159881d32e84",
   "metadata": {},
   "outputs": [
    {
     "name": "stdout",
     "output_type": "stream",
     "text": [
      "\n",
      "======================================================\n",
      "\n",
      "Working on exp 1 of 3\n",
      "\n",
      "Net(\n",
      "  (hist_future_conv): ModuleList(\n",
      "    (0): Sequential(\n",
      "      (0): Conv1d(3, 8, kernel_size=(3,), stride=(1,), padding=same)\n",
      "      (1): BatchNorm1d(8, eps=1e-05, momentum=0.1, affine=True, track_running_stats=True)\n",
      "      (2): ReLU()\n",
      "    )\n",
      "    (1): Sequential(\n",
      "      (0): Conv1d(8, 16, kernel_size=(3,), stride=(1,), padding=same)\n",
      "      (1): BatchNorm1d(16, eps=1e-05, momentum=0.1, affine=True, track_running_stats=True)\n",
      "      (2): ReLU()\n",
      "    )\n",
      "  )\n",
      "  (hist_conv): ModuleList(\n",
      "    (0): Sequential(\n",
      "      (0): Conv1d(1, 8, kernel_size=(3,), stride=(1,), padding=same)\n",
      "      (1): BatchNorm1d(8, eps=1e-05, momentum=0.1, affine=True, track_running_stats=True)\n",
      "      (2): ReLU()\n",
      "    )\n",
      "    (1): Sequential(\n",
      "      (0): Conv1d(8, 16, kernel_size=(3,), stride=(1,), padding=same)\n",
      "      (1): BatchNorm1d(16, eps=1e-05, momentum=0.1, affine=True, track_running_stats=True)\n",
      "      (2): ReLU()\n",
      "    )\n",
      "  )\n",
      "  (fc): ModuleList(\n",
      "    (0): Linear(in_features=1226, out_features=256, bias=True)\n",
      "    (1): BatchNorm1d(256, eps=1e-05, momentum=0.1, affine=True, track_running_stats=True)\n",
      "    (2): Dropout(p=0.0, inplace=False)\n",
      "    (3): ReLU()\n",
      "    (4): Linear(in_features=256, out_features=128, bias=True)\n",
      "    (5): BatchNorm1d(128, eps=1e-05, momentum=0.1, affine=True, track_running_stats=True)\n",
      "    (6): Dropout(p=0.0, inplace=False)\n",
      "    (7): ReLU()\n",
      "    (8): Linear(in_features=128, out_features=256, bias=True)\n",
      "    (9): BatchNorm1d(256, eps=1e-05, momentum=0.1, affine=True, track_running_stats=True)\n",
      "    (10): Dropout(p=0.0, inplace=False)\n",
      "    (11): ReLU()\n",
      "    (12): Linear(in_features=256, out_features=24, bias=True)\n",
      "  )\n",
      ")\n",
      "\n",
      "total number of parameters: 388,488\n",
      "\n",
      "Train Epoch: 1 [0/17068 (0%)]\tRMSE loss: 24.4358, MAE loss: 16.6853, Mean error: 1.2129\n",
      "Train Epoch: 1 [4096/17068 (24%)]\tRMSE loss: 18.0959, MAE loss: 10.5941, Mean error: -0.4716\n",
      "Train Epoch: 1 [8192/17068 (47%)]\tRMSE loss: 16.1554, MAE loss: 9.6789, Mean error: 0.2844\n",
      "Train Epoch: 1 [12288/17068 (71%)]\tRMSE loss: 17.3353, MAE loss: 10.0582, Mean error: 0.3827\n",
      "Train Epoch: 1 [16384/17068 (94%)]\tRMSE loss: 17.4956, MAE loss: 9.7000, Mean error: -1.3446\n",
      "______________________________________________________\n",
      "\n",
      "Test set: RMSE loss: 16.3941, MAE loss: 9.2102, Mean error: -0.9429\n",
      "______________________________________________________\n",
      "Train Epoch: 2 [0/17068 (0%)]\tRMSE loss: 16.7256, MAE loss: 9.5721, Mean error: 0.7904\n",
      "Train Epoch: 2 [4096/17068 (24%)]\tRMSE loss: 15.7017, MAE loss: 9.1154, Mean error: 0.1370\n",
      "Train Epoch: 2 [8192/17068 (47%)]\tRMSE loss: 16.4447, MAE loss: 9.0600, Mean error: -0.1410\n",
      "Train Epoch: 2 [12288/17068 (71%)]\tRMSE loss: 15.1721, MAE loss: 8.9258, Mean error: 0.3427\n",
      "Train Epoch: 2 [16384/17068 (94%)]\tRMSE loss: 15.3803, MAE loss: 8.7911, Mean error: -0.3301\n",
      "______________________________________________________\n",
      "\n",
      "Test set: RMSE loss: 15.9109, MAE loss: 8.9031, Mean error: -1.0908\n",
      "______________________________________________________\n",
      "Train Epoch: 3 [0/17068 (0%)]\tRMSE loss: 15.0698, MAE loss: 8.5349, Mean error: -1.0682\n",
      "Train Epoch: 3 [4096/17068 (24%)]\tRMSE loss: 14.9075, MAE loss: 8.2786, Mean error: -0.1627\n",
      "Train Epoch: 3 [8192/17068 (47%)]\tRMSE loss: 15.3885, MAE loss: 8.6593, Mean error: 0.6792\n",
      "Train Epoch: 3 [12288/17068 (71%)]\tRMSE loss: 14.7918, MAE loss: 8.3961, Mean error: 0.5739\n",
      "Train Epoch: 3 [16384/17068 (94%)]\tRMSE loss: 14.2793, MAE loss: 8.3809, Mean error: 1.3841\n",
      "______________________________________________________\n",
      "\n",
      "Test set: RMSE loss: 15.2058, MAE loss: 9.3414, Mean error: 2.4230\n",
      "______________________________________________________\n",
      "Train Epoch: 4 [0/17068 (0%)]\tRMSE loss: 14.4161, MAE loss: 8.1915, Mean error: -0.1737\n",
      "Train Epoch: 4 [4096/17068 (24%)]\tRMSE loss: 14.4316, MAE loss: 8.4194, Mean error: -0.0610\n",
      "Train Epoch: 4 [8192/17068 (47%)]\tRMSE loss: 13.8822, MAE loss: 7.9136, Mean error: -1.5809\n",
      "Train Epoch: 4 [12288/17068 (71%)]\tRMSE loss: 14.1352, MAE loss: 8.0672, Mean error: -0.3347\n",
      "Train Epoch: 4 [16384/17068 (94%)]\tRMSE loss: 14.0868, MAE loss: 7.9750, Mean error: -0.3615\n",
      "______________________________________________________\n",
      "\n",
      "Test set: RMSE loss: 14.5527, MAE loss: 8.2492, Mean error: -0.7696\n",
      "______________________________________________________\n",
      "Train Epoch: 5 [0/17068 (0%)]\tRMSE loss: 14.5209, MAE loss: 8.0236, Mean error: -1.8158\n",
      "Train Epoch: 5 [4096/17068 (24%)]\tRMSE loss: 13.5461, MAE loss: 7.8100, Mean error: 0.8275\n",
      "Train Epoch: 5 [8192/17068 (47%)]\tRMSE loss: 13.2171, MAE loss: 7.5757, Mean error: 1.2714\n",
      "Train Epoch: 5 [12288/17068 (71%)]\tRMSE loss: 13.1012, MAE loss: 7.6831, Mean error: 0.9057\n",
      "Train Epoch: 5 [16384/17068 (94%)]\tRMSE loss: 13.0779, MAE loss: 7.5113, Mean error: -0.9409\n",
      "______________________________________________________\n",
      "\n",
      "Test set: RMSE loss: 14.1876, MAE loss: 7.9997, Mean error: -0.6689\n",
      "______________________________________________________\n",
      "Train Epoch: 6 [0/17068 (0%)]\tRMSE loss: 13.1464, MAE loss: 7.2808, Mean error: -0.2114\n",
      "Train Epoch: 6 [4096/17068 (24%)]\tRMSE loss: 12.3115, MAE loss: 7.3307, Mean error: 1.2267\n",
      "Train Epoch: 6 [8192/17068 (47%)]\tRMSE loss: 12.9226, MAE loss: 7.2267, Mean error: -0.4736\n",
      "Train Epoch: 6 [12288/17068 (71%)]\tRMSE loss: 13.1985, MAE loss: 7.2750, Mean error: -0.0894\n",
      "Train Epoch: 6 [16384/17068 (94%)]\tRMSE loss: 12.7857, MAE loss: 7.2980, Mean error: -0.0221\n",
      "______________________________________________________\n",
      "\n",
      "Test set: RMSE loss: 13.9159, MAE loss: 7.7816, Mean error: -0.9971\n",
      "______________________________________________________\n",
      "Train Epoch: 7 [0/17068 (0%)]\tRMSE loss: 12.6113, MAE loss: 7.0899, Mean error: -1.0741\n",
      "Train Epoch: 7 [4096/17068 (24%)]\tRMSE loss: 12.2547, MAE loss: 6.9526, Mean error: 0.2804\n",
      "Train Epoch: 7 [8192/17068 (47%)]\tRMSE loss: 12.4875, MAE loss: 7.2182, Mean error: 0.7566\n",
      "Train Epoch: 7 [12288/17068 (71%)]\tRMSE loss: 12.7208, MAE loss: 7.2061, Mean error: -0.5773\n",
      "Train Epoch: 7 [16384/17068 (94%)]\tRMSE loss: 13.0162, MAE loss: 7.2489, Mean error: -0.4430\n",
      "______________________________________________________\n",
      "\n",
      "Test set: RMSE loss: 13.5845, MAE loss: 7.6574, Mean error: -0.1947\n",
      "______________________________________________________\n",
      "Train Epoch: 8 [0/17068 (0%)]\tRMSE loss: 12.1091, MAE loss: 6.7621, Mean error: -1.3682\n",
      "Train Epoch: 8 [4096/17068 (24%)]\tRMSE loss: 12.4641, MAE loss: 6.8232, Mean error: 0.2520\n",
      "Train Epoch: 8 [8192/17068 (47%)]\tRMSE loss: 12.3192, MAE loss: 7.1635, Mean error: 0.2572\n",
      "Train Epoch: 8 [12288/17068 (71%)]\tRMSE loss: 12.0534, MAE loss: 6.8476, Mean error: -0.2851\n",
      "Train Epoch: 8 [16384/17068 (94%)]\tRMSE loss: 11.6873, MAE loss: 6.9877, Mean error: 1.3106\n",
      "______________________________________________________\n",
      "\n",
      "Test set: RMSE loss: 13.5002, MAE loss: 7.7595, Mean error: -0.0633\n",
      "______________________________________________________\n",
      "Train Epoch: 9 [0/17068 (0%)]\tRMSE loss: 12.2812, MAE loss: 7.0453, Mean error: 0.1231\n",
      "Train Epoch: 9 [4096/17068 (24%)]\tRMSE loss: 12.4814, MAE loss: 7.0245, Mean error: -0.1881\n",
      "Train Epoch: 9 [8192/17068 (47%)]\tRMSE loss: 11.9817, MAE loss: 6.8581, Mean error: -0.7471\n",
      "Train Epoch: 9 [12288/17068 (71%)]\tRMSE loss: 11.9096, MAE loss: 6.8824, Mean error: 0.6593\n",
      "Train Epoch: 9 [16384/17068 (94%)]\tRMSE loss: 11.6414, MAE loss: 6.6325, Mean error: -0.5495\n",
      "______________________________________________________\n",
      "\n",
      "Test set: RMSE loss: 13.3108, MAE loss: 7.4324, Mean error: -0.8843\n",
      "______________________________________________________\n",
      "Train Epoch: 10 [0/17068 (0%)]\tRMSE loss: 11.6527, MAE loss: 6.7286, Mean error: 0.0462\n",
      "Train Epoch: 10 [4096/17068 (24%)]\tRMSE loss: 12.1654, MAE loss: 6.7624, Mean error: -0.3744\n",
      "Train Epoch: 10 [8192/17068 (47%)]\tRMSE loss: 11.5488, MAE loss: 6.7193, Mean error: 0.7511\n",
      "Train Epoch: 10 [12288/17068 (71%)]\tRMSE loss: 11.8773, MAE loss: 6.6955, Mean error: -0.4522\n",
      "Train Epoch: 10 [16384/17068 (94%)]\tRMSE loss: 12.0802, MAE loss: 6.7248, Mean error: -1.1659\n",
      "______________________________________________________\n",
      "\n",
      "Test set: RMSE loss: 13.1400, MAE loss: 7.5001, Mean error: -0.2366\n",
      "______________________________________________________\n",
      "TRAINING COMPLETE\n",
      "______________________________________________________\n",
      "Logging model\n"
     ]
    },
    {
     "name": "stderr",
     "output_type": "stream",
     "text": [
      "2022/06/13 19:39:08 WARNING mlflow.tracking.context.git_context: Failed to import Git (the Git executable is probably not on your PATH), so Git SHA is not available. Error: Failed to initialize: Bad git executable.\n",
      "The git executable must be specified in one of the following ways:\n",
      "    - be included in your $PATH\n",
      "    - be set via $GIT_PYTHON_GIT_EXECUTABLE\n",
      "    - explicitly set via git.refresh()\n",
      "\n",
      "All git commands will error until this is rectified.\n",
      "\n",
      "This initial warning can be silenced or aggravated in the future by setting the\n",
      "$GIT_PYTHON_REFRESH environment variable. Use one of the following values:\n",
      "    - quiet|q|silence|s|none|n|0: for no warning or exception\n",
      "    - warn|w|warning|1: for a printed warning\n",
      "    - error|e|raise|r|2: for a raised exception\n",
      "\n",
      "Example:\n",
      "    export GIT_PYTHON_REFRESH=quiet\n",
      "\n"
     ]
    },
    {
     "name": "stdout",
     "output_type": "stream",
     "text": [
      "\n",
      "======================================================\n",
      "\n",
      "Working on exp 2 of 3\n",
      "\n",
      "Net(\n",
      "  (hist_future_conv): ModuleList(\n",
      "    (0): Sequential(\n",
      "      (0): Conv1d(3, 8, kernel_size=(3,), stride=(1,), padding=same)\n",
      "      (1): BatchNorm1d(8, eps=1e-05, momentum=0.1, affine=True, track_running_stats=True)\n",
      "      (2): ReLU()\n",
      "    )\n",
      "    (1): Sequential(\n",
      "      (0): Conv1d(8, 16, kernel_size=(3,), stride=(1,), padding=same)\n",
      "      (1): BatchNorm1d(16, eps=1e-05, momentum=0.1, affine=True, track_running_stats=True)\n",
      "      (2): ReLU()\n",
      "    )\n",
      "  )\n",
      "  (hist_conv): ModuleList(\n",
      "    (0): Sequential(\n",
      "      (0): Conv1d(1, 8, kernel_size=(3,), stride=(1,), padding=same)\n",
      "      (1): BatchNorm1d(8, eps=1e-05, momentum=0.1, affine=True, track_running_stats=True)\n",
      "      (2): ReLU()\n",
      "    )\n",
      "    (1): Sequential(\n",
      "      (0): Conv1d(8, 16, kernel_size=(3,), stride=(1,), padding=same)\n",
      "      (1): BatchNorm1d(16, eps=1e-05, momentum=0.1, affine=True, track_running_stats=True)\n",
      "      (2): ReLU()\n",
      "    )\n",
      "  )\n",
      "  (fc): ModuleList(\n",
      "    (0): Linear(in_features=1226, out_features=256, bias=True)\n",
      "    (1): BatchNorm1d(256, eps=1e-05, momentum=0.1, affine=True, track_running_stats=True)\n",
      "    (2): Dropout(p=0.0, inplace=False)\n",
      "    (3): ReLU()\n",
      "    (4): Linear(in_features=256, out_features=256, bias=True)\n",
      "    (5): BatchNorm1d(256, eps=1e-05, momentum=0.1, affine=True, track_running_stats=True)\n",
      "    (6): Dropout(p=0.0, inplace=False)\n",
      "    (7): ReLU()\n",
      "    (8): Linear(in_features=256, out_features=256, bias=True)\n",
      "    (9): BatchNorm1d(256, eps=1e-05, momentum=0.1, affine=True, track_running_stats=True)\n",
      "    (10): Dropout(p=0.0, inplace=False)\n",
      "    (11): ReLU()\n",
      "    (12): Linear(in_features=256, out_features=24, bias=True)\n",
      "  )\n",
      ")\n",
      "\n",
      "total number of parameters: 454,408\n",
      "\n",
      "Train Epoch: 1 [0/17068 (0%)]\tRMSE loss: 25.4326, MAE loss: 17.1896, Mean error: -0.1740\n",
      "Train Epoch: 1 [4096/17068 (24%)]\tRMSE loss: 18.7189, MAE loss: 11.0092, Mean error: -0.9550\n",
      "Train Epoch: 1 [8192/17068 (47%)]\tRMSE loss: 16.5404, MAE loss: 9.6512, Mean error: -0.2955\n",
      "Train Epoch: 1 [12288/17068 (71%)]\tRMSE loss: 16.4168, MAE loss: 9.6176, Mean error: 0.4179\n",
      "Train Epoch: 1 [16384/17068 (94%)]\tRMSE loss: 17.3127, MAE loss: 9.7860, Mean error: -0.7119\n",
      "______________________________________________________\n",
      "\n",
      "Test set: RMSE loss: 16.0790, MAE loss: 9.1222, Mean error: -0.0208\n",
      "______________________________________________________\n",
      "Train Epoch: 2 [0/17068 (0%)]\tRMSE loss: 15.3976, MAE loss: 8.8736, Mean error: -0.5111\n",
      "Train Epoch: 2 [4096/17068 (24%)]\tRMSE loss: 15.1124, MAE loss: 8.9415, Mean error: 0.4391\n",
      "Train Epoch: 2 [8192/17068 (47%)]\tRMSE loss: 14.5856, MAE loss: 8.3961, Mean error: 0.9080\n",
      "Train Epoch: 2 [12288/17068 (71%)]\tRMSE loss: 15.2539, MAE loss: 8.6791, Mean error: 0.9217\n",
      "Train Epoch: 2 [16384/17068 (94%)]\tRMSE loss: 14.5989, MAE loss: 8.4251, Mean error: 0.6374\n",
      "______________________________________________________\n",
      "\n",
      "Test set: RMSE loss: 15.0789, MAE loss: 8.6200, Mean error: 0.1800\n",
      "______________________________________________________\n",
      "Train Epoch: 3 [0/17068 (0%)]\tRMSE loss: 14.5872, MAE loss: 8.4330, Mean error: 0.7559\n",
      "Train Epoch: 3 [4096/17068 (24%)]\tRMSE loss: 14.2225, MAE loss: 8.2906, Mean error: 1.4658\n",
      "Train Epoch: 3 [8192/17068 (47%)]\tRMSE loss: 14.9067, MAE loss: 8.1413, Mean error: -1.2582\n",
      "Train Epoch: 3 [12288/17068 (71%)]\tRMSE loss: 14.5761, MAE loss: 8.4634, Mean error: 0.1109\n",
      "Train Epoch: 3 [16384/17068 (94%)]\tRMSE loss: 14.8382, MAE loss: 8.4212, Mean error: 0.9988\n",
      "______________________________________________________\n",
      "\n",
      "Test set: RMSE loss: 14.6287, MAE loss: 8.4390, Mean error: 0.7074\n",
      "______________________________________________________\n",
      "Train Epoch: 4 [0/17068 (0%)]\tRMSE loss: 14.4313, MAE loss: 8.1275, Mean error: -0.7169\n",
      "Train Epoch: 4 [4096/17068 (24%)]\tRMSE loss: 14.0813, MAE loss: 8.0576, Mean error: 0.2530\n",
      "Train Epoch: 4 [8192/17068 (47%)]\tRMSE loss: 14.0689, MAE loss: 7.9844, Mean error: -0.7118\n",
      "Train Epoch: 4 [12288/17068 (71%)]\tRMSE loss: 13.3159, MAE loss: 7.9312, Mean error: 1.0384\n",
      "Train Epoch: 4 [16384/17068 (94%)]\tRMSE loss: 13.9484, MAE loss: 7.9386, Mean error: -1.6289\n",
      "______________________________________________________\n",
      "\n",
      "Test set: RMSE loss: 14.2434, MAE loss: 8.0728, Mean error: -0.9612\n",
      "______________________________________________________\n",
      "Train Epoch: 5 [0/17068 (0%)]\tRMSE loss: 13.4384, MAE loss: 7.4665, Mean error: -0.3444\n",
      "Train Epoch: 5 [4096/17068 (24%)]\tRMSE loss: 13.3979, MAE loss: 7.6482, Mean error: -0.2557\n",
      "Train Epoch: 5 [8192/17068 (47%)]\tRMSE loss: 13.1035, MAE loss: 7.4750, Mean error: -0.3669\n",
      "Train Epoch: 5 [12288/17068 (71%)]\tRMSE loss: 14.3628, MAE loss: 7.7933, Mean error: -1.2798\n",
      "Train Epoch: 5 [16384/17068 (94%)]\tRMSE loss: 12.6726, MAE loss: 7.6958, Mean error: 2.0085\n",
      "______________________________________________________\n",
      "\n",
      "Test set: RMSE loss: 13.9321, MAE loss: 7.7184, Mean error: -1.2413\n",
      "______________________________________________________\n",
      "Train Epoch: 6 [0/17068 (0%)]\tRMSE loss: 12.6715, MAE loss: 7.3722, Mean error: -0.0840\n",
      "Train Epoch: 6 [4096/17068 (24%)]\tRMSE loss: 13.1127, MAE loss: 7.2530, Mean error: -1.5386\n",
      "Train Epoch: 6 [8192/17068 (47%)]\tRMSE loss: 12.7471, MAE loss: 7.3652, Mean error: 0.4638\n",
      "Train Epoch: 6 [12288/17068 (71%)]\tRMSE loss: 12.2634, MAE loss: 7.1304, Mean error: 0.5344\n",
      "Train Epoch: 6 [16384/17068 (94%)]\tRMSE loss: 12.1571, MAE loss: 6.8035, Mean error: -0.5492\n",
      "______________________________________________________\n",
      "\n",
      "Test set: RMSE loss: 13.5486, MAE loss: 7.7502, Mean error: 0.0974\n",
      "______________________________________________________\n",
      "Train Epoch: 7 [0/17068 (0%)]\tRMSE loss: 12.2169, MAE loss: 6.8643, Mean error: 0.0494\n",
      "Train Epoch: 7 [4096/17068 (24%)]\tRMSE loss: 11.4901, MAE loss: 6.6165, Mean error: -0.0406\n",
      "Train Epoch: 7 [8192/17068 (47%)]\tRMSE loss: 11.8112, MAE loss: 7.2030, Mean error: 1.5122\n",
      "Train Epoch: 7 [12288/17068 (71%)]\tRMSE loss: 12.7616, MAE loss: 7.0758, Mean error: -1.3860\n",
      "Train Epoch: 7 [16384/17068 (94%)]\tRMSE loss: 12.4439, MAE loss: 6.9278, Mean error: -1.3546\n",
      "______________________________________________________\n",
      "\n",
      "Test set: RMSE loss: 13.3671, MAE loss: 7.6294, Mean error: -0.0192\n",
      "______________________________________________________\n",
      "Train Epoch: 8 [0/17068 (0%)]\tRMSE loss: 12.1169, MAE loss: 6.8935, Mean error: 0.5891\n",
      "Train Epoch: 8 [4096/17068 (24%)]\tRMSE loss: 12.0064, MAE loss: 6.7525, Mean error: -0.1708\n",
      "Train Epoch: 8 [8192/17068 (47%)]\tRMSE loss: 11.3712, MAE loss: 6.5468, Mean error: -0.3442\n",
      "Train Epoch: 8 [12288/17068 (71%)]\tRMSE loss: 12.1370, MAE loss: 6.7882, Mean error: -0.4580\n",
      "Train Epoch: 8 [16384/17068 (94%)]\tRMSE loss: 11.2965, MAE loss: 6.5710, Mean error: 0.3469\n",
      "______________________________________________________\n",
      "\n",
      "Test set: RMSE loss: 13.3299, MAE loss: 7.6583, Mean error: 0.1895\n",
      "______________________________________________________\n",
      "Train Epoch: 9 [0/17068 (0%)]\tRMSE loss: 11.8558, MAE loss: 6.6686, Mean error: -0.3849\n",
      "Train Epoch: 9 [4096/17068 (24%)]\tRMSE loss: 11.7075, MAE loss: 6.6822, Mean error: -0.7482\n",
      "Train Epoch: 9 [8192/17068 (47%)]\tRMSE loss: 11.4388, MAE loss: 6.4648, Mean error: -0.9413\n",
      "Train Epoch: 9 [12288/17068 (71%)]\tRMSE loss: 11.7813, MAE loss: 6.7866, Mean error: 0.4652\n",
      "Train Epoch: 9 [16384/17068 (94%)]\tRMSE loss: 11.7437, MAE loss: 6.7275, Mean error: -0.1403\n",
      "______________________________________________________\n",
      "\n",
      "Test set: RMSE loss: 12.9675, MAE loss: 7.4517, Mean error: -0.0437\n",
      "______________________________________________________\n",
      "Train Epoch: 10 [0/17068 (0%)]\tRMSE loss: 10.7667, MAE loss: 6.2091, Mean error: -0.6398\n",
      "Train Epoch: 10 [4096/17068 (24%)]\tRMSE loss: 11.4708, MAE loss: 6.3711, Mean error: -0.2859\n",
      "Train Epoch: 10 [8192/17068 (47%)]\tRMSE loss: 10.8728, MAE loss: 6.3290, Mean error: 0.6402\n",
      "Train Epoch: 10 [12288/17068 (71%)]\tRMSE loss: 11.1684, MAE loss: 6.2265, Mean error: -0.9354\n",
      "Train Epoch: 10 [16384/17068 (94%)]\tRMSE loss: 11.9892, MAE loss: 6.6031, Mean error: -2.0668\n",
      "______________________________________________________\n",
      "\n",
      "Test set: RMSE loss: 12.8584, MAE loss: 7.3443, Mean error: -0.3556\n",
      "______________________________________________________\n",
      "TRAINING COMPLETE\n",
      "______________________________________________________\n",
      "Logging model\n",
      "\n",
      "======================================================\n",
      "\n",
      "Working on exp 3 of 3\n",
      "\n",
      "Net(\n",
      "  (hist_future_conv): ModuleList(\n",
      "    (0): Sequential(\n",
      "      (0): Conv1d(3, 8, kernel_size=(3,), stride=(1,), padding=same)\n",
      "      (1): BatchNorm1d(8, eps=1e-05, momentum=0.1, affine=True, track_running_stats=True)\n",
      "      (2): ReLU()\n",
      "    )\n",
      "    (1): Sequential(\n",
      "      (0): Conv1d(8, 16, kernel_size=(3,), stride=(1,), padding=same)\n",
      "      (1): BatchNorm1d(16, eps=1e-05, momentum=0.1, affine=True, track_running_stats=True)\n",
      "      (2): ReLU()\n",
      "    )\n",
      "  )\n",
      "  (hist_conv): ModuleList(\n",
      "    (0): Sequential(\n",
      "      (0): Conv1d(1, 8, kernel_size=(3,), stride=(1,), padding=same)\n",
      "      (1): BatchNorm1d(8, eps=1e-05, momentum=0.1, affine=True, track_running_stats=True)\n",
      "      (2): ReLU()\n",
      "    )\n",
      "    (1): Sequential(\n",
      "      (0): Conv1d(8, 16, kernel_size=(3,), stride=(1,), padding=same)\n",
      "      (1): BatchNorm1d(16, eps=1e-05, momentum=0.1, affine=True, track_running_stats=True)\n",
      "      (2): ReLU()\n",
      "    )\n",
      "  )\n",
      "  (fc): ModuleList(\n",
      "    (0): Linear(in_features=1226, out_features=512, bias=True)\n",
      "    (1): BatchNorm1d(512, eps=1e-05, momentum=0.1, affine=True, track_running_stats=True)\n",
      "    (2): Dropout(p=0.0, inplace=False)\n",
      "    (3): ReLU()\n",
      "    (4): Linear(in_features=512, out_features=128, bias=True)\n",
      "    (5): BatchNorm1d(128, eps=1e-05, momentum=0.1, affine=True, track_running_stats=True)\n",
      "    (6): Dropout(p=0.0, inplace=False)\n",
      "    (7): ReLU()\n",
      "    (8): Linear(in_features=128, out_features=512, bias=True)\n",
      "    (9): BatchNorm1d(512, eps=1e-05, momentum=0.1, affine=True, track_running_stats=True)\n",
      "    (10): Dropout(p=0.0, inplace=False)\n",
      "    (11): ReLU()\n",
      "    (12): Linear(in_features=512, out_features=24, bias=True)\n",
      "  )\n",
      ")\n",
      "\n",
      "total number of parameters: 775,560\n",
      "\n",
      "Train Epoch: 1 [0/17068 (0%)]\tRMSE loss: 24.3489, MAE loss: 17.1664, Mean error: 0.8688\n",
      "Train Epoch: 1 [4096/17068 (24%)]\tRMSE loss: 18.0571, MAE loss: 10.9795, Mean error: -1.7798\n",
      "Train Epoch: 1 [8192/17068 (47%)]\tRMSE loss: 17.1863, MAE loss: 9.9955, Mean error: 1.0038\n",
      "Train Epoch: 1 [12288/17068 (71%)]\tRMSE loss: 15.8220, MAE loss: 9.3909, Mean error: 1.0928\n",
      "Train Epoch: 1 [16384/17068 (94%)]\tRMSE loss: 15.5135, MAE loss: 9.3395, Mean error: 2.1795\n",
      "______________________________________________________\n",
      "\n",
      "Test set: RMSE loss: 16.6137, MAE loss: 9.1429, Mean error: -2.0380\n",
      "______________________________________________________\n",
      "Train Epoch: 2 [0/17068 (0%)]\tRMSE loss: 16.8426, MAE loss: 9.3576, Mean error: -2.8247\n",
      "Train Epoch: 2 [4096/17068 (24%)]\tRMSE loss: 15.1085, MAE loss: 8.8465, Mean error: 0.2051\n",
      "Train Epoch: 2 [8192/17068 (47%)]\tRMSE loss: 14.9367, MAE loss: 8.7075, Mean error: 0.8289\n",
      "Train Epoch: 2 [12288/17068 (71%)]\tRMSE loss: 15.8555, MAE loss: 8.8578, Mean error: -1.2341\n",
      "Train Epoch: 2 [16384/17068 (94%)]\tRMSE loss: 15.2123, MAE loss: 8.8714, Mean error: 0.9134\n",
      "______________________________________________________\n",
      "\n",
      "Test set: RMSE loss: 15.0823, MAE loss: 8.4784, Mean error: -1.1491\n",
      "______________________________________________________\n",
      "Train Epoch: 3 [0/17068 (0%)]\tRMSE loss: 13.8719, MAE loss: 8.1630, Mean error: 0.6262\n",
      "Train Epoch: 3 [4096/17068 (24%)]\tRMSE loss: 14.6489, MAE loss: 8.4796, Mean error: 1.2894\n",
      "Train Epoch: 3 [8192/17068 (47%)]\tRMSE loss: 15.0015, MAE loss: 8.9616, Mean error: 0.6413\n",
      "Train Epoch: 3 [12288/17068 (71%)]\tRMSE loss: 14.0092, MAE loss: 8.0809, Mean error: -0.3678\n",
      "Train Epoch: 3 [16384/17068 (94%)]\tRMSE loss: 13.6223, MAE loss: 8.2371, Mean error: 1.5822\n",
      "______________________________________________________\n",
      "\n",
      "Test set: RMSE loss: 15.0242, MAE loss: 9.1015, Mean error: 2.1179\n",
      "______________________________________________________\n",
      "Train Epoch: 4 [0/17068 (0%)]\tRMSE loss: 13.0446, MAE loss: 8.0987, Mean error: 2.1254\n",
      "Train Epoch: 4 [4096/17068 (24%)]\tRMSE loss: 13.1510, MAE loss: 7.6008, Mean error: -1.0741\n",
      "Train Epoch: 4 [8192/17068 (47%)]\tRMSE loss: 14.1893, MAE loss: 7.8159, Mean error: -0.5101\n",
      "Train Epoch: 4 [12288/17068 (71%)]\tRMSE loss: 13.7435, MAE loss: 7.6605, Mean error: -0.9987\n",
      "Train Epoch: 4 [16384/17068 (94%)]\tRMSE loss: 14.0951, MAE loss: 7.9379, Mean error: 0.7739\n",
      "______________________________________________________\n",
      "\n",
      "Test set: RMSE loss: 14.2497, MAE loss: 8.2705, Mean error: 0.2640\n",
      "______________________________________________________\n",
      "Train Epoch: 5 [0/17068 (0%)]\tRMSE loss: 13.4345, MAE loss: 7.7252, Mean error: -0.7650\n",
      "Train Epoch: 5 [4096/17068 (24%)]\tRMSE loss: 12.9672, MAE loss: 7.4747, Mean error: -0.3120\n",
      "Train Epoch: 5 [8192/17068 (47%)]\tRMSE loss: 13.0863, MAE loss: 7.3410, Mean error: 0.1299\n",
      "Train Epoch: 5 [12288/17068 (71%)]\tRMSE loss: 12.2387, MAE loss: 7.3503, Mean error: 0.8860\n",
      "Train Epoch: 5 [16384/17068 (94%)]\tRMSE loss: 12.8394, MAE loss: 7.5657, Mean error: 1.1832\n",
      "______________________________________________________\n",
      "\n",
      "Test set: RMSE loss: 13.9138, MAE loss: 8.1514, Mean error: 0.9770\n",
      "______________________________________________________\n",
      "Train Epoch: 6 [0/17068 (0%)]\tRMSE loss: 12.1186, MAE loss: 7.2134, Mean error: 1.4159\n",
      "Train Epoch: 6 [4096/17068 (24%)]\tRMSE loss: 12.5922, MAE loss: 7.1257, Mean error: -0.7482\n",
      "Train Epoch: 6 [8192/17068 (47%)]\tRMSE loss: 11.8308, MAE loss: 7.1226, Mean error: 0.5540\n",
      "Train Epoch: 6 [12288/17068 (71%)]\tRMSE loss: 12.0827, MAE loss: 7.2547, Mean error: 0.0731\n",
      "Train Epoch: 6 [16384/17068 (94%)]\tRMSE loss: 12.2452, MAE loss: 7.1182, Mean error: 0.4062\n",
      "______________________________________________________\n",
      "\n",
      "Test set: RMSE loss: 13.8437, MAE loss: 8.0178, Mean error: 0.1714\n",
      "______________________________________________________\n",
      "Train Epoch: 7 [0/17068 (0%)]\tRMSE loss: 12.3594, MAE loss: 6.9099, Mean error: 0.5443\n",
      "Train Epoch: 7 [4096/17068 (24%)]\tRMSE loss: 10.9626, MAE loss: 6.6542, Mean error: 1.0532\n",
      "Train Epoch: 7 [8192/17068 (47%)]\tRMSE loss: 11.6729, MAE loss: 7.0165, Mean error: -0.3509\n",
      "Train Epoch: 7 [12288/17068 (71%)]\tRMSE loss: 11.3273, MAE loss: 6.7836, Mean error: 0.2606\n",
      "Train Epoch: 7 [16384/17068 (94%)]\tRMSE loss: 11.3950, MAE loss: 6.8115, Mean error: 0.6557\n",
      "______________________________________________________\n",
      "\n",
      "Test set: RMSE loss: 13.5974, MAE loss: 7.8422, Mean error: -0.4758\n",
      "______________________________________________________\n",
      "Train Epoch: 8 [0/17068 (0%)]\tRMSE loss: 11.4814, MAE loss: 6.6894, Mean error: -0.9108\n",
      "Train Epoch: 8 [4096/17068 (24%)]\tRMSE loss: 12.0328, MAE loss: 6.7312, Mean error: -0.8952\n",
      "Train Epoch: 8 [8192/17068 (47%)]\tRMSE loss: 11.4472, MAE loss: 6.6685, Mean error: -1.9514\n",
      "Train Epoch: 8 [12288/17068 (71%)]\tRMSE loss: 10.8010, MAE loss: 6.6073, Mean error: 1.5552\n",
      "Train Epoch: 8 [16384/17068 (94%)]\tRMSE loss: 11.9087, MAE loss: 6.6698, Mean error: -0.7454\n",
      "______________________________________________________\n",
      "\n",
      "Test set: RMSE loss: 13.1222, MAE loss: 7.6619, Mean error: 0.3407\n",
      "______________________________________________________\n",
      "Train Epoch: 9 [0/17068 (0%)]\tRMSE loss: 10.5559, MAE loss: 6.2358, Mean error: 0.3045\n",
      "Train Epoch: 9 [4096/17068 (24%)]\tRMSE loss: 11.1389, MAE loss: 6.6237, Mean error: 1.4761\n",
      "Train Epoch: 9 [8192/17068 (47%)]\tRMSE loss: 10.9635, MAE loss: 6.4060, Mean error: -0.1686\n",
      "Train Epoch: 9 [12288/17068 (71%)]\tRMSE loss: 11.1179, MAE loss: 6.4947, Mean error: -0.3884\n",
      "Train Epoch: 9 [16384/17068 (94%)]\tRMSE loss: 10.8922, MAE loss: 6.5590, Mean error: 1.7041\n",
      "______________________________________________________\n",
      "\n",
      "Test set: RMSE loss: 13.1113, MAE loss: 7.6043, Mean error: 0.2780\n",
      "______________________________________________________\n",
      "Train Epoch: 10 [0/17068 (0%)]\tRMSE loss: 10.9244, MAE loss: 6.3045, Mean error: 0.0350\n",
      "Train Epoch: 10 [4096/17068 (24%)]\tRMSE loss: 11.3651, MAE loss: 6.4249, Mean error: -0.8994\n",
      "Train Epoch: 10 [8192/17068 (47%)]\tRMSE loss: 11.3970, MAE loss: 6.4993, Mean error: -0.5516\n",
      "Train Epoch: 10 [12288/17068 (71%)]\tRMSE loss: 10.9306, MAE loss: 6.4199, Mean error: 0.3856\n",
      "Train Epoch: 10 [16384/17068 (94%)]\tRMSE loss: 11.1822, MAE loss: 6.6645, Mean error: 1.5081\n",
      "______________________________________________________\n",
      "\n",
      "Test set: RMSE loss: 13.1028, MAE loss: 7.4157, Mean error: -1.1754\n",
      "______________________________________________________\n",
      "TRAINING COMPLETE\n",
      "______________________________________________________\n",
      "Logging model\n",
      "EXPERIMENT COMPLETE\n"
     ]
    }
   ],
   "source": [
    "run_experiment(exp_params, EXPERIMENT_NAME, MODEL_NAME)"
   ]
  },
  {
   "cell_type": "markdown",
   "id": "9d5b124f-70dd-4a8c-97ef-1e51c19de9db",
   "metadata": {},
   "source": [
    "## MLFlow UI\n",
    "\n",
    "To view logged models via the mlflow ui run: `mlflow ui` from the directory with the mlruns folder. In a terminal to start ui server and then go to: http://localhost:5000."
   ]
  },
  {
   "cell_type": "markdown",
   "id": "e6f494d6-a14c-4c63-91c0-ecc9a8ab71b8",
   "metadata": {},
   "source": [
    "## MLFLow search runs"
   ]
  },
  {
   "cell_type": "code",
   "execution_count": 57,
   "id": "a8d0f6d6-2d7a-4d58-bc1d-d433c1bf61a3",
   "metadata": {},
   "outputs": [],
   "source": [
    "from mlflow.tracking.client import MlflowClient\n",
    "from mlflow.entities import ViewType"
   ]
  },
  {
   "cell_type": "code",
   "execution_count": 60,
   "id": "9a3953a1-ed32-4a48-999b-ff931ec84201",
   "metadata": {},
   "outputs": [
    {
     "name": "stdout",
     "output_type": "stream",
     "text": [
      "pytorch_cnn_miso_price\n"
     ]
    },
    {
     "data": {
      "text/plain": [
       "'0'"
      ]
     },
     "execution_count": 60,
     "metadata": {},
     "output_type": "execute_result"
    }
   ],
   "source": [
    "print(EXPERIMENT_NAME)\n",
    "experiment = mlflow.get_experiment_by_name(EXPERIMENT_NAME)\n",
    "experiment.experiment_id"
   ]
  },
  {
   "cell_type": "code",
   "execution_count": 61,
   "id": "8d078494-fe0b-4d0c-8d77-aea0db75c47b",
   "metadata": {},
   "outputs": [
    {
     "data": {
      "text/plain": [
       "{'info': {'artifact_uri': 'file:///workspace/mlruns/0/8e22b319c16349c1ba755b097e4de395/artifacts',\n",
       "  'end_time': 1655149734881,\n",
       "  'experiment_id': '0',\n",
       "  'lifecycle_stage': 'active',\n",
       "  'run_id': '8e22b319c16349c1ba755b097e4de395',\n",
       "  'run_uuid': '8e22b319c16349c1ba755b097e4de395',\n",
       "  'start_time': 1655149731026,\n",
       "  'status': 'FINISHED',\n",
       "  'user_id': 'root'},\n",
       " 'data': {'metrics': {'test_rmse_loss': 12.858434848790179,\n",
       "   'test_mae_loss': 7.344307948001215,\n",
       "   'test_mean_error': -0.355601092522663},\n",
       "  'params': {'epochs': '10',\n",
       "   'lr': '0.001',\n",
       "   'model': 'pytorch_cnn',\n",
       "   'hist_ks': '[3, 3]',\n",
       "   'hist_out_ch': '[8, 16]',\n",
       "   'n_fc': '[256, 256, 256]',\n",
       "   'hist_future_out_ch': '[8, 16]',\n",
       "   'drop_out': '0.0',\n",
       "   'hist_future_ks': '[3, 3]',\n",
       "   'gamma': '0.95'},\n",
       "  'tags': {'mlflow.log-model.history': '[{\"run_id\": \"8e22b319c16349c1ba755b097e4de395\", \"artifact_path\": \"pytorch_cnn\", \"utc_time_created\": \"2022-06-13 19:48:51.030758\", \"flavors\": {\"pytorch\": {\"model_data\": \"data\", \"pytorch_version\": \"1.11.0\", \"code\": null}, \"python_function\": {\"pickle_module_name\": \"mlflow.pytorch.pickle_module\", \"loader_module\": \"mlflow.pytorch\", \"python_version\": \"3.8.12\", \"data\": \"data\", \"env\": \"conda.yaml\"}}, \"model_uuid\": \"5ef788d50c7a417fa6d2b1c332f015e1\", \"mlflow_version\": \"1.26.1\"}]',\n",
       "   'mlflow.source.name': '/opt/conda/lib/python3.8/site-packages/ipykernel_launcher.py',\n",
       "   'mlflow.user': 'root',\n",
       "   'mlflow.source.type': 'LOCAL'}}}"
      ]
     },
     "execution_count": 61,
     "metadata": {},
     "output_type": "execute_result"
    }
   ],
   "source": [
    "run = MlflowClient().search_runs(\n",
    "  experiment_ids=experiment.experiment_id,\n",
    "  filter_string=\"\",\n",
    "  run_view_type=ViewType.ACTIVE_ONLY,\n",
    "  max_results=1,\n",
    "  order_by=[\"metrics.test_rmse_loss\"]\n",
    ")[0]\n",
    "\n",
    "run.to_dictionary()"
   ]
  },
  {
   "cell_type": "code",
   "execution_count": 62,
   "id": "7d0ef86b-6ed6-4a3c-98c2-b48721778b94",
   "metadata": {},
   "outputs": [
    {
     "data": {
      "text/plain": [
       "('/workspace/mlruns/0/8e22b319c16349c1ba755b097e4de395/artifacts',\n",
       " 'pytorch_cnn')"
      ]
     },
     "execution_count": 62,
     "metadata": {},
     "output_type": "execute_result"
    }
   ],
   "source": [
    "arifacts_loc = run.to_dictionary()['info']['artifact_uri'].replace('file://', '')\n",
    "artifact_path = run.to_dictionary()['data']['params']['model']\n",
    "arifacts_loc, artifact_path"
   ]
  },
  {
   "cell_type": "code",
   "execution_count": 63,
   "id": "866696f8-1437-40e4-a2f7-f29033137240",
   "metadata": {},
   "outputs": [
    {
     "data": {
      "text/plain": [
       "'/workspace/mlruns/0/8e22b319c16349c1ba755b097e4de395/artifacts/pytorch_cnn/data/model.pth'"
      ]
     },
     "execution_count": 63,
     "metadata": {},
     "output_type": "execute_result"
    }
   ],
   "source": [
    "mlflow_model_uri = f'{arifacts_loc}/{artifact_path}/data/model.pth'\n",
    "mlflow_model_uri"
   ]
  },
  {
   "cell_type": "code",
   "execution_count": 64,
   "id": "d88fcb89-4293-41e0-81a0-0b6a1065fa93",
   "metadata": {},
   "outputs": [],
   "source": [
    "os.environ['MLFLOW_MODEL_URI'] = mlflow_model_uri"
   ]
  },
  {
   "cell_type": "code",
   "execution_count": 65,
   "id": "366c32b4-91de-4fe5-8562-f06338c94036",
   "metadata": {},
   "outputs": [
    {
     "name": "stdout",
     "output_type": "stream",
     "text": [
      "/workspace/mlruns/0/8e22b319c16349c1ba755b097e4de395/artifacts/pytorch_cnn/data/model.pth\n"
     ]
    }
   ],
   "source": [
    "!echo $MLFLOW_MODEL_URI"
   ]
  },
  {
   "cell_type": "code",
   "execution_count": 66,
   "id": "2aeabb24-7994-4617-860f-567b1e759815",
   "metadata": {},
   "outputs": [],
   "source": [
    "# load the best model\n",
    "model = torch.load(mlflow_model_uri)"
   ]
  },
  {
   "cell_type": "markdown",
   "id": "f12cbcdb-c9bc-407e-ba26-a082d0f15a5d",
   "metadata": {},
   "source": [
    "## Check what the best model has learned"
   ]
  },
  {
   "cell_type": "code",
   "execution_count": 67,
   "id": "a0b86eb9-ecf5-4ef1-ab0f-13d0ce980850",
   "metadata": {},
   "outputs": [],
   "source": [
    "# the test error and return the datasets from the last batch\n",
    "# the datasets will be used to test model serving and\n",
    "# generate some plots\n",
    "def test_post_train(model, device, loader_test, scaler):\n",
    "    model.eval()\n",
    "    mse_loss = 0\n",
    "    mae_loss = 0\n",
    "    mean_error = 0\n",
    "    \n",
    "    with torch.no_grad():\n",
    "        for hist_future, hist, tabular, label in loader_test:\n",
    "            hist_future, hist, tabular, label = (hist_future.to(device), \n",
    "                                             hist.to(device), \n",
    "                                             tabular.to(device), \n",
    "                                             label.to(device)\n",
    "                                            )\n",
    "            \n",
    "            # scaled actuals\n",
    "            label = torch.flatten(label, start_dim=1)\n",
    "            label = label*scaler['sd'].price+scaler['means'].price\n",
    "            \n",
    "            # scaled predictions\n",
    "            output = model.forward(hist_future, hist, tabular)\n",
    "            output = output*scaler['sd'].price+scaler['means'].price\n",
    "            \n",
    "            # calculate scaled loss\n",
    "            mse_loss += F.mse_loss(output, label, reduction=\"sum\").item()  # sum up batch loss\n",
    "            mae_loss += F.l1_loss(output, label, reduction=\"sum\").item()  # sum up batch loss\n",
    "            mean_error += torch.sum(output-label)\n",
    "    \n",
    "    # scale historical prices\n",
    "    hist = hist*scaler['sd'].price+scaler['means'].price\n",
    "    \n",
    "    n_step = label.shape[-1]\n",
    "    n_pred = len(loader_test.dataset)\n",
    "    rmse_loss = np.sqrt(mse_loss/n_pred/n_step)\n",
    "    mae_loss = mae_loss/n_pred/n_step\n",
    "    mean_error = (mean_error/n_pred/n_step).item()\n",
    "    print('______________________________________________________')\n",
    "    print(\n",
    "        \"\\nTest set: RMSE loss: {:.4f}, MAE loss: {:.4f}, Mean error: {:.4f}\".format(\n",
    "            rmse_loss,\n",
    "            mae_loss,\n",
    "            mean_error,\n",
    "        )\n",
    "    )\n",
    "    print('______________________________________________________')\n",
    "    \n",
    "    return {'test_rmse_loss':rmse_loss, \n",
    "            'test_mae_loss':mae_loss, \n",
    "            'test_mean_error':mean_error, \n",
    "            'label':label, \n",
    "            'hist_future':hist_future, \n",
    "            'hist':hist,\n",
    "            'tabular':tabular,\n",
    "            'output':output}"
   ]
  },
  {
   "cell_type": "code",
   "execution_count": 68,
   "id": "505b248f-8221-4460-abe0-6ff7fd6873c5",
   "metadata": {},
   "outputs": [
    {
     "name": "stdout",
     "output_type": "stream",
     "text": [
      "______________________________________________________\n",
      "\n",
      "Test set: RMSE loss: 12.8584, MAE loss: 7.3443, Mean error: -0.3556\n",
      "______________________________________________________\n"
     ]
    }
   ],
   "source": [
    "res = test_post_train(model, device, loader_test, scaler)"
   ]
  },
  {
   "cell_type": "code",
   "execution_count": 69,
   "id": "130f8849-a91e-40ee-a1b4-d83535f26bf0",
   "metadata": {},
   "outputs": [
    {
     "data": {
      "text/plain": [
       "(125, 24)"
      ]
     },
     "execution_count": 69,
     "metadata": {},
     "output_type": "execute_result"
    }
   ],
   "source": [
    "error = (res['output'] - res['label']).cpu().numpy()\n",
    "error.shape"
   ]
  },
  {
   "cell_type": "code",
   "execution_count": 70,
   "id": "8e2dcbf2-4867-48ca-9e52-1c7709f76843",
   "metadata": {},
   "outputs": [
    {
     "data": {
      "image/png": "[encoded data removed]",
      "text/plain": [
       "<Figure size 432x288 with 1 Axes>"
      ]
     },
     "metadata": {
      "needs_background": "light"
     },
     "output_type": "display_data"
    }
   ],
   "source": [
    "plt.plot(np.mean(error,axis=0));"
   ]
  },
  {
   "cell_type": "code",
   "execution_count": 71,
   "id": "bfd7023f-a3e8-4b62-8631-1470dca845fe",
   "metadata": {},
   "outputs": [
    {
     "data": {
      "image/png": "[encoded data removed]",
      "text/plain": [
       "<Figure size 432x288 with 1 Axes>"
      ]
     },
     "metadata": {
      "needs_background": "light"
     },
     "output_type": "display_data"
    }
   ],
   "source": [
    "plt.plot(np.percentile(error, 50 ,axis=0));"
   ]
  },
  {
   "cell_type": "code",
   "execution_count": 72,
   "id": "07986125-a412-4367-8a24-c4e10be006d0",
   "metadata": {},
   "outputs": [
    {
     "data": {
      "image/png": "[encoded data removed]",
      "text/plain": [
       "<Figure size 432x432 with 2 Axes>"
      ]
     },
     "metadata": {
      "needs_background": "light"
     },
     "output_type": "display_data"
    },
    {
     "name": "stdout",
     "output_type": "stream",
     "text": [
      "=================================================================\n",
      "\n"
     ]
    },
    {
     "data": {
      "image/png": "[encoded data removed]",
      "text/plain": [
       "<Figure size 432x432 with 2 Axes>"
      ]
     },
     "metadata": {
      "needs_background": "light"
     },
     "output_type": "display_data"
    },
    {
     "name": "stdout",
     "output_type": "stream",
     "text": [
      "=================================================================\n",
      "\n"
     ]
    },
    {
     "data": {
      "image/png": "[encoded data removed]",
      "text/plain": [
       "<Figure size 432x432 with 2 Axes>"
      ]
     },
     "metadata": {
      "needs_background": "light"
     },
     "output_type": "display_data"
    },
    {
     "name": "stdout",
     "output_type": "stream",
     "text": [
      "=================================================================\n",
      "\n"
     ]
    },
    {
     "data": {
      "image/png": "[encoded data removed]",
      "text/plain": [
       "<Figure size 432x432 with 2 Axes>"
      ]
     },
     "metadata": {
      "needs_background": "light"
     },
     "output_type": "display_data"
    },
    {
     "name": "stdout",
     "output_type": "stream",
     "text": [
      "=================================================================\n",
      "\n"
     ]
    },
    {
     "data": {
      "image/png": "[encoded data removed]",
      "text/plain": [
       "<Figure size 432x432 with 2 Axes>"
      ]
     },
     "metadata": {
      "needs_background": "light"
     },
     "output_type": "display_data"
    },
    {
     "name": "stdout",
     "output_type": "stream",
     "text": [
      "=================================================================\n",
      "\n"
     ]
    },
    {
     "data": {
      "image/png": "[encoded data removed]",
      "text/plain": [
       "<Figure size 432x432 with 2 Axes>"
      ]
     },
     "metadata": {
      "needs_background": "light"
     },
     "output_type": "display_data"
    },
    {
     "name": "stdout",
     "output_type": "stream",
     "text": [
      "=================================================================\n",
      "\n"
     ]
    },
    {
     "data": {
      "image/png": "[encoded data removed]",
      "text/plain": [
       "<Figure size 432x432 with 2 Axes>"
      ]
     },
     "metadata": {
      "needs_background": "light"
     },
     "output_type": "display_data"
    },
    {
     "name": "stdout",
     "output_type": "stream",
     "text": [
      "=================================================================\n",
      "\n"
     ]
    },
    {
     "data": {
      "image/png": "[encoded data removed]",
      "text/plain": [
       "<Figure size 432x432 with 2 Axes>"
      ]
     },
     "metadata": {
      "needs_background": "light"
     },
     "output_type": "display_data"
    },
    {
     "name": "stdout",
     "output_type": "stream",
     "text": [
      "=================================================================\n",
      "\n"
     ]
    },
    {
     "data": {
      "image/png": "[encoded data removed]",
      "text/plain": [
       "<Figure size 432x432 with 2 Axes>"
      ]
     },
     "metadata": {
      "needs_background": "light"
     },
     "output_type": "display_data"
    },
    {
     "name": "stdout",
     "output_type": "stream",
     "text": [
      "=================================================================\n",
      "\n"
     ]
    },
    {
     "data": {
      "image/png": "[encoded data removed]",
      "text/plain": [
       "<Figure size 432x432 with 2 Axes>"
      ]
     },
     "metadata": {
      "needs_background": "light"
     },
     "output_type": "display_data"
    },
    {
     "name": "stdout",
     "output_type": "stream",
     "text": [
      "=================================================================\n",
      "\n"
     ]
    }
   ],
   "source": [
    "# create some random plots from the last batch of testing data\n",
    "# to see what the model has learned\n",
    "N_PLOT = 10\n",
    "\n",
    "r_idx = np.random.randint(low=0, high=res['label'].shape[0], size=N_PLOT, dtype=int)\n",
    "for i in r_idx:\n",
    "    \n",
    "    hist_future_cols = ['wind', 'solar', 'load_mwh']\n",
    "    hist_future = res['hist_future'][i,:].cpu().numpy()\n",
    "    hist_future = np.transpose(hist_future)\n",
    "    hist_future = (\n",
    "        hist_future*scaler['sd'][hist_future_cols].values.reshape(1,-1)+\n",
    "        scaler['means'][hist_future_cols].values.reshape(1,-1)\n",
    "    )\n",
    "\n",
    "    hist_future = pd.DataFrame(hist_future, columns=hist_future_cols)\n",
    "\n",
    "    hist = res['hist'][i,:][0].cpu().numpy()\n",
    "    \n",
    "    actual = res['label'][i,:].cpu().numpy()\n",
    "    actual = np.concatenate([hist, actual])\n",
    "\n",
    "    predicted = res['output'][i,:].cpu().numpy()\n",
    "    predicted = np.concatenate([hist, predicted])\n",
    "    \n",
    "    comp = pd.DataFrame(\n",
    "        {'actual':actual, 'predicted':predicted}\n",
    "    )\n",
    "    \n",
    "    fig, axs = plt.subplots(\n",
    "        ncols=1, \n",
    "        nrows=2, \n",
    "        figsize=(6, 6),\n",
    "        constrained_layout=True\n",
    "    )\n",
    "    \n",
    "    comp.plot(ax=axs[0]);\n",
    "    axs[0].set_ylabel('$/MWh')\n",
    "    axs[0].set_title(f'idx: {i}');\n",
    "    hist_future.plot(ax=axs[1]);\n",
    "    axs[1].set_ylabel('MW')\n",
    "    plt.show();\n",
    "    print('=================================================================\\n')\n"
   ]
  },
  {
   "cell_type": "markdown",
   "id": "df49b735-28fa-4808-93ef-3427402c386d",
   "metadata": {},
   "source": [
    "## Model serving data testing\n",
    "\n",
    "* Test model inference on data from the `res` dictionary created above.\n",
    "* Convert data to json file\n",
    "* Read in json file\n",
    "* Test inference on data read from json file"
   ]
  },
  {
   "cell_type": "code",
   "execution_count": 73,
   "id": "9cef6992-0131-455e-892b-2d73fba0782b",
   "metadata": {},
   "outputs": [],
   "source": [
    "import json\n",
    "import requests"
   ]
  },
  {
   "cell_type": "code",
   "execution_count": 74,
   "id": "e605aa0b-24c8-4705-8f51-26bdb3dbc16e",
   "metadata": {},
   "outputs": [
    {
     "data": {
      "text/plain": [
       "{'hist_future': tensor([[[ 1.7149,  1.8227,  2.0121,  2.0257,  2.0230,  2.0026,  2.0414,\n",
       "            2.0039,  2.0459,  2.0760,  2.0735,  2.1434,  2.2499,  2.2023,\n",
       "            2.1979,  2.2154,  2.2139,  2.2131,  2.1723,  2.1906,  2.1547,\n",
       "            2.2221,  2.2843,  2.2333,  2.1957,  2.1175,  2.0084,  1.8945,\n",
       "            1.8043,  1.7580,  1.6760,  1.5953,  1.5192,  1.4975,  1.5284,\n",
       "            1.5638,  1.5461,  1.3912,  1.4351,  1.3530,  1.1708,  1.0749,\n",
       "            1.0407,  0.8870,  0.6821,  0.3355, -0.1471, -0.5616],\n",
       "          [-0.6290, -0.6290, -0.6290, -0.6290, -0.6304, -0.6304, -0.6290,\n",
       "           -0.6290, -0.6290, -0.6290, -0.6290, -0.6290, -0.6230, -0.4024,\n",
       "            0.0760,  0.1654,  0.2429,  0.2787,  0.1654,  0.2831,  0.0805,\n",
       "           -0.5038, -0.6275, -0.6260, -0.6260, -0.6260, -0.6275, -0.6275,\n",
       "           -0.6275, -0.6290, -0.6290, -0.6290, -0.6290, -0.6304, -0.6290,\n",
       "           -0.6304, -0.6245, -0.3354,  0.3442,  0.6229,  0.6691,  0.6393,\n",
       "            0.6229,  0.4605,  0.1773, -0.4516, -0.6334, -0.6334],\n",
       "          [ 2.1676,  1.9661,  1.6903,  1.4265,  1.1750,  1.0025,  0.8828,\n",
       "            0.8276,  0.8591,  1.0062,  1.3476,  1.8581,  2.2416,  2.3139,\n",
       "            2.2180,  2.0999,  1.9923,  1.9514,  1.9226,  1.8486,  1.8470,\n",
       "            1.9232,  2.2203,  2.1481,  2.0056,  1.9858,  1.8699,  1.7728,\n",
       "            1.4805,  1.2774,  1.1408,  1.0972,  1.0955,  1.1503,  1.4229,\n",
       "            1.8331,  2.1954,  2.2257,  2.1410,  2.0848,  2.0570,  1.9930,\n",
       "            2.0225,  1.9860,  1.9960,  2.1227,  2.3225,  2.2211]]],\n",
       "        device='cuda:0', dtype=torch.float64),\n",
       " 'hist': tensor([[[26.4400, 23.4500, 18.7300, 19.5400, 18.5700, 12.4600, 15.1800,\n",
       "           16.5800, 19.8700, 22.0000, 26.7200, 36.6300, 40.9500, 62.4800,\n",
       "           42.8800, 32.5100, 31.0800, 30.9300, 25.2600, 28.6500, 29.0700,\n",
       "           84.6200, 70.6700, 36.7600]]], device='cuda:0', dtype=torch.float64),\n",
       " 'tabular': tensor([[[0, 0, 0, 0, 0, 1, 0, 0, 0, 0, 0, 0, 0, 0, 0, 0, 0, 0, 0, 0, 0, 0, 0,\n",
       "           0, 0, 0, 0, 0, 0, 0, 0, 1, 0, 0, 0, 0, 0, 0, 0, 0, 0, 0, 0, 0, 0, 0,\n",
       "           1, 0, 0, 0, 0, 0, 0, 0, 0, 0, 0, 0, 0, 0, 0, 0, 0, 0, 0, 0, 0, 0, 0,\n",
       "           0, 1, 0, 0, 0]]], device='cuda:0')}"
      ]
     },
     "execution_count": 74,
     "metadata": {},
     "output_type": "execute_result"
    }
   ],
   "source": [
    "test_inference_data = {\n",
    "    'hist_future':res['hist_future'][:1,:,:],\n",
    "    'hist':res['hist'][:1,:,:],\n",
    "    'tabular':res['tabular'][:1,:],\n",
    "}\n",
    "test_inference_data"
   ]
  },
  {
   "cell_type": "code",
   "execution_count": 87,
   "id": "eeaa5a56-d7b9-49c7-bc32-314960bb324d",
   "metadata": {},
   "outputs": [
    {
     "data": {
      "text/plain": [
       "tensor([[22.9657, 16.3429, 14.2061,  6.5604,  2.6747,  0.6543,  1.3995,  3.1892,\n",
       "          2.5797,  7.5346,  4.2576,  6.2624,  4.7761,  5.5494,  5.5389,  4.1876,\n",
       "          3.2525,  4.1460,  3.0492,  3.9513,  3.7734,  2.9765,  2.0859,  4.7002]],\n",
       "       device='cuda:0', dtype=torch.float64, grad_fn=<AddmmBackward0>)"
      ]
     },
     "execution_count": 87,
     "metadata": {},
     "output_type": "execute_result"
    }
   ],
   "source": [
    "model.to(device)\n",
    "pred_test = model(**test_inference_data)\n",
    "pred_test"
   ]
  },
  {
   "cell_type": "code",
   "execution_count": null,
   "id": "0c477636-5d85-4443-9898-feee916b34ea",
   "metadata": {},
   "outputs": [],
   "source": [
    "# scripted_model(**test_inference_data)"
   ]
  },
  {
   "cell_type": "markdown",
   "id": "4fb70ada-f173-42df-ab10-e01fabbbf464",
   "metadata": {},
   "source": [
    "### Covert data to json"
   ]
  },
  {
   "cell_type": "code",
   "execution_count": 76,
   "id": "ed999705-5214-42a9-8818-031288ad90e6",
   "metadata": {},
   "outputs": [],
   "source": [
    "inference_data = {\n",
    "    'hist_future':res['hist_future'][:1,:,:].cpu().tolist(),\n",
    "    'hist':res['hist'][:1,:,:].cpu().tolist(),\n",
    "    'tabular':res['tabular'][:1,:].cpu().tolist(),\n",
    "}\n",
    "\n",
    "post_data = json.dumps(inference_data)"
   ]
  },
  {
   "cell_type": "code",
   "execution_count": 77,
   "id": "554f4db7-2124-4231-b3f8-da85df905d8a",
   "metadata": {},
   "outputs": [
    {
     "data": {
      "text/plain": [
       "'{\"hist_future\": [[[1.7149003254623982, 1.822727849624061, 2.0121013077658043, 2.0256801293596225, 2.0229789659242936, 2.00263506833929, 2.0414004138571253, 2.003876143431198, 2.0459023529160074, 2.076028842401934, 2.0734736878009468, 2.1433875846451036, 2.24985235968624, 2.202326484107877, 2.197946219077613, 2.215394274781498, 2.213885516826629, 2.2130581334320234, 2.1723216686505693, 2.1906214425547823, 2.1547032693066184, 2.222062011549788, 2.2843104445909828, 2.233304691794132, 2.1957317517567567, 2.117495351355099, 2.0084024172958035, 1.894515526508942, 1.8042577320797817, 1.7580459360104976, 1.6760376407216675, 1.5953434249419167, 1.5192484874439434, 1.4974931711269654, 1.5283983743960499, 1.5637568471125693, 1.5460654433514478, 1.3912230745316185, 1.4350743944457047, 1.3530174295454278, 1.1708470738978962, 1.0748706001236692, 1.0407288676933342, 0.886981565131071, 0.6820581661318907, 0.3354575282093969, -0.14710166929134424, -0.5615720803772054], [-0.6289501705895624, -0.6289501705895624, -0.6289501705895624, -0.6289501705895624, -0.6304405187979276, -0.6304405187979276, -0.6289501705895624, -0.6289501705895624, -0.6289501705895624, -0.6289501705895624, -0.6289501705895624, -0.6289501705895624, -0.6229887777561016, -0.4024172429180513, 0.07598453196717936, 0.16540542446909165, 0.24290353130408232, 0.27867188830484724, 0.16540542446909165, 0.2831429329299428, 0.08045557659227504, -0.5037609210868852, -0.6274598223811972, -0.6259694741728321, -0.6259694741728321, -0.6259694741728321, -0.6274598223811972, -0.6274598223811972, -0.6274598223811972, -0.6289501705895624, -0.6289501705895624, -0.6289501705895624, -0.6289501705895624, -0.6304405187979276, -0.6289501705895624, -0.6304405187979276, -0.6244791259644669, -0.3353515735416171, 0.3442472094729163, 0.6229423244372094, 0.6691431188965309, 0.6393361547292268, 0.6229423244372094, 0.46049436972540225, 0.17732821013601335, -0.4515987337941031, -0.6334212152146581, -0.6334212152146581], [2.167598706573677, 1.9661265976712938, 1.690252609953431, 1.4264532622538806, 1.174996513466874, 1.0025175569198375, 0.8827811556456985, 0.8276104805466515, 0.859130691396784, 1.0062483692163802, 1.3476238780168672, 1.8581432857423983, 2.241646055159873, 2.313941364822278, 2.217950244021166, 2.0998628205576537, 1.992267018414255, 1.9514053482669234, 1.9225647263590608, 1.8486080715524482, 1.8470415426323532, 1.9232160725942578, 2.22028767006773, 2.148103666407541, 2.005582514235066, 1.9858153927301785, 1.8699046199766933, 1.7727550922636155, 1.4805314895533865, 1.2773856681732183, 1.140751366784682, 1.0972183525841335, 1.0955322727727677, 1.1502659687519978, 1.4229162048500867, 1.8331035576880295, 2.1954252071280043, 2.2256550928413192, 2.1409512251539478, 2.08476230625684, 2.057026499482096, 1.9930090584290368, 2.0225381285728368, 1.9859514333995545, 1.9960019531553252, 2.1227011632348356, 2.3224542127696397, 2.221112158973044]]], \"hist\": [[[26.44, 23.45, 18.73, 19.54, 18.57, 12.46, 15.18, 16.580000000000002, 19.87, 22.0, 26.72, 36.63, 40.95, 62.48, 42.88, 32.51, 31.08, 30.93, 25.26, 28.65, 29.07, 84.62, 70.67, 36.76]]], \"tabular\": [[[0, 0, 0, 0, 0, 1, 0, 0, 0, 0, 0, 0, 0, 0, 0, 0, 0, 0, 0, 0, 0, 0, 0, 0, 0, 0, 0, 0, 0, 0, 0, 1, 0, 0, 0, 0, 0, 0, 0, 0, 0, 0, 0, 0, 0, 0, 1, 0, 0, 0, 0, 0, 0, 0, 0, 0, 0, 0, 0, 0, 0, 0, 0, 0, 0, 0, 0, 0, 0, 0, 1, 0, 0, 0]]]}'"
      ]
     },
     "execution_count": 77,
     "metadata": {},
     "output_type": "execute_result"
    }
   ],
   "source": [
    "post_data"
   ]
  },
  {
   "cell_type": "code",
   "execution_count": 78,
   "id": "5201e0f6-d0df-4719-b00b-b164763234fe",
   "metadata": {},
   "outputs": [],
   "source": [
    "# with open('post_data.json', 'w', encoding='utf-8') as f:\n",
    "#     json.dump(post_data, f, ensure_ascii=False, indent=4)"
   ]
  },
  {
   "cell_type": "code",
   "execution_count": 79,
   "id": "3606ad63-a301-4463-842d-3e3b07724ce7",
   "metadata": {},
   "outputs": [],
   "source": [
    "with open('post_data.txt', 'w', encoding='utf-8') as f:\n",
    "    json.dump(post_data, f)"
   ]
  },
  {
   "cell_type": "markdown",
   "id": "d45e682f-b661-4bc2-97d9-518f395f44c9",
   "metadata": {},
   "source": [
    "### Read json data"
   ]
  },
  {
   "cell_type": "code",
   "execution_count": 80,
   "id": "5db9ffd0-82ed-4c16-8a57-70fc80ad57ed",
   "metadata": {},
   "outputs": [],
   "source": [
    "with open('post_data.txt', 'r') as f:\n",
    "    post_data = f.read()"
   ]
  },
  {
   "cell_type": "code",
   "execution_count": 81,
   "id": "9aea0653-bc3d-452c-8672-d6c0d29dc853",
   "metadata": {},
   "outputs": [
    {
     "data": {
      "text/plain": [
       "'\"{\\\\\"hist_future\\\\\": [[[1.7149003254623982, 1.822727849624061, 2.0121013077658043, 2.0256801293596225, 2.0229789659242936, 2.00263506833929, 2.0414004138571253, 2.003876143431198, 2.0459023529160074, 2.076028842401934, 2.0734736878009468, 2.1433875846451036, 2.24985235968624, 2.202326484107877, 2.197946219077613, 2.215394274781498, 2.213885516826629, 2.2130581334320234, 2.1723216686505693, 2.1906214425547823, 2.1547032693066184, 2.222062011549788, 2.2843104445909828, 2.233304691794132, 2.1957317517567567, 2.117495351355099, 2.0084024172958035, 1.894515526508942, 1.8042577320797817, 1.7580459360104976, 1.6760376407216675, 1.5953434249419167, 1.5192484874439434, 1.4974931711269654, 1.5283983743960499, 1.5637568471125693, 1.5460654433514478, 1.3912230745316185, 1.4350743944457047, 1.3530174295454278, 1.1708470738978962, 1.0748706001236692, 1.0407288676933342, 0.886981565131071, 0.6820581661318907, 0.3354575282093969, -0.14710166929134424, -0.5615720803772054], [-0.6289501705895624, -0.6289501705895624, -0.6289501705895624, -0.6289501705895624, -0.6304405187979276, -0.6304405187979276, -0.6289501705895624, -0.6289501705895624, -0.6289501705895624, -0.6289501705895624, -0.6289501705895624, -0.6289501705895624, -0.6229887777561016, -0.4024172429180513, 0.07598453196717936, 0.16540542446909165, 0.24290353130408232, 0.27867188830484724, 0.16540542446909165, 0.2831429329299428, 0.08045557659227504, -0.5037609210868852, -0.6274598223811972, -0.6259694741728321, -0.6259694741728321, -0.6259694741728321, -0.6274598223811972, -0.6274598223811972, -0.6274598223811972, -0.6289501705895624, -0.6289501705895624, -0.6289501705895624, -0.6289501705895624, -0.6304405187979276, -0.6289501705895624, -0.6304405187979276, -0.6244791259644669, -0.3353515735416171, 0.3442472094729163, 0.6229423244372094, 0.6691431188965309, 0.6393361547292268, 0.6229423244372094, 0.46049436972540225, 0.17732821013601335, -0.4515987337941031, -0.6334212152146581, -0.6334212152146581], [2.167598706573677, 1.9661265976712938, 1.690252609953431, 1.4264532622538806, 1.174996513466874, 1.0025175569198375, 0.8827811556456985, 0.8276104805466515, 0.859130691396784, 1.0062483692163802, 1.3476238780168672, 1.8581432857423983, 2.241646055159873, 2.313941364822278, 2.217950244021166, 2.0998628205576537, 1.992267018414255, 1.9514053482669234, 1.9225647263590608, 1.8486080715524482, 1.8470415426323532, 1.9232160725942578, 2.22028767006773, 2.148103666407541, 2.005582514235066, 1.9858153927301785, 1.8699046199766933, 1.7727550922636155, 1.4805314895533865, 1.2773856681732183, 1.140751366784682, 1.0972183525841335, 1.0955322727727677, 1.1502659687519978, 1.4229162048500867, 1.8331035576880295, 2.1954252071280043, 2.2256550928413192, 2.1409512251539478, 2.08476230625684, 2.057026499482096, 1.9930090584290368, 2.0225381285728368, 1.9859514333995545, 1.9960019531553252, 2.1227011632348356, 2.3224542127696397, 2.221112158973044]]], \\\\\"hist\\\\\": [[[26.44, 23.45, 18.73, 19.54, 18.57, 12.46, 15.18, 16.580000000000002, 19.87, 22.0, 26.72, 36.63, 40.95, 62.48, 42.88, 32.51, 31.08, 30.93, 25.26, 28.65, 29.07, 84.62, 70.67, 36.76]]], \\\\\"tabular\\\\\": [[[0, 0, 0, 0, 0, 1, 0, 0, 0, 0, 0, 0, 0, 0, 0, 0, 0, 0, 0, 0, 0, 0, 0, 0, 0, 0, 0, 0, 0, 0, 0, 1, 0, 0, 0, 0, 0, 0, 0, 0, 0, 0, 0, 0, 0, 0, 1, 0, 0, 0, 0, 0, 0, 0, 0, 0, 0, 0, 0, 0, 0, 0, 0, 0, 0, 0, 0, 0, 0, 0, 1, 0, 0, 0]]]}\"'"
      ]
     },
     "execution_count": 81,
     "metadata": {},
     "output_type": "execute_result"
    }
   ],
   "source": [
    "post_data"
   ]
  },
  {
   "cell_type": "code",
   "execution_count": 82,
   "id": "8fee5fa1-3ec4-4c4c-a812-7d3f325e0a55",
   "metadata": {},
   "outputs": [],
   "source": [
    "post_data_loaded = json.loads(post_data) # returns string\n",
    "post_data_loaded = json.loads(post_data_loaded) # returns dict"
   ]
  },
  {
   "cell_type": "code",
   "execution_count": 83,
   "id": "9108abe0-72b4-4952-bdaf-a5446dc96c4a",
   "metadata": {},
   "outputs": [],
   "source": [
    "# convert data to tensors\n",
    "for k in post_data_loaded.keys():\n",
    "    post_data_loaded[k] = torch.asarray(post_data_loaded[k]).to(device)"
   ]
  },
  {
   "cell_type": "code",
   "execution_count": 84,
   "id": "7958bce7-b9d8-4290-9be5-c5cb551d394d",
   "metadata": {},
   "outputs": [
    {
     "data": {
      "text/plain": [
       "{'hist_future': tensor([[[ 1.7149,  1.8227,  2.0121,  2.0257,  2.0230,  2.0026,  2.0414,\n",
       "            2.0039,  2.0459,  2.0760,  2.0735,  2.1434,  2.2499,  2.2023,\n",
       "            2.1979,  2.2154,  2.2139,  2.2131,  2.1723,  2.1906,  2.1547,\n",
       "            2.2221,  2.2843,  2.2333,  2.1957,  2.1175,  2.0084,  1.8945,\n",
       "            1.8043,  1.7580,  1.6760,  1.5953,  1.5192,  1.4975,  1.5284,\n",
       "            1.5638,  1.5461,  1.3912,  1.4351,  1.3530,  1.1708,  1.0749,\n",
       "            1.0407,  0.8870,  0.6821,  0.3355, -0.1471, -0.5616],\n",
       "          [-0.6290, -0.6290, -0.6290, -0.6290, -0.6304, -0.6304, -0.6290,\n",
       "           -0.6290, -0.6290, -0.6290, -0.6290, -0.6290, -0.6230, -0.4024,\n",
       "            0.0760,  0.1654,  0.2429,  0.2787,  0.1654,  0.2831,  0.0805,\n",
       "           -0.5038, -0.6275, -0.6260, -0.6260, -0.6260, -0.6275, -0.6275,\n",
       "           -0.6275, -0.6290, -0.6290, -0.6290, -0.6290, -0.6304, -0.6290,\n",
       "           -0.6304, -0.6245, -0.3354,  0.3442,  0.6229,  0.6691,  0.6393,\n",
       "            0.6229,  0.4605,  0.1773, -0.4516, -0.6334, -0.6334],\n",
       "          [ 2.1676,  1.9661,  1.6903,  1.4265,  1.1750,  1.0025,  0.8828,\n",
       "            0.8276,  0.8591,  1.0062,  1.3476,  1.8581,  2.2416,  2.3139,\n",
       "            2.2180,  2.0999,  1.9923,  1.9514,  1.9226,  1.8486,  1.8470,\n",
       "            1.9232,  2.2203,  2.1481,  2.0056,  1.9858,  1.8699,  1.7728,\n",
       "            1.4805,  1.2774,  1.1408,  1.0972,  1.0955,  1.1503,  1.4229,\n",
       "            1.8331,  2.1954,  2.2257,  2.1410,  2.0848,  2.0570,  1.9930,\n",
       "            2.0225,  1.9860,  1.9960,  2.1227,  2.3225,  2.2211]]],\n",
       "        device='cuda:0'),\n",
       " 'hist': tensor([[[26.4400, 23.4500, 18.7300, 19.5400, 18.5700, 12.4600, 15.1800,\n",
       "           16.5800, 19.8700, 22.0000, 26.7200, 36.6300, 40.9500, 62.4800,\n",
       "           42.8800, 32.5100, 31.0800, 30.9300, 25.2600, 28.6500, 29.0700,\n",
       "           84.6200, 70.6700, 36.7600]]], device='cuda:0'),\n",
       " 'tabular': tensor([[[0, 0, 0, 0, 0, 1, 0, 0, 0, 0, 0, 0, 0, 0, 0, 0, 0, 0, 0, 0, 0, 0, 0,\n",
       "           0, 0, 0, 0, 0, 0, 0, 0, 1, 0, 0, 0, 0, 0, 0, 0, 0, 0, 0, 0, 0, 0, 0,\n",
       "           1, 0, 0, 0, 0, 0, 0, 0, 0, 0, 0, 0, 0, 0, 0, 0, 0, 0, 0, 0, 0, 0, 0,\n",
       "           0, 1, 0, 0, 0]]], device='cuda:0')}"
      ]
     },
     "execution_count": 84,
     "metadata": {},
     "output_type": "execute_result"
    }
   ],
   "source": [
    "post_data_loaded"
   ]
  },
  {
   "cell_type": "code",
   "execution_count": 85,
   "id": "97958472-60a5-49c6-a56a-725f6cc1dd78",
   "metadata": {},
   "outputs": [
    {
     "data": {
      "text/plain": [
       "tensor([[22.9657, 16.3429, 14.2061,  6.5604,  2.6747,  0.6543,  1.3995,  3.1892,\n",
       "          2.5797,  7.5346,  4.2576,  6.2624,  4.7761,  5.5494,  5.5389,  4.1876,\n",
       "          3.2525,  4.1460,  3.0492,  3.9513,  3.7734,  2.9765,  2.0859,  4.7002]],\n",
       "       device='cuda:0', dtype=torch.float64, grad_fn=<AddmmBackward0>)"
      ]
     },
     "execution_count": 85,
     "metadata": {},
     "output_type": "execute_result"
    }
   ],
   "source": [
    "# check prediction\n",
    "model.to(device)\n",
    "pred = model(**test_inference_data)\n",
    "pred"
   ]
  },
  {
   "cell_type": "code",
   "execution_count": 97,
   "id": "7b316609-6bdf-45e7-aed0-efcebd100093",
   "metadata": {},
   "outputs": [
    {
     "data": {
      "text/plain": [
       "True"
      ]
     },
     "execution_count": 97,
     "metadata": {},
     "output_type": "execute_result"
    }
   ],
   "source": [
    "# check that the predictions from the json formatted data match the \n",
    "# predictions from the test data\n",
    "pred_test.tolist() == pred.tolist()"
   ]
  },
  {
   "cell_type": "code",
   "execution_count": 86,
   "id": "e9ae45ce-e036-4e68-be7a-2c318bc8d005",
   "metadata": {},
   "outputs": [
    {
     "data": {
      "text/plain": [
       "'{\"prices\": [22.965700846508458, 16.34290507681599, 14.20613189134617, 6.560357441493409, 2.6747373477163965, 0.6542948751136186, 1.3994862321090045, 3.1891859174838935, 2.5797396175464375, 7.534587885466725, 4.2575538899080865, 6.262362608902389, 4.776116580263834, 5.549409266256739, 5.538945958785076, 4.187639855367816, 3.252467297441566, 4.14595024870633, 3.049204558199812, 3.951309060554615, 3.773412972121846, 2.9765107933521873, 2.085923653208203, 4.700187351268147]}'"
      ]
     },
     "execution_count": 86,
     "metadata": {},
     "output_type": "execute_result"
    }
   ],
   "source": [
    "json.dumps({'prices':pred.tolist()[0]})"
   ]
  },
  {
   "cell_type": "markdown",
   "id": "2f305abd-3ac1-4235-923e-4e8ab35a042a",
   "metadata": {},
   "source": [
    "## Torchserve"
   ]
  },
  {
   "cell_type": "code",
   "execution_count": null,
   "id": "cee1ea57-e884-4a51-bc37-cbfa729746f0",
   "metadata": {},
   "outputs": [],
   "source": [
    "# see for custom handler\n",
    "# https://pytorch.org/serve/custom_service.html"
   ]
  },
  {
   "cell_type": "code",
   "execution_count": 93,
   "id": "f6a4c4b8-de99-4a06-ab9c-8fcb0d003943",
   "metadata": {},
   "outputs": [
    {
     "name": "stdout",
     "output_type": "stream",
     "text": [
      "WARNING - Overwriting /workspace/models/pytorch_cnn.mar ...\n"
     ]
    }
   ],
   "source": [
    "# https://github.com/pytorch/serve/tree/master/model-archiver#creating-a-model-archive\n",
    "!torch-model-archiver --model-name pytorch_cnn --version 1.0 --export-path /workspace/models --serialized-file $MLFLOW_MODEL_URI --handler /workspace/src/model_handler.py --force"
   ]
  },
  {
   "cell_type": "markdown",
   "id": "8b727656-5089-47d7-b30d-62855bf91e82",
   "metadata": {},
   "source": [
    "see https://github.com/pytorch/serve/blob/master/docs/server.md\n",
    "\n",
    "`torchserve --start --model-store /workspace/models --models miso_price=pytorch_cnn.mar`\n",
    "\n",
    "This would serve a prediction endpoint at predictions/miso_price/ and run your custom service code in the archive, the manifest in archive would point to the entry point."
   ]
  },
  {
   "cell_type": "code",
   "execution_count": 94,
   "id": "64b02201-d1e1-4868-b616-fa27b754b0b5",
   "metadata": {},
   "outputs": [
    {
     "name": "stdout",
     "output_type": "stream",
     "text": [
      "{\n",
      "  \"status\": \"Healthy\"\n",
      "}\n"
     ]
    }
   ],
   "source": [
    "# check the status of the torchserve server\n",
    "# https://github.com/pytorch/serve/blob/master/docs/inference_api.md\n",
    "!curl http://localhost:8080/ping"
   ]
  },
  {
   "cell_type": "code",
   "execution_count": 96,
   "id": "559c88b5-749f-4347-81db-998ff1217b76",
   "metadata": {},
   "outputs": [],
   "source": [
    "req = requests.post(\n",
    "    \"http://localhost:8080/predictions/miso_price\", \n",
    "    files={'post_data': open('post_data.txt', 'r')}\n",
    ")"
   ]
  },
  {
   "cell_type": "code",
   "execution_count": 98,
   "id": "655aa233-448c-4835-bfa7-38e5b56b6240",
   "metadata": {},
   "outputs": [
    {
     "data": {
      "text/plain": [
       "(200, '')"
      ]
     },
     "execution_count": 98,
     "metadata": {},
     "output_type": "execute_result"
    }
   ],
   "source": [
    "req.status_code, req.reason"
   ]
  },
  {
   "cell_type": "code",
   "execution_count": 99,
   "id": "8bc65a3a-06f2-499f-871d-3dfcc33a0cc6",
   "metadata": {},
   "outputs": [
    {
     "data": {
      "text/plain": [
       "'[\\n  22.96570084650846,\\n  16.342905076815992,\\n  14.206131891346164,\\n  6.56035744149341,\\n  2.6747373477164005,\\n  0.6542948751136219,\\n  1.3994862321090118,\\n  3.1891859174838952,\\n  2.5797396175464407,\\n  7.534587885466726,\\n  4.2575538899080865,\\n  6.262362608902386,\\n  4.776116580263834,\\n  5.549409266256741,\\n  5.538945958785079,\\n  4.18763985536781,\\n  3.252467297441566,\\n  4.145950248706333,\\n  3.0492045581998144,\\n  3.951309060554614,\\n  3.7734129721218452,\\n  2.9765107933521895,\\n  2.0859236532082037,\\n  4.70018735126815\\n]'"
      ]
     },
     "execution_count": 99,
     "metadata": {},
     "output_type": "execute_result"
    }
   ],
   "source": [
    "req.text"
   ]
  },
  {
   "cell_type": "code",
   "execution_count": 109,
   "id": "20bee0d4-d6e0-45c4-bafd-d2bdecc3eddc",
   "metadata": {},
   "outputs": [
    {
     "data": {
      "text/plain": [
       "True"
      ]
     },
     "execution_count": 109,
     "metadata": {},
     "output_type": "execute_result"
    }
   ],
   "source": [
    "# check that the predictions from the api call match the \n",
    "# predictions from the test data\n",
    "all(np.round(pred_test.tolist()[0], 7) == np.round(json.loads(req.text), 7))"
   ]
  },
  {
   "cell_type": "code",
   "execution_count": 112,
   "id": "2854ed36-4d02-4582-af3a-6426e486dd52",
   "metadata": {},
   "outputs": [
    {
     "data": {
      "text/html": [
       "<div>\n",
       "<style scoped>\n",
       "    .dataframe tbody tr th:only-of-type {\n",
       "        vertical-align: middle;\n",
       "    }\n",
       "\n",
       "    .dataframe tbody tr th {\n",
       "        vertical-align: top;\n",
       "    }\n",
       "\n",
       "    .dataframe thead th {\n",
       "        text-align: right;\n",
       "    }\n",
       "</style>\n",
       "<table border=\"1\" class=\"dataframe\">\n",
       "  <thead>\n",
       "    <tr style=\"text-align: right;\">\n",
       "      <th></th>\n",
       "      <th>price_forecast_api</th>\n",
       "      <th>price_forecast_test_data</th>\n",
       "    </tr>\n",
       "  </thead>\n",
       "  <tbody>\n",
       "    <tr>\n",
       "      <th>0</th>\n",
       "      <td>22.965701</td>\n",
       "      <td>22.965701</td>\n",
       "    </tr>\n",
       "    <tr>\n",
       "      <th>1</th>\n",
       "      <td>16.342905</td>\n",
       "      <td>16.342905</td>\n",
       "    </tr>\n",
       "    <tr>\n",
       "      <th>2</th>\n",
       "      <td>14.206132</td>\n",
       "      <td>14.206132</td>\n",
       "    </tr>\n",
       "    <tr>\n",
       "      <th>3</th>\n",
       "      <td>6.560357</td>\n",
       "      <td>6.560357</td>\n",
       "    </tr>\n",
       "    <tr>\n",
       "      <th>4</th>\n",
       "      <td>2.674737</td>\n",
       "      <td>2.674737</td>\n",
       "    </tr>\n",
       "    <tr>\n",
       "      <th>5</th>\n",
       "      <td>0.654295</td>\n",
       "      <td>0.654295</td>\n",
       "    </tr>\n",
       "    <tr>\n",
       "      <th>6</th>\n",
       "      <td>1.399486</td>\n",
       "      <td>1.399486</td>\n",
       "    </tr>\n",
       "    <tr>\n",
       "      <th>7</th>\n",
       "      <td>3.189186</td>\n",
       "      <td>3.189186</td>\n",
       "    </tr>\n",
       "    <tr>\n",
       "      <th>8</th>\n",
       "      <td>2.579740</td>\n",
       "      <td>2.579740</td>\n",
       "    </tr>\n",
       "    <tr>\n",
       "      <th>9</th>\n",
       "      <td>7.534588</td>\n",
       "      <td>7.534588</td>\n",
       "    </tr>\n",
       "    <tr>\n",
       "      <th>10</th>\n",
       "      <td>4.257554</td>\n",
       "      <td>4.257554</td>\n",
       "    </tr>\n",
       "    <tr>\n",
       "      <th>11</th>\n",
       "      <td>6.262363</td>\n",
       "      <td>6.262363</td>\n",
       "    </tr>\n",
       "    <tr>\n",
       "      <th>12</th>\n",
       "      <td>4.776117</td>\n",
       "      <td>4.776117</td>\n",
       "    </tr>\n",
       "    <tr>\n",
       "      <th>13</th>\n",
       "      <td>5.549409</td>\n",
       "      <td>5.549409</td>\n",
       "    </tr>\n",
       "    <tr>\n",
       "      <th>14</th>\n",
       "      <td>5.538946</td>\n",
       "      <td>5.538946</td>\n",
       "    </tr>\n",
       "    <tr>\n",
       "      <th>15</th>\n",
       "      <td>4.187640</td>\n",
       "      <td>4.187640</td>\n",
       "    </tr>\n",
       "    <tr>\n",
       "      <th>16</th>\n",
       "      <td>3.252467</td>\n",
       "      <td>3.252467</td>\n",
       "    </tr>\n",
       "    <tr>\n",
       "      <th>17</th>\n",
       "      <td>4.145950</td>\n",
       "      <td>4.145950</td>\n",
       "    </tr>\n",
       "    <tr>\n",
       "      <th>18</th>\n",
       "      <td>3.049205</td>\n",
       "      <td>3.049205</td>\n",
       "    </tr>\n",
       "    <tr>\n",
       "      <th>19</th>\n",
       "      <td>3.951309</td>\n",
       "      <td>3.951309</td>\n",
       "    </tr>\n",
       "    <tr>\n",
       "      <th>20</th>\n",
       "      <td>3.773413</td>\n",
       "      <td>3.773413</td>\n",
       "    </tr>\n",
       "    <tr>\n",
       "      <th>21</th>\n",
       "      <td>2.976511</td>\n",
       "      <td>2.976511</td>\n",
       "    </tr>\n",
       "    <tr>\n",
       "      <th>22</th>\n",
       "      <td>2.085924</td>\n",
       "      <td>2.085924</td>\n",
       "    </tr>\n",
       "    <tr>\n",
       "      <th>23</th>\n",
       "      <td>4.700187</td>\n",
       "      <td>4.700187</td>\n",
       "    </tr>\n",
       "  </tbody>\n",
       "</table>\n",
       "</div>"
      ],
      "text/plain": [
       "    price_forecast_api  price_forecast_test_data\n",
       "0            22.965701                 22.965701\n",
       "1            16.342905                 16.342905\n",
       "2            14.206132                 14.206132\n",
       "3             6.560357                  6.560357\n",
       "4             2.674737                  2.674737\n",
       "5             0.654295                  0.654295\n",
       "6             1.399486                  1.399486\n",
       "7             3.189186                  3.189186\n",
       "8             2.579740                  2.579740\n",
       "9             7.534588                  7.534588\n",
       "10            4.257554                  4.257554\n",
       "11            6.262363                  6.262363\n",
       "12            4.776117                  4.776117\n",
       "13            5.549409                  5.549409\n",
       "14            5.538946                  5.538946\n",
       "15            4.187640                  4.187640\n",
       "16            3.252467                  3.252467\n",
       "17            4.145950                  4.145950\n",
       "18            3.049205                  3.049205\n",
       "19            3.951309                  3.951309\n",
       "20            3.773413                  3.773413\n",
       "21            2.976511                  2.976511\n",
       "22            2.085924                  2.085924\n",
       "23            4.700187                  4.700187"
      ]
     },
     "execution_count": 112,
     "metadata": {},
     "output_type": "execute_result"
    }
   ],
   "source": [
    "pd.DataFrame(\n",
    "    {\n",
    "        'price_forecast_api':json.loads(req.text),\n",
    "        'price_forecast_test_data':pred_test.tolist()[0]\n",
    "    }\n",
    ")"
   ]
  },
  {
   "cell_type": "markdown",
   "id": "d3bb760e-44b4-4718-932b-c931594bcc42",
   "metadata": {},
   "source": [
    "## Save notebook to html"
   ]
  },
  {
   "cell_type": "code",
   "execution_count": 113,
   "id": "324074f8-9777-458e-a273-2b51b913d4fa",
   "metadata": {},
   "outputs": [
    {
     "name": "stdout",
     "output_type": "stream",
     "text": [
      "[NbConvertApp] Converting notebook /workspace/src/build_model.ipynb to html\n",
      "[NbConvertApp] Writing 1391481 bytes to /workspace/src/build_model.html\n"
     ]
    }
   ],
   "source": [
    "!jupyter nbconvert --to html /workspace/src/build_model.ipynb"
   ]
  }
 ],
 "metadata": {
  "kernelspec": {
   "display_name": "Python 3 (ipykernel)",
   "language": "python",
   "name": "python3"
  },
  "language_info": {
   "codemirror_mode": {
    "name": "ipython",
    "version": 3
   },
   "file_extension": ".py",
   "mimetype": "text/x-python",
   "name": "python",
   "nbconvert_exporter": "python",
   "pygments_lexer": "ipython3",
   "version": "3.8.12"
  }
 },
 "nbformat": 4,
 "nbformat_minor": 5
}
